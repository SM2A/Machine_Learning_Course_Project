{
 "cells": [
  {
   "cell_type": "markdown",
   "metadata": {
    "collapsed": false,
    "jupyter": {
     "outputs_hidden": false
    }
   },
   "source": [
    "# Seyed Mohammad Amin Atyabi"
   ]
  },
  {
   "cell_type": "markdown",
   "metadata": {
    "collapsed": false,
    "jupyter": {
     "outputs_hidden": false
    }
   },
   "source": [
    "# 1 - Maximum Likelihood Estimation"
   ]
  },
  {
   "cell_type": "markdown",
   "metadata": {
    "collapsed": false,
    "jupyter": {
     "outputs_hidden": false
    }
   },
   "source": [
    "**1**\n",
    "\n",
    "<img src=\"res/1-1.jpg\" width=\"1280\">"
   ]
  },
  {
   "cell_type": "markdown",
   "metadata": {
    "collapsed": false,
    "jupyter": {
     "outputs_hidden": false
    }
   },
   "source": [
    "**2**\n",
    "\n",
    "<img src=\"res/1-2.jpg\" width=\"1280\">"
   ]
  },
  {
   "cell_type": "markdown",
   "metadata": {
    "collapsed": false,
    "jupyter": {
     "outputs_hidden": false
    }
   },
   "source": [
    "**3**\n",
    "\n",
    "<img src=\"res/1-3.jpg\" width=\"1280\">"
   ]
  },
  {
   "cell_type": "markdown",
   "metadata": {
    "collapsed": false,
    "jupyter": {
     "outputs_hidden": false
    }
   },
   "source": [
    "# 2 - EM Algorithm"
   ]
  },
  {
   "cell_type": "markdown",
   "metadata": {
    "collapsed": false,
    "jupyter": {
     "outputs_hidden": false
    }
   },
   "source": [
    "# 3 - Method of Moments"
   ]
  },
  {
   "cell_type": "markdown",
   "metadata": {
    "collapsed": false,
    "jupyter": {
     "outputs_hidden": false
    }
   },
   "source": [
    "**1**\n",
    "\n",
    "<img src=\"res/3-1.jpg\" width=\"1280\">"
   ]
  },
  {
   "cell_type": "markdown",
   "metadata": {
    "collapsed": false,
    "jupyter": {
     "outputs_hidden": false
    }
   },
   "source": [
    "**2**\n",
    "\n",
    "<img src=\"res/3-2.jpg\" width=\"1280\">"
   ]
  },
  {
   "cell_type": "markdown",
   "metadata": {
    "collapsed": false,
    "jupyter": {
     "outputs_hidden": false
    }
   },
   "source": [
    "# 4 - Speech Recognition Model Using Multi Layer Perceptron"
   ]
  },
  {
   "cell_type": "markdown",
   "metadata": {
    "collapsed": false,
    "jupyter": {
     "outputs_hidden": false
    }
   },
   "source": [
    "در این بخش با استفاده از کتابخانه پای تورچ و پلتفرم گوگل کولب به دسته بندی داده های صوتی خواهیم پرداخت\n",
    "\n",
    "برخی از چالش های موجود در انجام این بخش از تمرین عبارتند از کم بودن حافظه رم کولب و نیاز به پردازنده گرافیکی هستند که در ادامه راه حل آن ها توضیح داده خواهد شد"
   ]
  },
  {
   "cell_type": "code",
   "execution_count": 1,
   "metadata": {
    "colab": {
     "base_uri": "https://localhost:8080/",
     "height": 0
    },
    "id": "43JoioixJeCL",
    "outputId": "be416fad-e84a-4e81-96de-b0f7bd9ba115"
   },
   "outputs": [
    {
     "name": "stdout",
     "output_type": "stream",
     "text": [
      "\u001b[2K     \u001b[90m━━━━━━━━━━━━━━━━━━━━━━━━━━━━━━━━━━━━━━━━\u001b[0m \u001b[32m2.1/2.1 MB\u001b[0m \u001b[31m12.3 MB/s\u001b[0m eta \u001b[36m0:00:00\u001b[0m\n",
      "\u001b[2K     \u001b[90m━━━━━━━━━━━━━━━━━━━━━━━━━━━━━━━━━━━━━━━━\u001b[0m \u001b[32m190.6/190.6 kB\u001b[0m \u001b[31m11.2 MB/s\u001b[0m eta \u001b[36m0:00:00\u001b[0m\n",
      "\u001b[2K     \u001b[90m━━━━━━━━━━━━━━━━━━━━━━━━━━━━━━━━━━━━━━━━\u001b[0m \u001b[32m254.1/254.1 kB\u001b[0m \u001b[31m15.7 MB/s\u001b[0m eta \u001b[36m0:00:00\u001b[0m\n",
      "\u001b[2K     \u001b[90m━━━━━━━━━━━━━━━━━━━━━━━━━━━━━━━━━━━━━━━━\u001b[0m \u001b[32m62.7/62.7 kB\u001b[0m \u001b[31m8.7 MB/s\u001b[0m eta \u001b[36m0:00:00\u001b[0m\n",
      "\u001b[?25h"
     ]
    }
   ],
   "source": [
    "!pip install torchsummaryX wandb --quiet"
   ]
  },
  {
   "cell_type": "markdown",
   "metadata": {
    "collapsed": false,
    "jupyter": {
     "outputs_hidden": false
    }
   },
   "source": [
    "با تنظیم گوگل کولب بر استفاده از پردازنده گرافیکی ، در صورت وجود داشتن رانر این پردازنده به ما اختصاص میابد\n",
    "\n",
    "پردازنده CPU با توجه به کند بودن باعث صرف زمان بسیار زیاد در  آموزش و ارزیابی مدل میشد که قابل استفاده نبود اما پردازنده گرافیکی به مراتب سریعتر است\n",
    "\n",
    "مشکل استفاده از این نوع پردازنده دردسترس نبودن همیشگی آن و در دسترس بودن آن تنها در برخی ساعت پایانی شب بود که انجام این تمرین را خود به چالشی از نظر زمانی کرده بود . همچنین لازم بود با صفحه وب تعامل داشت در غیر این صورت نشست به دلیل عدم فعالیت بسته میشد"
   ]
  },
  {
   "cell_type": "code",
   "execution_count": 2,
   "metadata": {
    "colab": {
     "base_uri": "https://localhost:8080/",
     "height": 0
    },
    "id": "pYBeSxyQJr_S",
    "outputId": "69e4fa75-ecf3-48bb-a6a6-03850e2c7149"
   },
   "outputs": [
    {
     "name": "stdout",
     "output_type": "stream",
     "text": [
      "Device:  cuda\n"
     ]
    }
   ],
   "source": [
    "import torch\n",
    "import numpy as np\n",
    "from torchsummaryX import summary\n",
    "import gc\n",
    "from tqdm.auto import tqdm\n",
    "import os\n",
    "device = 'cuda' if torch.cuda.is_available() else 'cpu'\n",
    "print(\"Device: \", device)"
   ]
  },
  {
   "cell_type": "code",
   "execution_count": 3,
   "metadata": {
    "colab": {
     "base_uri": "https://localhost:8080/",
     "height": 0
    },
    "id": "Qhn4WPnTKg1j",
    "outputId": "d2331547-200d-4a4a-840b-f3a7410ddec3"
   },
   "outputs": [
    {
     "name": "stdout",
     "output_type": "stream",
     "text": [
      "Downloading...\n",
      "From: https://drive.google.com/uc?id=1gNVILsmbYZbYJQk2-NN2q7VG2RKJp-7x\n",
      "To: /content/Data.zip\n",
      "100% 4.28G/4.28G [00:49<00:00, 87.0MB/s]\n"
     ]
    }
   ],
   "source": [
    "!gdown 1gNVILsmbYZbYJQk2-NN2q7VG2RKJp-7x"
   ]
  },
  {
   "cell_type": "code",
   "execution_count": null,
   "metadata": {
    "collapsed": false,
    "jupyter": {
     "outputs_hidden": false
    }
   },
   "outputs": [],
   "source": [
    "!unzip Data.zip -d dataset\n",
    "!rm Data.zip"
   ]
  },
  {
   "cell_type": "code",
   "execution_count": 5,
   "metadata": {
    "id": "f1qPNTZUJr6V"
   },
   "outputs": [],
   "source": [
    "PHONEMES = [\n",
    "            '[SIL]',   'AA',    'AE',    'AH',    'AO',    'AW',    'AY',\n",
    "            'B',     'CH',    'D',     'DH',    'EH',    'ER',    'EY',\n",
    "            'F',     'G',     'HH',    'IH',    'IY',    'JH',    'K',\n",
    "            'L',     'M',     'N',     'NG',    'OW',    'OY',    'P',\n",
    "            'R',     'S',     'SH',    'T',     'TH',    'UH',    'UW',\n",
    "            'V',     'W',     'Y',     'Z',     'ZH',    '[SOS]', '[EOS]']"
   ]
  },
  {
   "cell_type": "markdown",
   "metadata": {
    "collapsed": false,
    "jupyter": {
     "outputs_hidden": false
    }
   },
   "source": [
    "در این بخش به دلیل کم بودن حافظه رم کولب و مواجه شدن با مشکلاتی ، صرفا یک سوم داده ها خوانده میشوند"
   ]
  },
  {
   "cell_type": "code",
   "execution_count": 6,
   "metadata": {
    "id": "b6mq4XMJJr31"
   },
   "outputs": [],
   "source": [
    "class AudioDataset(torch.utils.data.Dataset):\n",
    "\n",
    "    def __init__(self, root, phonemes=PHONEMES, context=0, partition=\"train-clean-100\"):\n",
    "\n",
    "        self.context = context\n",
    "        self.phonemes = phonemes\n",
    "\n",
    "        self.mfcc_dir = root + \"mfcc/\"\n",
    "        self.transcript_dir = root + \"transcript/\"\n",
    "\n",
    "        mfcc_names = os.listdir(self.mfcc_dir)\n",
    "        transcript_names = os.listdir(self.transcript_dir)\n",
    "\n",
    "        assert len(mfcc_names) == len(transcript_names)\n",
    "\n",
    "        self.mfccs, self.transcripts = [], []\n",
    "\n",
    "        item = 0\n",
    "\n",
    "        for m, t in zip(mfcc_names, transcript_names):\n",
    "            item += 1\n",
    "            if (item % 3) != 0: # Only load 33 percent of data due to colab memory limitaions\n",
    "              continue\n",
    "            mfcc = np.load(self.mfcc_dir + m)\n",
    "            transcript = np.load(self.transcript_dir + t)\n",
    "            self.mfccs.append(mfcc)\n",
    "            self.transcripts.append(transcript)\n",
    "\n",
    "        self.mfccs = np.concatenate(self.mfccs, axis=0)\n",
    "\n",
    "        self.transcripts = np.concatenate(self.transcripts, axis=0)\n",
    "        self.length = len(self.mfccs)\n",
    "\n",
    "        self.mfccs = np.pad(self.mfccs, ((self.context, self.context), (0, 0)), 'constant', constant_values=0)\n",
    "\n",
    "        self.transcripts = [PHONEMES.index(transcript) for transcript in self.transcripts]\n",
    "\n",
    "    def __len__(self):\n",
    "        return self.length\n",
    "\n",
    "    def __getitem__(self, ind):\n",
    "        ind = ind + self.context\n",
    "        frames = self.mfccs[ind - self.context: ind + self.context + 1]\n",
    "        frames = frames.flatten()\n",
    "\n",
    "        frames = torch.FloatTensor(frames)\n",
    "        phonemes = torch.tensor(self.transcripts[ind])\n",
    "\n",
    "        return frames, phonemes"
   ]
  },
  {
   "cell_type": "code",
   "execution_count": 7,
   "metadata": {
    "id": "fFgtiirUJr1N"
   },
   "outputs": [],
   "source": [
    "class AudioTestDataset(torch.utils.data.Dataset):\n",
    "    def __init__(self, root, phonemes=PHONEMES, context=0, partition=\"train-clean-100\"):\n",
    "        self.context = context\n",
    "        self.phonemes = phonemes\n",
    "\n",
    "        self.mfcc_dir = root + \"mfcc/\"\n",
    "        mfcc_names = os.listdir(self.mfcc_dir)\n",
    "\n",
    "        self.mfccs = []\n",
    "\n",
    "        for m in mfcc_names:\n",
    "            mfcc = np.load(self.mfcc_dir + m)\n",
    "            self.mfccs.append(mfcc)\n",
    "        self.mfccs = np.concatenate(self.mfccs, axis=0)\n",
    "        self.length = len(self.mfccs)\n",
    "        self.mfccs = np.pad(self.mfccs, ((self.context, self.context), (0, 0)), 'constant', constant_values=0)\n",
    "\n",
    "    def __len__(self):\n",
    "        return self.length\n",
    "\n",
    "    def __getitem__(self, ind):\n",
    "        ind = ind + self.context\n",
    "        frames = self.mfccs[ind - self.context: ind + self.context + 1].flatten()\n",
    "        frames = torch.FloatTensor(frames)\n",
    "\n",
    "        return frames\n"
   ]
  },
  {
   "cell_type": "code",
   "execution_count": 8,
   "metadata": {
    "id": "c7F4ubO7noC0"
   },
   "outputs": [],
   "source": [
    "train_loader = None\n",
    "val_loader = None\n",
    "test_loader = None\n",
    "criterion = None\n",
    "optimizer = None\n",
    "config = None\n",
    "model = None\n",
    "train_data = None\n",
    "val_data = None\n",
    "test_data = None"
   ]
  },
  {
   "cell_type": "markdown",
   "metadata": {
    "collapsed": false,
    "jupyter": {
     "outputs_hidden": false
    }
   },
   "source": [
    "کد های این بخش سعی شده تا به گونه ای طی چند تابع اصلاح شوند تا در ادامه به سادگی بتوان با پیکربندی و شبکه جدید آن ها را اجرا کرد\n",
    "\n",
    "پاسخ سوال چرایی در هم ریختن داده ها : داده آموزش در هم ریخته میشود تا از  سو گیری و بیش برازش جلوگیری کنیم اما داده آزمون و ارزیابی برای ثابت بودن معیار آزمون و ارزیابی در هم ریخته نمیشوند"
   ]
  },
  {
   "cell_type": "code",
   "execution_count": 9,
   "metadata": {
    "id": "BMvvIXhslObZ"
   },
   "outputs": [],
   "source": [
    "def load_data():\n",
    "\n",
    "  global train_data\n",
    "  global val_data\n",
    "  global test_data\n",
    "\n",
    "  train_data = AudioDataset(\"dataset/11-785-f23-hw1p2/train-clean-100/\",context=config['context'])\n",
    "  val_data = AudioDataset(\"dataset/11-785-f23-hw1p2/dev-clean/\",context=config['context'])\n",
    "  test_data = AudioTestDataset(\"dataset/11-785-f23-hw1p2/test-clean/\", context=config['context'])\n",
    "\n",
    "\n",
    "def run_network():\n",
    "\n",
    "  global train_loader\n",
    "  global val_loader\n",
    "  global test_loader\n",
    "\n",
    "  train_loader = torch.utils.data.DataLoader(\n",
    "      dataset=train_data,\n",
    "      num_workers=2,\n",
    "      batch_size=config['batch_size'],\n",
    "      pin_memory=True,\n",
    "      shuffle=True\n",
    "  )\n",
    "\n",
    "  val_loader = torch.utils.data.DataLoader(\n",
    "      dataset=val_data,\n",
    "      num_workers=2,\n",
    "      batch_size=config['batch_size'],\n",
    "      pin_memory=True,\n",
    "      shuffle=False\n",
    "  )\n",
    "\n",
    "  test_loader = torch.utils.data.DataLoader(\n",
    "      dataset=test_data,\n",
    "      num_workers=2,\n",
    "      batch_size=config['batch_size'],\n",
    "      pin_memory=True,\n",
    "      shuffle=False\n",
    "  )\n",
    "\n",
    "  print(\"Batch size     : \", config['batch_size'])\n",
    "  print(\"Context        : \", config['context'])\n",
    "  print(\"Input size     : \", (2 * config['context'] + 1) * 28)\n",
    "  print(\"Output symbols : \", len(PHONEMES))\n",
    "\n",
    "  print(\"Train dataset samples = {}, batches = {}\".format(train_data.__len__(), len(train_loader)))\n",
    "  print(\"Validation dataset samples = {}, batches = {}\".format(val_data.__len__(), len(val_loader)))\n",
    "  print(\"Test dataset samples = {}, batches = {}\".format(test_data.__len__(), len(test_loader)))\n",
    "\n",
    "  for i, data in enumerate(train_loader):\n",
    "    frames, phoneme = data\n",
    "    print(frames.shape, phoneme.shape)\n",
    "    break\n",
    "\n",
    "  global criterion\n",
    "  global optimizer\n",
    "  criterion = torch.nn.CrossEntropyLoss()\n",
    "  optimizer = torch.optim.Adam(model.parameters(), lr= config['init_lr'])\n",
    "\n",
    "  torch.cuda.empty_cache()\n",
    "  gc.collect()\n",
    "\n",
    "def train(model, dataloader, optimizer, criterion):\n",
    "    model.train()\n",
    "    tloss, tacc = 0, 0\n",
    "    batch_bar = tqdm(total=len(train_loader), dynamic_ncols=True, leave=False, position=0, desc='Train')\n",
    "\n",
    "    for i, (frames, phonemes) in enumerate(dataloader):\n",
    "        optimizer.zero_grad()\n",
    "\n",
    "        frames = frames.to(device)\n",
    "        phonemes = phonemes.to(device)\n",
    "\n",
    "        logits = model(frames)\n",
    "\n",
    "        loss = criterion(logits, phonemes)\n",
    "\n",
    "        loss.backward()\n",
    "\n",
    "        optimizer.step()\n",
    "\n",
    "        tloss += loss.item()\n",
    "        tacc += torch.sum(torch.argmax(logits, dim=1) == phonemes).item() / logits.shape[0]\n",
    "\n",
    "        batch_bar.set_postfix(loss=\"{:.04f}\".format(float(tloss / (i + 1))),\n",
    "                              acc=\"{:.04f}%\".format(float(tacc * 100 / (i + 1))))\n",
    "        batch_bar.update()\n",
    "\n",
    "        del frames, phonemes, logits\n",
    "        torch.cuda.empty_cache()\n",
    "\n",
    "    batch_bar.close()\n",
    "    tloss /= len(train_loader)\n",
    "    tacc /= len(train_loader)\n",
    "\n",
    "    return tloss, tacc\n",
    "\n",
    "def eval(model, dataloader):\n",
    "    model.eval()\n",
    "    vloss, vacc = 0, 0\n",
    "    batch_bar = tqdm(total=len(val_loader), dynamic_ncols=True, position=0, leave=False, desc='Val')\n",
    "\n",
    "    for i, (frames, phonemes) in enumerate(dataloader):\n",
    "        frames = frames.to(device)\n",
    "        phonemes = phonemes.to(device)\n",
    "\n",
    "        with torch.inference_mode():\n",
    "            logits = model(frames)\n",
    "            loss = criterion(logits, phonemes)\n",
    "\n",
    "        vloss += loss.item()\n",
    "        vacc += torch.sum(torch.argmax(logits, dim=1) == phonemes).item() / logits.shape[0]\n",
    "\n",
    "        batch_bar.set_postfix(loss=\"{:.04f}\".format(float(vloss / (i + 1))),\n",
    "                              acc=\"{:.04f}%\".format(float(vacc * 100 / (i + 1))))\n",
    "        batch_bar.update()\n",
    "\n",
    "        del frames, phonemes, logits\n",
    "        torch.cuda.empty_cache()\n",
    "\n",
    "    batch_bar.close()\n",
    "    vloss /= len(val_loader)\n",
    "    vacc /= len(val_loader)\n",
    "\n",
    "    return vloss, vacc\n",
    "\n",
    "def run_train_eval():\n",
    "  torch.cuda.empty_cache()\n",
    "  gc.collect()\n",
    "\n",
    "  for epoch in range(config['epochs']):\n",
    "      print(\"\\nEpoch {}/{}\".format(epoch + 1, config['epochs']))\n",
    "\n",
    "      curr_lr = float(optimizer.param_groups[0]['lr'])\n",
    "      train_loss, train_acc = train(model, train_loader, optimizer, criterion)\n",
    "      val_loss, val_acc = eval(model, val_loader)\n",
    "\n",
    "      print(\n",
    "          \"\\tTrain Acc {:.04f}%\\tTrain Loss {:.04f}\\t Learning Rate {:.07f}\".format(train_acc * 100, train_loss, curr_lr))\n",
    "      print(\"\\tVal Acc {:.04f}%\\tVal Loss {:.04f}\".format(val_acc * 100, val_loss))"
   ]
  },
  {
   "cell_type": "markdown",
   "metadata": {
    "collapsed": false,
    "jupyter": {
     "outputs_hidden": false
    }
   },
   "source": [
    "اندازه داده ورودی : دو برابر طول بردار زمینه بعلاوه اندیس مرکز ، برای مثال به ازای بردار زمینه با اندازه 3 ، 3 اندیس بعد و قبل از اندیس مرکزی نیاز است . از آن جایی که برای هر بردار ، یک بردار 28 تایی وجود دارد ، اندازه  داده ورودی در 28 ضرب میشود\n",
    "\n",
    "در ادامه شبکه های مختلفی آزموده خواهند شد\n",
    "\n",
    "شبکه زیر شبکه بسیار ساده از با حدود 65 هزار پارامتر است . در آموزش این مدل هرچه به ایپاک های جلوتر میرویم دقت داده آموزش بیشتر میشود ولی از داده آزمون کم میشود که این نشان از بیش برازش مدل بر داده آموزش دارد"
   ]
  },
  {
   "cell_type": "code",
   "execution_count": null,
   "metadata": {
    "colab": {
     "base_uri": "https://localhost:8080/",
     "height": 783,
     "referenced_widgets": [
      "9ed2a5d59bf94eeea82613220bb5d956",
      "ba81cea605c149cf82e3d192da016501",
      "adeb0b3497fd48b7b9e9b268c391e97c",
      "657e88639af1454b8841e587a2e13e38",
      "d51f6297dd0c48c3900f5ec7f4e38ad9",
      "d08c11fadf30479e80ac50d23ba01b83",
      "a46613e6c791455bb356e2fdbc417e79",
      "20cd50506e554683b2b4712069745459",
      "e9f2d5974184402a9913fcfb91cd349e",
      "95d9687d69d04c15b63e6b4566e781ab",
      "2b5ba84f16794f12b45e2c7ca2c266ad",
      "dbdc7c7ea8464304895ab71c6f67c8f2",
      "e6075de40f844e9390de39e9e14bc82c",
      "369e5474057b4c229844eb6c68fa206d",
      "9e137e7b0021475d9c5cab074630f6cc",
      "07c835b1acc649128187babd3e47a31a",
      "6b85116b6d124b6a8a407fb729c18bcf",
      "90e2b2d4308c479fa62f446d26cfc6ef",
      "4f2d59635d05461ebac09cd2b0efd5b0",
      "a245e7e4ba08495d8e70280b816dd85d",
      "efb3cd590fbb4e09b74f3ad83aea9160",
      "44e921ce58764b968f5c97b93dc50bf3",
      "02e973fe384b4b54843a6bcc41d17a1b",
      "d88551cee34d4b80b9c8d8f894065f5f",
      "c34437101ea04de1a94bde75fe8bdfb8",
      "b540bfa9130149afaaa5520bab6958e1",
      "e075463387d845c79db42f9be1ef5b85",
      "1ed925b170e3478d8339a070f40e4087",
      "7e42df91d843498ca39ee1c1d05b92c6",
      "0fc2231ae4ea4a4fa8ac5b1e8843101f",
      "d75fed54e0914b8292d99259ee2dec52",
      "e08848c3a21944e4af1396968f837aea",
      "30ba658673dd47249f03392be2c527ae",
      "9f9de14a7da44277a5803b431374d475",
      "e71d1e86d2d5454c95459d0d86c81f40",
      "858b9b29fef94e7ea4dd1ed39270b2d1",
      "9cc96ebd68dc4f24981697037048a9ba",
      "7e31f67a88154423beb66f08cc5d69b9",
      "66ba9aedd8c1482db75e36f19028757e",
      "539527fc821f4a1ba59ea0deb5f1b7ba",
      "e736ccd7f9b84fd991068f65b4e89b70",
      "ddb8240af7e64e93849f0eeb579a3fd9",
      "0ce9a1bee089476089603a03289bc334",
      "a2ebefd85c3143da855bfd48c6369870",
      "5eb1da41d0b84721b210be295d8dc045",
      "2b84574f893648c1b37fd709993de8ec",
      "19ce95b3a4544fbd8687fc2b22f7e0a9",
      "cf24ce282f8242b28e76e0d169ac1fb3",
      "fb00d609239c4c7eb210ee9fd068b5fc",
      "e47c4f9e895943fdaa60d33d2d644b83",
      "2ab4e326c2474000a3226449d22851c8",
      "0682079dd4254776b5c1f2fc4792c823",
      "29e3e3e7bff2445bab53168bae2dac3c",
      "0a7a3dae388d4239a642744625974d38",
      "2d2bd72aaf0148359ce00109e5f0acbf",
      "6006587ccb2146f8b22239337d6871fb",
      "e3045cf7b6f44dc8a43b381e116bf9f8",
      "d39356e339a94b1b95befb41a7976043",
      "72533f9afbe8426880f1f34b395aae35",
      "95426cdc9b3b4beb8608bf1140af55f8",
      "55db9e7584514f939b37815cdfa567cb",
      "15eacc149a6c40698146212d752e4821",
      "e76ae0f5bc134f9798be946f7698d386",
      "717fbdb746d8482b9bdb4fe006682883",
      "08a138ad297c47bb98e57b75f56313f4",
      "0e06c66f68e6497882a47351708a4079",
      "bbe85ba90c854f51ba0245b88df2fb47",
      "6ea279378046420da94a62b2e1f78736",
      "ceb25fa40a914baa9fbb5550c360ab2e",
      "24f413610367465db48aa2618ac7282b",
      "d6b23e51f3aa4810a01dd2fc6b5ec7a7",
      "ae10019f91a44ac4b15536c4cb988084",
      "d80d66ecfe544d6f862030b4b8505afc",
      "1630ca2aa3d54d96aa6de77bf9f6d75c",
      "71352bfa5cc649758f90c7065ec6835d",
      "317d4093514844bd99ce7862e454ba5c",
      "6102eec6a8314324b35b798f1af85248",
      "30ae4ac0e7ab40638cbb4322f582c811",
      "88a9ab74645448c8a27a15dfbfeefe67",
      "4978fc1642264defaba0eebab73b9368",
      "482814ad3c8043e2aca234e50a45654d",
      "988e1389cd4a42fca9cc6ea2d2c46c70",
      "7bbf517327b74cba8a41d0f814ce0f22",
      "90ce59d6674d428c857a69a17b618a3e",
      "a1fb8305b4974fae937e06e4b7e58e37",
      "9c7c7a0fc2734ef886a1861b74f36bd4",
      "4b267ad2bc614602a9786705649b847e",
      "cb5bdb9aa07d462a93609e3e3373a1b7",
      "f2b5e3d38d154c97b6861533387a19fc",
      "6506807c785049f9826305186ad47aa9",
      "ba26f45ba62c4ca6a8d3ed3ca67aecfa",
      "1b4cbd1a046f485a84c287c806a25ae0",
      "eef62779fed04d239207280ad5f9d133",
      "60f520b3105c45ccbb52b6722a5f9f9d",
      "44953e012b90492881879f8068e28d45",
      "d1c6a4f17c6e4113ac864ab5ab634f33",
      "8882c3c52e26497b9369bab0190e7e4d",
      "92bef6aa650e4668a5a2464d68445c6e",
      "e87f666bf9c746b9902702df8e4b4c67",
      "8b45178cc5cc47a699b2933d527ad329",
      "1c15294c58c442acbc244bcf5a524301",
      "e026c52b3c4f429e8d0cd74449913b0f",
      "67a12d22a3d44e6abd7e95f83aedc33d",
      "b8cf2863665045d6a2597731259e50a1",
      "930846e366194c1796a769d210c5618d",
      "e9008729ec5a4460953e4ac1ac6841c0",
      "97f10d336ecc4154b7aa25fea5791745",
      "ca91e90b2da6422dbc2796059653721c",
      "2c9234afd6ab4d89824a34b04d62a3d7",
      "585fa0ab4584476cbfc6e1d299291ac8"
     ]
    },
    "id": "642x6qNDJ2E9",
    "outputId": "4b66fd22-c68b-4a1a-b74f-54d81d9707a0"
   },
   "outputs": [
    {
     "name": "stdout",
     "output_type": "stream",
     "text": [
      "==============================================================\n",
      "                 Kernel Shape Output Shape   Params Mult-Adds\n",
      "Layer                                                        \n",
      "0_model.Linear_0    [84, 512]        [512]   43.52k   43.008k\n",
      "1_model.ReLU_1              -        [512]        -         -\n",
      "2_model.Linear_2    [512, 42]         [42]  21.546k   21.504k\n",
      "--------------------------------------------------------------\n",
      "                       Totals\n",
      "Total params          65.066k\n",
      "Trainable params      65.066k\n",
      "Non-trainable params      0.0\n",
      "Mult-Adds             64.512k\n",
      "==============================================================\n",
      "Batch size     :  1024\n",
      "Context        :  1\n",
      "Input size     :  84\n",
      "Output symbols :  42\n",
      "Train dataset samples = 7254393, batches = 7085\n",
      "Validation dataset samples = 393325, batches = 385\n",
      "Test dataset samples = 1934138, batches = 1889\n"
     ]
    },
    {
     "name": "stderr",
     "output_type": "stream",
     "text": [
      "/usr/local/lib/python3.10/dist-packages/torchsummaryX/torchsummaryX.py:101: FutureWarning: The default value of numeric_only in DataFrame.sum is deprecated. In a future version, it will default to False. In addition, specifying 'numeric_only=None' is deprecated. Select only valid columns or specify the value of numeric_only to silence this warning.\n",
      "  df_sum = df.sum()\n"
     ]
    },
    {
     "name": "stdout",
     "output_type": "stream",
     "text": [
      "torch.Size([1024, 84]) torch.Size([1024])\n",
      "\n",
      "Epoch 1/5\n"
     ]
    },
    {
     "data": {
      "application/vnd.jupyter.widget-view+json": {
       "model_id": "9ed2a5d59bf94eeea82613220bb5d956",
       "version_major": 2,
       "version_minor": 0
      },
      "text/plain": [
       "Train:   0%|          | 0/7085 [00:00<?, ?it/s]"
      ]
     },
     "metadata": {},
     "output_type": "display_data"
    },
    {
     "data": {
      "application/vnd.jupyter.widget-view+json": {
       "model_id": "dbdc7c7ea8464304895ab71c6f67c8f2",
       "version_major": 2,
       "version_minor": 0
      },
      "text/plain": [
       "Val:   0%|          | 0/385 [00:00<?, ?it/s]"
      ]
     },
     "metadata": {},
     "output_type": "display_data"
    },
    {
     "name": "stdout",
     "output_type": "stream",
     "text": [
      "\tTrain Acc 17.0356%\tTrain Loss 3.3366\t Learning Rate 0.0010000\n",
      "\tVal Acc 16.4027%\tVal Loss 3.3248\n",
      "\n",
      "Epoch 2/5\n"
     ]
    },
    {
     "data": {
      "application/vnd.jupyter.widget-view+json": {
       "model_id": "02e973fe384b4b54843a6bcc41d17a1b",
       "version_major": 2,
       "version_minor": 0
      },
      "text/plain": [
       "Train:   0%|          | 0/7085 [00:00<?, ?it/s]"
      ]
     },
     "metadata": {},
     "output_type": "display_data"
    },
    {
     "data": {
      "application/vnd.jupyter.widget-view+json": {
       "model_id": "9f9de14a7da44277a5803b431374d475",
       "version_major": 2,
       "version_minor": 0
      },
      "text/plain": [
       "Val:   0%|          | 0/385 [00:00<?, ?it/s]"
      ]
     },
     "metadata": {},
     "output_type": "display_data"
    },
    {
     "name": "stdout",
     "output_type": "stream",
     "text": [
      "\tTrain Acc 17.1929%\tTrain Loss 3.3032\t Learning Rate 0.0010000\n",
      "\tVal Acc 16.4015%\tVal Loss 3.3230\n",
      "\n",
      "Epoch 3/5\n"
     ]
    },
    {
     "data": {
      "application/vnd.jupyter.widget-view+json": {
       "model_id": "5eb1da41d0b84721b210be295d8dc045",
       "version_major": 2,
       "version_minor": 0
      },
      "text/plain": [
       "Train:   0%|          | 0/7085 [00:00<?, ?it/s]"
      ]
     },
     "metadata": {},
     "output_type": "display_data"
    },
    {
     "data": {
      "application/vnd.jupyter.widget-view+json": {
       "model_id": "6006587ccb2146f8b22239337d6871fb",
       "version_major": 2,
       "version_minor": 0
      },
      "text/plain": [
       "Val:   0%|          | 0/385 [00:00<?, ?it/s]"
      ]
     },
     "metadata": {},
     "output_type": "display_data"
    },
    {
     "name": "stdout",
     "output_type": "stream",
     "text": [
      "\tTrain Acc 17.1996%\tTrain Loss 3.3021\t Learning Rate 0.0010000\n",
      "\tVal Acc 16.3941%\tVal Loss 3.3231\n",
      "\n",
      "Epoch 4/5\n"
     ]
    },
    {
     "data": {
      "application/vnd.jupyter.widget-view+json": {
       "model_id": "bbe85ba90c854f51ba0245b88df2fb47",
       "version_major": 2,
       "version_minor": 0
      },
      "text/plain": [
       "Train:   0%|          | 0/7085 [00:00<?, ?it/s]"
      ]
     },
     "metadata": {},
     "output_type": "display_data"
    },
    {
     "data": {
      "application/vnd.jupyter.widget-view+json": {
       "model_id": "30ae4ac0e7ab40638cbb4322f582c811",
       "version_major": 2,
       "version_minor": 0
      },
      "text/plain": [
       "Val:   0%|          | 0/385 [00:00<?, ?it/s]"
      ]
     },
     "metadata": {},
     "output_type": "display_data"
    },
    {
     "name": "stdout",
     "output_type": "stream",
     "text": [
      "\tTrain Acc 17.2083%\tTrain Loss 3.3014\t Learning Rate 0.0010000\n",
      "\tVal Acc 16.4002%\tVal Loss 3.3228\n",
      "\n",
      "Epoch 5/5\n"
     ]
    },
    {
     "data": {
      "application/vnd.jupyter.widget-view+json": {
       "model_id": "f2b5e3d38d154c97b6861533387a19fc",
       "version_major": 2,
       "version_minor": 0
      },
      "text/plain": [
       "Train:   0%|          | 0/7085 [00:00<?, ?it/s]"
      ]
     },
     "metadata": {},
     "output_type": "display_data"
    },
    {
     "data": {
      "application/vnd.jupyter.widget-view+json": {
       "model_id": "8b45178cc5cc47a699b2933d527ad329",
       "version_major": 2,
       "version_minor": 0
      },
      "text/plain": [
       "Val:   0%|          | 0/385 [00:00<?, ?it/s]"
      ]
     },
     "metadata": {},
     "output_type": "display_data"
    },
    {
     "name": "stdout",
     "output_type": "stream",
     "text": [
      "\tTrain Acc 17.2138%\tTrain Loss 3.3010\t Learning Rate 0.0010000\n",
      "\tVal Acc 16.3994%\tVal Loss 3.3236\n"
     ]
    }
   ],
   "source": [
    "config = {\n",
    "    'epochs'        : 5,\n",
    "    'batch_size'    : 1024,\n",
    "    'context'       : 1,\n",
    "    'init_lr'       : 1e-3,\n",
    "    'architecture'  : 'very-low-cutoff'\n",
    "}\n",
    "\n",
    "class Network(torch.nn.Module):\n",
    "\n",
    "    def __init__(self, input_size, output_size):\n",
    "        super(Network, self).__init__()\n",
    "        self.model = torch.nn.Sequential(\n",
    "            torch.nn.Linear(input_size, 512),\n",
    "            torch.nn.ReLU(),\n",
    "            torch.nn.Linear(512, output_size)\n",
    "        )\n",
    "\n",
    "    def forward(self, x):\n",
    "        out = self.model(x)\n",
    "        return out\n",
    "\n",
    "load_data()\n",
    "INPUT_SIZE  = (2*config['context'] + 1) * 28\n",
    "model       = Network(INPUT_SIZE, len(train_data.phonemes)).to(device)\n",
    "frames, _ = train_data.__getitem__(0)\n",
    "summary(model, frames.to(device))\n",
    "\n",
    "run_network()\n",
    "run_train_eval()"
   ]
  },
  {
   "cell_type": "markdown",
   "metadata": {
    "collapsed": false,
    "jupyter": {
     "outputs_hidden": false
    }
   },
   "source": [
    "در این بخش سعی شد با اضافه کردن لایه های میانی و dropout از برازش بیش از اندازه جلوگیری شد که نتایج آن در داده ارزیابی قابل مشاهده است"
   ]
  },
  {
   "cell_type": "code",
   "execution_count": null,
   "metadata": {
    "colab": {
     "base_uri": "https://localhost:8080/",
     "height": 1000,
     "referenced_widgets": [
      "a6535edf54ff4097a7b9e6806c9a5c91",
      "c6a4a1be227d4337bbb948192ac4aeaf",
      "4e6de4c2585c4bfda0e0a392decff471",
      "083da8215cb54b22a7817c765f0a3ebb",
      "74fe968d993443ffb31eedc8cf548072",
      "d509dc311f6443ca8335f613c3e9ab10",
      "d8a7f52b28284f7fac1e57b9cfdfcf06",
      "eb0e778a6a4d4cebaf55eb604c952314",
      "62339fb03f1d406bab783df35b65c8fe",
      "cb93790017314d57ac2ed85d5035666e",
      "e43a6c2546644b13833848e8ef5da697",
      "326dbc54329c4513a7e56daef7db17a6",
      "5e52bb59e8f740df8c4e1189c0383667",
      "035a68a3030045bca3109a9c8028dbd9",
      "ffb8f26fbf404138bc232817fb7b5c4d",
      "07dab806512e46a0acaddcb4a880df40",
      "fbdedf64d7e44699b6e3bf1af37d6335",
      "c069e9bdf2ef46759b9ab4bc45445279",
      "dbdb01eaded64db59e7f6fcdd5389c05",
      "7029c3ac98b0439ab1f1da625a48e17c",
      "2ddee63cde184e19b2b5fd8a874e4b59",
      "05730fa5b0804c06a83745386d833ede",
      "9dbb113364cf416fb135355ac6fffe2d",
      "bc3f577a7bef4beabf850d28aa3eadff",
      "8bdfa1eddba54198b59a0c5fb1189e74",
      "19041008f4fe42448e3a1c6ee267b542",
      "23fce4ef92d1454fb98c26d3879fe93d",
      "9c7fcedb49a34a81952d59a3dca95b1c",
      "e60be144454e41b4b2b2f93877579441",
      "be7ce0fcf69c4b4c8992758d883e0846",
      "b7b6d4b081974702899d8d53cacffb0d",
      "653fa5b766ad4a7c9f450bba75d94a96",
      "ce1e4f7c38254f9bade2ae954cd1e4b7",
      "7dca05ca4ad64e3087a5fa7c8e0a781e",
      "bedbe4b4677344cf8c006db600da9bac",
      "9447e94dff2c4c82ac285dabf726565e",
      "b4d9114222bc4834a6bf52f0e63a7e6e",
      "ef34aca99ada4142996a2f351e553f39",
      "3181aaabe4324e009aacb4262e26ef26",
      "0b3c7a8a76e84933b09cfea574517267",
      "446b8e1b7e1a481890af54c4e433ab5b",
      "340433475c144c8ea974515ee2ec6ffb",
      "1988c1f1c3a84a8c88589203d0a8258b",
      "0f62d15cbf094b93bf82ffd1b12d830e",
      "f7fde5b7d90440d383b309d38a7e0528",
      "b72f4db1b36f469fb7c8d68b6cd3e86b",
      "1656ff75f93842e89d61ff24b2de74c9",
      "e32803d14f4040758000734bb21d397b",
      "10dcd98cba344958b2aa77b451992231",
      "0a47fadb961e45b59a49a4fbd7d63468",
      "efff23e4ac0c4b1aa901244c6a39bd0a",
      "ca60033980d444f588bc01e9842ee2bc",
      "d421bf5513e74e73a0dc1abc959bf0a7",
      "031bbf27dc0b42cba188ea35e250435e",
      "4bc5cbc640984e87be8d8a6a8cc9b3c3",
      "9c027bf6fcdb4d41a0584c43d4ddac11",
      "b0073532a18e4acfb4d99528c529a625",
      "7ef7aaff92cd4f0cb21270689b861d75",
      "a226c7ae37324acdb325595c2b7e4f9c",
      "bb965a9728b4471f8767022093288ccf",
      "86fdbc459d574e63b08e08a19a75da32",
      "583764fc331248fb9bec76c701271910",
      "6f11e64d84bb40baba81870c6715e56d",
      "67e121edffdf4cbfb12a05a20331146d",
      "b7560dca7e124016aba33d9a96ee406c",
      "25b8d9688bb44c9ba294366a66cb85b3",
      "f63986c6e9144da9af91c9ecb80e2307",
      "5ad4653601e54c60a307da377035f9c4",
      "f0472bd454b54868b1afb5da28d3eb7a",
      "37a5f478e4fe457fbe184ae6733fe416",
      "c8e85d630ee24177a3847f336eac4f6b",
      "1ba36f49fea84d4f81ff4e99023106a2",
      "9e56cb29bf2b40a280216391bc75222b",
      "25f93b9c7105437c92185439d40eaf5d",
      "be06eb020bbf4cf199c6270075c597a9",
      "bd20c9b7d69740bca3770fbad73a941b",
      "21251ce5651f49da937fb4a0f2a2a60c",
      "16b5c5f97ba84247a704d221a39ae544",
      "db28b63a7def487c89b2ffc55edea493",
      "55ecf59b3fa449268971dd344594d032",
      "8e7a6f85ad6a4286811998e81f13995b",
      "bd7490f8519f4742879dcf5a011d651d",
      "b0d7c7a273f146d796c592f6ce6d9552",
      "3088092487fc44cc85278efcb1955c19",
      "59d45250138548d3ad69d832709e4525",
      "9069cc1f4ff24d69aeda708a486b19fd",
      "be5d22950ed44604b7f72ab69b348deb",
      "818aca7cc5254954afc41adc8f1fcf1e",
      "e0840f13add1419280d328000812888c",
      "6a10ecef33f14c2885f7cb9aa1d9789a",
      "a39081b4c12a4c90aad3989b9ccfff8e",
      "d4db6951872a4b25be6a9dd9a1f84aee",
      "05dc40e1722b4d13bfd12382e50530ca",
      "67a6d1e562ce436eb2a72415726e8344",
      "a6d023faa1874d54bed65bcdaa811e50",
      "e86237b482884294bd281b32eac75ede",
      "5ea83ef0910a4e33800053f6f624b614",
      "895e263720fe437e9fe83f9fa664efaa",
      "de1da3025031400cb230cbcbe9354519",
      "04610592b8a644b688ca39d3d0289c43",
      "cdb46aabd2114ce9b260b31874083a22",
      "289e403a085d43c9b23685c0ca6fcaf8",
      "8e6bd46b0f2444dcb377b64acdd7c015",
      "383d01a4ebd443b5b88759069e33e30e",
      "5d0b73656f6440fab8ad6355229f4fb4",
      "1bd45e9c11444b319f7ed580a5f813d2",
      "42a12cd086784f59ac150aa7d21cb3ef",
      "fe4092e9a62d4d81a098e4685e9bdbef",
      "78e1c324a463414aa71d925cc8678b4e",
      "c1e4a389e5694948a3a7153d70f4d80b",
      "421afdfc392344abaf7db94d3dd04596",
      "b503fe1375894362b92e10311c83c444",
      "c9642582777e4e079706379aa3e7ada5",
      "ad686d7e58344c0aa9f4ab0ddf71a56d",
      "edcd7f9221f64dcfbad3945dc4e9f50c",
      "efa01ba9e61e45be9700157e3645b287",
      "494d73fc5b054b4aa8839353677ae734",
      "f35fff2ad5204793af8a5ecbd7025b6d",
      "83f66a0da189459fadcac22cad3577b0",
      "a1914bb53963465fab18418688fa1512",
      "f245b8052bd34e6a8ce42b96cf075663",
      "94a5e9e77d524dfea5d502c741857396",
      "19a8366622a44fbcafb59ae91ab58bd9",
      "af2be59eb70b40af94ebed8404c1ba11",
      "7b84d4d4330041f2ba2309ae598f047e",
      "86e26ac8b59147f2b52a4674d13697c6",
      "1ce2c799970d44fca02f8bf54ae356d6",
      "eaa7f16bf6f04bb58c889a08124e0e22",
      "b25aaf6fb04f4c29981cc0aad69f6b73",
      "6cc634b617ec42b685c0dfb9d2fff414",
      "07392dee5f384eb182dd24c7918bc84c",
      "b90ba81acf5b4d879003b7c9d3748d80",
      "d128ebe3a4404d539ef64007d16ef46c",
      "750be204d6ec403c82eaa0c1fd40b6bb",
      "1f858d5528b64f698af14108e60a7141",
      "13a6c24fe64747918bedcd27993f780d",
      "c67cee0619754eb7b0e6c29ba8cf5688",
      "72efdd1234874a8fbc20166443b3d32f",
      "177daccb14364c8cafefa1cef55a94e7",
      "faa0ba3a9d8b405ba04c7efb70c06c36",
      "2aa7bfc929864b31b20dd18e10902e6b",
      "d8dc52d566e7466f9d47ea0f14dec425",
      "053decf470dc4568b3dc49a8eb323e65",
      "0c4ff166c254459ab5dade23fa3c7bf6",
      "3acb975018454c09aae5bc6876e6b023",
      "08db0243a8f2453c812a718532a8f3da",
      "9d22d36a40a344af9aa8b1d2af7f0fff",
      "4bf2f712e4344356a7b3907b5b5a3362",
      "f5403b5ce21c4397824bf09587726439",
      "0ee61367d8ba42c385858b0703955b4e",
      "57dbb5f5e92241a7818812f970979172",
      "ac48a2a4d32f4462a85f7f4ce69db14d",
      "23b81f971d0e4d16af7f4a68ab34907d",
      "c70c8ff06a594d618649d04e009b9d26",
      "20ebb6a7c76a4b2ba688828bb870f875",
      "6610c4fdf6b34749aabef01f721cc99f",
      "0f17035804994522aa5954483d9b6121",
      "7b9f5a7846ff46769fbc80fb15674b02",
      "3639ab51975a430e9463f0e156d5dfeb",
      "c52572a7cfa646f490791ad80604b08f",
      "f197b23c375e41a7be59e12d52600d9f",
      "6a6e89dbc60b4e9e85f403ae9d9b9103",
      "70971ba7624a4a6daf875ffbb9118fb3",
      "cd2d3dcb837340a0941c4d772f41c82d",
      "bacb427c927b47b6ad502bf5af46e3af",
      "a04dec57bec6492495499399e93dea36",
      "bbe77b26cb8e48c2aaa593a1700e89eb",
      "ecb0588340eb4b1c9a62f68240d68a26",
      "f827d8f7915e4e258e45d7853fd7efcf",
      "c92293b5e47b43eda00c86fcf517193e",
      "f5e19dd45be04d629ad526817f354a18",
      "5dbc9c97645747448589444a67766658",
      "bc82b348db374cdba482216c180beef7",
      "4286b92300324fbea305b4096cfb7c78",
      "65eded4f21e44639bb6423d4c33b6a35",
      "be4ca704ec8f4ed088308233f5e52f9d",
      "d01fdd842b6a4f5da314792fe0b7d031",
      "c9add98f22ea486d9a1f83d59a2a2f7c",
      "ebb644407c164a8f8cb28c1b59766529",
      "d842537e5e9744c997a360fec071678c",
      "9fbd9d832647449ca5a5db2f47bb1ab9",
      "bc974efaf641487daac300cf867208a6",
      "aef7a6e5eb714f63ad9bd0872163a082",
      "31d3e4303a5a4e1fb3429bafba1762d5",
      "5abaa861b3c54a86abeeffea2dff5b6b",
      "b2a5982c70004f57a5a2b09a04b13bc8",
      "2db20be3f53f4bb297f014ce250bd647",
      "471be16e8c4e49dcb3b430309da354c8",
      "edfed8412e9f420d88e8c72f9911a07f",
      "d9538cd5a631473b959050c65ee059d7",
      "06d1f2ad0e4d4acea74c0ab7bef1eff6",
      "9ee3ba611ec64f6b9f614696be8c72eb",
      "7a5eca9e769342a3af820f2e16a19ba1",
      "9fe9f8015b3741f6b48d35b6b6489889",
      "fcb8dc98234944f98b06b30a43a48728",
      "a198579db19c4839901f890534df40a7",
      "c2f518b83a924f32bfd8a84f5e9a3722",
      "025a9af2e1594cbd9ef982ebae7332ed",
      "e4a861ccdde1473892b28ebb0086cd39",
      "423c4ec70f3542ae9d575470ff1ab035",
      "b4cbf788436e49f285c020305f1229b1",
      "08b859ec38c44c3989bb406d6e6c609b",
      "2d820f8719044e64a1847d0aefd70aad",
      "81117f88ade34ec0b37e610023e1b42d",
      "81eb59eb2f864a83b5dab7e7b9e955b6",
      "fbab5e792f4f4c46a555854b42a02908",
      "b6902434da9b46cba774a7821231dd83",
      "7d0c3dff229a4f23ae72ddd47e519e2a",
      "ee87fe0413f34a78947feda756069b23",
      "077c5a88910a4f5bb0b11d2fffb1ae30",
      "2e6f0946cd104cc1943299cdc37f7e3d",
      "157267ab7a71412cbe732548bc134bdb",
      "c620332900a64b959834034ee9f8b64b",
      "e5b46f494d59428cb71907ee3732c5a6",
      "af1cda947aac4bd49759cb4450805435",
      "7193d6efd6b14775bb4744b5cd3d2334",
      "fd07c06884a04f36b9d665597b431afc",
      "d70ed2df85974a98b2d293c20588e1be",
      "9d335c5674144d5d97d4f661df2c5eca",
      "a77e32edd7824b55aaa8fdf3f9f4862b"
     ]
    },
    "id": "HKYVGCgmpUEQ",
    "outputId": "545deeb9-54a6-45d2-e020-b792f6fbb3d1"
   },
   "outputs": [
    {
     "name": "stdout",
     "output_type": "stream",
     "text": [
      "===============================================================\n",
      "                  Kernel Shape Output Shape   Params Mult-Adds\n",
      "Layer                                                         \n",
      "0_model.Linear_0     [84, 512]        [512]   43.52k   43.008k\n",
      "1_model.ReLU_1               -        [512]        -         -\n",
      "2_model.Dropout_2            -        [512]        -         -\n",
      "3_model.Sigmoid_3            -        [512]        -         -\n",
      "4_model.Linear_4     [512, 42]         [42]  21.546k   21.504k\n",
      "---------------------------------------------------------------\n",
      "                       Totals\n",
      "Total params          65.066k\n",
      "Trainable params      65.066k\n",
      "Non-trainable params      0.0\n",
      "Mult-Adds             64.512k\n",
      "===============================================================\n",
      "Batch size     :  1024\n",
      "Context        :  1\n",
      "Input size     :  84\n",
      "Output symbols :  42\n",
      "Train dataset samples = 7254393, batches = 7085\n",
      "Validation dataset samples = 393325, batches = 385\n",
      "Test dataset samples = 1934138, batches = 1889\n"
     ]
    },
    {
     "name": "stderr",
     "output_type": "stream",
     "text": [
      "/usr/local/lib/python3.10/dist-packages/torchsummaryX/torchsummaryX.py:101: FutureWarning: The default value of numeric_only in DataFrame.sum is deprecated. In a future version, it will default to False. In addition, specifying 'numeric_only=None' is deprecated. Select only valid columns or specify the value of numeric_only to silence this warning.\n",
      "  df_sum = df.sum()\n"
     ]
    },
    {
     "name": "stdout",
     "output_type": "stream",
     "text": [
      "torch.Size([1024, 84]) torch.Size([1024])\n",
      "\n",
      "Epoch 1/10\n"
     ]
    },
    {
     "data": {
      "application/vnd.jupyter.widget-view+json": {
       "model_id": "a6535edf54ff4097a7b9e6806c9a5c91",
       "version_major": 2,
       "version_minor": 0
      },
      "text/plain": [
       "Train:   0%|          | 0/7085 [00:00<?, ?it/s]"
      ]
     },
     "metadata": {},
     "output_type": "display_data"
    },
    {
     "data": {
      "application/vnd.jupyter.widget-view+json": {
       "model_id": "326dbc54329c4513a7e56daef7db17a6",
       "version_major": 2,
       "version_minor": 0
      },
      "text/plain": [
       "Val:   0%|          | 0/385 [00:00<?, ?it/s]"
      ]
     },
     "metadata": {},
     "output_type": "display_data"
    },
    {
     "name": "stdout",
     "output_type": "stream",
     "text": [
      "\tTrain Acc 17.1795%\tTrain Loss 3.3138\t Learning Rate 0.0010000\n",
      "\tVal Acc 16.4045%\tVal Loss 3.3448\n",
      "\n",
      "Epoch 2/10\n"
     ]
    },
    {
     "data": {
      "application/vnd.jupyter.widget-view+json": {
       "model_id": "9dbb113364cf416fb135355ac6fffe2d",
       "version_major": 2,
       "version_minor": 0
      },
      "text/plain": [
       "Train:   0%|          | 0/7085 [00:00<?, ?it/s]"
      ]
     },
     "metadata": {},
     "output_type": "display_data"
    },
    {
     "data": {
      "application/vnd.jupyter.widget-view+json": {
       "model_id": "7dca05ca4ad64e3087a5fa7c8e0a781e",
       "version_major": 2,
       "version_minor": 0
      },
      "text/plain": [
       "Val:   0%|          | 0/385 [00:00<?, ?it/s]"
      ]
     },
     "metadata": {},
     "output_type": "display_data"
    },
    {
     "name": "stdout",
     "output_type": "stream",
     "text": [
      "\tTrain Acc 17.1868%\tTrain Loss 3.3121\t Learning Rate 0.0010000\n",
      "\tVal Acc 16.4045%\tVal Loss 3.3322\n",
      "\n",
      "Epoch 3/10\n"
     ]
    },
    {
     "data": {
      "application/vnd.jupyter.widget-view+json": {
       "model_id": "f7fde5b7d90440d383b309d38a7e0528",
       "version_major": 2,
       "version_minor": 0
      },
      "text/plain": [
       "Train:   0%|          | 0/7085 [00:00<?, ?it/s]"
      ]
     },
     "metadata": {},
     "output_type": "display_data"
    },
    {
     "data": {
      "application/vnd.jupyter.widget-view+json": {
       "model_id": "9c027bf6fcdb4d41a0584c43d4ddac11",
       "version_major": 2,
       "version_minor": 0
      },
      "text/plain": [
       "Val:   0%|          | 0/385 [00:00<?, ?it/s]"
      ]
     },
     "metadata": {},
     "output_type": "display_data"
    },
    {
     "name": "stdout",
     "output_type": "stream",
     "text": [
      "\tTrain Acc 17.1868%\tTrain Loss 3.3116\t Learning Rate 0.0010000\n",
      "\tVal Acc 16.4045%\tVal Loss 3.3295\n",
      "\n",
      "Epoch 4/10\n"
     ]
    },
    {
     "data": {
      "application/vnd.jupyter.widget-view+json": {
       "model_id": "f63986c6e9144da9af91c9ecb80e2307",
       "version_major": 2,
       "version_minor": 0
      },
      "text/plain": [
       "Train:   0%|          | 0/7085 [00:00<?, ?it/s]"
      ]
     },
     "metadata": {},
     "output_type": "display_data"
    },
    {
     "data": {
      "application/vnd.jupyter.widget-view+json": {
       "model_id": "16b5c5f97ba84247a704d221a39ae544",
       "version_major": 2,
       "version_minor": 0
      },
      "text/plain": [
       "Val:   0%|          | 0/385 [00:00<?, ?it/s]"
      ]
     },
     "metadata": {},
     "output_type": "display_data"
    },
    {
     "name": "stdout",
     "output_type": "stream",
     "text": [
      "\tTrain Acc 17.1871%\tTrain Loss 3.3113\t Learning Rate 0.0010000\n",
      "\tVal Acc 16.4045%\tVal Loss 3.3345\n",
      "\n",
      "Epoch 5/10\n"
     ]
    },
    {
     "data": {
      "application/vnd.jupyter.widget-view+json": {
       "model_id": "e0840f13add1419280d328000812888c",
       "version_major": 2,
       "version_minor": 0
      },
      "text/plain": [
       "Train:   0%|          | 0/7085 [00:00<?, ?it/s]"
      ]
     },
     "metadata": {},
     "output_type": "display_data"
    },
    {
     "data": {
      "application/vnd.jupyter.widget-view+json": {
       "model_id": "04610592b8a644b688ca39d3d0289c43",
       "version_major": 2,
       "version_minor": 0
      },
      "text/plain": [
       "Val:   0%|          | 0/385 [00:00<?, ?it/s]"
      ]
     },
     "metadata": {},
     "output_type": "display_data"
    },
    {
     "name": "stdout",
     "output_type": "stream",
     "text": [
      "\tTrain Acc 17.1875%\tTrain Loss 3.3112\t Learning Rate 0.0010000\n",
      "\tVal Acc 16.4045%\tVal Loss 3.3313\n",
      "\n",
      "Epoch 6/10\n"
     ]
    },
    {
     "data": {
      "application/vnd.jupyter.widget-view+json": {
       "model_id": "421afdfc392344abaf7db94d3dd04596",
       "version_major": 2,
       "version_minor": 0
      },
      "text/plain": [
       "Train:   0%|          | 0/7085 [00:00<?, ?it/s]"
      ]
     },
     "metadata": {},
     "output_type": "display_data"
    },
    {
     "data": {
      "application/vnd.jupyter.widget-view+json": {
       "model_id": "94a5e9e77d524dfea5d502c741857396",
       "version_major": 2,
       "version_minor": 0
      },
      "text/plain": [
       "Val:   0%|          | 0/385 [00:00<?, ?it/s]"
      ]
     },
     "metadata": {},
     "output_type": "display_data"
    },
    {
     "name": "stdout",
     "output_type": "stream",
     "text": [
      "\tTrain Acc 17.1871%\tTrain Loss 3.3108\t Learning Rate 0.0010000\n",
      "\tVal Acc 16.4045%\tVal Loss 3.3300\n",
      "\n",
      "Epoch 7/10\n"
     ]
    },
    {
     "data": {
      "application/vnd.jupyter.widget-view+json": {
       "model_id": "d128ebe3a4404d539ef64007d16ef46c",
       "version_major": 2,
       "version_minor": 0
      },
      "text/plain": [
       "Train:   0%|          | 0/7085 [00:00<?, ?it/s]"
      ]
     },
     "metadata": {},
     "output_type": "display_data"
    },
    {
     "data": {
      "application/vnd.jupyter.widget-view+json": {
       "model_id": "0c4ff166c254459ab5dade23fa3c7bf6",
       "version_major": 2,
       "version_minor": 0
      },
      "text/plain": [
       "Val:   0%|          | 0/385 [00:00<?, ?it/s]"
      ]
     },
     "metadata": {},
     "output_type": "display_data"
    },
    {
     "name": "stdout",
     "output_type": "stream",
     "text": [
      "\tTrain Acc 17.1869%\tTrain Loss 3.3107\t Learning Rate 0.0010000\n",
      "\tVal Acc 16.4045%\tVal Loss 3.3349\n",
      "\n",
      "Epoch 8/10\n"
     ]
    },
    {
     "data": {
      "application/vnd.jupyter.widget-view+json": {
       "model_id": "20ebb6a7c76a4b2ba688828bb870f875",
       "version_major": 2,
       "version_minor": 0
      },
      "text/plain": [
       "Train:   0%|          | 0/7085 [00:00<?, ?it/s]"
      ]
     },
     "metadata": {},
     "output_type": "display_data"
    },
    {
     "data": {
      "application/vnd.jupyter.widget-view+json": {
       "model_id": "a04dec57bec6492495499399e93dea36",
       "version_major": 2,
       "version_minor": 0
      },
      "text/plain": [
       "Val:   0%|          | 0/385 [00:00<?, ?it/s]"
      ]
     },
     "metadata": {},
     "output_type": "display_data"
    },
    {
     "name": "stdout",
     "output_type": "stream",
     "text": [
      "\tTrain Acc 17.1867%\tTrain Loss 3.3104\t Learning Rate 0.0010000\n",
      "\tVal Acc 16.4045%\tVal Loss 3.3313\n",
      "\n",
      "Epoch 9/10\n"
     ]
    },
    {
     "data": {
      "application/vnd.jupyter.widget-view+json": {
       "model_id": "d01fdd842b6a4f5da314792fe0b7d031",
       "version_major": 2,
       "version_minor": 0
      },
      "text/plain": [
       "Train:   0%|          | 0/7085 [00:00<?, ?it/s]"
      ]
     },
     "metadata": {},
     "output_type": "display_data"
    },
    {
     "data": {
      "application/vnd.jupyter.widget-view+json": {
       "model_id": "471be16e8c4e49dcb3b430309da354c8",
       "version_major": 2,
       "version_minor": 0
      },
      "text/plain": [
       "Val:   0%|          | 0/385 [00:00<?, ?it/s]"
      ]
     },
     "metadata": {},
     "output_type": "display_data"
    },
    {
     "name": "stdout",
     "output_type": "stream",
     "text": [
      "\tTrain Acc 17.1871%\tTrain Loss 3.3103\t Learning Rate 0.0010000\n",
      "\tVal Acc 16.4045%\tVal Loss 3.3359\n",
      "\n",
      "Epoch 10/10\n"
     ]
    },
    {
     "data": {
      "application/vnd.jupyter.widget-view+json": {
       "model_id": "e4a861ccdde1473892b28ebb0086cd39",
       "version_major": 2,
       "version_minor": 0
      },
      "text/plain": [
       "Train:   0%|          | 0/7085 [00:00<?, ?it/s]"
      ]
     },
     "metadata": {},
     "output_type": "display_data"
    },
    {
     "data": {
      "application/vnd.jupyter.widget-view+json": {
       "model_id": "077c5a88910a4f5bb0b11d2fffb1ae30",
       "version_major": 2,
       "version_minor": 0
      },
      "text/plain": [
       "Val:   0%|          | 0/385 [00:00<?, ?it/s]"
      ]
     },
     "metadata": {},
     "output_type": "display_data"
    },
    {
     "name": "stdout",
     "output_type": "stream",
     "text": [
      "\tTrain Acc 17.1870%\tTrain Loss 3.3101\t Learning Rate 0.0010000\n",
      "\tVal Acc 16.4045%\tVal Loss 3.3337\n"
     ]
    }
   ],
   "source": [
    "config = {\n",
    "    'epochs'        : 10,\n",
    "    'batch_size'    : 1024,\n",
    "    'context'       : 1,\n",
    "    'init_lr'       : 1e-3,\n",
    "    'architecture'  : 'very-low-cutoff'\n",
    "}\n",
    "\n",
    "class Network(torch.nn.Module):\n",
    "\n",
    "    def __init__(self, input_size, output_size):\n",
    "        super(Network, self).__init__()\n",
    "        self.model = torch.nn.Sequential(\n",
    "            torch.nn.Linear(input_size, 512),\n",
    "            torch.nn.ReLU(),\n",
    "            torch.nn.Dropout(p=0.2),\n",
    "            torch.nn.Sigmoid(),\n",
    "            torch.nn.Linear(512, output_size)\n",
    "        )\n",
    "\n",
    "    def forward(self, x):\n",
    "        out = self.model(x)\n",
    "        return out\n",
    "\n",
    "load_data()\n",
    "INPUT_SIZE  = (2*config['context'] + 1) * 28\n",
    "model       = Network(INPUT_SIZE, len(train_data.phonemes)).to(device)\n",
    "frames, _ = train_data.__getitem__(0)\n",
    "summary(model, frames.to(device))\n",
    "\n",
    "run_network()\n",
    "run_train_eval()"
   ]
  },
  {
   "cell_type": "markdown",
   "metadata": {
    "collapsed": false,
    "jupyter": {
     "outputs_hidden": false
    }
   },
   "source": [
    "در این بخش سعی شد با پیشرفته تر کردن مدل بخش قبلی به دقت بالاتری دست پیدا کنیم و تعداد پارامتر هارا تا مرز تعداد پارامتر ها زیاد کنیم اما متاسفانه با مشاهده نتایج ضعیف آن از  اجرای بیشتر آن جلوگیری شد"
   ]
  },
  {
   "cell_type": "code",
   "execution_count": 10,
   "metadata": {
    "colab": {
     "base_uri": "https://localhost:8080/",
     "height": 1502,
     "referenced_widgets": [
      "96ef223f0b9e4f9d8418b77de2fb7910",
      "d7425a2a4ad34872a8b16e744aaf3c55",
      "c3d1949ec8c046b2ac71d9294fdbfe8c",
      "00c1b97586774081befcc1e17b6dafd3",
      "0a093f6050ad4ef6893e30b52b87ab12",
      "629e9d518f9d409baf427d77eb011ceb",
      "27af17e2f9e3415d86ff9979e6f9a4c6",
      "0b4de2aebb9549319400ed36f0620e65",
      "2e80f782fb3249b99d24ac659cd11824",
      "a1ffae692c084f649e8cc760d5a76083",
      "f396f41282f941a0accf9dafdd6c027c",
      "f20410befb9a462587dcb853b29f2dc0",
      "3ca13c916cbf4e16907219f880d265a9",
      "eb4b18d7159d4507a9df04defa7019fc",
      "93601a0093374ecaabde98a437840424",
      "869b23edd92c4a10b5207f13fa993aeb",
      "5436f243549b4c3988361b3fa7cd8e49",
      "0ac403383f034c66acb9581e6f7ce5c1",
      "62c99226d2ca4a118a65135955fa29d2",
      "66c996347d4244f0a5ec32505e929b72",
      "8d75305af99d458b845f174106956bd9",
      "3e4675e01bfe4d6092377a6a33e42481",
      "050797735fe1431f9c37c88422737c70",
      "dc78f2ac85c74d63a155041824486578",
      "008e605340c044c98a6a709525fab599",
      "0d08b5a58e9849b2b2b8282c156f702a",
      "2ea07ad6025e43d4ba7bce3e6060dbac",
      "de1313154e774195b3e7cd0bd75ce211",
      "8026141cf86a40d7949600ce0f752ee3",
      "68a2219f4a7e4715b41d8e77074a49de",
      "95be26b48e3e4b31b6210f4e76c714b5",
      "faa2e6916af34affbe187020431b292f",
      "65aba9a9ba174cce9315316a88bfe24f",
      "209d3daf5581432b994a50ffc947b7c1",
      "9452f732413441a795e06a96248d79b8",
      "a4ca3bb399c04fea929d9bd45347e0a6",
      "4510a45d32774543a8e1a32269cd97ef",
      "55327d2381aa41248a7c32a84dd328cf",
      "bd3ebcaea5204faca29b52ebc6e6c1cf",
      "771ce146359e4f9b90401d3a74927e5e",
      "1fb072fcd5614641b3db7fb8af5b7d1c",
      "a4dc93f944214296a578559ca69753bf",
      "2d3cc7be94cb4a28a1a57c0cd5d3d043",
      "f2ec6c5022bc445a9dbfbc006f3f0701",
      "9a403e0aac69422cb4fc7a6c56718e41",
      "3fcaf36059c1401ca4f5186a0cb3773a",
      "2b8ec2c170384eaaa106019bccee929d",
      "a09a8866cf184443b3efd1ba6a7e9c91",
      "79b46ec6559246d9853a49f525b597c8",
      "c759f047d9d642b4a0d09311a20461b1",
      "008176cd7a82450cb7790f9de4ca6b2c",
      "16267220e4404bf49adbd3ba3e8801b4",
      "d9a908df4b7c421db1eff2189f8bfaa8",
      "eb10659572764d4ba5bd897e554f965f",
      "f1b50ae886f243b392a455e1a6f68218",
      "b6fd63663846488dae4175ebf7eb2d6a",
      "995077fe346e41368d2c6817d37fb436",
      "2f76243397ba44dea558a2e3e4e127d0",
      "7b3e25f889834b2f9702d098f5d74a94",
      "27762d10fece4357928e7212142fba19",
      "e862d6646c3145bf86ca9e0ee91d1f79",
      "c70e52cc18bb482ebb3a627ae7f9e589",
      "fb01efee4345401da7c824c325dac6f3",
      "f2a4eee8cfb74ff4bc4bf6b184d2b7b0",
      "71c788b6ce064e33822b214861a34ad8",
      "e0d85c40ba3d4163b509facc83325ff6",
      "ff2b9486fba9404e9232a66b53dd019a",
      "439bd60ca35e4dc5bd9677f46a81a538",
      "2c0d0e18faa1451fbb0155f5f003258d",
      "e62fc17b6b05448f944c25e1b35d3c60",
      "d91a1df7d3ca47bebca73011e7bd75ff",
      "b5b619b8a0fa463ca3de7c3311640542",
      "ddd8b621c9864100ad1aca9b17efa9dd",
      "f83d7a7126714b6fa0118ad1d36a5527",
      "4adeb664c65045e386adc08206d88c00",
      "91516e5397a84e4aabc34708f0c88db1",
      "e6a2149e97c249d483cd253c06dec6ca",
      "7bc351d426644968a4101e6a4f748888",
      "f5ab291f129145ee874100c5d6aa9f86",
      "cbe3543a2f43462792221b2f89069a91",
      "72678b5846424cbfa1cbda9b09ad5780",
      "9113570b4be8476aaa17222fabc53586",
      "e50d08b3999641aa8b9a1fdd02d6db60",
      "35ef811d087f47e0a59ecc90b8ce155c",
      "278eef4cb61143dd8b8ae13e80a241cb",
      "c9faa4a447524de7a3d08cc275fe1b6b",
      "5afef72d299a4dbd856faffa5cb56f23",
      "cdce811a17fe4484a6bf394ff8535609",
      "e0eb80e1abed4046b38f1c0ba30e19e6",
      "5d71c2fe392b4c3180808d2808b78d96",
      "d80428af8e3e40ff813f08d4536212cc",
      "5c4e42161d1e4cd99ec5d4c8e6eb2683",
      "ae299a79f8ac4a97b60fde742f3e6ad3",
      "863f4c158b3b49b3a923fc30d4812a57",
      "ccca4ed5974d42008fbcace29ed33538",
      "203cc4d4bd9946af998f4f8a81aed958",
      "28f9879656044401b19e0ea21145cb81",
      "9c5c9a4a84f0468893881d15caaacab2",
      "e8160385194445d181048fa550556f38",
      "0e0838b5b0b84d90b649f8c9b65a7211",
      "3a7e09d2c14c4f39b8b4683565b44e47",
      "9453b395650a452aaa95675c0f34292d",
      "90494a155ea74ec1a31918237adcc3ef",
      "460e590361f4468ba8b882e40267388f",
      "747bad2b65c2418380e8240539cc800c",
      "b5fc8736d39b42f4a559821b207fcdec",
      "93417f61a08b49afbcd2777010881ed3",
      "f6614563b2c8431f84455dca141bf7ec",
      "bcccc25822454477bd7318b9bce389b6",
      "c33d4d00e25545519557df11375485dc",
      "db3fc84a0be04d0fa282925d09728cf7",
      "bd0a26c5143d43d6921eb36f004923df",
      "51dd0c1366374d9da0fb0e30e6305dc4",
      "a36cde2ac0ec45bca0ce87abb2b015e6",
      "83ac4b6a930d4767954ff255502c643f",
      "71d5da9587904151940062e7227a4c77",
      "2d354360de3245089e01b68bae4f682e",
      "b5fa3ec97fb046b4a8daf440e9219652",
      "27d89a5eb0744ccabed5ecf96e2b31f6",
      "92eb8f848e6549118da5c699f7d8ed81",
      "0c4761c2e52b4822b69640a1b9deee94",
      "22ac01e2bbad45feb1013bf3aba452ff",
      "599bffe8aa5741409483ab3d13027ca4",
      "97975f373467435983828891a7ebd83c",
      "a3693c2ff74f40b7a70bc6629f9b645d",
      "60761245a33c4c89b7b5a76cbf5f673f",
      "5e7d56684a764039afba95683f655017",
      "24e59131ef374d1a97e056acc442969a",
      "e0633bc006554c38890e82f62f607e0a",
      "47b12aaa90fa48259a57aaaceb2662f8",
      "06c3dd49cd17401db6cbb92231e491d9",
      "4ba9427921194691a1b286ecd8bf26e8",
      "503251aa6096487e869677ba8415b76d",
      "bad3ef3ab0984103838a175ba61fd9f3",
      "7e4f2a30c438409ca5d4e54045bba3d5",
      "a1377a7bcc2c4704877f0c7474b6450e",
      "0296b155d6e847aabbc6104919d3b8af",
      "4a7e1254bb704377b2b379a53350fec5",
      "4209c56345c842528a558dd9fba02b56",
      "fe583582a5ac433d8e844dbae82b5188",
      "3ef1963944aa42a48e4151d9b63c555f",
      "d4d60c2b5bf24a2683273c12751ac4e1",
      "7c82dbababd54ffdac0d7754e61647e6",
      "dd745ec4f505448b873cfed746c83925",
      "78992c5842ca4ad7a1bfa40b16c8f7b7",
      "0363ebd272eb4f76b8b260eb072b8dc7",
      "a425592a674549d491b2b52fe28b804b",
      "8534beb1abb141328e6b44702f538303",
      "9450a8cd059946de96ce7ad7b601fb83",
      "51a73b74c2f24191a7026685617a95b5",
      "fdf1ba196d82447b9b5ebe47f82a736d",
      "bdf259b70f1d4694bb1c96eb5cc7b434",
      "71b413a52b4a46c08d3ef2e9c82ba2e5",
      "3a4f684b19f546e8a7b042d648630ce0",
      "68b24cb887704622938e20e47446824e",
      "938e2460c06d410b8ecdc8e0e895f168",
      "938cda157ca44ff3b6d224a8570d040c",
      "405be21b53ff45a3921d453a1d48ccdd",
      "75b02abde2fc4d56b54a9c75cb84a03e",
      "c33fe89587224499b99895d3e45e28c9",
      "948c2b2bae48474c876c52d68027d90a",
      "c2810eb383964ae2bba36fec9d8ab333",
      "2adb140ca91843099513727c6f19fecc",
      "544fc6e6bf0e438f8b16e6033a696593",
      "9937a09ce29d4993a1c9ce155dccfedf"
     ]
    },
    "id": "CnA2E9CKtTqE",
    "outputId": "c1d61791-ef94-4346-e251-45bea6940d69"
   },
   "outputs": [
    {
     "name": "stdout",
     "output_type": "stream",
     "text": [
      "====================================================================\n",
      "                     Kernel Shape Output Shape     Params  Mult-Adds\n",
      "Layer                                                               \n",
      "0_model.Linear_0     [1820, 1024]       [1024]  1.864704M   1.86368M\n",
      "1_model.Dropout_1               -       [1024]          -          -\n",
      "2_model.Linear_2     [1024, 2048]       [2048]    2.0992M  2.097152M\n",
      "3_model.Dropout_3               -       [2048]          -          -\n",
      "4_model.Linear_4     [2048, 4096]       [4096]  8.392704M  8.388608M\n",
      "5_model.Dropout_5               -       [4096]          -          -\n",
      "6_model.Linear_6     [4096, 2048]       [2048]  8.390656M  8.388608M\n",
      "7_model.Dropout_7               -       [2048]          -          -\n",
      "8_model.Linear_8     [2048, 1024]       [1024]  2.098176M  2.097152M\n",
      "9_model.Dropout_9               -       [1024]          -          -\n",
      "10_model.Linear_10    [1024, 512]        [512]     524.8k   524.288k\n",
      "11_model.Dropout_11             -        [512]          -          -\n",
      "12_model.Linear_12      [512, 42]         [42]    21.546k    21.504k\n",
      "--------------------------------------------------------------------\n",
      "                          Totals\n",
      "Total params          23.391786M\n",
      "Trainable params      23.391786M\n",
      "Non-trainable params         0.0\n",
      "Mult-Adds             23.380992M\n",
      "====================================================================\n",
      "Batch size     :  1024\n",
      "Context        :  32\n",
      "Input size     :  1820\n",
      "Output symbols :  42\n",
      "Train dataset samples = 12025072, batches = 11744\n",
      "Validation dataset samples = 644779, batches = 630\n",
      "Test dataset samples = 1934138, batches = 1889\n"
     ]
    },
    {
     "name": "stderr",
     "output_type": "stream",
     "text": [
      "/usr/local/lib/python3.10/dist-packages/torchsummaryX/torchsummaryX.py:101: FutureWarning: The default value of numeric_only in DataFrame.sum is deprecated. In a future version, it will default to False. In addition, specifying 'numeric_only=None' is deprecated. Select only valid columns or specify the value of numeric_only to silence this warning.\n",
      "  df_sum = df.sum()\n"
     ]
    },
    {
     "name": "stdout",
     "output_type": "stream",
     "text": [
      "torch.Size([1024, 1820]) torch.Size([1024])\n",
      "\n",
      "Epoch 1/20\n"
     ]
    },
    {
     "data": {
      "application/vnd.jupyter.widget-view+json": {
       "model_id": "96ef223f0b9e4f9d8418b77de2fb7910",
       "version_major": 2,
       "version_minor": 0
      },
      "text/plain": [
       "Train:   0%|          | 0/11744 [00:00<?, ?it/s]"
      ]
     },
     "metadata": {},
     "output_type": "display_data"
    },
    {
     "data": {
      "application/vnd.jupyter.widget-view+json": {
       "model_id": "f20410befb9a462587dcb853b29f2dc0",
       "version_major": 2,
       "version_minor": 0
      },
      "text/plain": [
       "Val:   0%|          | 0/630 [00:00<?, ?it/s]"
      ]
     },
     "metadata": {},
     "output_type": "display_data"
    },
    {
     "name": "stdout",
     "output_type": "stream",
     "text": [
      "\tTrain Acc 17.0234%\tTrain Loss 4.1229\t Learning Rate 0.0010000\n",
      "\tVal Acc 16.5585%\tVal Loss 3.3398\n",
      "\n",
      "Epoch 2/20\n"
     ]
    },
    {
     "data": {
      "application/vnd.jupyter.widget-view+json": {
       "model_id": "050797735fe1431f9c37c88422737c70",
       "version_major": 2,
       "version_minor": 0
      },
      "text/plain": [
       "Train:   0%|          | 0/11744 [00:00<?, ?it/s]"
      ]
     },
     "metadata": {},
     "output_type": "display_data"
    },
    {
     "data": {
      "application/vnd.jupyter.widget-view+json": {
       "model_id": "209d3daf5581432b994a50ffc947b7c1",
       "version_major": 2,
       "version_minor": 0
      },
      "text/plain": [
       "Val:   0%|          | 0/630 [00:00<?, ?it/s]"
      ]
     },
     "metadata": {},
     "output_type": "display_data"
    },
    {
     "name": "stdout",
     "output_type": "stream",
     "text": [
      "\tTrain Acc 6.6755%\tTrain Loss 53722.7826\t Learning Rate 0.0010000\n",
      "\tVal Acc 4.2027%\tVal Loss 426.9810\n",
      "\n",
      "Epoch 3/20\n"
     ]
    },
    {
     "data": {
      "application/vnd.jupyter.widget-view+json": {
       "model_id": "9a403e0aac69422cb4fc7a6c56718e41",
       "version_major": 2,
       "version_minor": 0
      },
      "text/plain": [
       "Train:   0%|          | 0/11744 [00:00<?, ?it/s]"
      ]
     },
     "metadata": {},
     "output_type": "display_data"
    },
    {
     "data": {
      "application/vnd.jupyter.widget-view+json": {
       "model_id": "b6fd63663846488dae4175ebf7eb2d6a",
       "version_major": 2,
       "version_minor": 0
      },
      "text/plain": [
       "Val:   0%|          | 0/630 [00:00<?, ?it/s]"
      ]
     },
     "metadata": {},
     "output_type": "display_data"
    },
    {
     "name": "stdout",
     "output_type": "stream",
     "text": [
      "\tTrain Acc 6.1439%\tTrain Loss 127.8609\t Learning Rate 0.0010000\n",
      "\tVal Acc 16.5570%\tVal Loss 3.7432\n",
      "\n",
      "Epoch 4/20\n"
     ]
    },
    {
     "data": {
      "application/vnd.jupyter.widget-view+json": {
       "model_id": "ff2b9486fba9404e9232a66b53dd019a",
       "version_major": 2,
       "version_minor": 0
      },
      "text/plain": [
       "Train:   0%|          | 0/11744 [00:00<?, ?it/s]"
      ]
     },
     "metadata": {},
     "output_type": "display_data"
    },
    {
     "data": {
      "application/vnd.jupyter.widget-view+json": {
       "model_id": "7bc351d426644968a4101e6a4f748888",
       "version_major": 2,
       "version_minor": 0
      },
      "text/plain": [
       "Val:   0%|          | 0/630 [00:00<?, ?it/s]"
      ]
     },
     "metadata": {},
     "output_type": "display_data"
    },
    {
     "name": "stdout",
     "output_type": "stream",
     "text": [
      "\tTrain Acc 5.5854%\tTrain Loss 30052.6637\t Learning Rate 0.0010000\n",
      "\tVal Acc 16.5536%\tVal Loss 4.7711\n",
      "\n",
      "Epoch 5/20\n"
     ]
    },
    {
     "data": {
      "application/vnd.jupyter.widget-view+json": {
       "model_id": "e0eb80e1abed4046b38f1c0ba30e19e6",
       "version_major": 2,
       "version_minor": 0
      },
      "text/plain": [
       "Train:   0%|          | 0/11744 [00:00<?, ?it/s]"
      ]
     },
     "metadata": {},
     "output_type": "display_data"
    },
    {
     "data": {
      "application/vnd.jupyter.widget-view+json": {
       "model_id": "0e0838b5b0b84d90b649f8c9b65a7211",
       "version_major": 2,
       "version_minor": 0
      },
      "text/plain": [
       "Val:   0%|          | 0/630 [00:00<?, ?it/s]"
      ]
     },
     "metadata": {},
     "output_type": "display_data"
    },
    {
     "name": "stdout",
     "output_type": "stream",
     "text": [
      "\tTrain Acc 7.3732%\tTrain Loss 39243.3202\t Learning Rate 0.0010000\n",
      "\tVal Acc 16.1080%\tVal Loss 18.7953\n",
      "\n",
      "Epoch 6/20\n"
     ]
    },
    {
     "data": {
      "application/vnd.jupyter.widget-view+json": {
       "model_id": "db3fc84a0be04d0fa282925d09728cf7",
       "version_major": 2,
       "version_minor": 0
      },
      "text/plain": [
       "Train:   0%|          | 0/11744 [00:00<?, ?it/s]"
      ]
     },
     "metadata": {},
     "output_type": "display_data"
    },
    {
     "data": {
      "application/vnd.jupyter.widget-view+json": {
       "model_id": "22ac01e2bbad45feb1013bf3aba452ff",
       "version_major": 2,
       "version_minor": 0
      },
      "text/plain": [
       "Val:   0%|          | 0/630 [00:00<?, ?it/s]"
      ]
     },
     "metadata": {},
     "output_type": "display_data"
    },
    {
     "name": "stdout",
     "output_type": "stream",
     "text": [
      "\tTrain Acc 5.9304%\tTrain Loss 20728.3867\t Learning Rate 0.0010000\n",
      "\tVal Acc 16.0992%\tVal Loss 17.1104\n",
      "\n",
      "Epoch 7/20\n"
     ]
    },
    {
     "data": {
      "application/vnd.jupyter.widget-view+json": {
       "model_id": "503251aa6096487e869677ba8415b76d",
       "version_major": 2,
       "version_minor": 0
      },
      "text/plain": [
       "Train:   0%|          | 0/11744 [00:00<?, ?it/s]"
      ]
     },
     "metadata": {},
     "output_type": "display_data"
    },
    {
     "data": {
      "application/vnd.jupyter.widget-view+json": {
       "model_id": "dd745ec4f505448b873cfed746c83925",
       "version_major": 2,
       "version_minor": 0
      },
      "text/plain": [
       "Val:   0%|          | 0/630 [00:00<?, ?it/s]"
      ]
     },
     "metadata": {},
     "output_type": "display_data"
    },
    {
     "name": "stdout",
     "output_type": "stream",
     "text": [
      "\tTrain Acc 5.4117%\tTrain Loss 83173.6764\t Learning Rate 0.0010000\n",
      "\tVal Acc 15.3567%\tVal Loss 610.3696\n",
      "\n",
      "Epoch 8/20\n"
     ]
    },
    {
     "data": {
      "application/vnd.jupyter.widget-view+json": {
       "model_id": "68b24cb887704622938e20e47446824e",
       "version_major": 2,
       "version_minor": 0
      },
      "text/plain": [
       "Train:   0%|          | 0/11744 [00:00<?, ?it/s]"
      ]
     },
     "metadata": {},
     "output_type": "display_data"
    },
    {
     "ename": "KeyboardInterrupt",
     "evalue": "",
     "output_type": "error",
     "traceback": [
      "\u001b[0;31m---------------------------------------------------------------------------\u001b[0m",
      "\u001b[0;31mKeyboardInterrupt\u001b[0m                         Traceback (most recent call last)",
      "\u001b[0;32m<ipython-input-10-ac9ae2f248bd>\u001b[0m in \u001b[0;36m<cell line: 47>\u001b[0;34m()\u001b[0m\n\u001b[1;32m     45\u001b[0m \u001b[0;34m\u001b[0m\u001b[0m\n\u001b[1;32m     46\u001b[0m \u001b[0mrun_network\u001b[0m\u001b[0;34m(\u001b[0m\u001b[0;34m)\u001b[0m\u001b[0;34m\u001b[0m\u001b[0;34m\u001b[0m\u001b[0m\n\u001b[0;32m---> 47\u001b[0;31m \u001b[0mrun_train_eval\u001b[0m\u001b[0;34m(\u001b[0m\u001b[0;34m)\u001b[0m\u001b[0;34m\u001b[0m\u001b[0;34m\u001b[0m\u001b[0m\n\u001b[0m",
      "\u001b[0;32m<ipython-input-9-4e36e70dbe3d>\u001b[0m in \u001b[0;36mrun_train_eval\u001b[0;34m()\u001b[0m\n\u001b[1;32m    134\u001b[0m \u001b[0;34m\u001b[0m\u001b[0m\n\u001b[1;32m    135\u001b[0m       \u001b[0mcurr_lr\u001b[0m \u001b[0;34m=\u001b[0m \u001b[0mfloat\u001b[0m\u001b[0;34m(\u001b[0m\u001b[0moptimizer\u001b[0m\u001b[0;34m.\u001b[0m\u001b[0mparam_groups\u001b[0m\u001b[0;34m[\u001b[0m\u001b[0;36m0\u001b[0m\u001b[0;34m]\u001b[0m\u001b[0;34m[\u001b[0m\u001b[0;34m'lr'\u001b[0m\u001b[0;34m]\u001b[0m\u001b[0;34m)\u001b[0m\u001b[0;34m\u001b[0m\u001b[0;34m\u001b[0m\u001b[0m\n\u001b[0;32m--> 136\u001b[0;31m       \u001b[0mtrain_loss\u001b[0m\u001b[0;34m,\u001b[0m \u001b[0mtrain_acc\u001b[0m \u001b[0;34m=\u001b[0m \u001b[0mtrain\u001b[0m\u001b[0;34m(\u001b[0m\u001b[0mmodel\u001b[0m\u001b[0;34m,\u001b[0m \u001b[0mtrain_loader\u001b[0m\u001b[0;34m,\u001b[0m \u001b[0moptimizer\u001b[0m\u001b[0;34m,\u001b[0m \u001b[0mcriterion\u001b[0m\u001b[0;34m)\u001b[0m\u001b[0;34m\u001b[0m\u001b[0;34m\u001b[0m\u001b[0m\n\u001b[0m\u001b[1;32m    137\u001b[0m       \u001b[0mval_loss\u001b[0m\u001b[0;34m,\u001b[0m \u001b[0mval_acc\u001b[0m \u001b[0;34m=\u001b[0m \u001b[0meval\u001b[0m\u001b[0;34m(\u001b[0m\u001b[0mmodel\u001b[0m\u001b[0;34m,\u001b[0m \u001b[0mval_loader\u001b[0m\u001b[0;34m)\u001b[0m\u001b[0;34m\u001b[0m\u001b[0;34m\u001b[0m\u001b[0m\n\u001b[1;32m    138\u001b[0m \u001b[0;34m\u001b[0m\u001b[0m\n",
      "\u001b[0;32m<ipython-input-9-4e36e70dbe3d>\u001b[0m in \u001b[0;36mtrain\u001b[0;34m(model, dataloader, optimizer, criterion)\u001b[0m\n\u001b[1;32m     81\u001b[0m         \u001b[0moptimizer\u001b[0m\u001b[0;34m.\u001b[0m\u001b[0mstep\u001b[0m\u001b[0;34m(\u001b[0m\u001b[0;34m)\u001b[0m\u001b[0;34m\u001b[0m\u001b[0;34m\u001b[0m\u001b[0m\n\u001b[1;32m     82\u001b[0m \u001b[0;34m\u001b[0m\u001b[0m\n\u001b[0;32m---> 83\u001b[0;31m         \u001b[0mtloss\u001b[0m \u001b[0;34m+=\u001b[0m \u001b[0mloss\u001b[0m\u001b[0;34m.\u001b[0m\u001b[0mitem\u001b[0m\u001b[0;34m(\u001b[0m\u001b[0;34m)\u001b[0m\u001b[0;34m\u001b[0m\u001b[0;34m\u001b[0m\u001b[0m\n\u001b[0m\u001b[1;32m     84\u001b[0m         \u001b[0mtacc\u001b[0m \u001b[0;34m+=\u001b[0m \u001b[0mtorch\u001b[0m\u001b[0;34m.\u001b[0m\u001b[0msum\u001b[0m\u001b[0;34m(\u001b[0m\u001b[0mtorch\u001b[0m\u001b[0;34m.\u001b[0m\u001b[0margmax\u001b[0m\u001b[0;34m(\u001b[0m\u001b[0mlogits\u001b[0m\u001b[0;34m,\u001b[0m \u001b[0mdim\u001b[0m\u001b[0;34m=\u001b[0m\u001b[0;36m1\u001b[0m\u001b[0;34m)\u001b[0m \u001b[0;34m==\u001b[0m \u001b[0mphonemes\u001b[0m\u001b[0;34m)\u001b[0m\u001b[0;34m.\u001b[0m\u001b[0mitem\u001b[0m\u001b[0;34m(\u001b[0m\u001b[0;34m)\u001b[0m \u001b[0;34m/\u001b[0m \u001b[0mlogits\u001b[0m\u001b[0;34m.\u001b[0m\u001b[0mshape\u001b[0m\u001b[0;34m[\u001b[0m\u001b[0;36m0\u001b[0m\u001b[0;34m]\u001b[0m\u001b[0;34m\u001b[0m\u001b[0;34m\u001b[0m\u001b[0m\n\u001b[1;32m     85\u001b[0m \u001b[0;34m\u001b[0m\u001b[0m\n",
      "\u001b[0;31mKeyboardInterrupt\u001b[0m: "
     ]
    }
   ],
   "source": [
    "config = {\n",
    "    'epochs'        : 20,\n",
    "    'batch_size'    : 1024,\n",
    "    'context'       : 32,\n",
    "    'init_lr'       : 1e-3,\n",
    "    'architecture'  : 'very-low-cutoff'\n",
    "}\n",
    "\n",
    "class Network(torch.nn.Module):\n",
    "\n",
    "    def __init__(self, input_size, output_size):\n",
    "        super(Network, self).__init__()\n",
    "        self.model = torch.nn.Sequential(\n",
    "\n",
    "            torch.nn.Linear(input_size, 1024),\n",
    "            torch.nn.Dropout(p=0.1),\n",
    "\n",
    "            torch.nn.Linear(1024, 2048),\n",
    "            torch.nn.Dropout(p=0.1),\n",
    "\n",
    "            torch.nn.Linear(2048, 4096),\n",
    "            torch.nn.Dropout(p=0.1),\n",
    "\n",
    "            torch.nn.Linear(4096, 2048),\n",
    "            torch.nn.Dropout(p=0.1),\n",
    "\n",
    "            torch.nn.Linear(2048, 1024),\n",
    "            torch.nn.Dropout(p=0.1),\n",
    "\n",
    "            torch.nn.Linear(1024, 512),\n",
    "            torch.nn.Dropout(p=0.1),\n",
    "\n",
    "            torch.nn.Linear(512, output_size)\n",
    "        )\n",
    "\n",
    "    def forward(self, x):\n",
    "        out = self.model(x)\n",
    "        return out\n",
    "\n",
    "load_data()\n",
    "INPUT_SIZE  = (2*config['context'] + 1) * 28\n",
    "model       = Network(INPUT_SIZE, len(train_data.phonemes)).to(device)\n",
    "frames, _ = train_data.__getitem__(0)\n",
    "summary(model, frames.to(device))\n",
    "\n",
    "run_network()\n",
    "run_train_eval()"
   ]
  },
  {
   "cell_type": "markdown",
   "metadata": {
    "collapsed": false,
    "jupyter": {
     "outputs_hidden": false
    }
   },
   "source": [
    "مدل زیر با ایده گرفتن در پاسخ های چت بات بینگ تولید شده است . خلاصه مکالمه صورت گرفته بدین شرح بود :\n",
    "\n",
    "I am doing frame level speech recognition.\n",
    "Can you give me examples of pytorch model for classification?\n",
    "\n",
    "پاسخ بینگ برخی توضیحات در خصوص  پای تورچ بود\n",
    "\n",
    "Would you please show me the code for MFCC?\n",
    "\n",
    "پاسخ بینگ نحوه پلات کردن داده صوتی بود\n",
    "\n",
    "Show me the code using pytorch for classification MFCC\n",
    "\n",
    "پاسخ بینگ مدلی شبیه به اولین مدل نوشته شده توسط ما بود\n",
    "\n",
    "very well\n",
    "make the nn model more advanced\n",
    "\n",
    "پاسخ بینگ در این بخش شامل Linear و BatchNorm1d و GELU و Dropout بود که با کمی جست و جو قرار دادن آن ها پشت سر هم این مدل بوجود آمد\n",
    "\n",
    "همانطور که در نتایج این مدل نیز مشخص است بالاترین دقت در داده آموزش توسط این مدل بدست آمد اما هرچه جلوتر میرفت به دلیل برازش بیش از حد بر روی داده آموزش ، دقت مدل بر روی داده ارزیابی کمتر و کمتر میشد"
   ]
  },
  {
   "cell_type": "code",
   "execution_count": 13,
   "metadata": {
    "colab": {
     "base_uri": "https://localhost:8080/",
     "height": 1545,
     "referenced_widgets": [
      "4f6140f04b254fb5b7b1fcf8359b54b1",
      "3794d1dd42d14b3fa7392e0a35e49686",
      "f2945090a9ff401f9872e70443d90e04",
      "cdcf8c3b3299401385f349d92875e2b9",
      "1505c19c5ba94b40b26813a0600dc2a7",
      "70045da4716e45cf9559e09370ef9321",
      "6bf0a4fd07ac40feacc14bf16e5061cb",
      "94df2f367d954c9bb944c55a09df966b",
      "67f2b952fe18418f993ebb7ad7a021f8",
      "ab8b3547c03040c69de7f2a5e1402808",
      "97f1c8725b054665840a71727e987c80",
      "fa0d52fd503f40e9a6ff7d4d18cbd8ca",
      "aaa5f66069af4b1c8d715fc0d01a65aa",
      "f956f957136d4fe6b2f7718fcb4a7305",
      "7bd603605b08472b9bdd29d13038e261",
      "84a73cf51f414ba4b9d6c198c39f6e51",
      "ddf538ea963344d498b46a0f8ae28513",
      "464b7185549544c386f4c0cc0bc2b334",
      "4ff1e3517e0e45aeaf5aaaa009ef8abe",
      "4c2b7b3649864e098555fa405c08a4f0",
      "b15873a5a80b42ac842ff3ddcc392cfa",
      "333d466f04e7453c9b1e1f710a025a7a",
      "bd0fd26f1a5946928950fa5896bc9c53",
      "9de73ec8c6ef4b2bae9f61919586b1ae",
      "a809115f3366423ca800f2bef69c0c0b",
      "4978d250b1c34f26aa8775794f833e20",
      "047ea9eb2ecd490790edcbe5f64ac9f6",
      "69afee4bee83423b9dea7401126b07f6",
      "158ab94dc1be4252bb7b06c850891f5e",
      "647e6a3b94fa463db8170ed9590432d9",
      "edd6726ec03c4fee89408525846952da",
      "f4a43f6fe60b470890c011b036bc6f5f",
      "240dd15d0a114912a924c7e60729e291",
      "4e96d93daaba4e368725d20b918d4810",
      "3d31ef7b900e451aa33bb4b2fefa9bf7",
      "b4879d4bd11241fa891e89bd3a9d96a2",
      "f3eff8d4dda3498d89d394c5dbc6d455",
      "27dd4c02490c4c1192d17e00657ad0fb",
      "61dc4d105e6f46039150b9c9836ca879",
      "612a513176ee45e3be8f924ff29eb1f6",
      "e40bcde950d646faa26e7ff0bb04aa07",
      "790e8c5296014c14b09790520c87aec2",
      "42182cec1a4647c1bdede2123b8e961d",
      "7f69975bb0404dd2a6ada43c3d2d26ea",
      "1df0352869e94da0a49a7b50bbab1fa6",
      "ce0927119afc48c4854f8ff96b8a26f2",
      "25a386a4e57b4646b218436c24cdba11",
      "7ac22524786143059ec53d598f9ba83a",
      "47449e37894d420882fe7b1bd5559b21",
      "a07191ce085240e1b34fc30d34a683b7",
      "5144bb37547f4512b7ad46a5d71977f4",
      "1603e147382b4eb7a1b25adfd6da18a7",
      "c02353189acf4c0490a7cb01c45a2f72",
      "cd7294c57ac743159425db49c3c32a0c",
      "e115b1bb5c18406bb02634cb7e7b5cb7",
      "20e562b0da27400da2728c906061dbec",
      "cd4c301e9edb4708a18631e87eb428a6",
      "c0d9819314b0495aae90c03bdc7c95a1",
      "a8d43bbda71b41f89fcd32cd8799d196",
      "bfe13427bbd74f51bec1387f3ad32f79",
      "6cd0215cff254e9e83f54abf1ba39da5",
      "644d9321442e455195232ace2e3a622f",
      "0f23d79a54fd4a44b66d00fa13df958f",
      "8445006ba4bb464bbcfa753e4bab8bfb",
      "91f93d66499d4b4ea774e7d72e641fda",
      "3e33e2a6c6b5432a9c659d588422e39a",
      "0a1f0c3292f849fe851f47fd4084af90",
      "29f15a0bd6ea449ca2525b6fd47a415a",
      "6be79975fa9a4192a1afd642a15dd637",
      "cbf67ca734cc4bea8ce12e93ab16b54a",
      "6c3b8be7dab843b5af5c2ae9117e357c",
      "870f4e8ade104e56bc66f05aa99a1615",
      "1af45ae124cf4b56a00ba197800fe33e",
      "e2da376ec182415c94bcf36fef7dd76f",
      "a8eb010e9c7143bca33d02151b593087",
      "8825095bfde9457eb16f1061705419ba",
      "217a79df7c8b45c8af308e3793bb08cc",
      "2f22dfb8b4094220852e5b87d3d64e28",
      "62a46851c9cf41a39f4ae32e3f1d753b",
      "52718b4c069e479fb5b0819dc7f36b3a",
      "10e00c6473b74ce3a898c32d680c6de2",
      "fc53796107874c36a05951514085fd4d",
      "ad8a79905e8a4f4599b81be8b0bdbe3c",
      "3d34c384dd454cfdb8ffaff886953be6",
      "ac020a7351444cbbabc90d29892fe94c",
      "59ba5d9016134c2aba40f35f1ac8f451",
      "b92d9994b81642728c7e77ef617a18d0",
      "5dfb3f8568014e9a8aa0855a59dada2e",
      "d8309cf86a3c4e3081845c5e96995353",
      "61777e6f9a30412692367f79f387956e",
      "47dd353ef4ae4593acc6944885f1efe4",
      "d3f38628906f4f859c8158a13fdcbb31",
      "f3cf8dc504de48dfbe3d766166ac8e7e",
      "d3be53ca5d124a4288ddd1d94789f6f8",
      "43e3d219752e4d93bc04c70070300075",
      "3c3d1a8165d24764becaca0f35f703a6",
      "cb6db2219fa041a2aa3cc6818201ba87",
      "3ebc78ee3d6442b19d6e77fbfab9ab22",
      "ef584515aee6405783d9388c7f97af8d",
      "f72beb42129547f38b5978437f6e614d",
      "d2b72c61ae9e464588041a036e3d8714",
      "5c236e2526414c30979915cf1479e501",
      "c4f8567d7e8b4630a4f4f73ec96db4c1",
      "5036bf4ca9094339a1003d0277ff1254",
      "705d4d0ad60440d2986aa76c21195ecf",
      "c2c37a39c40b472e816226ab51746653",
      "02ffcfc670e64618827de98f38605404",
      "98091e77d5984a13b7197e3c1515f045",
      "3c5bf48f630244ae89e6665bc4086269",
      "402eb35253a14126895432a66eeaf567",
      "259793a884454bc1ad617fae88970147",
      "e2c1a502233a495599b47865f1918e85",
      "7b678faf887f495bbd875787ebd974d8",
      "b24c0b1e02bb441ba38564a7f1e07b4f",
      "1b57a19e33e84551a232ceae680a6c7f",
      "1c76702cc65d4a63a05dfabe0fff0295",
      "69e6bc732aa54007b12a49065bcab56a",
      "1ca1f633ad314e57819790b0796ad0b2",
      "a901ecdc409e429a86aae8c94553c1eb",
      "ca7617c467924aaebc57dd5287fb1297",
      "242cfe7357e345e5b28dbf1170f654cd",
      "a35034ab64a74cfc978c4cc2b54ca6bd",
      "962b9bcd1df544d79c1bd77112507b47",
      "a2c0a11ffa2e488c97adfdccd36bd592",
      "4de94edbf5ba44bdad3bc908c2d4a80b",
      "a0d754da6b1549d4983505a0f6626411",
      "20167df5162d4cddb3bc99912b98fa5f",
      "9b667fa4d516451d9e28c9a83fb2628d",
      "8947e349f3014b388373851fc7231727",
      "d404930e5fec4ae8baf74cc1f926e2db",
      "bdf8d96f3ab340a79a9c78cf78746067",
      "1eeef40a4d26445998e6347a28825fbc",
      "deb52a7c487c49f6aa8c44fd2d5fa980",
      "980b6419379e46d6a1f3deeb12952a17",
      "5a03812d947a47e6b7c9af405927486f",
      "4a86c5c11d9c4a04aa4f8088acd7a1d6",
      "267e983f623f432a9a6143173db25954",
      "5b3d9f97424742a6bd8f5b4a57f09adf",
      "1773a959090846b48095ebd81d404ad7",
      "d4e475b9729d40cd91e117a44658bdbd",
      "09d0d6a5c5f24248ab5d39ac2dbbe9bb",
      "e2467ded769c4852902c3213a3528f8a",
      "3c52328676974ad6bcbc57032c2540ad",
      "ab34cefeab7e442888b7782f29bfc832",
      "e45602968ab54637b9778588fc8d7a05",
      "56a6723268594f4c9bc97b40143774c1",
      "6e0a39323e4b4a65831597ee42fd230c",
      "a919cf99abd64d6285a0a9e40a704ac1",
      "04009dc9a55a47c483b50e9c939e5229",
      "345d1e04160f4ddebe69c94dde44e975",
      "228ae0a4472643c28c25f51bf361d7cd",
      "155fca32a8b24b87bc526ca5d455305a",
      "327f32934b5544af995170dbac12ba5b",
      "9b5fca3749a34f5da6fc182272991611",
      "537148b6a9f34547b57fc74ba062038d",
      "d2cdefd4a7ad4bd0945ba2ca009a7254",
      "5b38c9fe45624b96810aabfded0288d3",
      "a537204de7f340488b7fa2af115299e9",
      "bfcfd5bce9a048d18f60dbdcddf67be1",
      "39dc657442bb4e0ab52537ad088f6248",
      "3628e009bc9d4294a4daaf7d5824c915",
      "895d5d30c14244289382f704d2af5564",
      "0c667cb7e881415e8a47e61f8860e69d",
      "9248c3731fb44071ab1d393190d62a9c",
      "1e1e59f6528b4ad0911a7fc14ad5ccb7",
      "e6935e23e373445da0099cf503e18131",
      "344f45d75ea244d7bfb64350a79c807a",
      "64f8e3947566425fb5e4ffbe5109b9dc",
      "54a1d7ebc97d43bf8dc61cdb9de36caa",
      "f93cab2b9be84439a678b4f142e33fbe",
      "8b18295788f64a44a476e386ec3d820a",
      "ccb23d88c6ba4306aeeea4c3928757fb",
      "74525e7a96a24365bfc2323849f9afc7",
      "92c6c5fc6ce34cfeb1686219a577aba3",
      "76b200079ae6477a8911747683173786",
      "0ffec0ae31574256839c9afff57c4db1",
      "bc938a3b463849979c13df25f31cbe0f",
      "586e6d58f8be46af8917f94d5268c85a",
      "32765127a16a4deda605c79d3b1a223b",
      "d9b6064d630f452682a34f5300316564",
      "38e0c56757364e9db65c95524d2eccb1",
      "365b97b6130f4e5792f122f4092a0bdb",
      "e28fe91d31414821b49d4b67711b6ee0",
      "4dc0da5bd87a4f9f83a6b82711dfd680",
      "7b26c65e0a3842ce9e38bcc708eced4c",
      "3de6e1a134f742e3a1034c58a5f32a4c",
      "85531c79341e4c2086b56472a9f87e2a",
      "26e89c506a984965b1735b3089aee730",
      "c5060b552d6943c3ae6603e70eca245c",
      "b179bd651e6e4d7494cb11296d201fdb",
      "8ee9ede70af145ad8bca41e2d72106c4",
      "f382861286444be78e4df27cad67ae18",
      "f192578bb6a242d1a26f4f128274dafc",
      "c94914627d4b4ca7b65b4ccbc3b4c29a",
      "420953d9956c4a67a228b08333afbdb8",
      "f3b7a8cb1e5d4a178c8b2c95634f038c",
      "9d3418213f7d433592c45a1f8963df60",
      "b41f92f27f744ee5bd69651ec68089b1",
      "d1ad109846f64ee1bf85fd78aae29317",
      "be1b2a4b09844b0cbb9c21613e4b21d9",
      "ce6e1c3c1cdd4f0ea98cf5616de170fd",
      "1b3b33478be84188bb735958c698a386",
      "6e9584317dae4b6680a5fda5800b9511",
      "21f1c6e51a0247a488941fc268862bc3",
      "963aa057bd3347eab839c844c75877e2",
      "b0f6caf4541d4b7886e49362dba4212e",
      "428e21ad88c04fb4950eea2c1c53428a",
      "2a86fdc45af24e3381fe2e0901e3e1c8",
      "ce50c0e94d194e36b0126b6fb249183e",
      "57ece09fc96b4739a6211bfa8ed60973",
      "59893efdc58b467fb15a54bd0ec3ee70",
      "a034ecedc7044159bd908fdf6299c1cd",
      "947aa5546fd84d12bd2e2d0b8a00e60a",
      "0b36fbec4fbc449d89cf3f361f1c60ba",
      "a9f544ccca024ce898f89200102f41e0",
      "01b4ee0ae76043a0a88c302d7b04f94d",
      "0c0c3aae287d4f38b5c8fbcc081c02cc",
      "7d12fa7a49114f43b36b1482b369db6c",
      "b124fcc1b20b4042ae52edbbef43656c",
      "a94cf85e290b4e99b131ef62d7138d32",
      "f4e6985b38f3480a8a3bca0efa35b954",
      "5f0d5f1c95194f92ad2610b98d8366e4",
      "5d5478e802624e3dbf4ea83657eccfe3",
      "01eac6fcc7be4e4c99c029c7dddc74bf",
      "632a12d5eeea423a8342fc173480c0a0",
      "0820c7ff069c41f9a4e078c5f69591ea",
      "d8fc079cbbe74244a512486845579390",
      "7a0aa1d4c24946ed9ab64d326dde085e",
      "8fe5cad9af5743c790d8464e58848aac",
      "3f3d9877808040a7b58196793dc97046",
      "f9ed574e2a5a40c3b11334ab9d581538",
      "8603f55e38224a89b4c5e09ca2cda7a0",
      "6474875c179d440c94c4ed9c7593021a",
      "b1c3e5c42a6946b28ec1320aa2f136d2",
      "bee2e186de7746609e567460f79708b3",
      "d7fd4de876de458caae699dedd5e87e8",
      "890aa0b9f460479293b36aae4f0f8af1",
      "1bf77fca7a9a4107b193cf223dc157f4",
      "ece33c8001634072a149eb2beb20c3d5",
      "00b5809105d240a5b20840a5458e5545",
      "6da28ab8c1044c009cf34e6a1a516a4b",
      "6582f768d4154394aa14f389d76830ba",
      "7e343387bdc847f2a9d5d18a36ea8612",
      "6cd7380f6cc54d899387385db0095ebf",
      "c2e688d80bd54d8cb0b68a0ff70573e6",
      "aa1c4f50240047fa8f376959f65759a0",
      "fef193a92b884db1825682c7e4077f9e",
      "4c6de9bbecba4b4c98e2144c348229b5",
      "a27a15c9c2d64fe39071758460482816",
      "826bd1ebe7684ed990ffd0017112d832",
      "08fcd8adc17a4b078c791f2146c0e7c7",
      "6f8ea3d6568344f8b9c99eda24cb1fdc",
      "f36f510012fb42c9854280939d9faafa",
      "37149684d9ec404b93c5bcd34c30bc3f",
      "d3a99064a47d4ff99cd5edfb9a263ba3",
      "ed3eefb5c039407790ccd874546e5979",
      "6974d8754ea54b7aaa0483144328fc9b",
      "737ace65cc0e4b70b0fdaa7eaf106145",
      "e24f32e8a34f4ea8b5f6c2c4aa874d3f",
      "5d0d469836594cb386ef42e7c1e4ab48",
      "0dd51d8934b84b478ff2ab270d6df119",
      "4989518494b14b92a3a873985f7199ae",
      "40590135bfb946388b67e52619821ff1",
      "801374aef3134085bfc4af244a1ba0b2",
      "99e843bdfb39487990e955df61084dd8",
      "54f1db22eaa3416bba18637039959751",
      "a8fee9ecda40456fa74f37b4ccf52384",
      "b46ac640aa794d009f2cd52fb8145159",
      "1f6cca6792ee406dac8a8dc3ee28a90c",
      "d809d9cf31ea4d518a4682240ddcd4a2",
      "ce5ec9cfe1874414abb9b95fc98a2676",
      "5d68510ac03e4f828e18dd6000e30346",
      "394c44c9ef884236819eca86e1b345e5",
      "393ea408a2754b3a87fe5800e4b45171",
      "04e6152f5d82494e9a1013d3e8eeea1c",
      "8fefdb5297884001974664638b314fad",
      "503439d302af4100a8ab53bf3e572fd5",
      "00f88595c01d40a2a975835956b9381e",
      "661fb00fb10e4c0aa1f2699d7ede4eba",
      "7881a94e46e541df945b2b06bfd55280",
      "ebb413e8506a4052af10b0204d582750",
      "92abf59a9bba4e1aacab8d441aa1857b",
      "02ebb5f1d34744f18a6f746779250285",
      "436f0c20738b476887a985fecf979c3f",
      "0f9fd226aacf4cc7a8627b8a9777abf3",
      "fbe4119d02eb49549256808aaf121821",
      "c30759247dce451d85576ca4fd9806a8",
      "b767ea209c254ab0901afbc41c99033c",
      "8dd2357d2df0427fbbc6ff2342e13bdb",
      "cc8575b5778e4910987793ba1a11ceb5",
      "7c212e89987e411c9f5b3fa1a60f3e12",
      "0fd1371bebd046a5942463837ef7f417",
      "27d25e1aceaa4378b1e03d25495161f4",
      "46f693a0dd5b49c2866d27147cfc5e57",
      "b18edf8c4939406789dc4955bd71710a",
      "59effbb301f248b4a9468e7d87532661",
      "e90a715e8dcd46f780ad47b59d395845",
      "893cb8815ff1482084fcc2fc067a2449",
      "83e1052a7f744a8bb9675ff180d7d585",
      "4ce776805ed240f8981a26e207155bd2",
      "510701ba01994fc3848d9ad116239b1c",
      "a9a3dcb6c3d144eba83f4c50d1a1248c",
      "3f3d7adac539404db9377d98dfee952b",
      "806b5b2e552b4020882d485de351afbb",
      "1c493402a83e4296b2a38f74a261cb31",
      "80d821874c174fa9839f74be42575d46",
      "64d73629d2074356892e797681aa229b",
      "93d522e549384514aa4ea0b85c4bd83d",
      "2f417f9adc9c42299ab2c878d27a31d4",
      "17bac3dee86e41bf9413b7cbdc8d0fd8",
      "7d81a9d035ab47549b1c500a51b4785f",
      "d8c58e10584b4e7c9ebb153d94577bf6",
      "331d114b06fd47e5a1101355ef7462a1",
      "2c9cb8edf4e846b68d19e2066aaa2eb7",
      "143c18abf9394910bfd6a39d7bf00f04",
      "3a31f32203b2423da615e542553c86ff",
      "0a017018d57b45dcaafc8f097e5abee9",
      "6ae749229fad4b16871c1274a34fa7c0",
      "eda8f904852646c2a46ca8044e331221",
      "58cc46519a6d4b68bc0a6ebb537d1685",
      "e2b758fcffed4447978fe6db0c94977e",
      "3fa1fff03f0c4eb48f69a04002d5b2f8",
      "827e4564a6a247eb803a32c8ed1b35f3",
      "ec1affcf78284df98456c38959079f59",
      "43373b09283848d49b59d6945d2ace46",
      "0e724887c8fa4e46b7a526606844cace",
      "c83fd745fafe4c3788c06a70a0033bf6",
      "fa06d06446d447828849e203017c5212",
      "706b9beed3d24f0fb35764f392c47d09",
      "7d7a8bfb84804014848e1ca634100f4a",
      "f28f71ac5559433c8997b167e0d782a9",
      "52f7cd72191b495d897abeeb85f9a708",
      "4864dddf227b4246bfb5cd1c838be372",
      "36c6db3e233640b58ec45fc1d09c082f",
      "2c0730143d9b4439b23b6199bdc70658",
      "0d875ed57d8f4fafbfad35ba480ac300",
      "192257f60fc24243857bf85256b0eb4c",
      "a8b0c1caf8114ca9b9c3f57148d46692",
      "b5d67ba6b41a45538c39d48221bcdc9e",
      "d9b76c897b734e8faf54c781558ea5af",
      "a5b95e0554a7444c9102e7c43c2d5034",
      "ec10756d77584f37aaa5bb3fa5a9c03e",
      "2edf55a87cd04f29bf39be5344a3cb36",
      "6f87dd773b5d4de5b7f22988a0854438",
      "93eaccebc41745709b3f775eaceff3a7",
      "f76d0c7c01854694843c9cddd75c5e31",
      "9ec88aed6f434bf89d7fa65699589e26",
      "e1f3dcd2bf2646aa84ffbb51e17b4504",
      "715b108423ce435893dcfed7b42ffe50",
      "a16b51b50893450cbb020dae304c270e",
      "b0aaf10e6b6345619449656275aaf92c",
      "f91b56d0df2749e5ad9e1ce59e01273b",
      "6692472f434442968e0555d038b29dc4",
      "8a1992b4591647f396d24e9b8719d45c",
      "8a4a611c05334fe0965feb0407a82e5a",
      "c2280e5923ac4eadb2d58b92962188c8",
      "1da4412f2f014c0bb493ae775dd1e83e",
      "e1cd47a15ac4456790fadfdeca7014e1",
      "5e1b6278d50b4e8b9a435332bb01f485",
      "9f262d4eb23241e694fb55cc4f583001",
      "fb98bd8183ec4e96bbe1b3146e5e9180",
      "23a88f0cc46742ad85345823a240343f",
      "fc4a1b0c01c54c72a2f494d03ee1627d",
      "53d04d0c06d5432f8ab78a9e85c90fa4",
      "9bb15c80fcda4cdc87cc792886d4e630",
      "6ab33dd718544774ba2b1fe06f4e3e16",
      "4046d6c8e8644567bee06fcdc40d2b9a",
      "59c5145f93b14637be5c51fe306e0562",
      "78cb19d440394ee98a49952f6d5e81a2",
      "9f82a5f08d5347bca172dc9be06790c2",
      "561af3a9c63b4d1db1c684a4f31f8845",
      "59023f63f7de46648e75460eb6205679",
      "baf47424213b41d89103dc110208ec62",
      "37264c4ef57a4c8a9194f88c4c36f9b1",
      "a852b4d662b540acbe3a6c8b0f08be7b",
      "452972b24aa44ca8884eff982ceacca3",
      "98a4f9b6e3bf44a08c54e6637b78e0de",
      "51b315364bbd42dd93c39576a1e302e5",
      "4e4a75b3954c4826893942956569562c",
      "fc1aa2e7873947f5a00c42d7ec20e130",
      "04a0de08436142279ec71e293b15d238",
      "18a147c2a4e24224a4889a06d76a40de",
      "442f2490d4544a92a69b35aa60382b8e",
      "a7fea825a17f41ad984038e4d273ceb0",
      "681fbe3009ad4586831000dd908f45b1",
      "efc565f7b9604967806a5f58f3ab8038",
      "9764112b9f224ebb876b093fa2c717f0",
      "fe318f74614043048d6b1ba34da85f44",
      "2ae3d5779a164e3ca758deb4cf077ce3",
      "df697b6090ab490489075258bbf6bc2f",
      "831f6cf7a4934d0fbd18c2fed230ca11",
      "731d2d77167c4156b79cbb59017d86ce",
      "6ae2441c252a405faa80b0cee937aae7",
      "ae2b604f3fb04eaba14cfbb8b9f508c1",
      "f284f83aebb348f89b68c17267d15122",
      "0ea732cd14a74bfa8d5ef40c3190a74e",
      "bcca70b03d01499fb846cc76f71dd502",
      "33d92fd3f5384b7e821a842ad2671b2f",
      "1460a67d2d764fa99791c5e7af20c0a0",
      "d329d61468c84879944aff99c3904cc4",
      "4e56c67f06174ae3bf66002c2d94203b",
      "11e0c06bdbd641e48e26dbf3f3c69705",
      "ffe892606af84b518ad9b9400daf5d7d",
      "519c237835e34beaa874bdd3f99627b1",
      "054bc65f38444840aebf045c4be510d8",
      "4ce977a8ff3845fcbf1148ba1f7510b4",
      "52fa85b946034120aa81dca404945812",
      "fb56477e31354059a7155a2c5004df7b",
      "1a4e96b7c4994ad3aadf0166d21e0680",
      "41c3a4464cec4513a3b4c955ecf81e7c",
      "8b127b8b40c84994a205c15134776b5c",
      "f7bd7927bb774898a2dcf4555eb74c84",
      "8bf6669235cb423cb0b8b439a9b87efb",
      "757d926237684b68b6699c85556e8d7c",
      "ead18edf1e0145b499bff852f13a9285",
      "a4d5227030f24d309b398952715cc6d3",
      "8872f1d9724148c093c57ea33fe967c2",
      "e418fa89275a4538a0d59a702b113d06",
      "9ac05a2343aa436ab75d889f74063f03",
      "d6b814740fcd4ae2b285f02c9c3c78d5",
      "227fe44b946f44cc8ca7deacc8b109ef",
      "9fc3ba3fa947470a8d93b976d6e51780",
      "1892d56dac4b4a0ca2452019ae0016ea",
      "be60ef007e8d486c83aaaa5cf2995b23",
      "80d85491f95c409c873fd60fc91edad0",
      "2670c996c671467d822480a9865a01b6",
      "fafc92528c394095ae9fe085e64312e5",
      "1af459db53cb4e92a18ac79fa2751830",
      "5a6d04fa120344e7b7c15517a08e3d03",
      "ee14bb2149ba4291b2d6e5900406fc66",
      "6634c50a74ce4bd4a41ff4f6c81bd5b1",
      "0c5475c002b24e77a83c7427dd397a6e",
      "7493597d40c2409fa47432f9ad6ee253",
      "7a72a8791da940fb9d6e0129635cd97c",
      "4429cc3155884664b9683a1e79f42f17",
      "e48efa495639441b9b9dce3c9f0da13c",
      "6bd0f1c106a84ba7b0b446ede3a114ed",
      "b7f30c6efd6d4ecea4b4090672fabfc4",
      "9136e08442eb48fc8cfc2e33a8c0c9ce",
      "b0f6aa5c89cd416b99677558a4d8929a"
     ]
    },
    "id": "QXa85n7hcQFJ",
    "outputId": "86b93ec8-003e-40b6-d95b-1eb272aaf28d"
   },
   "outputs": [
    {
     "name": "stdout",
     "output_type": "stream",
     "text": [
      "Batch size     :  1024\n",
      "Context        :  32\n",
      "Input size     :  1820\n",
      "Output symbols :  42\n",
      "Train dataset samples = 12025072, batches = 11744\n",
      "Validation dataset samples = 644779, batches = 630\n",
      "Test dataset samples = 1934138, batches = 1889\n",
      "torch.Size([1024, 1820]) torch.Size([1024])\n",
      "\n",
      "Epoch 1/20\n"
     ]
    },
    {
     "data": {
      "application/vnd.jupyter.widget-view+json": {
       "model_id": "4f6140f04b254fb5b7b1fcf8359b54b1",
       "version_major": 2,
       "version_minor": 0
      },
      "text/plain": [
       "Train:   0%|          | 0/11744 [00:00<?, ?it/s]"
      ]
     },
     "metadata": {},
     "output_type": "display_data"
    },
    {
     "data": {
      "application/vnd.jupyter.widget-view+json": {
       "model_id": "fa0d52fd503f40e9a6ff7d4d18cbd8ca",
       "version_major": 2,
       "version_minor": 0
      },
      "text/plain": [
       "Val:   0%|          | 0/630 [00:00<?, ?it/s]"
      ]
     },
     "metadata": {},
     "output_type": "display_data"
    },
    {
     "name": "stdout",
     "output_type": "stream",
     "text": [
      "\tTrain Acc 17.1749%\tTrain Loss 3.3066\t Learning Rate 0.0010000\n",
      "\tVal Acc 16.5585%\tVal Loss 3.3184\n",
      "\n",
      "Epoch 2/20\n"
     ]
    },
    {
     "data": {
      "application/vnd.jupyter.widget-view+json": {
       "model_id": "bd0fd26f1a5946928950fa5896bc9c53",
       "version_major": 2,
       "version_minor": 0
      },
      "text/plain": [
       "Train:   0%|          | 0/11744 [00:00<?, ?it/s]"
      ]
     },
     "metadata": {},
     "output_type": "display_data"
    },
    {
     "data": {
      "application/vnd.jupyter.widget-view+json": {
       "model_id": "4e96d93daaba4e368725d20b918d4810",
       "version_major": 2,
       "version_minor": 0
      },
      "text/plain": [
       "Val:   0%|          | 0/630 [00:00<?, ?it/s]"
      ]
     },
     "metadata": {},
     "output_type": "display_data"
    },
    {
     "name": "stdout",
     "output_type": "stream",
     "text": [
      "\tTrain Acc 17.1975%\tTrain Loss 3.3030\t Learning Rate 0.0010000\n",
      "\tVal Acc 16.5585%\tVal Loss 3.3180\n",
      "\n",
      "Epoch 3/20\n"
     ]
    },
    {
     "data": {
      "application/vnd.jupyter.widget-view+json": {
       "model_id": "1df0352869e94da0a49a7b50bbab1fa6",
       "version_major": 2,
       "version_minor": 0
      },
      "text/plain": [
       "Train:   0%|          | 0/11744 [00:00<?, ?it/s]"
      ]
     },
     "metadata": {},
     "output_type": "display_data"
    },
    {
     "data": {
      "application/vnd.jupyter.widget-view+json": {
       "model_id": "20e562b0da27400da2728c906061dbec",
       "version_major": 2,
       "version_minor": 0
      },
      "text/plain": [
       "Val:   0%|          | 0/630 [00:00<?, ?it/s]"
      ]
     },
     "metadata": {},
     "output_type": "display_data"
    },
    {
     "name": "stdout",
     "output_type": "stream",
     "text": [
      "\tTrain Acc 17.1975%\tTrain Loss 3.3027\t Learning Rate 0.0010000\n",
      "\tVal Acc 16.5585%\tVal Loss 3.3189\n",
      "\n",
      "Epoch 4/20\n"
     ]
    },
    {
     "data": {
      "application/vnd.jupyter.widget-view+json": {
       "model_id": "0a1f0c3292f849fe851f47fd4084af90",
       "version_major": 2,
       "version_minor": 0
      },
      "text/plain": [
       "Train:   0%|          | 0/11744 [00:00<?, ?it/s]"
      ]
     },
     "metadata": {},
     "output_type": "display_data"
    },
    {
     "data": {
      "application/vnd.jupyter.widget-view+json": {
       "model_id": "2f22dfb8b4094220852e5b87d3d64e28",
       "version_major": 2,
       "version_minor": 0
      },
      "text/plain": [
       "Val:   0%|          | 0/630 [00:00<?, ?it/s]"
      ]
     },
     "metadata": {},
     "output_type": "display_data"
    },
    {
     "name": "stdout",
     "output_type": "stream",
     "text": [
      "\tTrain Acc 17.1981%\tTrain Loss 3.2986\t Learning Rate 0.0010000\n",
      "\tVal Acc 16.5227%\tVal Loss 3.3262\n",
      "\n",
      "Epoch 5/20\n"
     ]
    },
    {
     "data": {
      "application/vnd.jupyter.widget-view+json": {
       "model_id": "d8309cf86a3c4e3081845c5e96995353",
       "version_major": 2,
       "version_minor": 0
      },
      "text/plain": [
       "Train:   0%|          | 0/11744 [00:00<?, ?it/s]"
      ]
     },
     "metadata": {},
     "output_type": "display_data"
    },
    {
     "data": {
      "application/vnd.jupyter.widget-view+json": {
       "model_id": "f72beb42129547f38b5978437f6e614d",
       "version_major": 2,
       "version_minor": 0
      },
      "text/plain": [
       "Val:   0%|          | 0/630 [00:00<?, ?it/s]"
      ]
     },
     "metadata": {},
     "output_type": "display_data"
    },
    {
     "name": "stdout",
     "output_type": "stream",
     "text": [
      "\tTrain Acc 17.2785%\tTrain Loss 3.2819\t Learning Rate 0.0010000\n",
      "\tVal Acc 15.9894%\tVal Loss 3.3446\n",
      "\n",
      "Epoch 6/20\n"
     ]
    },
    {
     "data": {
      "application/vnd.jupyter.widget-view+json": {
       "model_id": "259793a884454bc1ad617fae88970147",
       "version_major": 2,
       "version_minor": 0
      },
      "text/plain": [
       "Train:   0%|          | 0/11744 [00:00<?, ?it/s]"
      ]
     },
     "metadata": {},
     "output_type": "display_data"
    },
    {
     "data": {
      "application/vnd.jupyter.widget-view+json": {
       "model_id": "a35034ab64a74cfc978c4cc2b54ca6bd",
       "version_major": 2,
       "version_minor": 0
      },
      "text/plain": [
       "Val:   0%|          | 0/630 [00:00<?, ?it/s]"
      ]
     },
     "metadata": {},
     "output_type": "display_data"
    },
    {
     "name": "stdout",
     "output_type": "stream",
     "text": [
      "\tTrain Acc 17.6051%\tTrain Loss 3.2521\t Learning Rate 0.0010000\n",
      "\tVal Acc 14.7383%\tVal Loss 3.3693\n",
      "\n",
      "Epoch 7/20\n"
     ]
    },
    {
     "data": {
      "application/vnd.jupyter.widget-view+json": {
       "model_id": "deb52a7c487c49f6aa8c44fd2d5fa980",
       "version_major": 2,
       "version_minor": 0
      },
      "text/plain": [
       "Train:   0%|          | 0/11744 [00:00<?, ?it/s]"
      ]
     },
     "metadata": {},
     "output_type": "display_data"
    },
    {
     "data": {
      "application/vnd.jupyter.widget-view+json": {
       "model_id": "ab34cefeab7e442888b7782f29bfc832",
       "version_major": 2,
       "version_minor": 0
      },
      "text/plain": [
       "Val:   0%|          | 0/630 [00:00<?, ?it/s]"
      ]
     },
     "metadata": {},
     "output_type": "display_data"
    },
    {
     "name": "stdout",
     "output_type": "stream",
     "text": [
      "\tTrain Acc 18.0240%\tTrain Loss 3.2213\t Learning Rate 0.0010000\n",
      "\tVal Acc 13.6759%\tVal Loss 3.3897\n",
      "\n",
      "Epoch 8/20\n"
     ]
    },
    {
     "data": {
      "application/vnd.jupyter.widget-view+json": {
       "model_id": "537148b6a9f34547b57fc74ba062038d",
       "version_major": 2,
       "version_minor": 0
      },
      "text/plain": [
       "Train:   0%|          | 0/11744 [00:00<?, ?it/s]"
      ]
     },
     "metadata": {},
     "output_type": "display_data"
    },
    {
     "data": {
      "application/vnd.jupyter.widget-view+json": {
       "model_id": "e6935e23e373445da0099cf503e18131",
       "version_major": 2,
       "version_minor": 0
      },
      "text/plain": [
       "Val:   0%|          | 0/630 [00:00<?, ?it/s]"
      ]
     },
     "metadata": {},
     "output_type": "display_data"
    },
    {
     "name": "stdout",
     "output_type": "stream",
     "text": [
      "\tTrain Acc 18.4317%\tTrain Loss 3.1929\t Learning Rate 0.0010000\n",
      "\tVal Acc 13.4184%\tVal Loss 3.4047\n",
      "\n",
      "Epoch 9/20\n"
     ]
    },
    {
     "data": {
      "application/vnd.jupyter.widget-view+json": {
       "model_id": "bc938a3b463849979c13df25f31cbe0f",
       "version_major": 2,
       "version_minor": 0
      },
      "text/plain": [
       "Train:   0%|          | 0/11744 [00:00<?, ?it/s]"
      ]
     },
     "metadata": {},
     "output_type": "display_data"
    },
    {
     "data": {
      "application/vnd.jupyter.widget-view+json": {
       "model_id": "26e89c506a984965b1735b3089aee730",
       "version_major": 2,
       "version_minor": 0
      },
      "text/plain": [
       "Val:   0%|          | 0/630 [00:00<?, ?it/s]"
      ]
     },
     "metadata": {},
     "output_type": "display_data"
    },
    {
     "name": "stdout",
     "output_type": "stream",
     "text": [
      "\tTrain Acc 18.7968%\tTrain Loss 3.1688\t Learning Rate 0.0010000\n",
      "\tVal Acc 12.9889%\tVal Loss 3.4288\n",
      "\n",
      "Epoch 10/20\n"
     ]
    },
    {
     "data": {
      "application/vnd.jupyter.widget-view+json": {
       "model_id": "d1ad109846f64ee1bf85fd78aae29317",
       "version_major": 2,
       "version_minor": 0
      },
      "text/plain": [
       "Train:   0%|          | 0/11744 [00:00<?, ?it/s]"
      ]
     },
     "metadata": {},
     "output_type": "display_data"
    },
    {
     "data": {
      "application/vnd.jupyter.widget-view+json": {
       "model_id": "57ece09fc96b4739a6211bfa8ed60973",
       "version_major": 2,
       "version_minor": 0
      },
      "text/plain": [
       "Val:   0%|          | 0/630 [00:00<?, ?it/s]"
      ]
     },
     "metadata": {},
     "output_type": "display_data"
    },
    {
     "name": "stdout",
     "output_type": "stream",
     "text": [
      "\tTrain Acc 19.1215%\tTrain Loss 3.1481\t Learning Rate 0.0010000\n",
      "\tVal Acc 12.5503%\tVal Loss 3.4331\n",
      "\n",
      "Epoch 11/20\n"
     ]
    },
    {
     "data": {
      "application/vnd.jupyter.widget-view+json": {
       "model_id": "f4e6985b38f3480a8a3bca0efa35b954",
       "version_major": 2,
       "version_minor": 0
      },
      "text/plain": [
       "Train:   0%|          | 0/11744 [00:00<?, ?it/s]"
      ]
     },
     "metadata": {},
     "output_type": "display_data"
    },
    {
     "data": {
      "application/vnd.jupyter.widget-view+json": {
       "model_id": "8603f55e38224a89b4c5e09ca2cda7a0",
       "version_major": 2,
       "version_minor": 0
      },
      "text/plain": [
       "Val:   0%|          | 0/630 [00:00<?, ?it/s]"
      ]
     },
     "metadata": {},
     "output_type": "display_data"
    },
    {
     "name": "stdout",
     "output_type": "stream",
     "text": [
      "\tTrain Acc 19.3993%\tTrain Loss 3.1313\t Learning Rate 0.0010000\n",
      "\tVal Acc 12.0239%\tVal Loss 3.4544\n",
      "\n",
      "Epoch 12/20\n"
     ]
    },
    {
     "data": {
      "application/vnd.jupyter.widget-view+json": {
       "model_id": "7e343387bdc847f2a9d5d18a36ea8612",
       "version_major": 2,
       "version_minor": 0
      },
      "text/plain": [
       "Train:   0%|          | 0/11744 [00:00<?, ?it/s]"
      ]
     },
     "metadata": {},
     "output_type": "display_data"
    },
    {
     "data": {
      "application/vnd.jupyter.widget-view+json": {
       "model_id": "37149684d9ec404b93c5bcd34c30bc3f",
       "version_major": 2,
       "version_minor": 0
      },
      "text/plain": [
       "Val:   0%|          | 0/630 [00:00<?, ?it/s]"
      ]
     },
     "metadata": {},
     "output_type": "display_data"
    },
    {
     "name": "stdout",
     "output_type": "stream",
     "text": [
      "\tTrain Acc 19.6477%\tTrain Loss 3.1160\t Learning Rate 0.0010000\n",
      "\tVal Acc 12.2027%\tVal Loss 3.4604\n",
      "\n",
      "Epoch 13/20\n"
     ]
    },
    {
     "data": {
      "application/vnd.jupyter.widget-view+json": {
       "model_id": "99e843bdfb39487990e955df61084dd8",
       "version_major": 2,
       "version_minor": 0
      },
      "text/plain": [
       "Train:   0%|          | 0/11744 [00:00<?, ?it/s]"
      ]
     },
     "metadata": {},
     "output_type": "display_data"
    },
    {
     "data": {
      "application/vnd.jupyter.widget-view+json": {
       "model_id": "8fefdb5297884001974664638b314fad",
       "version_major": 2,
       "version_minor": 0
      },
      "text/plain": [
       "Val:   0%|          | 0/630 [00:00<?, ?it/s]"
      ]
     },
     "metadata": {},
     "output_type": "display_data"
    },
    {
     "name": "stdout",
     "output_type": "stream",
     "text": [
      "\tTrain Acc 19.8577%\tTrain Loss 3.1030\t Learning Rate 0.0010000\n",
      "\tVal Acc 11.7255%\tVal Loss 3.4696\n",
      "\n",
      "Epoch 14/20\n"
     ]
    },
    {
     "data": {
      "application/vnd.jupyter.widget-view+json": {
       "model_id": "c30759247dce451d85576ca4fd9806a8",
       "version_major": 2,
       "version_minor": 0
      },
      "text/plain": [
       "Train:   0%|          | 0/11744 [00:00<?, ?it/s]"
      ]
     },
     "metadata": {},
     "output_type": "display_data"
    },
    {
     "data": {
      "application/vnd.jupyter.widget-view+json": {
       "model_id": "893cb8815ff1482084fcc2fc067a2449",
       "version_major": 2,
       "version_minor": 0
      },
      "text/plain": [
       "Val:   0%|          | 0/630 [00:00<?, ?it/s]"
      ]
     },
     "metadata": {},
     "output_type": "display_data"
    },
    {
     "name": "stdout",
     "output_type": "stream",
     "text": [
      "\tTrain Acc 20.0323%\tTrain Loss 3.0914\t Learning Rate 0.0010000\n",
      "\tVal Acc 11.8434%\tVal Loss 3.4632\n",
      "\n",
      "Epoch 15/20\n"
     ]
    },
    {
     "data": {
      "application/vnd.jupyter.widget-view+json": {
       "model_id": "2f417f9adc9c42299ab2c878d27a31d4",
       "version_major": 2,
       "version_minor": 0
      },
      "text/plain": [
       "Train:   0%|          | 0/11744 [00:00<?, ?it/s]"
      ]
     },
     "metadata": {},
     "output_type": "display_data"
    },
    {
     "data": {
      "application/vnd.jupyter.widget-view+json": {
       "model_id": "58cc46519a6d4b68bc0a6ebb537d1685",
       "version_major": 2,
       "version_minor": 0
      },
      "text/plain": [
       "Val:   0%|          | 0/630 [00:00<?, ?it/s]"
      ]
     },
     "metadata": {},
     "output_type": "display_data"
    },
    {
     "name": "stdout",
     "output_type": "stream",
     "text": [
      "\tTrain Acc 20.1941%\tTrain Loss 3.0809\t Learning Rate 0.0010000\n",
      "\tVal Acc 11.3355%\tVal Loss 3.4854\n",
      "\n",
      "Epoch 16/20\n"
     ]
    },
    {
     "data": {
      "application/vnd.jupyter.widget-view+json": {
       "model_id": "f28f71ac5559433c8997b167e0d782a9",
       "version_major": 2,
       "version_minor": 0
      },
      "text/plain": [
       "Train:   0%|          | 0/11744 [00:00<?, ?it/s]"
      ]
     },
     "metadata": {},
     "output_type": "display_data"
    },
    {
     "data": {
      "application/vnd.jupyter.widget-view+json": {
       "model_id": "ec10756d77584f37aaa5bb3fa5a9c03e",
       "version_major": 2,
       "version_minor": 0
      },
      "text/plain": [
       "Val:   0%|          | 0/630 [00:00<?, ?it/s]"
      ]
     },
     "metadata": {},
     "output_type": "display_data"
    },
    {
     "name": "stdout",
     "output_type": "stream",
     "text": [
      "\tTrain Acc 20.3480%\tTrain Loss 3.0714\t Learning Rate 0.0010000\n",
      "\tVal Acc 11.6795%\tVal Loss 3.4962\n",
      "\n",
      "Epoch 17/20\n"
     ]
    },
    {
     "data": {
      "application/vnd.jupyter.widget-view+json": {
       "model_id": "6692472f434442968e0555d038b29dc4",
       "version_major": 2,
       "version_minor": 0
      },
      "text/plain": [
       "Train:   0%|          | 0/11744 [00:00<?, ?it/s]"
      ]
     },
     "metadata": {},
     "output_type": "display_data"
    },
    {
     "data": {
      "application/vnd.jupyter.widget-view+json": {
       "model_id": "53d04d0c06d5432f8ab78a9e85c90fa4",
       "version_major": 2,
       "version_minor": 0
      },
      "text/plain": [
       "Val:   0%|          | 0/630 [00:00<?, ?it/s]"
      ]
     },
     "metadata": {},
     "output_type": "display_data"
    },
    {
     "name": "stdout",
     "output_type": "stream",
     "text": [
      "\tTrain Acc 20.4764%\tTrain Loss 3.0635\t Learning Rate 0.0010000\n",
      "\tVal Acc 11.4249%\tVal Loss 3.4926\n",
      "\n",
      "Epoch 18/20\n"
     ]
    },
    {
     "data": {
      "application/vnd.jupyter.widget-view+json": {
       "model_id": "a852b4d662b540acbe3a6c8b0f08be7b",
       "version_major": 2,
       "version_minor": 0
      },
      "text/plain": [
       "Train:   0%|          | 0/11744 [00:00<?, ?it/s]"
      ]
     },
     "metadata": {},
     "output_type": "display_data"
    },
    {
     "data": {
      "application/vnd.jupyter.widget-view+json": {
       "model_id": "efc565f7b9604967806a5f58f3ab8038",
       "version_major": 2,
       "version_minor": 0
      },
      "text/plain": [
       "Val:   0%|          | 0/630 [00:00<?, ?it/s]"
      ]
     },
     "metadata": {},
     "output_type": "display_data"
    },
    {
     "name": "stdout",
     "output_type": "stream",
     "text": [
      "\tTrain Acc 20.5999%\tTrain Loss 3.0555\t Learning Rate 0.0010000\n",
      "\tVal Acc 11.5531%\tVal Loss 3.4886\n",
      "\n",
      "Epoch 19/20\n"
     ]
    },
    {
     "data": {
      "application/vnd.jupyter.widget-view+json": {
       "model_id": "bcca70b03d01499fb846cc76f71dd502",
       "version_major": 2,
       "version_minor": 0
      },
      "text/plain": [
       "Train:   0%|          | 0/11744 [00:00<?, ?it/s]"
      ]
     },
     "metadata": {},
     "output_type": "display_data"
    },
    {
     "data": {
      "application/vnd.jupyter.widget-view+json": {
       "model_id": "fb56477e31354059a7155a2c5004df7b",
       "version_major": 2,
       "version_minor": 0
      },
      "text/plain": [
       "Val:   0%|          | 0/630 [00:00<?, ?it/s]"
      ]
     },
     "metadata": {},
     "output_type": "display_data"
    },
    {
     "name": "stdout",
     "output_type": "stream",
     "text": [
      "\tTrain Acc 20.7213%\tTrain Loss 3.0481\t Learning Rate 0.0010000\n",
      "\tVal Acc 11.5620%\tVal Loss 3.4938\n",
      "\n",
      "Epoch 20/20\n"
     ]
    },
    {
     "data": {
      "application/vnd.jupyter.widget-view+json": {
       "model_id": "9ac05a2343aa436ab75d889f74063f03",
       "version_major": 2,
       "version_minor": 0
      },
      "text/plain": [
       "Train:   0%|          | 0/11744 [00:00<?, ?it/s]"
      ]
     },
     "metadata": {},
     "output_type": "display_data"
    },
    {
     "data": {
      "application/vnd.jupyter.widget-view+json": {
       "model_id": "ee14bb2149ba4291b2d6e5900406fc66",
       "version_major": 2,
       "version_minor": 0
      },
      "text/plain": [
       "Val:   0%|          | 0/630 [00:00<?, ?it/s]"
      ]
     },
     "metadata": {},
     "output_type": "display_data"
    },
    {
     "name": "stdout",
     "output_type": "stream",
     "text": [
      "\tTrain Acc 20.8356%\tTrain Loss 3.0413\t Learning Rate 0.0010000\n",
      "\tVal Acc 11.2171%\tVal Loss 3.5046\n"
     ]
    }
   ],
   "source": [
    "config = {\n",
    "    'epochs'        : 20,\n",
    "    'batch_size'    : 1024,\n",
    "    'context'       : 32,\n",
    "    'init_lr'       : 1e-3,\n",
    "    'architecture'  : 'very-low-cutoff'\n",
    "}\n",
    "\n",
    "class Network(torch.nn.Module):\n",
    "\n",
    "    def __init__(self, input_size, output_size):\n",
    "        super(Network, self).__init__()\n",
    "        self.model = torch.nn.Sequential(\n",
    "\n",
    "            torch.nn.Linear(input_size, 1024),\n",
    "            torch.nn.BatchNorm1d(1024),\n",
    "            torch.nn.GELU(),\n",
    "            torch.nn.Dropout(p=0.2),\n",
    "\n",
    "            torch.nn.Linear(1024, 1024),\n",
    "            torch.nn.GELU(),\n",
    "            torch.nn.Dropout(p=0.2),\n",
    "\n",
    "            torch.nn.Linear(1024, 1024),\n",
    "            torch.nn.BatchNorm1d(1024),\n",
    "            torch.nn.GELU(),\n",
    "            torch.nn.Dropout(p=0.2),\n",
    "\n",
    "            torch.nn.Linear(1024, 1024),\n",
    "            torch.nn.GELU(),\n",
    "            torch.nn.Dropout(p=0.2),\n",
    "\n",
    "            torch.nn.Linear(1024, 1024),\n",
    "            torch.nn.BatchNorm1d(1024),\n",
    "            torch.nn.GELU(),\n",
    "            torch.nn.Dropout(p=0.2),\n",
    "\n",
    "            torch.nn.Linear(1024, output_size)\n",
    "        )\n",
    "\n",
    "    def forward(self, x):\n",
    "        out = self.model(x)\n",
    "        return out\n",
    "\n",
    "load_data()\n",
    "INPUT_SIZE  = (2*config['context'] + 1) * 28\n",
    "model       = Network(INPUT_SIZE, len(train_data.phonemes)).to(device)\n",
    "frames, _ = train_data.__getitem__(0)\n",
    "# summary(model, frames.to(device))\n",
    "\n",
    "run_network()\n",
    "run_train_eval()"
   ]
  },
  {
   "cell_type": "markdown",
   "metadata": {
    "collapsed": false,
    "jupyter": {
     "outputs_hidden": false
    }
   },
   "source": [
    "# 5 - Clustering"
   ]
  },
  {
   "cell_type": "markdown",
   "metadata": {
    "collapsed": false,
    "jupyter": {
     "outputs_hidden": false
    }
   },
   "source": [
    "**1**\n",
    "\n",
    "<img src=\"res/5-1.jpg\" width=\"1280\">"
   ]
  },
  {
   "cell_type": "markdown",
   "metadata": {
    "collapsed": false,
    "jupyter": {
     "outputs_hidden": false
    }
   },
   "source": [
    "**2**\n",
    "\n",
    "<img src=\"res/5-2.jpg\" width=\"1280\">"
   ]
  },
  {
   "cell_type": "markdown",
   "metadata": {
    "collapsed": false,
    "jupyter": {
     "outputs_hidden": false
    }
   },
   "source": [
    "# 6 - K-Means Clustering"
   ]
  },
  {
   "cell_type": "markdown",
   "metadata": {
    "collapsed": false,
    "jupyter": {
     "outputs_hidden": false
    }
   },
   "source": [
    "**1**\n",
    "\n",
    "<img src=\"res/6-1.jpg\" width=\"1280\">"
   ]
  },
  {
   "cell_type": "markdown",
   "metadata": {
    "collapsed": false,
    "jupyter": {
     "outputs_hidden": false
    }
   },
   "source": [
    "**2**\n",
    "\n",
    "<img src=\"res/6-2.jpg\" width=\"1280\">"
   ]
  }
 ],
 "metadata": {
  "accelerator": "GPU",
  "colab": {
   "provenance": []
  },
  "kernelspec": {
   "display_name": "Python 3 (ipykernel)",
   "language": "python",
   "name": "python3"
  },
  "language_info": {
   "codemirror_mode": {
    "name": "ipython",
    "version": 3
   },
   "file_extension": ".py",
   "mimetype": "text/x-python",
   "name": "python",
   "nbconvert_exporter": "python",
   "pygments_lexer": "ipython3",
   "version": "3.12.0"
  }
 },
 "nbformat": 4,
 "nbformat_minor": 4
}
