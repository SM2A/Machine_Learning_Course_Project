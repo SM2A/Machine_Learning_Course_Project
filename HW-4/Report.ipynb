{
 "cells": [
  {
   "cell_type": "markdown",
   "source": [
    "# Seyed Mohammad Amin Atyabi - 830402014"
   ],
   "metadata": {
    "collapsed": false
   },
   "id": "7612837098edacd3"
  },
  {
   "cell_type": "markdown",
   "source": [
    "# Finding Decision Boundary"
   ],
   "metadata": {
    "collapsed": false
   },
   "id": "d4f532685ab3e5e9"
  },
  {
   "cell_type": "markdown",
   "source": [
    "**1**\n",
    "\n",
    "<img src=\"res/FDB_1.jpg\" width=\"1280\">"
   ],
   "metadata": {
    "collapsed": false
   },
   "id": "9e9bb13f15889d6c"
  },
  {
   "cell_type": "markdown",
   "source": [
    "**2**\n",
    "\n",
    "<div style=\"display:block\" direction=rtl align=right>\n",
    "در بعضی از موارد، حل کردن دوگان مسأله ساده‌تر از حل کردن خود مسأله است\n",
    "در تئوری بهینه‌سازی ریاضی، دوگان به این معنی است که به مسأله‌های بهینه‌سازی می توان از دو زاویه نگاه کرد، خود مسأله یا دوگان مسأله (اصل دوگان).\n",
    "اگر یک مسأله کمینه‌سازی داشته باشیم، می‌توانیم همچنین آن را به صورت یک مسأله بیشینه‌سازی در نظر بگیریم و زمانی که ماکزیمم این مسأله را پیدا کنیم می‌تواند حد پایین در حل مسأله کمینه‌سازی باشد و همیشه کمتر  یا مساوی مینیمم مسأله کمینه‌سازی است.\n",
    "</div>"
   ],
   "metadata": {
    "collapsed": false
   },
   "id": "3ef01f5d1896ccd4"
  },
  {
   "cell_type": "markdown",
   "source": [
    "# Soft Margin Classifier"
   ],
   "metadata": {
    "collapsed": false
   },
   "id": "354e5d1277392f70"
  },
  {
   "cell_type": "markdown",
   "source": [
    "**1**\n",
    "\n",
    "<div style=\"display:block\" direction=rtl align=right>\n",
    " ضریب C تعیین کننده میزان خطای قابل پذیرش و پهنای حاشیه جداساز است . اگر ضریب کوچک باشد باعث میشود که خطا (ورود دیتا پوینت ها به حاشیه) کوچک شمرده شود در نتیجه عرض حاشیه جداساز زیاد خواهد شد . اگر ضریب بزرگ باشد تاثیر خطا زیاد خواهد شد فلذا سعی در جداسازی صحیحتر خواهیم داشت که منجر به حاشه کمتر میشود .\n",
    " کران بالای خطای طبقه بندی برابر با مجموع خطای هر نقطه خواهد بود در صورتی که تمام نقاط وارد حاشیه شده باشند .\n",
    "</div>"
   ],
   "metadata": {
    "collapsed": false
   },
   "id": "6b506cf330102e74"
  }
 ],
 "metadata": {
  "kernelspec": {
   "display_name": "Python 3",
   "language": "python",
   "name": "python3"
  },
  "language_info": {
   "codemirror_mode": {
    "name": "ipython",
    "version": 2
   },
   "file_extension": ".py",
   "mimetype": "text/x-python",
   "name": "python",
   "nbconvert_exporter": "python",
   "pygments_lexer": "ipython2",
   "version": "2.7.6"
  }
 },
 "nbformat": 4,
 "nbformat_minor": 5
}
