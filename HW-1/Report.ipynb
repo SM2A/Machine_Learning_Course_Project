{
 "cells": [
  {
   "cell_type": "markdown",
   "source": [
    "# Seyed Mohammad Amin Atyabi - 830402014"
   ],
   "metadata": {
    "collapsed": false
   }
  },
  {
   "cell_type": "markdown",
   "source": [
    "## 1"
   ],
   "metadata": {
    "collapsed": false
   }
  },
  {
   "cell_type": "markdown",
   "source": [
    "### Pre Process"
   ],
   "metadata": {
    "collapsed": false
   }
  },
  {
   "cell_type": "code",
   "execution_count": 179,
   "outputs": [
    {
     "data": {
      "text/plain": "      Age Attrition     BusinessTravel  DailyRate              Department   \n0      41       Yes      Travel_Rarely       1102                   Sales  \\\n1      49        No  Travel_Frequently        279  Research & Development   \n2      37       Yes      Travel_Rarely       1373  Research & Development   \n3      33        No  Travel_Frequently       1392  Research & Development   \n4      27        No      Travel_Rarely        591  Research & Development   \n...   ...       ...                ...        ...                     ...   \n1465   36        No  Travel_Frequently        884  Research & Development   \n1466   39        No      Travel_Rarely        613  Research & Development   \n1467   27        No      Travel_Rarely        155  Research & Development   \n1468   49        No  Travel_Frequently       1023                   Sales   \n1469   34        No      Travel_Rarely        628  Research & Development   \n\n      DistanceFromHome  Education EducationField  EnvironmentSatisfaction   \n0                    1          2  Life Sciences                        2  \\\n1                    8          1  Life Sciences                        3   \n2                    2          2          Other                        4   \n3                    3          4  Life Sciences                        4   \n4                    2          1        Medical                        1   \n...                ...        ...            ...                      ...   \n1465                23          2        Medical                        3   \n1466                 6          1        Medical                        4   \n1467                 4          3  Life Sciences                        2   \n1468                 2          3        Medical                        4   \n1469                 8          3        Medical                        2   \n\n      Gender  JobLevel MaritalStatus  MonthlyRate  NumCompaniesWorked   \n0     Female         2        Single      19479.0                   8  \\\n1       Male         2       Married      24907.0                   1   \n2       Male         1        Single       2396.0                   6   \n3     Female         1       Married      23159.0                   1   \n4       Male         1       Married      16632.0                   9   \n...      ...       ...           ...          ...                 ...   \n1465    Male         2       Married      12290.0                   4   \n1466    Male         3       Married      21457.0                   4   \n1467    Male         2       Married       5174.0                   1   \n1468    Male         2       Married      13243.0                   2   \n1469    Male         2       Married      10228.0                   2   \n\n     OverTime  PerformanceRating  WorkLifeBalance  YearsAtCompany  \n0         Yes                  3                1               6  \n1          No                  4                3              10  \n2         Yes                  3                3               0  \n3         Yes                  3                3               8  \n4          No                  3                3               2  \n...       ...                ...              ...             ...  \n1465       No                  3                3               5  \n1466       No                  3                3               7  \n1467      Yes                  4                3               6  \n1468       No                  3                2               9  \n1469       No                  3                4               4  \n\n[1470 rows x 18 columns]",
      "text/html": "<div>\n<style scoped>\n    .dataframe tbody tr th:only-of-type {\n        vertical-align: middle;\n    }\n\n    .dataframe tbody tr th {\n        vertical-align: top;\n    }\n\n    .dataframe thead th {\n        text-align: right;\n    }\n</style>\n<table border=\"1\" class=\"dataframe\">\n  <thead>\n    <tr style=\"text-align: right;\">\n      <th></th>\n      <th>Age</th>\n      <th>Attrition</th>\n      <th>BusinessTravel</th>\n      <th>DailyRate</th>\n      <th>Department</th>\n      <th>DistanceFromHome</th>\n      <th>Education</th>\n      <th>EducationField</th>\n      <th>EnvironmentSatisfaction</th>\n      <th>Gender</th>\n      <th>JobLevel</th>\n      <th>MaritalStatus</th>\n      <th>MonthlyRate</th>\n      <th>NumCompaniesWorked</th>\n      <th>OverTime</th>\n      <th>PerformanceRating</th>\n      <th>WorkLifeBalance</th>\n      <th>YearsAtCompany</th>\n    </tr>\n  </thead>\n  <tbody>\n    <tr>\n      <th>0</th>\n      <td>41</td>\n      <td>Yes</td>\n      <td>Travel_Rarely</td>\n      <td>1102</td>\n      <td>Sales</td>\n      <td>1</td>\n      <td>2</td>\n      <td>Life Sciences</td>\n      <td>2</td>\n      <td>Female</td>\n      <td>2</td>\n      <td>Single</td>\n      <td>19479.0</td>\n      <td>8</td>\n      <td>Yes</td>\n      <td>3</td>\n      <td>1</td>\n      <td>6</td>\n    </tr>\n    <tr>\n      <th>1</th>\n      <td>49</td>\n      <td>No</td>\n      <td>Travel_Frequently</td>\n      <td>279</td>\n      <td>Research &amp; Development</td>\n      <td>8</td>\n      <td>1</td>\n      <td>Life Sciences</td>\n      <td>3</td>\n      <td>Male</td>\n      <td>2</td>\n      <td>Married</td>\n      <td>24907.0</td>\n      <td>1</td>\n      <td>No</td>\n      <td>4</td>\n      <td>3</td>\n      <td>10</td>\n    </tr>\n    <tr>\n      <th>2</th>\n      <td>37</td>\n      <td>Yes</td>\n      <td>Travel_Rarely</td>\n      <td>1373</td>\n      <td>Research &amp; Development</td>\n      <td>2</td>\n      <td>2</td>\n      <td>Other</td>\n      <td>4</td>\n      <td>Male</td>\n      <td>1</td>\n      <td>Single</td>\n      <td>2396.0</td>\n      <td>6</td>\n      <td>Yes</td>\n      <td>3</td>\n      <td>3</td>\n      <td>0</td>\n    </tr>\n    <tr>\n      <th>3</th>\n      <td>33</td>\n      <td>No</td>\n      <td>Travel_Frequently</td>\n      <td>1392</td>\n      <td>Research &amp; Development</td>\n      <td>3</td>\n      <td>4</td>\n      <td>Life Sciences</td>\n      <td>4</td>\n      <td>Female</td>\n      <td>1</td>\n      <td>Married</td>\n      <td>23159.0</td>\n      <td>1</td>\n      <td>Yes</td>\n      <td>3</td>\n      <td>3</td>\n      <td>8</td>\n    </tr>\n    <tr>\n      <th>4</th>\n      <td>27</td>\n      <td>No</td>\n      <td>Travel_Rarely</td>\n      <td>591</td>\n      <td>Research &amp; Development</td>\n      <td>2</td>\n      <td>1</td>\n      <td>Medical</td>\n      <td>1</td>\n      <td>Male</td>\n      <td>1</td>\n      <td>Married</td>\n      <td>16632.0</td>\n      <td>9</td>\n      <td>No</td>\n      <td>3</td>\n      <td>3</td>\n      <td>2</td>\n    </tr>\n    <tr>\n      <th>...</th>\n      <td>...</td>\n      <td>...</td>\n      <td>...</td>\n      <td>...</td>\n      <td>...</td>\n      <td>...</td>\n      <td>...</td>\n      <td>...</td>\n      <td>...</td>\n      <td>...</td>\n      <td>...</td>\n      <td>...</td>\n      <td>...</td>\n      <td>...</td>\n      <td>...</td>\n      <td>...</td>\n      <td>...</td>\n      <td>...</td>\n    </tr>\n    <tr>\n      <th>1465</th>\n      <td>36</td>\n      <td>No</td>\n      <td>Travel_Frequently</td>\n      <td>884</td>\n      <td>Research &amp; Development</td>\n      <td>23</td>\n      <td>2</td>\n      <td>Medical</td>\n      <td>3</td>\n      <td>Male</td>\n      <td>2</td>\n      <td>Married</td>\n      <td>12290.0</td>\n      <td>4</td>\n      <td>No</td>\n      <td>3</td>\n      <td>3</td>\n      <td>5</td>\n    </tr>\n    <tr>\n      <th>1466</th>\n      <td>39</td>\n      <td>No</td>\n      <td>Travel_Rarely</td>\n      <td>613</td>\n      <td>Research &amp; Development</td>\n      <td>6</td>\n      <td>1</td>\n      <td>Medical</td>\n      <td>4</td>\n      <td>Male</td>\n      <td>3</td>\n      <td>Married</td>\n      <td>21457.0</td>\n      <td>4</td>\n      <td>No</td>\n      <td>3</td>\n      <td>3</td>\n      <td>7</td>\n    </tr>\n    <tr>\n      <th>1467</th>\n      <td>27</td>\n      <td>No</td>\n      <td>Travel_Rarely</td>\n      <td>155</td>\n      <td>Research &amp; Development</td>\n      <td>4</td>\n      <td>3</td>\n      <td>Life Sciences</td>\n      <td>2</td>\n      <td>Male</td>\n      <td>2</td>\n      <td>Married</td>\n      <td>5174.0</td>\n      <td>1</td>\n      <td>Yes</td>\n      <td>4</td>\n      <td>3</td>\n      <td>6</td>\n    </tr>\n    <tr>\n      <th>1468</th>\n      <td>49</td>\n      <td>No</td>\n      <td>Travel_Frequently</td>\n      <td>1023</td>\n      <td>Sales</td>\n      <td>2</td>\n      <td>3</td>\n      <td>Medical</td>\n      <td>4</td>\n      <td>Male</td>\n      <td>2</td>\n      <td>Married</td>\n      <td>13243.0</td>\n      <td>2</td>\n      <td>No</td>\n      <td>3</td>\n      <td>2</td>\n      <td>9</td>\n    </tr>\n    <tr>\n      <th>1469</th>\n      <td>34</td>\n      <td>No</td>\n      <td>Travel_Rarely</td>\n      <td>628</td>\n      <td>Research &amp; Development</td>\n      <td>8</td>\n      <td>3</td>\n      <td>Medical</td>\n      <td>2</td>\n      <td>Male</td>\n      <td>2</td>\n      <td>Married</td>\n      <td>10228.0</td>\n      <td>2</td>\n      <td>No</td>\n      <td>3</td>\n      <td>4</td>\n      <td>4</td>\n    </tr>\n  </tbody>\n</table>\n<p>1470 rows × 18 columns</p>\n</div>"
     },
     "execution_count": 179,
     "metadata": {},
     "output_type": "execute_result"
    }
   ],
   "source": [
    "import pandas\n",
    "\n",
    "employee_data = pandas.read_csv('data/HR-Employee-Attrition.csv')\n",
    "\n",
    "employee_data"
   ],
   "metadata": {
    "collapsed": false,
    "ExecuteTime": {
     "start_time": "2023-10-17T22:37:37.818544Z",
     "end_time": "2023-10-17T22:37:37.847274Z"
    }
   }
  },
  {
   "cell_type": "code",
   "execution_count": 180,
   "outputs": [
    {
     "data": {
      "text/plain": "<bound method DataFrame.info of       Age Attrition     BusinessTravel  DailyRate              Department   \n0      41       Yes      Travel_Rarely       1102                   Sales  \\\n1      49        No  Travel_Frequently        279  Research & Development   \n2      37       Yes      Travel_Rarely       1373  Research & Development   \n3      33        No  Travel_Frequently       1392  Research & Development   \n4      27        No      Travel_Rarely        591  Research & Development   \n...   ...       ...                ...        ...                     ...   \n1465   36        No  Travel_Frequently        884  Research & Development   \n1466   39        No      Travel_Rarely        613  Research & Development   \n1467   27        No      Travel_Rarely        155  Research & Development   \n1468   49        No  Travel_Frequently       1023                   Sales   \n1469   34        No      Travel_Rarely        628  Research & Development   \n\n      DistanceFromHome  Education EducationField  EnvironmentSatisfaction   \n0                    1          2  Life Sciences                        2  \\\n1                    8          1  Life Sciences                        3   \n2                    2          2          Other                        4   \n3                    3          4  Life Sciences                        4   \n4                    2          1        Medical                        1   \n...                ...        ...            ...                      ...   \n1465                23          2        Medical                        3   \n1466                 6          1        Medical                        4   \n1467                 4          3  Life Sciences                        2   \n1468                 2          3        Medical                        4   \n1469                 8          3        Medical                        2   \n\n      Gender  JobLevel MaritalStatus  MonthlyRate  NumCompaniesWorked   \n0     Female         2        Single      19479.0                   8  \\\n1       Male         2       Married      24907.0                   1   \n2       Male         1        Single       2396.0                   6   \n3     Female         1       Married      23159.0                   1   \n4       Male         1       Married      16632.0                   9   \n...      ...       ...           ...          ...                 ...   \n1465    Male         2       Married      12290.0                   4   \n1466    Male         3       Married      21457.0                   4   \n1467    Male         2       Married       5174.0                   1   \n1468    Male         2       Married      13243.0                   2   \n1469    Male         2       Married      10228.0                   2   \n\n     OverTime  PerformanceRating  WorkLifeBalance  YearsAtCompany  \n0         Yes                  3                1               6  \n1          No                  4                3              10  \n2         Yes                  3                3               0  \n3         Yes                  3                3               8  \n4          No                  3                3               2  \n...       ...                ...              ...             ...  \n1465       No                  3                3               5  \n1466       No                  3                3               7  \n1467      Yes                  4                3               6  \n1468       No                  3                2               9  \n1469       No                  3                4               4  \n\n[1470 rows x 18 columns]>"
     },
     "execution_count": 180,
     "metadata": {},
     "output_type": "execute_result"
    }
   ],
   "source": [
    "employee_data.info"
   ],
   "metadata": {
    "collapsed": false,
    "ExecuteTime": {
     "start_time": "2023-10-17T22:37:37.835745Z",
     "end_time": "2023-10-17T22:37:37.847274Z"
    }
   }
  },
  {
   "cell_type": "code",
   "execution_count": 181,
   "outputs": [
    {
     "data": {
      "text/plain": "               Age    DailyRate  DistanceFromHome    Education   \ncount  1470.000000  1470.000000       1470.000000  1470.000000  \\\nmean     36.923810   802.485714          9.192517     2.912925   \nstd       9.135373   403.509100          8.106864     1.024165   \nmin      18.000000   102.000000          1.000000     1.000000   \n25%      30.000000   465.000000          2.000000     2.000000   \n50%      36.000000   802.000000          7.000000     3.000000   \n75%      43.000000  1157.000000         14.000000     4.000000   \nmax      60.000000  1499.000000         29.000000     5.000000   \n\n       EnvironmentSatisfaction     JobLevel   MonthlyRate  NumCompaniesWorked   \ncount              1470.000000  1470.000000   1436.000000         1470.000000  \\\nmean                  2.721769     2.063946  14301.253482            2.693197   \nstd                   1.093082     1.106940   7141.338347            2.498009   \nmin                   1.000000     1.000000   2094.000000            0.000000   \n25%                   2.000000     1.000000   8015.250000            1.000000   \n50%                   3.000000     2.000000  14220.000000            2.000000   \n75%                   4.000000     3.000000  20475.500000            4.000000   \nmax                   4.000000     5.000000  26999.000000            9.000000   \n\n       PerformanceRating  WorkLifeBalance  YearsAtCompany  \ncount        1470.000000      1470.000000     1470.000000  \nmean            3.153741         2.761224        7.008163  \nstd             0.360824         0.706476        6.126525  \nmin             3.000000         1.000000        0.000000  \n25%             3.000000         2.000000        3.000000  \n50%             3.000000         3.000000        5.000000  \n75%             3.000000         3.000000        9.000000  \nmax             4.000000         4.000000       40.000000  ",
      "text/html": "<div>\n<style scoped>\n    .dataframe tbody tr th:only-of-type {\n        vertical-align: middle;\n    }\n\n    .dataframe tbody tr th {\n        vertical-align: top;\n    }\n\n    .dataframe thead th {\n        text-align: right;\n    }\n</style>\n<table border=\"1\" class=\"dataframe\">\n  <thead>\n    <tr style=\"text-align: right;\">\n      <th></th>\n      <th>Age</th>\n      <th>DailyRate</th>\n      <th>DistanceFromHome</th>\n      <th>Education</th>\n      <th>EnvironmentSatisfaction</th>\n      <th>JobLevel</th>\n      <th>MonthlyRate</th>\n      <th>NumCompaniesWorked</th>\n      <th>PerformanceRating</th>\n      <th>WorkLifeBalance</th>\n      <th>YearsAtCompany</th>\n    </tr>\n  </thead>\n  <tbody>\n    <tr>\n      <th>count</th>\n      <td>1470.000000</td>\n      <td>1470.000000</td>\n      <td>1470.000000</td>\n      <td>1470.000000</td>\n      <td>1470.000000</td>\n      <td>1470.000000</td>\n      <td>1436.000000</td>\n      <td>1470.000000</td>\n      <td>1470.000000</td>\n      <td>1470.000000</td>\n      <td>1470.000000</td>\n    </tr>\n    <tr>\n      <th>mean</th>\n      <td>36.923810</td>\n      <td>802.485714</td>\n      <td>9.192517</td>\n      <td>2.912925</td>\n      <td>2.721769</td>\n      <td>2.063946</td>\n      <td>14301.253482</td>\n      <td>2.693197</td>\n      <td>3.153741</td>\n      <td>2.761224</td>\n      <td>7.008163</td>\n    </tr>\n    <tr>\n      <th>std</th>\n      <td>9.135373</td>\n      <td>403.509100</td>\n      <td>8.106864</td>\n      <td>1.024165</td>\n      <td>1.093082</td>\n      <td>1.106940</td>\n      <td>7141.338347</td>\n      <td>2.498009</td>\n      <td>0.360824</td>\n      <td>0.706476</td>\n      <td>6.126525</td>\n    </tr>\n    <tr>\n      <th>min</th>\n      <td>18.000000</td>\n      <td>102.000000</td>\n      <td>1.000000</td>\n      <td>1.000000</td>\n      <td>1.000000</td>\n      <td>1.000000</td>\n      <td>2094.000000</td>\n      <td>0.000000</td>\n      <td>3.000000</td>\n      <td>1.000000</td>\n      <td>0.000000</td>\n    </tr>\n    <tr>\n      <th>25%</th>\n      <td>30.000000</td>\n      <td>465.000000</td>\n      <td>2.000000</td>\n      <td>2.000000</td>\n      <td>2.000000</td>\n      <td>1.000000</td>\n      <td>8015.250000</td>\n      <td>1.000000</td>\n      <td>3.000000</td>\n      <td>2.000000</td>\n      <td>3.000000</td>\n    </tr>\n    <tr>\n      <th>50%</th>\n      <td>36.000000</td>\n      <td>802.000000</td>\n      <td>7.000000</td>\n      <td>3.000000</td>\n      <td>3.000000</td>\n      <td>2.000000</td>\n      <td>14220.000000</td>\n      <td>2.000000</td>\n      <td>3.000000</td>\n      <td>3.000000</td>\n      <td>5.000000</td>\n    </tr>\n    <tr>\n      <th>75%</th>\n      <td>43.000000</td>\n      <td>1157.000000</td>\n      <td>14.000000</td>\n      <td>4.000000</td>\n      <td>4.000000</td>\n      <td>3.000000</td>\n      <td>20475.500000</td>\n      <td>4.000000</td>\n      <td>3.000000</td>\n      <td>3.000000</td>\n      <td>9.000000</td>\n    </tr>\n    <tr>\n      <th>max</th>\n      <td>60.000000</td>\n      <td>1499.000000</td>\n      <td>29.000000</td>\n      <td>5.000000</td>\n      <td>4.000000</td>\n      <td>5.000000</td>\n      <td>26999.000000</td>\n      <td>9.000000</td>\n      <td>4.000000</td>\n      <td>4.000000</td>\n      <td>40.000000</td>\n    </tr>\n  </tbody>\n</table>\n</div>"
     },
     "execution_count": 181,
     "metadata": {},
     "output_type": "execute_result"
    }
   ],
   "source": [
    "employee_data.describe()"
   ],
   "metadata": {
    "collapsed": false,
    "ExecuteTime": {
     "start_time": "2023-10-17T22:37:37.844378Z",
     "end_time": "2023-10-17T22:37:37.921459Z"
    }
   }
  },
  {
   "cell_type": "code",
   "execution_count": 182,
   "outputs": [
    {
     "name": "stdout",
     "output_type": "stream",
     "text": [
      "Age                         0\n",
      "Attrition                   0\n",
      "BusinessTravel              0\n",
      "DailyRate                   0\n",
      "Department                  0\n",
      "DistanceFromHome            0\n",
      "Education                   0\n",
      "EducationField              0\n",
      "EnvironmentSatisfaction     0\n",
      "Gender                     31\n",
      "JobLevel                    0\n",
      "MaritalStatus               0\n",
      "MonthlyRate                34\n",
      "NumCompaniesWorked          0\n",
      "OverTime                    0\n",
      "PerformanceRating           0\n",
      "WorkLifeBalance             0\n",
      "YearsAtCompany              0\n",
      "dtype: int64\n"
     ]
    }
   ],
   "source": [
    "print(abs(employee_data.count() - employee_data['Attrition'].count()))"
   ],
   "metadata": {
    "collapsed": false,
    "ExecuteTime": {
     "start_time": "2023-10-17T22:37:37.866478Z",
     "end_time": "2023-10-17T22:37:37.921965Z"
    }
   }
  },
  {
   "cell_type": "code",
   "execution_count": 183,
   "outputs": [
    {
     "data": {
      "text/plain": "      Age Attrition     BusinessTravel  DailyRate              Department   \n30     33        No      Travel_Rarely        924  Research & Development  \\\n110    51        No  Travel_Frequently       1456  Research & Development   \n167    30        No      Travel_Rarely       1339                   Sales   \n233    50        No      Travel_Rarely        854                   Sales   \n282    29        No  Travel_Frequently        442                   Sales   \n335    40        No      Travel_Rarely       1124                   Sales   \n365    46        No         Non-Travel       1144  Research & Development   \n369    31        No      Travel_Rarely        408  Research & Development   \n442    36        No         Non-Travel        635                   Sales   \n456    31        No      Travel_Rarely        688                   Sales   \n552    56        No      Travel_Rarely        832  Research & Development   \n650    43        No  Travel_Frequently        422  Research & Development   \n712    33        No      Travel_Rarely        461  Research & Development   \n713    45        No      Travel_Rarely        974  Research & Development   \n763    34        No      Travel_Rarely       1333                   Sales   \n803    34        No         Non-Travel        697  Research & Development   \n825    29        No      Travel_Rarely        718  Research & Development   \n904    48        No      Travel_Rarely        715  Research & Development   \n961    35        No  Travel_Frequently        482  Research & Development   \n1010   55        No      Travel_Rarely       1136  Research & Development   \n1096   40        No      Travel_Rarely        898         Human Resources   \n1097   24        No      Travel_Rarely        350  Research & Development   \n1130   35        No      Travel_Rarely        750  Research & Development   \n1182   36        No         Non-Travel        894  Research & Development   \n1265   33        No         Non-Travel        775  Research & Development   \n1303   47        No      Travel_Rarely       1001  Research & Development   \n1305   54        No      Travel_Rarely        431  Research & Development   \n1348   40        No      Travel_Rarely       1137  Research & Development   \n1409   40        No  Travel_Frequently        692  Research & Development   \n1458   35        No      Travel_Rarely        287  Research & Development   \n1459   29        No      Travel_Rarely       1378  Research & Development   \n\n      DistanceFromHome  Education    EducationField  EnvironmentSatisfaction   \n30                   2          3           Medical                        3  \\\n110                  1          4           Medical                        1   \n167                  5          3     Life Sciences                        2   \n233                  1          4           Medical                        4   \n282                  2          2     Life Sciences                        2   \n335                  1          2           Medical                        2   \n365                  7          4           Medical                        3   \n369                  9          4     Life Sciences                        3   \n442                 10          4           Medical                        2   \n456                  7          3     Life Sciences                        3   \n552                  9          3           Medical                        3   \n650                  1          3     Life Sciences                        4   \n712                 13          1     Life Sciences                        2   \n713                  1          4           Medical                        4   \n763                 10          4     Life Sciences                        3   \n803                  3          4     Life Sciences                        3   \n825                  8          1           Medical                        2   \n904                  1          3     Life Sciences                        4   \n961                  4          4     Life Sciences                        3   \n1010                 1          4           Medical                        2   \n1096                 6          2           Medical                        3   \n1097                21          2  Technical Degree                        3   \n1130                28          3     Life Sciences                        2   \n1182                 1          4           Medical                        4   \n1265                 4          3  Technical Degree                        4   \n1303                 4          3     Life Sciences                        3   \n1305                 7          4           Medical                        4   \n1348                 1          4     Life Sciences                        1   \n1409                11          3  Technical Degree                        4   \n1458                 1          4     Life Sciences                        3   \n1459                13          2             Other                        4   \n\n     Gender  JobLevel MaritalStatus  MonthlyRate  NumCompaniesWorked OverTime   \n30      NaN         1        Single       6670.0                   4       No  \\\n110     NaN         3        Single      25796.0                   3       No   \n167     NaN         3       Married       8053.0                   2       No   \n233     NaN         5      Divorced          NaN                   3       No   \n282     NaN         2        Single      20260.0                   1       No   \n335     NaN         2       Married      13273.0                   2      Yes   \n365     NaN         2       Married      16044.0                   2       No   \n369     NaN         1        Single       7551.0                   0      Yes   \n442     NaN         3        Single      15318.0                   1       No   \n456     NaN         3      Divorced      25291.0                   9       No   \n552     NaN         4       Married      20420.0                   7       No   \n650     NaN         2       Married      21782.0                   4       No   \n712     NaN         1        Single      17241.0                   3       No   \n713     NaN         1      Divorced      11005.0                   3       No   \n763     NaN         1       Married      18410.0                   1      Yes   \n803     NaN         1       Married      22478.0                   3       No   \n825     NaN         2       Married      17689.0                   1      Yes   \n904     NaN         5        Single       8733.0                   6       No   \n961     NaN         2        Single       2690.0                   1      Yes   \n1010    NaN         4      Divorced      12414.0                   2       No   \n1096    NaN         4        Single      17381.0                   1      Yes   \n1097    NaN         1      Divorced      10036.0                   0       No   \n1130    NaN         2       Married      25348.0                   1       No   \n1182    NaN         2       Married      15411.0                   0       No   \n1265    NaN         2      Divorced       6194.0                   5       No   \n1303    NaN         3      Divorced      19271.0                   8      Yes   \n1305    NaN         2       Married      15696.0                   4       No   \n1348    NaN         4      Divorced      18991.0                   2       No   \n1409    NaN         2       Married      26849.0                   1       No   \n1458    NaN         1       Married          NaN                   1       No   \n1459    NaN         2       Married      23679.0                   4      Yes   \n\n      PerformanceRating  WorkLifeBalance  YearsAtCompany  \n30                    3                3               1  \n110                   4                2              13  \n167                   3                3              10  \n233                   3                2               7  \n282                   3                2              10  \n335                   4                2               4  \n365                   3                4               1  \n369                   3                3               2  \n442                   3                2              10  \n456                   4                2               5  \n552                   3                2              10  \n650                   3                2               5  \n712                   3                3               3  \n713                   3                3               5  \n763                   3                3               1  \n803                   3                3               0  \n825                   3                2              10  \n904                   3                4               1  \n961                   3                3               9  \n1010                  3                4               7  \n1096                  4                3              21  \n1097                  3                3               1  \n1130                  3                2              10  \n1182                  3                3               3  \n1265                  3                2               9  \n1303                  3                3              22  \n1305                  3                2               7  \n1348                  3                3              19  \n1409                  3                4              10  \n1458                  3                3               4  \n1459                  3                3               4  ",
      "text/html": "<div>\n<style scoped>\n    .dataframe tbody tr th:only-of-type {\n        vertical-align: middle;\n    }\n\n    .dataframe tbody tr th {\n        vertical-align: top;\n    }\n\n    .dataframe thead th {\n        text-align: right;\n    }\n</style>\n<table border=\"1\" class=\"dataframe\">\n  <thead>\n    <tr style=\"text-align: right;\">\n      <th></th>\n      <th>Age</th>\n      <th>Attrition</th>\n      <th>BusinessTravel</th>\n      <th>DailyRate</th>\n      <th>Department</th>\n      <th>DistanceFromHome</th>\n      <th>Education</th>\n      <th>EducationField</th>\n      <th>EnvironmentSatisfaction</th>\n      <th>Gender</th>\n      <th>JobLevel</th>\n      <th>MaritalStatus</th>\n      <th>MonthlyRate</th>\n      <th>NumCompaniesWorked</th>\n      <th>OverTime</th>\n      <th>PerformanceRating</th>\n      <th>WorkLifeBalance</th>\n      <th>YearsAtCompany</th>\n    </tr>\n  </thead>\n  <tbody>\n    <tr>\n      <th>30</th>\n      <td>33</td>\n      <td>No</td>\n      <td>Travel_Rarely</td>\n      <td>924</td>\n      <td>Research &amp; Development</td>\n      <td>2</td>\n      <td>3</td>\n      <td>Medical</td>\n      <td>3</td>\n      <td>NaN</td>\n      <td>1</td>\n      <td>Single</td>\n      <td>6670.0</td>\n      <td>4</td>\n      <td>No</td>\n      <td>3</td>\n      <td>3</td>\n      <td>1</td>\n    </tr>\n    <tr>\n      <th>110</th>\n      <td>51</td>\n      <td>No</td>\n      <td>Travel_Frequently</td>\n      <td>1456</td>\n      <td>Research &amp; Development</td>\n      <td>1</td>\n      <td>4</td>\n      <td>Medical</td>\n      <td>1</td>\n      <td>NaN</td>\n      <td>3</td>\n      <td>Single</td>\n      <td>25796.0</td>\n      <td>3</td>\n      <td>No</td>\n      <td>4</td>\n      <td>2</td>\n      <td>13</td>\n    </tr>\n    <tr>\n      <th>167</th>\n      <td>30</td>\n      <td>No</td>\n      <td>Travel_Rarely</td>\n      <td>1339</td>\n      <td>Sales</td>\n      <td>5</td>\n      <td>3</td>\n      <td>Life Sciences</td>\n      <td>2</td>\n      <td>NaN</td>\n      <td>3</td>\n      <td>Married</td>\n      <td>8053.0</td>\n      <td>2</td>\n      <td>No</td>\n      <td>3</td>\n      <td>3</td>\n      <td>10</td>\n    </tr>\n    <tr>\n      <th>233</th>\n      <td>50</td>\n      <td>No</td>\n      <td>Travel_Rarely</td>\n      <td>854</td>\n      <td>Sales</td>\n      <td>1</td>\n      <td>4</td>\n      <td>Medical</td>\n      <td>4</td>\n      <td>NaN</td>\n      <td>5</td>\n      <td>Divorced</td>\n      <td>NaN</td>\n      <td>3</td>\n      <td>No</td>\n      <td>3</td>\n      <td>2</td>\n      <td>7</td>\n    </tr>\n    <tr>\n      <th>282</th>\n      <td>29</td>\n      <td>No</td>\n      <td>Travel_Frequently</td>\n      <td>442</td>\n      <td>Sales</td>\n      <td>2</td>\n      <td>2</td>\n      <td>Life Sciences</td>\n      <td>2</td>\n      <td>NaN</td>\n      <td>2</td>\n      <td>Single</td>\n      <td>20260.0</td>\n      <td>1</td>\n      <td>No</td>\n      <td>3</td>\n      <td>2</td>\n      <td>10</td>\n    </tr>\n    <tr>\n      <th>335</th>\n      <td>40</td>\n      <td>No</td>\n      <td>Travel_Rarely</td>\n      <td>1124</td>\n      <td>Sales</td>\n      <td>1</td>\n      <td>2</td>\n      <td>Medical</td>\n      <td>2</td>\n      <td>NaN</td>\n      <td>2</td>\n      <td>Married</td>\n      <td>13273.0</td>\n      <td>2</td>\n      <td>Yes</td>\n      <td>4</td>\n      <td>2</td>\n      <td>4</td>\n    </tr>\n    <tr>\n      <th>365</th>\n      <td>46</td>\n      <td>No</td>\n      <td>Non-Travel</td>\n      <td>1144</td>\n      <td>Research &amp; Development</td>\n      <td>7</td>\n      <td>4</td>\n      <td>Medical</td>\n      <td>3</td>\n      <td>NaN</td>\n      <td>2</td>\n      <td>Married</td>\n      <td>16044.0</td>\n      <td>2</td>\n      <td>No</td>\n      <td>3</td>\n      <td>4</td>\n      <td>1</td>\n    </tr>\n    <tr>\n      <th>369</th>\n      <td>31</td>\n      <td>No</td>\n      <td>Travel_Rarely</td>\n      <td>408</td>\n      <td>Research &amp; Development</td>\n      <td>9</td>\n      <td>4</td>\n      <td>Life Sciences</td>\n      <td>3</td>\n      <td>NaN</td>\n      <td>1</td>\n      <td>Single</td>\n      <td>7551.0</td>\n      <td>0</td>\n      <td>Yes</td>\n      <td>3</td>\n      <td>3</td>\n      <td>2</td>\n    </tr>\n    <tr>\n      <th>442</th>\n      <td>36</td>\n      <td>No</td>\n      <td>Non-Travel</td>\n      <td>635</td>\n      <td>Sales</td>\n      <td>10</td>\n      <td>4</td>\n      <td>Medical</td>\n      <td>2</td>\n      <td>NaN</td>\n      <td>3</td>\n      <td>Single</td>\n      <td>15318.0</td>\n      <td>1</td>\n      <td>No</td>\n      <td>3</td>\n      <td>2</td>\n      <td>10</td>\n    </tr>\n    <tr>\n      <th>456</th>\n      <td>31</td>\n      <td>No</td>\n      <td>Travel_Rarely</td>\n      <td>688</td>\n      <td>Sales</td>\n      <td>7</td>\n      <td>3</td>\n      <td>Life Sciences</td>\n      <td>3</td>\n      <td>NaN</td>\n      <td>3</td>\n      <td>Divorced</td>\n      <td>25291.0</td>\n      <td>9</td>\n      <td>No</td>\n      <td>4</td>\n      <td>2</td>\n      <td>5</td>\n    </tr>\n    <tr>\n      <th>552</th>\n      <td>56</td>\n      <td>No</td>\n      <td>Travel_Rarely</td>\n      <td>832</td>\n      <td>Research &amp; Development</td>\n      <td>9</td>\n      <td>3</td>\n      <td>Medical</td>\n      <td>3</td>\n      <td>NaN</td>\n      <td>4</td>\n      <td>Married</td>\n      <td>20420.0</td>\n      <td>7</td>\n      <td>No</td>\n      <td>3</td>\n      <td>2</td>\n      <td>10</td>\n    </tr>\n    <tr>\n      <th>650</th>\n      <td>43</td>\n      <td>No</td>\n      <td>Travel_Frequently</td>\n      <td>422</td>\n      <td>Research &amp; Development</td>\n      <td>1</td>\n      <td>3</td>\n      <td>Life Sciences</td>\n      <td>4</td>\n      <td>NaN</td>\n      <td>2</td>\n      <td>Married</td>\n      <td>21782.0</td>\n      <td>4</td>\n      <td>No</td>\n      <td>3</td>\n      <td>2</td>\n      <td>5</td>\n    </tr>\n    <tr>\n      <th>712</th>\n      <td>33</td>\n      <td>No</td>\n      <td>Travel_Rarely</td>\n      <td>461</td>\n      <td>Research &amp; Development</td>\n      <td>13</td>\n      <td>1</td>\n      <td>Life Sciences</td>\n      <td>2</td>\n      <td>NaN</td>\n      <td>1</td>\n      <td>Single</td>\n      <td>17241.0</td>\n      <td>3</td>\n      <td>No</td>\n      <td>3</td>\n      <td>3</td>\n      <td>3</td>\n    </tr>\n    <tr>\n      <th>713</th>\n      <td>45</td>\n      <td>No</td>\n      <td>Travel_Rarely</td>\n      <td>974</td>\n      <td>Research &amp; Development</td>\n      <td>1</td>\n      <td>4</td>\n      <td>Medical</td>\n      <td>4</td>\n      <td>NaN</td>\n      <td>1</td>\n      <td>Divorced</td>\n      <td>11005.0</td>\n      <td>3</td>\n      <td>No</td>\n      <td>3</td>\n      <td>3</td>\n      <td>5</td>\n    </tr>\n    <tr>\n      <th>763</th>\n      <td>34</td>\n      <td>No</td>\n      <td>Travel_Rarely</td>\n      <td>1333</td>\n      <td>Sales</td>\n      <td>10</td>\n      <td>4</td>\n      <td>Life Sciences</td>\n      <td>3</td>\n      <td>NaN</td>\n      <td>1</td>\n      <td>Married</td>\n      <td>18410.0</td>\n      <td>1</td>\n      <td>Yes</td>\n      <td>3</td>\n      <td>3</td>\n      <td>1</td>\n    </tr>\n    <tr>\n      <th>803</th>\n      <td>34</td>\n      <td>No</td>\n      <td>Non-Travel</td>\n      <td>697</td>\n      <td>Research &amp; Development</td>\n      <td>3</td>\n      <td>4</td>\n      <td>Life Sciences</td>\n      <td>3</td>\n      <td>NaN</td>\n      <td>1</td>\n      <td>Married</td>\n      <td>22478.0</td>\n      <td>3</td>\n      <td>No</td>\n      <td>3</td>\n      <td>3</td>\n      <td>0</td>\n    </tr>\n    <tr>\n      <th>825</th>\n      <td>29</td>\n      <td>No</td>\n      <td>Travel_Rarely</td>\n      <td>718</td>\n      <td>Research &amp; Development</td>\n      <td>8</td>\n      <td>1</td>\n      <td>Medical</td>\n      <td>2</td>\n      <td>NaN</td>\n      <td>2</td>\n      <td>Married</td>\n      <td>17689.0</td>\n      <td>1</td>\n      <td>Yes</td>\n      <td>3</td>\n      <td>2</td>\n      <td>10</td>\n    </tr>\n    <tr>\n      <th>904</th>\n      <td>48</td>\n      <td>No</td>\n      <td>Travel_Rarely</td>\n      <td>715</td>\n      <td>Research &amp; Development</td>\n      <td>1</td>\n      <td>3</td>\n      <td>Life Sciences</td>\n      <td>4</td>\n      <td>NaN</td>\n      <td>5</td>\n      <td>Single</td>\n      <td>8733.0</td>\n      <td>6</td>\n      <td>No</td>\n      <td>3</td>\n      <td>4</td>\n      <td>1</td>\n    </tr>\n    <tr>\n      <th>961</th>\n      <td>35</td>\n      <td>No</td>\n      <td>Travel_Frequently</td>\n      <td>482</td>\n      <td>Research &amp; Development</td>\n      <td>4</td>\n      <td>4</td>\n      <td>Life Sciences</td>\n      <td>3</td>\n      <td>NaN</td>\n      <td>2</td>\n      <td>Single</td>\n      <td>2690.0</td>\n      <td>1</td>\n      <td>Yes</td>\n      <td>3</td>\n      <td>3</td>\n      <td>9</td>\n    </tr>\n    <tr>\n      <th>1010</th>\n      <td>55</td>\n      <td>No</td>\n      <td>Travel_Rarely</td>\n      <td>1136</td>\n      <td>Research &amp; Development</td>\n      <td>1</td>\n      <td>4</td>\n      <td>Medical</td>\n      <td>2</td>\n      <td>NaN</td>\n      <td>4</td>\n      <td>Divorced</td>\n      <td>12414.0</td>\n      <td>2</td>\n      <td>No</td>\n      <td>3</td>\n      <td>4</td>\n      <td>7</td>\n    </tr>\n    <tr>\n      <th>1096</th>\n      <td>40</td>\n      <td>No</td>\n      <td>Travel_Rarely</td>\n      <td>898</td>\n      <td>Human Resources</td>\n      <td>6</td>\n      <td>2</td>\n      <td>Medical</td>\n      <td>3</td>\n      <td>NaN</td>\n      <td>4</td>\n      <td>Single</td>\n      <td>17381.0</td>\n      <td>1</td>\n      <td>Yes</td>\n      <td>4</td>\n      <td>3</td>\n      <td>21</td>\n    </tr>\n    <tr>\n      <th>1097</th>\n      <td>24</td>\n      <td>No</td>\n      <td>Travel_Rarely</td>\n      <td>350</td>\n      <td>Research &amp; Development</td>\n      <td>21</td>\n      <td>2</td>\n      <td>Technical Degree</td>\n      <td>3</td>\n      <td>NaN</td>\n      <td>1</td>\n      <td>Divorced</td>\n      <td>10036.0</td>\n      <td>0</td>\n      <td>No</td>\n      <td>3</td>\n      <td>3</td>\n      <td>1</td>\n    </tr>\n    <tr>\n      <th>1130</th>\n      <td>35</td>\n      <td>No</td>\n      <td>Travel_Rarely</td>\n      <td>750</td>\n      <td>Research &amp; Development</td>\n      <td>28</td>\n      <td>3</td>\n      <td>Life Sciences</td>\n      <td>2</td>\n      <td>NaN</td>\n      <td>2</td>\n      <td>Married</td>\n      <td>25348.0</td>\n      <td>1</td>\n      <td>No</td>\n      <td>3</td>\n      <td>2</td>\n      <td>10</td>\n    </tr>\n    <tr>\n      <th>1182</th>\n      <td>36</td>\n      <td>No</td>\n      <td>Non-Travel</td>\n      <td>894</td>\n      <td>Research &amp; Development</td>\n      <td>1</td>\n      <td>4</td>\n      <td>Medical</td>\n      <td>4</td>\n      <td>NaN</td>\n      <td>2</td>\n      <td>Married</td>\n      <td>15411.0</td>\n      <td>0</td>\n      <td>No</td>\n      <td>3</td>\n      <td>3</td>\n      <td>3</td>\n    </tr>\n    <tr>\n      <th>1265</th>\n      <td>33</td>\n      <td>No</td>\n      <td>Non-Travel</td>\n      <td>775</td>\n      <td>Research &amp; Development</td>\n      <td>4</td>\n      <td>3</td>\n      <td>Technical Degree</td>\n      <td>4</td>\n      <td>NaN</td>\n      <td>2</td>\n      <td>Divorced</td>\n      <td>6194.0</td>\n      <td>5</td>\n      <td>No</td>\n      <td>3</td>\n      <td>2</td>\n      <td>9</td>\n    </tr>\n    <tr>\n      <th>1303</th>\n      <td>47</td>\n      <td>No</td>\n      <td>Travel_Rarely</td>\n      <td>1001</td>\n      <td>Research &amp; Development</td>\n      <td>4</td>\n      <td>3</td>\n      <td>Life Sciences</td>\n      <td>3</td>\n      <td>NaN</td>\n      <td>3</td>\n      <td>Divorced</td>\n      <td>19271.0</td>\n      <td>8</td>\n      <td>Yes</td>\n      <td>3</td>\n      <td>3</td>\n      <td>22</td>\n    </tr>\n    <tr>\n      <th>1305</th>\n      <td>54</td>\n      <td>No</td>\n      <td>Travel_Rarely</td>\n      <td>431</td>\n      <td>Research &amp; Development</td>\n      <td>7</td>\n      <td>4</td>\n      <td>Medical</td>\n      <td>4</td>\n      <td>NaN</td>\n      <td>2</td>\n      <td>Married</td>\n      <td>15696.0</td>\n      <td>4</td>\n      <td>No</td>\n      <td>3</td>\n      <td>2</td>\n      <td>7</td>\n    </tr>\n    <tr>\n      <th>1348</th>\n      <td>40</td>\n      <td>No</td>\n      <td>Travel_Rarely</td>\n      <td>1137</td>\n      <td>Research &amp; Development</td>\n      <td>1</td>\n      <td>4</td>\n      <td>Life Sciences</td>\n      <td>1</td>\n      <td>NaN</td>\n      <td>4</td>\n      <td>Divorced</td>\n      <td>18991.0</td>\n      <td>2</td>\n      <td>No</td>\n      <td>3</td>\n      <td>3</td>\n      <td>19</td>\n    </tr>\n    <tr>\n      <th>1409</th>\n      <td>40</td>\n      <td>No</td>\n      <td>Travel_Frequently</td>\n      <td>692</td>\n      <td>Research &amp; Development</td>\n      <td>11</td>\n      <td>3</td>\n      <td>Technical Degree</td>\n      <td>4</td>\n      <td>NaN</td>\n      <td>2</td>\n      <td>Married</td>\n      <td>26849.0</td>\n      <td>1</td>\n      <td>No</td>\n      <td>3</td>\n      <td>4</td>\n      <td>10</td>\n    </tr>\n    <tr>\n      <th>1458</th>\n      <td>35</td>\n      <td>No</td>\n      <td>Travel_Rarely</td>\n      <td>287</td>\n      <td>Research &amp; Development</td>\n      <td>1</td>\n      <td>4</td>\n      <td>Life Sciences</td>\n      <td>3</td>\n      <td>NaN</td>\n      <td>1</td>\n      <td>Married</td>\n      <td>NaN</td>\n      <td>1</td>\n      <td>No</td>\n      <td>3</td>\n      <td>3</td>\n      <td>4</td>\n    </tr>\n    <tr>\n      <th>1459</th>\n      <td>29</td>\n      <td>No</td>\n      <td>Travel_Rarely</td>\n      <td>1378</td>\n      <td>Research &amp; Development</td>\n      <td>13</td>\n      <td>2</td>\n      <td>Other</td>\n      <td>4</td>\n      <td>NaN</td>\n      <td>2</td>\n      <td>Married</td>\n      <td>23679.0</td>\n      <td>4</td>\n      <td>Yes</td>\n      <td>3</td>\n      <td>3</td>\n      <td>4</td>\n    </tr>\n  </tbody>\n</table>\n</div>"
     },
     "execution_count": 183,
     "metadata": {},
     "output_type": "execute_result"
    }
   ],
   "source": [
    "employee_data.loc[employee_data['Gender'].isnull()]"
   ],
   "metadata": {
    "collapsed": false,
    "ExecuteTime": {
     "start_time": "2023-10-17T22:37:37.868601Z",
     "end_time": "2023-10-17T22:37:37.930971Z"
    }
   }
  },
  {
   "cell_type": "code",
   "execution_count": 184,
   "outputs": [
    {
     "ename": "ValueError",
     "evalue": "Must have equal len keys and value when setting with an iterable",
     "output_type": "error",
     "traceback": [
      "\u001B[1;31m---------------------------------------------------------------------------\u001B[0m",
      "\u001B[1;31mValueError\u001B[0m                                Traceback (most recent call last)",
      "Cell \u001B[1;32mIn[184], line 5\u001B[0m\n\u001B[0;32m      1\u001B[0m \u001B[38;5;66;03m# employee_data.loc[employee_data['Gender'].isnull()]['Gender'].interpolate(method='nearest')\u001B[39;00m\n\u001B[0;32m      2\u001B[0m \u001B[38;5;66;03m# employee_data.loc[employee_data['Gender'].isnull()]['Gender']\u001B[39;00m\n\u001B[1;32m----> 5\u001B[0m \u001B[43memployee_data\u001B[49m\u001B[43m[\u001B[49m\u001B[43memployee_data\u001B[49m\u001B[43m[\u001B[49m\u001B[38;5;124;43m'\u001B[39;49m\u001B[38;5;124;43mGender\u001B[39;49m\u001B[38;5;124;43m'\u001B[39;49m\u001B[43m]\u001B[49m\u001B[38;5;241;43m.\u001B[39;49m\u001B[43misnull\u001B[49m\u001B[43m(\u001B[49m\u001B[43m)\u001B[49m\u001B[43m]\u001B[49m \u001B[38;5;241m=\u001B[39m employee_data[employee_data[\u001B[38;5;124m'\u001B[39m\u001B[38;5;124mGender\u001B[39m\u001B[38;5;124m'\u001B[39m]\u001B[38;5;241m.\u001B[39misnull()][\u001B[38;5;124m'\u001B[39m\u001B[38;5;124mGender\u001B[39m\u001B[38;5;124m'\u001B[39m]\u001B[38;5;241m.\u001B[39minterpolate(method\u001B[38;5;241m=\u001B[39m\u001B[38;5;124m'\u001B[39m\u001B[38;5;124mnearest\u001B[39m\u001B[38;5;124m'\u001B[39m)\n\u001B[0;32m      6\u001B[0m \u001B[38;5;66;03m# employee_data.loc[employee_data['Gender'].isnull()]\u001B[39;00m\n\u001B[0;32m      7\u001B[0m \n\u001B[0;32m      8\u001B[0m \u001B[38;5;66;03m# len(employee_data[employee_data['Gender'].isnull()]['Gender'].interpolate(method='nearest'))\u001B[39;00m\n\u001B[0;32m      9\u001B[0m \u001B[38;5;66;03m# employee_data.loc[employee_data['Gender'].isnull()]['Gender']\u001B[39;00m\n\u001B[0;32m     10\u001B[0m \u001B[38;5;28mlen\u001B[39m(employee_data[employee_data[\u001B[38;5;124m'\u001B[39m\u001B[38;5;124mGender\u001B[39m\u001B[38;5;124m'\u001B[39m]\u001B[38;5;241m.\u001B[39misnull()])\n",
      "File \u001B[1;32m~\\AppData\\Local\\Programs\\Python\\Python311\\Lib\\site-packages\\pandas\\core\\frame.py:3947\u001B[0m, in \u001B[0;36mDataFrame.__setitem__\u001B[1;34m(self, key, value)\u001B[0m\n\u001B[0;32m   3945\u001B[0m     \u001B[38;5;28mself\u001B[39m\u001B[38;5;241m.\u001B[39m_setitem_frame(key, value)\n\u001B[0;32m   3946\u001B[0m \u001B[38;5;28;01melif\u001B[39;00m \u001B[38;5;28misinstance\u001B[39m(key, (Series, np\u001B[38;5;241m.\u001B[39mndarray, \u001B[38;5;28mlist\u001B[39m, Index)):\n\u001B[1;32m-> 3947\u001B[0m     \u001B[38;5;28;43mself\u001B[39;49m\u001B[38;5;241;43m.\u001B[39;49m\u001B[43m_setitem_array\u001B[49m\u001B[43m(\u001B[49m\u001B[43mkey\u001B[49m\u001B[43m,\u001B[49m\u001B[43m \u001B[49m\u001B[43mvalue\u001B[49m\u001B[43m)\u001B[49m\n\u001B[0;32m   3948\u001B[0m \u001B[38;5;28;01melif\u001B[39;00m \u001B[38;5;28misinstance\u001B[39m(value, DataFrame):\n\u001B[0;32m   3949\u001B[0m     \u001B[38;5;28mself\u001B[39m\u001B[38;5;241m.\u001B[39m_set_item_frame_value(key, value)\n",
      "File \u001B[1;32m~\\AppData\\Local\\Programs\\Python\\Python311\\Lib\\site-packages\\pandas\\core\\frame.py:3982\u001B[0m, in \u001B[0;36mDataFrame._setitem_array\u001B[1;34m(self, key, value)\u001B[0m\n\u001B[0;32m   3979\u001B[0m     \u001B[38;5;28;01mif\u001B[39;00m \u001B[38;5;28misinstance\u001B[39m(value, DataFrame):\n\u001B[0;32m   3980\u001B[0m         \u001B[38;5;66;03m# GH#39931 reindex since iloc does not align\u001B[39;00m\n\u001B[0;32m   3981\u001B[0m         value \u001B[38;5;241m=\u001B[39m value\u001B[38;5;241m.\u001B[39mreindex(\u001B[38;5;28mself\u001B[39m\u001B[38;5;241m.\u001B[39mindex\u001B[38;5;241m.\u001B[39mtake(indexer))\n\u001B[1;32m-> 3982\u001B[0m     \u001B[38;5;28;43mself\u001B[39;49m\u001B[38;5;241;43m.\u001B[39;49m\u001B[43miloc\u001B[49m\u001B[43m[\u001B[49m\u001B[43mindexer\u001B[49m\u001B[43m]\u001B[49m \u001B[38;5;241m=\u001B[39m value\n\u001B[0;32m   3984\u001B[0m \u001B[38;5;28;01melse\u001B[39;00m:\n\u001B[0;32m   3985\u001B[0m     \u001B[38;5;66;03m# Note: unlike self.iloc[:, indexer] = value, this will\u001B[39;00m\n\u001B[0;32m   3986\u001B[0m     \u001B[38;5;66;03m#  never try to overwrite values inplace\u001B[39;00m\n\u001B[0;32m   3988\u001B[0m     \u001B[38;5;28;01mif\u001B[39;00m \u001B[38;5;28misinstance\u001B[39m(value, DataFrame):\n",
      "File \u001B[1;32m~\\AppData\\Local\\Programs\\Python\\Python311\\Lib\\site-packages\\pandas\\core\\indexing.py:849\u001B[0m, in \u001B[0;36m_LocationIndexer.__setitem__\u001B[1;34m(self, key, value)\u001B[0m\n\u001B[0;32m    846\u001B[0m \u001B[38;5;28mself\u001B[39m\u001B[38;5;241m.\u001B[39m_has_valid_setitem_indexer(key)\n\u001B[0;32m    848\u001B[0m iloc \u001B[38;5;241m=\u001B[39m \u001B[38;5;28mself\u001B[39m \u001B[38;5;28;01mif\u001B[39;00m \u001B[38;5;28mself\u001B[39m\u001B[38;5;241m.\u001B[39mname \u001B[38;5;241m==\u001B[39m \u001B[38;5;124m\"\u001B[39m\u001B[38;5;124miloc\u001B[39m\u001B[38;5;124m\"\u001B[39m \u001B[38;5;28;01melse\u001B[39;00m \u001B[38;5;28mself\u001B[39m\u001B[38;5;241m.\u001B[39mobj\u001B[38;5;241m.\u001B[39miloc\n\u001B[1;32m--> 849\u001B[0m \u001B[43miloc\u001B[49m\u001B[38;5;241;43m.\u001B[39;49m\u001B[43m_setitem_with_indexer\u001B[49m\u001B[43m(\u001B[49m\u001B[43mindexer\u001B[49m\u001B[43m,\u001B[49m\u001B[43m \u001B[49m\u001B[43mvalue\u001B[49m\u001B[43m,\u001B[49m\u001B[43m \u001B[49m\u001B[38;5;28;43mself\u001B[39;49m\u001B[38;5;241;43m.\u001B[39;49m\u001B[43mname\u001B[49m\u001B[43m)\u001B[49m\n",
      "File \u001B[1;32m~\\AppData\\Local\\Programs\\Python\\Python311\\Lib\\site-packages\\pandas\\core\\indexing.py:1828\u001B[0m, in \u001B[0;36m_iLocIndexer._setitem_with_indexer\u001B[1;34m(self, indexer, value, name)\u001B[0m\n\u001B[0;32m   1825\u001B[0m \u001B[38;5;66;03m# align and set the values\u001B[39;00m\n\u001B[0;32m   1826\u001B[0m \u001B[38;5;28;01mif\u001B[39;00m take_split_path:\n\u001B[0;32m   1827\u001B[0m     \u001B[38;5;66;03m# We have to operate column-wise\u001B[39;00m\n\u001B[1;32m-> 1828\u001B[0m     \u001B[38;5;28;43mself\u001B[39;49m\u001B[38;5;241;43m.\u001B[39;49m\u001B[43m_setitem_with_indexer_split_path\u001B[49m\u001B[43m(\u001B[49m\u001B[43mindexer\u001B[49m\u001B[43m,\u001B[49m\u001B[43m \u001B[49m\u001B[43mvalue\u001B[49m\u001B[43m,\u001B[49m\u001B[43m \u001B[49m\u001B[43mname\u001B[49m\u001B[43m)\u001B[49m\n\u001B[0;32m   1829\u001B[0m \u001B[38;5;28;01melse\u001B[39;00m:\n\u001B[0;32m   1830\u001B[0m     \u001B[38;5;28mself\u001B[39m\u001B[38;5;241m.\u001B[39m_setitem_single_block(indexer, value, name)\n",
      "File \u001B[1;32m~\\AppData\\Local\\Programs\\Python\\Python311\\Lib\\site-packages\\pandas\\core\\indexing.py:1913\u001B[0m, in \u001B[0;36m_iLocIndexer._setitem_with_indexer_split_path\u001B[1;34m(self, indexer, value, name)\u001B[0m\n\u001B[0;32m   1910\u001B[0m         \u001B[38;5;28mself\u001B[39m\u001B[38;5;241m.\u001B[39m_setitem_single_column(ilocs[\u001B[38;5;241m0\u001B[39m], value, pi)\n\u001B[0;32m   1912\u001B[0m     \u001B[38;5;28;01melse\u001B[39;00m:\n\u001B[1;32m-> 1913\u001B[0m         \u001B[38;5;28;01mraise\u001B[39;00m \u001B[38;5;167;01mValueError\u001B[39;00m(\n\u001B[0;32m   1914\u001B[0m             \u001B[38;5;124m\"\u001B[39m\u001B[38;5;124mMust have equal len keys and value \u001B[39m\u001B[38;5;124m\"\u001B[39m\n\u001B[0;32m   1915\u001B[0m             \u001B[38;5;124m\"\u001B[39m\u001B[38;5;124mwhen setting with an iterable\u001B[39m\u001B[38;5;124m\"\u001B[39m\n\u001B[0;32m   1916\u001B[0m         )\n\u001B[0;32m   1918\u001B[0m \u001B[38;5;28;01melse\u001B[39;00m:\n\u001B[0;32m   1919\u001B[0m     \u001B[38;5;66;03m# scalar value\u001B[39;00m\n\u001B[0;32m   1920\u001B[0m     \u001B[38;5;28;01mfor\u001B[39;00m loc \u001B[38;5;129;01min\u001B[39;00m ilocs:\n",
      "\u001B[1;31mValueError\u001B[0m: Must have equal len keys and value when setting with an iterable"
     ]
    }
   ],
   "source": [
    "# employee_data.loc[employee_data['Gender'].isnull()]['Gender'].interpolate(method='nearest')\n",
    "# employee_data.loc[employee_data['Gender'].isnull()]['Gender']\n",
    "\n",
    "\n",
    "employee_data[employee_data['Gender'].isnull()] = employee_data[employee_data['Gender'].isnull()]['Gender'].interpolate(method='nearest')\n",
    "# employee_data.loc[employee_data['Gender'].isnull()]\n",
    "\n",
    "# len(employee_data[employee_data['Gender'].isnull()]['Gender'].interpolate(method='nearest'))\n",
    "# employee_data.loc[employee_data['Gender'].isnull()]['Gender']\n",
    "len(employee_data[employee_data['Gender'].isnull()])"
   ],
   "metadata": {
    "collapsed": false,
    "ExecuteTime": {
     "start_time": "2023-10-17T22:37:02.010871Z",
     "end_time": "2023-10-17T22:37:02.033959Z"
    }
   }
  },
  {
   "cell_type": "code",
   "execution_count": null,
   "outputs": [],
   "source": [
    "employee_data.loc[employee_data['MonthlyRate'].isnull()]"
   ],
   "metadata": {
    "collapsed": false,
    "ExecuteTime": {
     "start_time": "2023-10-17T22:34:33.981490Z",
     "end_time": "2023-10-17T22:34:34.040081Z"
    }
   }
  },
  {
   "cell_type": "code",
   "execution_count": null,
   "outputs": [],
   "source": [
    "employee_data.loc[ employee_data[\"MonthlyRate\"].isnull(), \"MonthlyRate\"] = employee_data['MonthlyRate'].mean()\n",
    "employee_data.loc[employee_data['MonthlyRate'].isnull()]"
   ],
   "metadata": {
    "collapsed": false,
    "ExecuteTime": {
     "start_time": "2023-10-17T22:34:33.994639Z",
     "end_time": "2023-10-17T22:34:34.040081Z"
    }
   }
  },
  {
   "cell_type": "code",
   "execution_count": null,
   "outputs": [],
   "source": [
    "print(employee_data.loc[[30]])"
   ],
   "metadata": {
    "collapsed": false,
    "ExecuteTime": {
     "start_time": "2023-10-17T22:34:34.005231Z",
     "end_time": "2023-10-17T22:34:34.041081Z"
    }
   }
  },
  {
   "cell_type": "markdown",
   "source": [
    "### OneRule Algorithm Implementation"
   ],
   "metadata": {
    "collapsed": false
   }
  },
  {
   "cell_type": "markdown",
   "source": [
    "### Dataset Overview"
   ],
   "metadata": {
    "collapsed": false
   }
  },
  {
   "cell_type": "markdown",
   "source": [
    "### Evaluation"
   ],
   "metadata": {
    "collapsed": false
   }
  },
  {
   "cell_type": "markdown",
   "source": [],
   "metadata": {
    "collapsed": false
   }
  },
  {
   "cell_type": "markdown",
   "source": [],
   "metadata": {
    "collapsed": false
   }
  }
 ],
 "metadata": {
  "kernelspec": {
   "display_name": "Python 3",
   "language": "python",
   "name": "python3"
  },
  "language_info": {
   "codemirror_mode": {
    "name": "ipython",
    "version": 2
   },
   "file_extension": ".py",
   "mimetype": "text/x-python",
   "name": "python",
   "nbconvert_exporter": "python",
   "pygments_lexer": "ipython2",
   "version": "2.7.6"
  }
 },
 "nbformat": 4,
 "nbformat_minor": 0
}
