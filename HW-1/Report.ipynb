{
 "cells": [
  {
   "cell_type": "markdown",
   "source": [
    "# Seyed Mohammad Amin Atyabi - 830402014"
   ],
   "metadata": {
    "collapsed": false
   }
  },
  {
   "cell_type": "markdown",
   "source": [
    "## 1"
   ],
   "metadata": {
    "collapsed": false
   }
  },
  {
   "cell_type": "markdown",
   "source": [
    "### Pre Process"
   ],
   "metadata": {
    "collapsed": false
   }
  },
  {
   "cell_type": "code",
   "execution_count": 68,
   "outputs": [
    {
     "data": {
      "text/plain": "      Age Attrition     BusinessTravel  DailyRate              Department   \n0      41       Yes      Travel_Rarely       1102                   Sales  \\\n1      49        No  Travel_Frequently        279  Research & Development   \n2      37       Yes      Travel_Rarely       1373  Research & Development   \n3      33        No  Travel_Frequently       1392  Research & Development   \n4      27        No      Travel_Rarely        591  Research & Development   \n...   ...       ...                ...        ...                     ...   \n1465   36        No  Travel_Frequently        884  Research & Development   \n1466   39        No      Travel_Rarely        613  Research & Development   \n1467   27        No      Travel_Rarely        155  Research & Development   \n1468   49        No  Travel_Frequently       1023                   Sales   \n1469   34        No      Travel_Rarely        628  Research & Development   \n\n      DistanceFromHome  Education EducationField  EnvironmentSatisfaction   \n0                    1          2  Life Sciences                        2  \\\n1                    8          1  Life Sciences                        3   \n2                    2          2          Other                        4   \n3                    3          4  Life Sciences                        4   \n4                    2          1        Medical                        1   \n...                ...        ...            ...                      ...   \n1465                23          2        Medical                        3   \n1466                 6          1        Medical                        4   \n1467                 4          3  Life Sciences                        2   \n1468                 2          3        Medical                        4   \n1469                 8          3        Medical                        2   \n\n      Gender  JobLevel MaritalStatus  MonthlyRate  NumCompaniesWorked   \n0     Female         2        Single      19479.0                   8  \\\n1       Male         2       Married      24907.0                   1   \n2       Male         1        Single       2396.0                   6   \n3     Female         1       Married      23159.0                   1   \n4       Male         1       Married      16632.0                   9   \n...      ...       ...           ...          ...                 ...   \n1465    Male         2       Married      12290.0                   4   \n1466    Male         3       Married      21457.0                   4   \n1467    Male         2       Married       5174.0                   1   \n1468    Male         2       Married      13243.0                   2   \n1469    Male         2       Married      10228.0                   2   \n\n     OverTime  PerformanceRating  WorkLifeBalance  YearsAtCompany  \n0         Yes                  3                1               6  \n1          No                  4                3              10  \n2         Yes                  3                3               0  \n3         Yes                  3                3               8  \n4          No                  3                3               2  \n...       ...                ...              ...             ...  \n1465       No                  3                3               5  \n1466       No                  3                3               7  \n1467      Yes                  4                3               6  \n1468       No                  3                2               9  \n1469       No                  3                4               4  \n\n[1470 rows x 18 columns]",
      "text/html": "<div>\n<style scoped>\n    .dataframe tbody tr th:only-of-type {\n        vertical-align: middle;\n    }\n\n    .dataframe tbody tr th {\n        vertical-align: top;\n    }\n\n    .dataframe thead th {\n        text-align: right;\n    }\n</style>\n<table border=\"1\" class=\"dataframe\">\n  <thead>\n    <tr style=\"text-align: right;\">\n      <th></th>\n      <th>Age</th>\n      <th>Attrition</th>\n      <th>BusinessTravel</th>\n      <th>DailyRate</th>\n      <th>Department</th>\n      <th>DistanceFromHome</th>\n      <th>Education</th>\n      <th>EducationField</th>\n      <th>EnvironmentSatisfaction</th>\n      <th>Gender</th>\n      <th>JobLevel</th>\n      <th>MaritalStatus</th>\n      <th>MonthlyRate</th>\n      <th>NumCompaniesWorked</th>\n      <th>OverTime</th>\n      <th>PerformanceRating</th>\n      <th>WorkLifeBalance</th>\n      <th>YearsAtCompany</th>\n    </tr>\n  </thead>\n  <tbody>\n    <tr>\n      <th>0</th>\n      <td>41</td>\n      <td>Yes</td>\n      <td>Travel_Rarely</td>\n      <td>1102</td>\n      <td>Sales</td>\n      <td>1</td>\n      <td>2</td>\n      <td>Life Sciences</td>\n      <td>2</td>\n      <td>Female</td>\n      <td>2</td>\n      <td>Single</td>\n      <td>19479.0</td>\n      <td>8</td>\n      <td>Yes</td>\n      <td>3</td>\n      <td>1</td>\n      <td>6</td>\n    </tr>\n    <tr>\n      <th>1</th>\n      <td>49</td>\n      <td>No</td>\n      <td>Travel_Frequently</td>\n      <td>279</td>\n      <td>Research &amp; Development</td>\n      <td>8</td>\n      <td>1</td>\n      <td>Life Sciences</td>\n      <td>3</td>\n      <td>Male</td>\n      <td>2</td>\n      <td>Married</td>\n      <td>24907.0</td>\n      <td>1</td>\n      <td>No</td>\n      <td>4</td>\n      <td>3</td>\n      <td>10</td>\n    </tr>\n    <tr>\n      <th>2</th>\n      <td>37</td>\n      <td>Yes</td>\n      <td>Travel_Rarely</td>\n      <td>1373</td>\n      <td>Research &amp; Development</td>\n      <td>2</td>\n      <td>2</td>\n      <td>Other</td>\n      <td>4</td>\n      <td>Male</td>\n      <td>1</td>\n      <td>Single</td>\n      <td>2396.0</td>\n      <td>6</td>\n      <td>Yes</td>\n      <td>3</td>\n      <td>3</td>\n      <td>0</td>\n    </tr>\n    <tr>\n      <th>3</th>\n      <td>33</td>\n      <td>No</td>\n      <td>Travel_Frequently</td>\n      <td>1392</td>\n      <td>Research &amp; Development</td>\n      <td>3</td>\n      <td>4</td>\n      <td>Life Sciences</td>\n      <td>4</td>\n      <td>Female</td>\n      <td>1</td>\n      <td>Married</td>\n      <td>23159.0</td>\n      <td>1</td>\n      <td>Yes</td>\n      <td>3</td>\n      <td>3</td>\n      <td>8</td>\n    </tr>\n    <tr>\n      <th>4</th>\n      <td>27</td>\n      <td>No</td>\n      <td>Travel_Rarely</td>\n      <td>591</td>\n      <td>Research &amp; Development</td>\n      <td>2</td>\n      <td>1</td>\n      <td>Medical</td>\n      <td>1</td>\n      <td>Male</td>\n      <td>1</td>\n      <td>Married</td>\n      <td>16632.0</td>\n      <td>9</td>\n      <td>No</td>\n      <td>3</td>\n      <td>3</td>\n      <td>2</td>\n    </tr>\n    <tr>\n      <th>...</th>\n      <td>...</td>\n      <td>...</td>\n      <td>...</td>\n      <td>...</td>\n      <td>...</td>\n      <td>...</td>\n      <td>...</td>\n      <td>...</td>\n      <td>...</td>\n      <td>...</td>\n      <td>...</td>\n      <td>...</td>\n      <td>...</td>\n      <td>...</td>\n      <td>...</td>\n      <td>...</td>\n      <td>...</td>\n      <td>...</td>\n    </tr>\n    <tr>\n      <th>1465</th>\n      <td>36</td>\n      <td>No</td>\n      <td>Travel_Frequently</td>\n      <td>884</td>\n      <td>Research &amp; Development</td>\n      <td>23</td>\n      <td>2</td>\n      <td>Medical</td>\n      <td>3</td>\n      <td>Male</td>\n      <td>2</td>\n      <td>Married</td>\n      <td>12290.0</td>\n      <td>4</td>\n      <td>No</td>\n      <td>3</td>\n      <td>3</td>\n      <td>5</td>\n    </tr>\n    <tr>\n      <th>1466</th>\n      <td>39</td>\n      <td>No</td>\n      <td>Travel_Rarely</td>\n      <td>613</td>\n      <td>Research &amp; Development</td>\n      <td>6</td>\n      <td>1</td>\n      <td>Medical</td>\n      <td>4</td>\n      <td>Male</td>\n      <td>3</td>\n      <td>Married</td>\n      <td>21457.0</td>\n      <td>4</td>\n      <td>No</td>\n      <td>3</td>\n      <td>3</td>\n      <td>7</td>\n    </tr>\n    <tr>\n      <th>1467</th>\n      <td>27</td>\n      <td>No</td>\n      <td>Travel_Rarely</td>\n      <td>155</td>\n      <td>Research &amp; Development</td>\n      <td>4</td>\n      <td>3</td>\n      <td>Life Sciences</td>\n      <td>2</td>\n      <td>Male</td>\n      <td>2</td>\n      <td>Married</td>\n      <td>5174.0</td>\n      <td>1</td>\n      <td>Yes</td>\n      <td>4</td>\n      <td>3</td>\n      <td>6</td>\n    </tr>\n    <tr>\n      <th>1468</th>\n      <td>49</td>\n      <td>No</td>\n      <td>Travel_Frequently</td>\n      <td>1023</td>\n      <td>Sales</td>\n      <td>2</td>\n      <td>3</td>\n      <td>Medical</td>\n      <td>4</td>\n      <td>Male</td>\n      <td>2</td>\n      <td>Married</td>\n      <td>13243.0</td>\n      <td>2</td>\n      <td>No</td>\n      <td>3</td>\n      <td>2</td>\n      <td>9</td>\n    </tr>\n    <tr>\n      <th>1469</th>\n      <td>34</td>\n      <td>No</td>\n      <td>Travel_Rarely</td>\n      <td>628</td>\n      <td>Research &amp; Development</td>\n      <td>8</td>\n      <td>3</td>\n      <td>Medical</td>\n      <td>2</td>\n      <td>Male</td>\n      <td>2</td>\n      <td>Married</td>\n      <td>10228.0</td>\n      <td>2</td>\n      <td>No</td>\n      <td>3</td>\n      <td>4</td>\n      <td>4</td>\n    </tr>\n  </tbody>\n</table>\n<p>1470 rows × 18 columns</p>\n</div>"
     },
     "execution_count": 68,
     "metadata": {},
     "output_type": "execute_result"
    }
   ],
   "source": [
    "import pandas\n",
    "\n",
    "employee_data = pandas.read_csv('data/HR-Employee-Attrition.csv')\n",
    "\n",
    "employee_data"
   ],
   "metadata": {
    "collapsed": false,
    "ExecuteTime": {
     "start_time": "2023-10-20T15:28:36.563956Z",
     "end_time": "2023-10-20T15:28:36.619134Z"
    }
   }
  },
  {
   "cell_type": "code",
   "execution_count": 69,
   "outputs": [
    {
     "data": {
      "text/plain": "<bound method DataFrame.info of       Age Attrition     BusinessTravel  DailyRate              Department   \n0      41       Yes      Travel_Rarely       1102                   Sales  \\\n1      49        No  Travel_Frequently        279  Research & Development   \n2      37       Yes      Travel_Rarely       1373  Research & Development   \n3      33        No  Travel_Frequently       1392  Research & Development   \n4      27        No      Travel_Rarely        591  Research & Development   \n...   ...       ...                ...        ...                     ...   \n1465   36        No  Travel_Frequently        884  Research & Development   \n1466   39        No      Travel_Rarely        613  Research & Development   \n1467   27        No      Travel_Rarely        155  Research & Development   \n1468   49        No  Travel_Frequently       1023                   Sales   \n1469   34        No      Travel_Rarely        628  Research & Development   \n\n      DistanceFromHome  Education EducationField  EnvironmentSatisfaction   \n0                    1          2  Life Sciences                        2  \\\n1                    8          1  Life Sciences                        3   \n2                    2          2          Other                        4   \n3                    3          4  Life Sciences                        4   \n4                    2          1        Medical                        1   \n...                ...        ...            ...                      ...   \n1465                23          2        Medical                        3   \n1466                 6          1        Medical                        4   \n1467                 4          3  Life Sciences                        2   \n1468                 2          3        Medical                        4   \n1469                 8          3        Medical                        2   \n\n      Gender  JobLevel MaritalStatus  MonthlyRate  NumCompaniesWorked   \n0     Female         2        Single      19479.0                   8  \\\n1       Male         2       Married      24907.0                   1   \n2       Male         1        Single       2396.0                   6   \n3     Female         1       Married      23159.0                   1   \n4       Male         1       Married      16632.0                   9   \n...      ...       ...           ...          ...                 ...   \n1465    Male         2       Married      12290.0                   4   \n1466    Male         3       Married      21457.0                   4   \n1467    Male         2       Married       5174.0                   1   \n1468    Male         2       Married      13243.0                   2   \n1469    Male         2       Married      10228.0                   2   \n\n     OverTime  PerformanceRating  WorkLifeBalance  YearsAtCompany  \n0         Yes                  3                1               6  \n1          No                  4                3              10  \n2         Yes                  3                3               0  \n3         Yes                  3                3               8  \n4          No                  3                3               2  \n...       ...                ...              ...             ...  \n1465       No                  3                3               5  \n1466       No                  3                3               7  \n1467      Yes                  4                3               6  \n1468       No                  3                2               9  \n1469       No                  3                4               4  \n\n[1470 rows x 18 columns]>"
     },
     "execution_count": 69,
     "metadata": {},
     "output_type": "execute_result"
    }
   ],
   "source": [
    "employee_data.info"
   ],
   "metadata": {
    "collapsed": false,
    "ExecuteTime": {
     "start_time": "2023-10-20T15:28:36.589456Z",
     "end_time": "2023-10-20T15:28:36.657514Z"
    }
   }
  },
  {
   "cell_type": "code",
   "execution_count": 70,
   "outputs": [
    {
     "data": {
      "text/plain": "               Age    DailyRate  DistanceFromHome    Education   \ncount  1470.000000  1470.000000       1470.000000  1470.000000  \\\nmean     36.923810   802.485714          9.192517     2.912925   \nstd       9.135373   403.509100          8.106864     1.024165   \nmin      18.000000   102.000000          1.000000     1.000000   \n25%      30.000000   465.000000          2.000000     2.000000   \n50%      36.000000   802.000000          7.000000     3.000000   \n75%      43.000000  1157.000000         14.000000     4.000000   \nmax      60.000000  1499.000000         29.000000     5.000000   \n\n       EnvironmentSatisfaction     JobLevel   MonthlyRate  NumCompaniesWorked   \ncount              1470.000000  1470.000000   1436.000000         1470.000000  \\\nmean                  2.721769     2.063946  14301.253482            2.693197   \nstd                   1.093082     1.106940   7141.338347            2.498009   \nmin                   1.000000     1.000000   2094.000000            0.000000   \n25%                   2.000000     1.000000   8015.250000            1.000000   \n50%                   3.000000     2.000000  14220.000000            2.000000   \n75%                   4.000000     3.000000  20475.500000            4.000000   \nmax                   4.000000     5.000000  26999.000000            9.000000   \n\n       PerformanceRating  WorkLifeBalance  YearsAtCompany  \ncount        1470.000000      1470.000000     1470.000000  \nmean            3.153741         2.761224        7.008163  \nstd             0.360824         0.706476        6.126525  \nmin             3.000000         1.000000        0.000000  \n25%             3.000000         2.000000        3.000000  \n50%             3.000000         3.000000        5.000000  \n75%             3.000000         3.000000        9.000000  \nmax             4.000000         4.000000       40.000000  ",
      "text/html": "<div>\n<style scoped>\n    .dataframe tbody tr th:only-of-type {\n        vertical-align: middle;\n    }\n\n    .dataframe tbody tr th {\n        vertical-align: top;\n    }\n\n    .dataframe thead th {\n        text-align: right;\n    }\n</style>\n<table border=\"1\" class=\"dataframe\">\n  <thead>\n    <tr style=\"text-align: right;\">\n      <th></th>\n      <th>Age</th>\n      <th>DailyRate</th>\n      <th>DistanceFromHome</th>\n      <th>Education</th>\n      <th>EnvironmentSatisfaction</th>\n      <th>JobLevel</th>\n      <th>MonthlyRate</th>\n      <th>NumCompaniesWorked</th>\n      <th>PerformanceRating</th>\n      <th>WorkLifeBalance</th>\n      <th>YearsAtCompany</th>\n    </tr>\n  </thead>\n  <tbody>\n    <tr>\n      <th>count</th>\n      <td>1470.000000</td>\n      <td>1470.000000</td>\n      <td>1470.000000</td>\n      <td>1470.000000</td>\n      <td>1470.000000</td>\n      <td>1470.000000</td>\n      <td>1436.000000</td>\n      <td>1470.000000</td>\n      <td>1470.000000</td>\n      <td>1470.000000</td>\n      <td>1470.000000</td>\n    </tr>\n    <tr>\n      <th>mean</th>\n      <td>36.923810</td>\n      <td>802.485714</td>\n      <td>9.192517</td>\n      <td>2.912925</td>\n      <td>2.721769</td>\n      <td>2.063946</td>\n      <td>14301.253482</td>\n      <td>2.693197</td>\n      <td>3.153741</td>\n      <td>2.761224</td>\n      <td>7.008163</td>\n    </tr>\n    <tr>\n      <th>std</th>\n      <td>9.135373</td>\n      <td>403.509100</td>\n      <td>8.106864</td>\n      <td>1.024165</td>\n      <td>1.093082</td>\n      <td>1.106940</td>\n      <td>7141.338347</td>\n      <td>2.498009</td>\n      <td>0.360824</td>\n      <td>0.706476</td>\n      <td>6.126525</td>\n    </tr>\n    <tr>\n      <th>min</th>\n      <td>18.000000</td>\n      <td>102.000000</td>\n      <td>1.000000</td>\n      <td>1.000000</td>\n      <td>1.000000</td>\n      <td>1.000000</td>\n      <td>2094.000000</td>\n      <td>0.000000</td>\n      <td>3.000000</td>\n      <td>1.000000</td>\n      <td>0.000000</td>\n    </tr>\n    <tr>\n      <th>25%</th>\n      <td>30.000000</td>\n      <td>465.000000</td>\n      <td>2.000000</td>\n      <td>2.000000</td>\n      <td>2.000000</td>\n      <td>1.000000</td>\n      <td>8015.250000</td>\n      <td>1.000000</td>\n      <td>3.000000</td>\n      <td>2.000000</td>\n      <td>3.000000</td>\n    </tr>\n    <tr>\n      <th>50%</th>\n      <td>36.000000</td>\n      <td>802.000000</td>\n      <td>7.000000</td>\n      <td>3.000000</td>\n      <td>3.000000</td>\n      <td>2.000000</td>\n      <td>14220.000000</td>\n      <td>2.000000</td>\n      <td>3.000000</td>\n      <td>3.000000</td>\n      <td>5.000000</td>\n    </tr>\n    <tr>\n      <th>75%</th>\n      <td>43.000000</td>\n      <td>1157.000000</td>\n      <td>14.000000</td>\n      <td>4.000000</td>\n      <td>4.000000</td>\n      <td>3.000000</td>\n      <td>20475.500000</td>\n      <td>4.000000</td>\n      <td>3.000000</td>\n      <td>3.000000</td>\n      <td>9.000000</td>\n    </tr>\n    <tr>\n      <th>max</th>\n      <td>60.000000</td>\n      <td>1499.000000</td>\n      <td>29.000000</td>\n      <td>5.000000</td>\n      <td>4.000000</td>\n      <td>5.000000</td>\n      <td>26999.000000</td>\n      <td>9.000000</td>\n      <td>4.000000</td>\n      <td>4.000000</td>\n      <td>40.000000</td>\n    </tr>\n  </tbody>\n</table>\n</div>"
     },
     "execution_count": 70,
     "metadata": {},
     "output_type": "execute_result"
    }
   ],
   "source": [
    "employee_data.describe()"
   ],
   "metadata": {
    "collapsed": false,
    "ExecuteTime": {
     "start_time": "2023-10-20T15:28:36.600014Z",
     "end_time": "2023-10-20T15:28:36.682256Z"
    }
   }
  },
  {
   "cell_type": "code",
   "execution_count": 71,
   "outputs": [
    {
     "name": "stdout",
     "output_type": "stream",
     "text": [
      "Age                         0\n",
      "Attrition                   0\n",
      "BusinessTravel              0\n",
      "DailyRate                   0\n",
      "Department                  0\n",
      "DistanceFromHome            0\n",
      "Education                   0\n",
      "EducationField              0\n",
      "EnvironmentSatisfaction     0\n",
      "Gender                     31\n",
      "JobLevel                    0\n",
      "MaritalStatus               0\n",
      "MonthlyRate                34\n",
      "NumCompaniesWorked          0\n",
      "OverTime                    0\n",
      "PerformanceRating           0\n",
      "WorkLifeBalance             0\n",
      "YearsAtCompany              0\n",
      "dtype: int64\n"
     ]
    }
   ],
   "source": [
    "print(abs(employee_data.count() - employee_data['Attrition'].count()))"
   ],
   "metadata": {
    "collapsed": false,
    "ExecuteTime": {
     "start_time": "2023-10-20T15:28:36.629391Z",
     "end_time": "2023-10-20T15:28:36.682763Z"
    }
   }
  },
  {
   "cell_type": "code",
   "execution_count": 72,
   "outputs": [
    {
     "data": {
      "text/plain": "      Age Attrition     BusinessTravel  DailyRate              Department   \n30     33        No      Travel_Rarely        924  Research & Development  \\\n110    51        No  Travel_Frequently       1456  Research & Development   \n167    30        No      Travel_Rarely       1339                   Sales   \n233    50        No      Travel_Rarely        854                   Sales   \n282    29        No  Travel_Frequently        442                   Sales   \n335    40        No      Travel_Rarely       1124                   Sales   \n365    46        No         Non-Travel       1144  Research & Development   \n369    31        No      Travel_Rarely        408  Research & Development   \n442    36        No         Non-Travel        635                   Sales   \n456    31        No      Travel_Rarely        688                   Sales   \n552    56        No      Travel_Rarely        832  Research & Development   \n650    43        No  Travel_Frequently        422  Research & Development   \n712    33        No      Travel_Rarely        461  Research & Development   \n713    45        No      Travel_Rarely        974  Research & Development   \n763    34        No      Travel_Rarely       1333                   Sales   \n803    34        No         Non-Travel        697  Research & Development   \n825    29        No      Travel_Rarely        718  Research & Development   \n904    48        No      Travel_Rarely        715  Research & Development   \n961    35        No  Travel_Frequently        482  Research & Development   \n1010   55        No      Travel_Rarely       1136  Research & Development   \n1096   40        No      Travel_Rarely        898         Human Resources   \n1097   24        No      Travel_Rarely        350  Research & Development   \n1130   35        No      Travel_Rarely        750  Research & Development   \n1182   36        No         Non-Travel        894  Research & Development   \n1265   33        No         Non-Travel        775  Research & Development   \n1303   47        No      Travel_Rarely       1001  Research & Development   \n1305   54        No      Travel_Rarely        431  Research & Development   \n1348   40        No      Travel_Rarely       1137  Research & Development   \n1409   40        No  Travel_Frequently        692  Research & Development   \n1458   35        No      Travel_Rarely        287  Research & Development   \n1459   29        No      Travel_Rarely       1378  Research & Development   \n\n      DistanceFromHome  Education    EducationField  EnvironmentSatisfaction   \n30                   2          3           Medical                        3  \\\n110                  1          4           Medical                        1   \n167                  5          3     Life Sciences                        2   \n233                  1          4           Medical                        4   \n282                  2          2     Life Sciences                        2   \n335                  1          2           Medical                        2   \n365                  7          4           Medical                        3   \n369                  9          4     Life Sciences                        3   \n442                 10          4           Medical                        2   \n456                  7          3     Life Sciences                        3   \n552                  9          3           Medical                        3   \n650                  1          3     Life Sciences                        4   \n712                 13          1     Life Sciences                        2   \n713                  1          4           Medical                        4   \n763                 10          4     Life Sciences                        3   \n803                  3          4     Life Sciences                        3   \n825                  8          1           Medical                        2   \n904                  1          3     Life Sciences                        4   \n961                  4          4     Life Sciences                        3   \n1010                 1          4           Medical                        2   \n1096                 6          2           Medical                        3   \n1097                21          2  Technical Degree                        3   \n1130                28          3     Life Sciences                        2   \n1182                 1          4           Medical                        4   \n1265                 4          3  Technical Degree                        4   \n1303                 4          3     Life Sciences                        3   \n1305                 7          4           Medical                        4   \n1348                 1          4     Life Sciences                        1   \n1409                11          3  Technical Degree                        4   \n1458                 1          4     Life Sciences                        3   \n1459                13          2             Other                        4   \n\n     Gender  JobLevel MaritalStatus  MonthlyRate  NumCompaniesWorked OverTime   \n30      NaN         1        Single       6670.0                   4       No  \\\n110     NaN         3        Single      25796.0                   3       No   \n167     NaN         3       Married       8053.0                   2       No   \n233     NaN         5      Divorced          NaN                   3       No   \n282     NaN         2        Single      20260.0                   1       No   \n335     NaN         2       Married      13273.0                   2      Yes   \n365     NaN         2       Married      16044.0                   2       No   \n369     NaN         1        Single       7551.0                   0      Yes   \n442     NaN         3        Single      15318.0                   1       No   \n456     NaN         3      Divorced      25291.0                   9       No   \n552     NaN         4       Married      20420.0                   7       No   \n650     NaN         2       Married      21782.0                   4       No   \n712     NaN         1        Single      17241.0                   3       No   \n713     NaN         1      Divorced      11005.0                   3       No   \n763     NaN         1       Married      18410.0                   1      Yes   \n803     NaN         1       Married      22478.0                   3       No   \n825     NaN         2       Married      17689.0                   1      Yes   \n904     NaN         5        Single       8733.0                   6       No   \n961     NaN         2        Single       2690.0                   1      Yes   \n1010    NaN         4      Divorced      12414.0                   2       No   \n1096    NaN         4        Single      17381.0                   1      Yes   \n1097    NaN         1      Divorced      10036.0                   0       No   \n1130    NaN         2       Married      25348.0                   1       No   \n1182    NaN         2       Married      15411.0                   0       No   \n1265    NaN         2      Divorced       6194.0                   5       No   \n1303    NaN         3      Divorced      19271.0                   8      Yes   \n1305    NaN         2       Married      15696.0                   4       No   \n1348    NaN         4      Divorced      18991.0                   2       No   \n1409    NaN         2       Married      26849.0                   1       No   \n1458    NaN         1       Married          NaN                   1       No   \n1459    NaN         2       Married      23679.0                   4      Yes   \n\n      PerformanceRating  WorkLifeBalance  YearsAtCompany  \n30                    3                3               1  \n110                   4                2              13  \n167                   3                3              10  \n233                   3                2               7  \n282                   3                2              10  \n335                   4                2               4  \n365                   3                4               1  \n369                   3                3               2  \n442                   3                2              10  \n456                   4                2               5  \n552                   3                2              10  \n650                   3                2               5  \n712                   3                3               3  \n713                   3                3               5  \n763                   3                3               1  \n803                   3                3               0  \n825                   3                2              10  \n904                   3                4               1  \n961                   3                3               9  \n1010                  3                4               7  \n1096                  4                3              21  \n1097                  3                3               1  \n1130                  3                2              10  \n1182                  3                3               3  \n1265                  3                2               9  \n1303                  3                3              22  \n1305                  3                2               7  \n1348                  3                3              19  \n1409                  3                4              10  \n1458                  3                3               4  \n1459                  3                3               4  ",
      "text/html": "<div>\n<style scoped>\n    .dataframe tbody tr th:only-of-type {\n        vertical-align: middle;\n    }\n\n    .dataframe tbody tr th {\n        vertical-align: top;\n    }\n\n    .dataframe thead th {\n        text-align: right;\n    }\n</style>\n<table border=\"1\" class=\"dataframe\">\n  <thead>\n    <tr style=\"text-align: right;\">\n      <th></th>\n      <th>Age</th>\n      <th>Attrition</th>\n      <th>BusinessTravel</th>\n      <th>DailyRate</th>\n      <th>Department</th>\n      <th>DistanceFromHome</th>\n      <th>Education</th>\n      <th>EducationField</th>\n      <th>EnvironmentSatisfaction</th>\n      <th>Gender</th>\n      <th>JobLevel</th>\n      <th>MaritalStatus</th>\n      <th>MonthlyRate</th>\n      <th>NumCompaniesWorked</th>\n      <th>OverTime</th>\n      <th>PerformanceRating</th>\n      <th>WorkLifeBalance</th>\n      <th>YearsAtCompany</th>\n    </tr>\n  </thead>\n  <tbody>\n    <tr>\n      <th>30</th>\n      <td>33</td>\n      <td>No</td>\n      <td>Travel_Rarely</td>\n      <td>924</td>\n      <td>Research &amp; Development</td>\n      <td>2</td>\n      <td>3</td>\n      <td>Medical</td>\n      <td>3</td>\n      <td>NaN</td>\n      <td>1</td>\n      <td>Single</td>\n      <td>6670.0</td>\n      <td>4</td>\n      <td>No</td>\n      <td>3</td>\n      <td>3</td>\n      <td>1</td>\n    </tr>\n    <tr>\n      <th>110</th>\n      <td>51</td>\n      <td>No</td>\n      <td>Travel_Frequently</td>\n      <td>1456</td>\n      <td>Research &amp; Development</td>\n      <td>1</td>\n      <td>4</td>\n      <td>Medical</td>\n      <td>1</td>\n      <td>NaN</td>\n      <td>3</td>\n      <td>Single</td>\n      <td>25796.0</td>\n      <td>3</td>\n      <td>No</td>\n      <td>4</td>\n      <td>2</td>\n      <td>13</td>\n    </tr>\n    <tr>\n      <th>167</th>\n      <td>30</td>\n      <td>No</td>\n      <td>Travel_Rarely</td>\n      <td>1339</td>\n      <td>Sales</td>\n      <td>5</td>\n      <td>3</td>\n      <td>Life Sciences</td>\n      <td>2</td>\n      <td>NaN</td>\n      <td>3</td>\n      <td>Married</td>\n      <td>8053.0</td>\n      <td>2</td>\n      <td>No</td>\n      <td>3</td>\n      <td>3</td>\n      <td>10</td>\n    </tr>\n    <tr>\n      <th>233</th>\n      <td>50</td>\n      <td>No</td>\n      <td>Travel_Rarely</td>\n      <td>854</td>\n      <td>Sales</td>\n      <td>1</td>\n      <td>4</td>\n      <td>Medical</td>\n      <td>4</td>\n      <td>NaN</td>\n      <td>5</td>\n      <td>Divorced</td>\n      <td>NaN</td>\n      <td>3</td>\n      <td>No</td>\n      <td>3</td>\n      <td>2</td>\n      <td>7</td>\n    </tr>\n    <tr>\n      <th>282</th>\n      <td>29</td>\n      <td>No</td>\n      <td>Travel_Frequently</td>\n      <td>442</td>\n      <td>Sales</td>\n      <td>2</td>\n      <td>2</td>\n      <td>Life Sciences</td>\n      <td>2</td>\n      <td>NaN</td>\n      <td>2</td>\n      <td>Single</td>\n      <td>20260.0</td>\n      <td>1</td>\n      <td>No</td>\n      <td>3</td>\n      <td>2</td>\n      <td>10</td>\n    </tr>\n    <tr>\n      <th>335</th>\n      <td>40</td>\n      <td>No</td>\n      <td>Travel_Rarely</td>\n      <td>1124</td>\n      <td>Sales</td>\n      <td>1</td>\n      <td>2</td>\n      <td>Medical</td>\n      <td>2</td>\n      <td>NaN</td>\n      <td>2</td>\n      <td>Married</td>\n      <td>13273.0</td>\n      <td>2</td>\n      <td>Yes</td>\n      <td>4</td>\n      <td>2</td>\n      <td>4</td>\n    </tr>\n    <tr>\n      <th>365</th>\n      <td>46</td>\n      <td>No</td>\n      <td>Non-Travel</td>\n      <td>1144</td>\n      <td>Research &amp; Development</td>\n      <td>7</td>\n      <td>4</td>\n      <td>Medical</td>\n      <td>3</td>\n      <td>NaN</td>\n      <td>2</td>\n      <td>Married</td>\n      <td>16044.0</td>\n      <td>2</td>\n      <td>No</td>\n      <td>3</td>\n      <td>4</td>\n      <td>1</td>\n    </tr>\n    <tr>\n      <th>369</th>\n      <td>31</td>\n      <td>No</td>\n      <td>Travel_Rarely</td>\n      <td>408</td>\n      <td>Research &amp; Development</td>\n      <td>9</td>\n      <td>4</td>\n      <td>Life Sciences</td>\n      <td>3</td>\n      <td>NaN</td>\n      <td>1</td>\n      <td>Single</td>\n      <td>7551.0</td>\n      <td>0</td>\n      <td>Yes</td>\n      <td>3</td>\n      <td>3</td>\n      <td>2</td>\n    </tr>\n    <tr>\n      <th>442</th>\n      <td>36</td>\n      <td>No</td>\n      <td>Non-Travel</td>\n      <td>635</td>\n      <td>Sales</td>\n      <td>10</td>\n      <td>4</td>\n      <td>Medical</td>\n      <td>2</td>\n      <td>NaN</td>\n      <td>3</td>\n      <td>Single</td>\n      <td>15318.0</td>\n      <td>1</td>\n      <td>No</td>\n      <td>3</td>\n      <td>2</td>\n      <td>10</td>\n    </tr>\n    <tr>\n      <th>456</th>\n      <td>31</td>\n      <td>No</td>\n      <td>Travel_Rarely</td>\n      <td>688</td>\n      <td>Sales</td>\n      <td>7</td>\n      <td>3</td>\n      <td>Life Sciences</td>\n      <td>3</td>\n      <td>NaN</td>\n      <td>3</td>\n      <td>Divorced</td>\n      <td>25291.0</td>\n      <td>9</td>\n      <td>No</td>\n      <td>4</td>\n      <td>2</td>\n      <td>5</td>\n    </tr>\n    <tr>\n      <th>552</th>\n      <td>56</td>\n      <td>No</td>\n      <td>Travel_Rarely</td>\n      <td>832</td>\n      <td>Research &amp; Development</td>\n      <td>9</td>\n      <td>3</td>\n      <td>Medical</td>\n      <td>3</td>\n      <td>NaN</td>\n      <td>4</td>\n      <td>Married</td>\n      <td>20420.0</td>\n      <td>7</td>\n      <td>No</td>\n      <td>3</td>\n      <td>2</td>\n      <td>10</td>\n    </tr>\n    <tr>\n      <th>650</th>\n      <td>43</td>\n      <td>No</td>\n      <td>Travel_Frequently</td>\n      <td>422</td>\n      <td>Research &amp; Development</td>\n      <td>1</td>\n      <td>3</td>\n      <td>Life Sciences</td>\n      <td>4</td>\n      <td>NaN</td>\n      <td>2</td>\n      <td>Married</td>\n      <td>21782.0</td>\n      <td>4</td>\n      <td>No</td>\n      <td>3</td>\n      <td>2</td>\n      <td>5</td>\n    </tr>\n    <tr>\n      <th>712</th>\n      <td>33</td>\n      <td>No</td>\n      <td>Travel_Rarely</td>\n      <td>461</td>\n      <td>Research &amp; Development</td>\n      <td>13</td>\n      <td>1</td>\n      <td>Life Sciences</td>\n      <td>2</td>\n      <td>NaN</td>\n      <td>1</td>\n      <td>Single</td>\n      <td>17241.0</td>\n      <td>3</td>\n      <td>No</td>\n      <td>3</td>\n      <td>3</td>\n      <td>3</td>\n    </tr>\n    <tr>\n      <th>713</th>\n      <td>45</td>\n      <td>No</td>\n      <td>Travel_Rarely</td>\n      <td>974</td>\n      <td>Research &amp; Development</td>\n      <td>1</td>\n      <td>4</td>\n      <td>Medical</td>\n      <td>4</td>\n      <td>NaN</td>\n      <td>1</td>\n      <td>Divorced</td>\n      <td>11005.0</td>\n      <td>3</td>\n      <td>No</td>\n      <td>3</td>\n      <td>3</td>\n      <td>5</td>\n    </tr>\n    <tr>\n      <th>763</th>\n      <td>34</td>\n      <td>No</td>\n      <td>Travel_Rarely</td>\n      <td>1333</td>\n      <td>Sales</td>\n      <td>10</td>\n      <td>4</td>\n      <td>Life Sciences</td>\n      <td>3</td>\n      <td>NaN</td>\n      <td>1</td>\n      <td>Married</td>\n      <td>18410.0</td>\n      <td>1</td>\n      <td>Yes</td>\n      <td>3</td>\n      <td>3</td>\n      <td>1</td>\n    </tr>\n    <tr>\n      <th>803</th>\n      <td>34</td>\n      <td>No</td>\n      <td>Non-Travel</td>\n      <td>697</td>\n      <td>Research &amp; Development</td>\n      <td>3</td>\n      <td>4</td>\n      <td>Life Sciences</td>\n      <td>3</td>\n      <td>NaN</td>\n      <td>1</td>\n      <td>Married</td>\n      <td>22478.0</td>\n      <td>3</td>\n      <td>No</td>\n      <td>3</td>\n      <td>3</td>\n      <td>0</td>\n    </tr>\n    <tr>\n      <th>825</th>\n      <td>29</td>\n      <td>No</td>\n      <td>Travel_Rarely</td>\n      <td>718</td>\n      <td>Research &amp; Development</td>\n      <td>8</td>\n      <td>1</td>\n      <td>Medical</td>\n      <td>2</td>\n      <td>NaN</td>\n      <td>2</td>\n      <td>Married</td>\n      <td>17689.0</td>\n      <td>1</td>\n      <td>Yes</td>\n      <td>3</td>\n      <td>2</td>\n      <td>10</td>\n    </tr>\n    <tr>\n      <th>904</th>\n      <td>48</td>\n      <td>No</td>\n      <td>Travel_Rarely</td>\n      <td>715</td>\n      <td>Research &amp; Development</td>\n      <td>1</td>\n      <td>3</td>\n      <td>Life Sciences</td>\n      <td>4</td>\n      <td>NaN</td>\n      <td>5</td>\n      <td>Single</td>\n      <td>8733.0</td>\n      <td>6</td>\n      <td>No</td>\n      <td>3</td>\n      <td>4</td>\n      <td>1</td>\n    </tr>\n    <tr>\n      <th>961</th>\n      <td>35</td>\n      <td>No</td>\n      <td>Travel_Frequently</td>\n      <td>482</td>\n      <td>Research &amp; Development</td>\n      <td>4</td>\n      <td>4</td>\n      <td>Life Sciences</td>\n      <td>3</td>\n      <td>NaN</td>\n      <td>2</td>\n      <td>Single</td>\n      <td>2690.0</td>\n      <td>1</td>\n      <td>Yes</td>\n      <td>3</td>\n      <td>3</td>\n      <td>9</td>\n    </tr>\n    <tr>\n      <th>1010</th>\n      <td>55</td>\n      <td>No</td>\n      <td>Travel_Rarely</td>\n      <td>1136</td>\n      <td>Research &amp; Development</td>\n      <td>1</td>\n      <td>4</td>\n      <td>Medical</td>\n      <td>2</td>\n      <td>NaN</td>\n      <td>4</td>\n      <td>Divorced</td>\n      <td>12414.0</td>\n      <td>2</td>\n      <td>No</td>\n      <td>3</td>\n      <td>4</td>\n      <td>7</td>\n    </tr>\n    <tr>\n      <th>1096</th>\n      <td>40</td>\n      <td>No</td>\n      <td>Travel_Rarely</td>\n      <td>898</td>\n      <td>Human Resources</td>\n      <td>6</td>\n      <td>2</td>\n      <td>Medical</td>\n      <td>3</td>\n      <td>NaN</td>\n      <td>4</td>\n      <td>Single</td>\n      <td>17381.0</td>\n      <td>1</td>\n      <td>Yes</td>\n      <td>4</td>\n      <td>3</td>\n      <td>21</td>\n    </tr>\n    <tr>\n      <th>1097</th>\n      <td>24</td>\n      <td>No</td>\n      <td>Travel_Rarely</td>\n      <td>350</td>\n      <td>Research &amp; Development</td>\n      <td>21</td>\n      <td>2</td>\n      <td>Technical Degree</td>\n      <td>3</td>\n      <td>NaN</td>\n      <td>1</td>\n      <td>Divorced</td>\n      <td>10036.0</td>\n      <td>0</td>\n      <td>No</td>\n      <td>3</td>\n      <td>3</td>\n      <td>1</td>\n    </tr>\n    <tr>\n      <th>1130</th>\n      <td>35</td>\n      <td>No</td>\n      <td>Travel_Rarely</td>\n      <td>750</td>\n      <td>Research &amp; Development</td>\n      <td>28</td>\n      <td>3</td>\n      <td>Life Sciences</td>\n      <td>2</td>\n      <td>NaN</td>\n      <td>2</td>\n      <td>Married</td>\n      <td>25348.0</td>\n      <td>1</td>\n      <td>No</td>\n      <td>3</td>\n      <td>2</td>\n      <td>10</td>\n    </tr>\n    <tr>\n      <th>1182</th>\n      <td>36</td>\n      <td>No</td>\n      <td>Non-Travel</td>\n      <td>894</td>\n      <td>Research &amp; Development</td>\n      <td>1</td>\n      <td>4</td>\n      <td>Medical</td>\n      <td>4</td>\n      <td>NaN</td>\n      <td>2</td>\n      <td>Married</td>\n      <td>15411.0</td>\n      <td>0</td>\n      <td>No</td>\n      <td>3</td>\n      <td>3</td>\n      <td>3</td>\n    </tr>\n    <tr>\n      <th>1265</th>\n      <td>33</td>\n      <td>No</td>\n      <td>Non-Travel</td>\n      <td>775</td>\n      <td>Research &amp; Development</td>\n      <td>4</td>\n      <td>3</td>\n      <td>Technical Degree</td>\n      <td>4</td>\n      <td>NaN</td>\n      <td>2</td>\n      <td>Divorced</td>\n      <td>6194.0</td>\n      <td>5</td>\n      <td>No</td>\n      <td>3</td>\n      <td>2</td>\n      <td>9</td>\n    </tr>\n    <tr>\n      <th>1303</th>\n      <td>47</td>\n      <td>No</td>\n      <td>Travel_Rarely</td>\n      <td>1001</td>\n      <td>Research &amp; Development</td>\n      <td>4</td>\n      <td>3</td>\n      <td>Life Sciences</td>\n      <td>3</td>\n      <td>NaN</td>\n      <td>3</td>\n      <td>Divorced</td>\n      <td>19271.0</td>\n      <td>8</td>\n      <td>Yes</td>\n      <td>3</td>\n      <td>3</td>\n      <td>22</td>\n    </tr>\n    <tr>\n      <th>1305</th>\n      <td>54</td>\n      <td>No</td>\n      <td>Travel_Rarely</td>\n      <td>431</td>\n      <td>Research &amp; Development</td>\n      <td>7</td>\n      <td>4</td>\n      <td>Medical</td>\n      <td>4</td>\n      <td>NaN</td>\n      <td>2</td>\n      <td>Married</td>\n      <td>15696.0</td>\n      <td>4</td>\n      <td>No</td>\n      <td>3</td>\n      <td>2</td>\n      <td>7</td>\n    </tr>\n    <tr>\n      <th>1348</th>\n      <td>40</td>\n      <td>No</td>\n      <td>Travel_Rarely</td>\n      <td>1137</td>\n      <td>Research &amp; Development</td>\n      <td>1</td>\n      <td>4</td>\n      <td>Life Sciences</td>\n      <td>1</td>\n      <td>NaN</td>\n      <td>4</td>\n      <td>Divorced</td>\n      <td>18991.0</td>\n      <td>2</td>\n      <td>No</td>\n      <td>3</td>\n      <td>3</td>\n      <td>19</td>\n    </tr>\n    <tr>\n      <th>1409</th>\n      <td>40</td>\n      <td>No</td>\n      <td>Travel_Frequently</td>\n      <td>692</td>\n      <td>Research &amp; Development</td>\n      <td>11</td>\n      <td>3</td>\n      <td>Technical Degree</td>\n      <td>4</td>\n      <td>NaN</td>\n      <td>2</td>\n      <td>Married</td>\n      <td>26849.0</td>\n      <td>1</td>\n      <td>No</td>\n      <td>3</td>\n      <td>4</td>\n      <td>10</td>\n    </tr>\n    <tr>\n      <th>1458</th>\n      <td>35</td>\n      <td>No</td>\n      <td>Travel_Rarely</td>\n      <td>287</td>\n      <td>Research &amp; Development</td>\n      <td>1</td>\n      <td>4</td>\n      <td>Life Sciences</td>\n      <td>3</td>\n      <td>NaN</td>\n      <td>1</td>\n      <td>Married</td>\n      <td>NaN</td>\n      <td>1</td>\n      <td>No</td>\n      <td>3</td>\n      <td>3</td>\n      <td>4</td>\n    </tr>\n    <tr>\n      <th>1459</th>\n      <td>29</td>\n      <td>No</td>\n      <td>Travel_Rarely</td>\n      <td>1378</td>\n      <td>Research &amp; Development</td>\n      <td>13</td>\n      <td>2</td>\n      <td>Other</td>\n      <td>4</td>\n      <td>NaN</td>\n      <td>2</td>\n      <td>Married</td>\n      <td>23679.0</td>\n      <td>4</td>\n      <td>Yes</td>\n      <td>3</td>\n      <td>3</td>\n      <td>4</td>\n    </tr>\n  </tbody>\n</table>\n</div>"
     },
     "execution_count": 72,
     "metadata": {},
     "output_type": "execute_result"
    }
   ],
   "source": [
    "employee_data.loc[employee_data['Gender'].isnull()]"
   ],
   "metadata": {
    "collapsed": false,
    "ExecuteTime": {
     "start_time": "2023-10-20T15:28:36.636718Z",
     "end_time": "2023-10-20T15:28:36.682763Z"
    }
   }
  },
  {
   "cell_type": "code",
   "execution_count": 73,
   "outputs": [
    {
     "data": {
      "text/plain": "Empty DataFrame\nColumns: [Age, Attrition, BusinessTravel, DailyRate, Department, DistanceFromHome, Education, EducationField, EnvironmentSatisfaction, Gender, JobLevel, MaritalStatus, MonthlyRate, NumCompaniesWorked, OverTime, PerformanceRating, WorkLifeBalance, YearsAtCompany]\nIndex: []",
      "text/html": "<div>\n<style scoped>\n    .dataframe tbody tr th:only-of-type {\n        vertical-align: middle;\n    }\n\n    .dataframe tbody tr th {\n        vertical-align: top;\n    }\n\n    .dataframe thead th {\n        text-align: right;\n    }\n</style>\n<table border=\"1\" class=\"dataframe\">\n  <thead>\n    <tr style=\"text-align: right;\">\n      <th></th>\n      <th>Age</th>\n      <th>Attrition</th>\n      <th>BusinessTravel</th>\n      <th>DailyRate</th>\n      <th>Department</th>\n      <th>DistanceFromHome</th>\n      <th>Education</th>\n      <th>EducationField</th>\n      <th>EnvironmentSatisfaction</th>\n      <th>Gender</th>\n      <th>JobLevel</th>\n      <th>MaritalStatus</th>\n      <th>MonthlyRate</th>\n      <th>NumCompaniesWorked</th>\n      <th>OverTime</th>\n      <th>PerformanceRating</th>\n      <th>WorkLifeBalance</th>\n      <th>YearsAtCompany</th>\n    </tr>\n  </thead>\n  <tbody>\n  </tbody>\n</table>\n</div>"
     },
     "execution_count": 73,
     "metadata": {},
     "output_type": "execute_result"
    }
   ],
   "source": [
    "import random\n",
    "\n",
    "employee_data.loc[employee_data[\"Gender\"].isnull(), \"Gender\"] = random.choice(['Male', 'Female'])\n",
    "employee_data.loc[employee_data['Gender'].isnull()]"
   ],
   "metadata": {
    "collapsed": false,
    "ExecuteTime": {
     "start_time": "2023-10-20T15:28:36.655515Z",
     "end_time": "2023-10-20T15:28:36.710232Z"
    }
   }
  },
  {
   "cell_type": "code",
   "execution_count": 74,
   "outputs": [
    {
     "data": {
      "text/plain": "      Age Attrition     BusinessTravel  DailyRate              Department   \n15     29        No      Travel_Rarely       1389  Research & Development  \\\n43     27        No  Travel_Frequently        994                   Sales   \n84     34        No      Travel_Rarely       1153  Research & Development   \n112    54        No         Non-Travel        142         Human Resources   \n152    53        No      Travel_Rarely       1436                   Sales   \n185    33        No      Travel_Rarely        931  Research & Development   \n211    30        No         Non-Travel        829  Research & Development   \n233    50        No      Travel_Rarely        854                   Sales   \n303    31        No      Travel_Rarely        218                   Sales   \n358    36        No         Non-Travel        845                   Sales   \n416    38        No  Travel_Frequently       1490  Research & Development   \n447    35        No      Travel_Rarely        619                   Sales   \n477    50        No  Travel_Frequently       1246         Human Resources   \n506    37        No      Travel_Rarely        482  Research & Development   \n556    53        No      Travel_Rarely        346  Research & Development   \n611    35        No      Travel_Rarely        950  Research & Development   \n644    31        No      Travel_Rarely       1222  Research & Development   \n699    52        No      Travel_Rarely       1053  Research & Development   \n740    35        No      Travel_Rarely        802  Research & Development   \n818    31        No  Travel_Frequently        793                   Sales   \n852    29        No      Travel_Rarely       1401  Research & Development   \n889    27        No      Travel_Rarely       1103  Research & Development   \n972    18        No         Non-Travel       1124  Research & Development   \n1008   54        No      Travel_Rarely        971  Research & Development   \n1048   34        No      Travel_Rarely       1326                   Sales   \n1152   21        No      Travel_Rarely        546  Research & Development   \n1155   39        No      Travel_Rarely        170  Research & Development   \n1198   33        No         Non-Travel        530                   Sales   \n1229   40        No      Travel_Rarely        369  Research & Development   \n1247   31        No      Travel_Rarely       1003                   Sales   \n1364   28        No  Travel_Frequently        783                   Sales   \n1371   56        No      Travel_Rarely       1443                   Sales   \n1424   35        No      Travel_Rarely       1395  Research & Development   \n1458   35        No      Travel_Rarely        287  Research & Development   \n\n      DistanceFromHome  Education    EducationField  EnvironmentSatisfaction   \n15                  21          4     Life Sciences                        2  \\\n43                   8          3     Life Sciences                        4   \n84                   1          2           Medical                        1   \n112                 26          3   Human Resources                        4   \n152                  6          2         Marketing                        2   \n185                 14          3           Medical                        4   \n211                  1          1     Life Sciences                        3   \n233                  1          4           Medical                        4   \n303                  7          3  Technical Degree                        2   \n358                  1          5           Medical                        4   \n416                  2          2     Life Sciences                        4   \n447                  1          3         Marketing                        2   \n477                  3          3           Medical                        1   \n506                  3          3             Other                        3   \n556                  6          3     Life Sciences                        4   \n611                  7          3             Other                        3   \n644                 11          4     Life Sciences                        4   \n699                  1          2     Life Sciences                        4   \n740                 10          3             Other                        2   \n818                 20          3     Life Sciences                        3   \n852                  6          1           Medical                        2   \n889                 14          3     Life Sciences                        1   \n972                  1          3     Life Sciences                        4   \n1008                 1          3           Medical                        4   \n1048                 3          3             Other                        4   \n1152                 5          1           Medical                        3   \n1155                 3          2           Medical                        3   \n1198                16          3     Life Sciences                        3   \n1229                 8          2     Life Sciences                        2   \n1247                 5          3  Technical Degree                        1   \n1364                 1          2     Life Sciences                        3   \n1371                11          5         Marketing                        4   \n1424                 9          4           Medical                        2   \n1458                 1          4     Life Sciences                        3   \n\n      Gender  JobLevel MaritalStatus  MonthlyRate  NumCompaniesWorked   \n15    Female         3      Divorced          NaN                   1  \\\n43      Male         3        Single          NaN                   1   \n84      Male         2       Married          NaN                   1   \n112   Female         4        Single          NaN                   2   \n152     Male         2       Married          NaN                   2   \n185   Female         1       Married          NaN                   1   \n211     Male         3        Single          NaN                   1   \n233   Female         5      Divorced          NaN                   3   \n303     Male         2       Married          NaN                   4   \n358   Female         2        Single          NaN                   4   \n416     Male         1       Married          NaN                   1   \n447     Male         2       Married          NaN                   9   \n477     Male         5       Married          NaN                   1   \n506     Male         3       Married          NaN                   1   \n556     Male         2        Single          NaN                   2   \n611     Male         3        Single          NaN                   3   \n644     Male         1       Married          NaN                   3   \n699     Male         4       Married          NaN                   2   \n740     Male         1      Divorced          NaN                   1   \n818     Male         1       Married          NaN                   0   \n852   Female         1       Married          NaN                   1   \n889     Male         1       Married          NaN                   1   \n972   Female         1        Single          NaN                   1   \n1008  Female         4        Single          NaN                   6   \n1048    Male         2        Single          NaN                   3   \n1152    Male         1        Single          NaN                   1   \n1155    Male         2      Divorced          NaN                   0   \n1198  Female         2      Divorced          NaN                   1   \n1229  Female         2       Married          NaN                   2   \n1247    Male         2       Married          NaN                   1   \n1364    Male         2       Married          NaN                   1   \n1371  Female         2       Married          NaN                   4   \n1424    Male         2        Single          NaN                   1   \n1458  Female         1       Married          NaN                   1   \n\n     OverTime  PerformanceRating  WorkLifeBalance  YearsAtCompany  \n15         No                  3                3              10  \n43         No                  3                3               9  \n84         No                  3                3               5  \n112       Yes                  3                3               5  \n152       Yes                  4                1               7  \n185        No                  3                3               8  \n211        No                  4                3              11  \n233        No                  3                2               7  \n303        No                  3                2               8  \n358        No                  3                3               1  \n416       Yes                  4                3               1  \n447        No                  3                3              11  \n477        No                  3                3              32  \n506        No                  3                3              10  \n556        No                  3                3               2  \n611        No                  4                4               8  \n644       Yes                  3                3               6  \n699        No                  3                2               9  \n740        No                  4                2               3  \n818        No                  3                3               2  \n852        No                  3                3              10  \n889       Yes                  3                2               9  \n972        No                  3                4               0  \n1008       No                  3                2              20  \n1048       No                  3                3              13  \n1152       No                  3                3               2  \n1155       No                  3                3              10  \n1198      Yes                  4                3               6  \n1229      Yes                  3                3               1  \n1247       No                  3                3               5  \n1364      Yes                  3                3               7  \n1371       No                  3                3               0  \n1424       No                  3                3              10  \n1458       No                  3                3               4  ",
      "text/html": "<div>\n<style scoped>\n    .dataframe tbody tr th:only-of-type {\n        vertical-align: middle;\n    }\n\n    .dataframe tbody tr th {\n        vertical-align: top;\n    }\n\n    .dataframe thead th {\n        text-align: right;\n    }\n</style>\n<table border=\"1\" class=\"dataframe\">\n  <thead>\n    <tr style=\"text-align: right;\">\n      <th></th>\n      <th>Age</th>\n      <th>Attrition</th>\n      <th>BusinessTravel</th>\n      <th>DailyRate</th>\n      <th>Department</th>\n      <th>DistanceFromHome</th>\n      <th>Education</th>\n      <th>EducationField</th>\n      <th>EnvironmentSatisfaction</th>\n      <th>Gender</th>\n      <th>JobLevel</th>\n      <th>MaritalStatus</th>\n      <th>MonthlyRate</th>\n      <th>NumCompaniesWorked</th>\n      <th>OverTime</th>\n      <th>PerformanceRating</th>\n      <th>WorkLifeBalance</th>\n      <th>YearsAtCompany</th>\n    </tr>\n  </thead>\n  <tbody>\n    <tr>\n      <th>15</th>\n      <td>29</td>\n      <td>No</td>\n      <td>Travel_Rarely</td>\n      <td>1389</td>\n      <td>Research &amp; Development</td>\n      <td>21</td>\n      <td>4</td>\n      <td>Life Sciences</td>\n      <td>2</td>\n      <td>Female</td>\n      <td>3</td>\n      <td>Divorced</td>\n      <td>NaN</td>\n      <td>1</td>\n      <td>No</td>\n      <td>3</td>\n      <td>3</td>\n      <td>10</td>\n    </tr>\n    <tr>\n      <th>43</th>\n      <td>27</td>\n      <td>No</td>\n      <td>Travel_Frequently</td>\n      <td>994</td>\n      <td>Sales</td>\n      <td>8</td>\n      <td>3</td>\n      <td>Life Sciences</td>\n      <td>4</td>\n      <td>Male</td>\n      <td>3</td>\n      <td>Single</td>\n      <td>NaN</td>\n      <td>1</td>\n      <td>No</td>\n      <td>3</td>\n      <td>3</td>\n      <td>9</td>\n    </tr>\n    <tr>\n      <th>84</th>\n      <td>34</td>\n      <td>No</td>\n      <td>Travel_Rarely</td>\n      <td>1153</td>\n      <td>Research &amp; Development</td>\n      <td>1</td>\n      <td>2</td>\n      <td>Medical</td>\n      <td>1</td>\n      <td>Male</td>\n      <td>2</td>\n      <td>Married</td>\n      <td>NaN</td>\n      <td>1</td>\n      <td>No</td>\n      <td>3</td>\n      <td>3</td>\n      <td>5</td>\n    </tr>\n    <tr>\n      <th>112</th>\n      <td>54</td>\n      <td>No</td>\n      <td>Non-Travel</td>\n      <td>142</td>\n      <td>Human Resources</td>\n      <td>26</td>\n      <td>3</td>\n      <td>Human Resources</td>\n      <td>4</td>\n      <td>Female</td>\n      <td>4</td>\n      <td>Single</td>\n      <td>NaN</td>\n      <td>2</td>\n      <td>Yes</td>\n      <td>3</td>\n      <td>3</td>\n      <td>5</td>\n    </tr>\n    <tr>\n      <th>152</th>\n      <td>53</td>\n      <td>No</td>\n      <td>Travel_Rarely</td>\n      <td>1436</td>\n      <td>Sales</td>\n      <td>6</td>\n      <td>2</td>\n      <td>Marketing</td>\n      <td>2</td>\n      <td>Male</td>\n      <td>2</td>\n      <td>Married</td>\n      <td>NaN</td>\n      <td>2</td>\n      <td>Yes</td>\n      <td>4</td>\n      <td>1</td>\n      <td>7</td>\n    </tr>\n    <tr>\n      <th>185</th>\n      <td>33</td>\n      <td>No</td>\n      <td>Travel_Rarely</td>\n      <td>931</td>\n      <td>Research &amp; Development</td>\n      <td>14</td>\n      <td>3</td>\n      <td>Medical</td>\n      <td>4</td>\n      <td>Female</td>\n      <td>1</td>\n      <td>Married</td>\n      <td>NaN</td>\n      <td>1</td>\n      <td>No</td>\n      <td>3</td>\n      <td>3</td>\n      <td>8</td>\n    </tr>\n    <tr>\n      <th>211</th>\n      <td>30</td>\n      <td>No</td>\n      <td>Non-Travel</td>\n      <td>829</td>\n      <td>Research &amp; Development</td>\n      <td>1</td>\n      <td>1</td>\n      <td>Life Sciences</td>\n      <td>3</td>\n      <td>Male</td>\n      <td>3</td>\n      <td>Single</td>\n      <td>NaN</td>\n      <td>1</td>\n      <td>No</td>\n      <td>4</td>\n      <td>3</td>\n      <td>11</td>\n    </tr>\n    <tr>\n      <th>233</th>\n      <td>50</td>\n      <td>No</td>\n      <td>Travel_Rarely</td>\n      <td>854</td>\n      <td>Sales</td>\n      <td>1</td>\n      <td>4</td>\n      <td>Medical</td>\n      <td>4</td>\n      <td>Female</td>\n      <td>5</td>\n      <td>Divorced</td>\n      <td>NaN</td>\n      <td>3</td>\n      <td>No</td>\n      <td>3</td>\n      <td>2</td>\n      <td>7</td>\n    </tr>\n    <tr>\n      <th>303</th>\n      <td>31</td>\n      <td>No</td>\n      <td>Travel_Rarely</td>\n      <td>218</td>\n      <td>Sales</td>\n      <td>7</td>\n      <td>3</td>\n      <td>Technical Degree</td>\n      <td>2</td>\n      <td>Male</td>\n      <td>2</td>\n      <td>Married</td>\n      <td>NaN</td>\n      <td>4</td>\n      <td>No</td>\n      <td>3</td>\n      <td>2</td>\n      <td>8</td>\n    </tr>\n    <tr>\n      <th>358</th>\n      <td>36</td>\n      <td>No</td>\n      <td>Non-Travel</td>\n      <td>845</td>\n      <td>Sales</td>\n      <td>1</td>\n      <td>5</td>\n      <td>Medical</td>\n      <td>4</td>\n      <td>Female</td>\n      <td>2</td>\n      <td>Single</td>\n      <td>NaN</td>\n      <td>4</td>\n      <td>No</td>\n      <td>3</td>\n      <td>3</td>\n      <td>1</td>\n    </tr>\n    <tr>\n      <th>416</th>\n      <td>38</td>\n      <td>No</td>\n      <td>Travel_Frequently</td>\n      <td>1490</td>\n      <td>Research &amp; Development</td>\n      <td>2</td>\n      <td>2</td>\n      <td>Life Sciences</td>\n      <td>4</td>\n      <td>Male</td>\n      <td>1</td>\n      <td>Married</td>\n      <td>NaN</td>\n      <td>1</td>\n      <td>Yes</td>\n      <td>4</td>\n      <td>3</td>\n      <td>1</td>\n    </tr>\n    <tr>\n      <th>447</th>\n      <td>35</td>\n      <td>No</td>\n      <td>Travel_Rarely</td>\n      <td>619</td>\n      <td>Sales</td>\n      <td>1</td>\n      <td>3</td>\n      <td>Marketing</td>\n      <td>2</td>\n      <td>Male</td>\n      <td>2</td>\n      <td>Married</td>\n      <td>NaN</td>\n      <td>9</td>\n      <td>No</td>\n      <td>3</td>\n      <td>3</td>\n      <td>11</td>\n    </tr>\n    <tr>\n      <th>477</th>\n      <td>50</td>\n      <td>No</td>\n      <td>Travel_Frequently</td>\n      <td>1246</td>\n      <td>Human Resources</td>\n      <td>3</td>\n      <td>3</td>\n      <td>Medical</td>\n      <td>1</td>\n      <td>Male</td>\n      <td>5</td>\n      <td>Married</td>\n      <td>NaN</td>\n      <td>1</td>\n      <td>No</td>\n      <td>3</td>\n      <td>3</td>\n      <td>32</td>\n    </tr>\n    <tr>\n      <th>506</th>\n      <td>37</td>\n      <td>No</td>\n      <td>Travel_Rarely</td>\n      <td>482</td>\n      <td>Research &amp; Development</td>\n      <td>3</td>\n      <td>3</td>\n      <td>Other</td>\n      <td>3</td>\n      <td>Male</td>\n      <td>3</td>\n      <td>Married</td>\n      <td>NaN</td>\n      <td>1</td>\n      <td>No</td>\n      <td>3</td>\n      <td>3</td>\n      <td>10</td>\n    </tr>\n    <tr>\n      <th>556</th>\n      <td>53</td>\n      <td>No</td>\n      <td>Travel_Rarely</td>\n      <td>346</td>\n      <td>Research &amp; Development</td>\n      <td>6</td>\n      <td>3</td>\n      <td>Life Sciences</td>\n      <td>4</td>\n      <td>Male</td>\n      <td>2</td>\n      <td>Single</td>\n      <td>NaN</td>\n      <td>2</td>\n      <td>No</td>\n      <td>3</td>\n      <td>3</td>\n      <td>2</td>\n    </tr>\n    <tr>\n      <th>611</th>\n      <td>35</td>\n      <td>No</td>\n      <td>Travel_Rarely</td>\n      <td>950</td>\n      <td>Research &amp; Development</td>\n      <td>7</td>\n      <td>3</td>\n      <td>Other</td>\n      <td>3</td>\n      <td>Male</td>\n      <td>3</td>\n      <td>Single</td>\n      <td>NaN</td>\n      <td>3</td>\n      <td>No</td>\n      <td>4</td>\n      <td>4</td>\n      <td>8</td>\n    </tr>\n    <tr>\n      <th>644</th>\n      <td>31</td>\n      <td>No</td>\n      <td>Travel_Rarely</td>\n      <td>1222</td>\n      <td>Research &amp; Development</td>\n      <td>11</td>\n      <td>4</td>\n      <td>Life Sciences</td>\n      <td>4</td>\n      <td>Male</td>\n      <td>1</td>\n      <td>Married</td>\n      <td>NaN</td>\n      <td>3</td>\n      <td>Yes</td>\n      <td>3</td>\n      <td>3</td>\n      <td>6</td>\n    </tr>\n    <tr>\n      <th>699</th>\n      <td>52</td>\n      <td>No</td>\n      <td>Travel_Rarely</td>\n      <td>1053</td>\n      <td>Research &amp; Development</td>\n      <td>1</td>\n      <td>2</td>\n      <td>Life Sciences</td>\n      <td>4</td>\n      <td>Male</td>\n      <td>4</td>\n      <td>Married</td>\n      <td>NaN</td>\n      <td>2</td>\n      <td>No</td>\n      <td>3</td>\n      <td>2</td>\n      <td>9</td>\n    </tr>\n    <tr>\n      <th>740</th>\n      <td>35</td>\n      <td>No</td>\n      <td>Travel_Rarely</td>\n      <td>802</td>\n      <td>Research &amp; Development</td>\n      <td>10</td>\n      <td>3</td>\n      <td>Other</td>\n      <td>2</td>\n      <td>Male</td>\n      <td>1</td>\n      <td>Divorced</td>\n      <td>NaN</td>\n      <td>1</td>\n      <td>No</td>\n      <td>4</td>\n      <td>2</td>\n      <td>3</td>\n    </tr>\n    <tr>\n      <th>818</th>\n      <td>31</td>\n      <td>No</td>\n      <td>Travel_Frequently</td>\n      <td>793</td>\n      <td>Sales</td>\n      <td>20</td>\n      <td>3</td>\n      <td>Life Sciences</td>\n      <td>3</td>\n      <td>Male</td>\n      <td>1</td>\n      <td>Married</td>\n      <td>NaN</td>\n      <td>0</td>\n      <td>No</td>\n      <td>3</td>\n      <td>3</td>\n      <td>2</td>\n    </tr>\n    <tr>\n      <th>852</th>\n      <td>29</td>\n      <td>No</td>\n      <td>Travel_Rarely</td>\n      <td>1401</td>\n      <td>Research &amp; Development</td>\n      <td>6</td>\n      <td>1</td>\n      <td>Medical</td>\n      <td>2</td>\n      <td>Female</td>\n      <td>1</td>\n      <td>Married</td>\n      <td>NaN</td>\n      <td>1</td>\n      <td>No</td>\n      <td>3</td>\n      <td>3</td>\n      <td>10</td>\n    </tr>\n    <tr>\n      <th>889</th>\n      <td>27</td>\n      <td>No</td>\n      <td>Travel_Rarely</td>\n      <td>1103</td>\n      <td>Research &amp; Development</td>\n      <td>14</td>\n      <td>3</td>\n      <td>Life Sciences</td>\n      <td>1</td>\n      <td>Male</td>\n      <td>1</td>\n      <td>Married</td>\n      <td>NaN</td>\n      <td>1</td>\n      <td>Yes</td>\n      <td>3</td>\n      <td>2</td>\n      <td>9</td>\n    </tr>\n    <tr>\n      <th>972</th>\n      <td>18</td>\n      <td>No</td>\n      <td>Non-Travel</td>\n      <td>1124</td>\n      <td>Research &amp; Development</td>\n      <td>1</td>\n      <td>3</td>\n      <td>Life Sciences</td>\n      <td>4</td>\n      <td>Female</td>\n      <td>1</td>\n      <td>Single</td>\n      <td>NaN</td>\n      <td>1</td>\n      <td>No</td>\n      <td>3</td>\n      <td>4</td>\n      <td>0</td>\n    </tr>\n    <tr>\n      <th>1008</th>\n      <td>54</td>\n      <td>No</td>\n      <td>Travel_Rarely</td>\n      <td>971</td>\n      <td>Research &amp; Development</td>\n      <td>1</td>\n      <td>3</td>\n      <td>Medical</td>\n      <td>4</td>\n      <td>Female</td>\n      <td>4</td>\n      <td>Single</td>\n      <td>NaN</td>\n      <td>6</td>\n      <td>No</td>\n      <td>3</td>\n      <td>2</td>\n      <td>20</td>\n    </tr>\n    <tr>\n      <th>1048</th>\n      <td>34</td>\n      <td>No</td>\n      <td>Travel_Rarely</td>\n      <td>1326</td>\n      <td>Sales</td>\n      <td>3</td>\n      <td>3</td>\n      <td>Other</td>\n      <td>4</td>\n      <td>Male</td>\n      <td>2</td>\n      <td>Single</td>\n      <td>NaN</td>\n      <td>3</td>\n      <td>No</td>\n      <td>3</td>\n      <td>3</td>\n      <td>13</td>\n    </tr>\n    <tr>\n      <th>1152</th>\n      <td>21</td>\n      <td>No</td>\n      <td>Travel_Rarely</td>\n      <td>546</td>\n      <td>Research &amp; Development</td>\n      <td>5</td>\n      <td>1</td>\n      <td>Medical</td>\n      <td>3</td>\n      <td>Male</td>\n      <td>1</td>\n      <td>Single</td>\n      <td>NaN</td>\n      <td>1</td>\n      <td>No</td>\n      <td>3</td>\n      <td>3</td>\n      <td>2</td>\n    </tr>\n    <tr>\n      <th>1155</th>\n      <td>39</td>\n      <td>No</td>\n      <td>Travel_Rarely</td>\n      <td>170</td>\n      <td>Research &amp; Development</td>\n      <td>3</td>\n      <td>2</td>\n      <td>Medical</td>\n      <td>3</td>\n      <td>Male</td>\n      <td>2</td>\n      <td>Divorced</td>\n      <td>NaN</td>\n      <td>0</td>\n      <td>No</td>\n      <td>3</td>\n      <td>3</td>\n      <td>10</td>\n    </tr>\n    <tr>\n      <th>1198</th>\n      <td>33</td>\n      <td>No</td>\n      <td>Non-Travel</td>\n      <td>530</td>\n      <td>Sales</td>\n      <td>16</td>\n      <td>3</td>\n      <td>Life Sciences</td>\n      <td>3</td>\n      <td>Female</td>\n      <td>2</td>\n      <td>Divorced</td>\n      <td>NaN</td>\n      <td>1</td>\n      <td>Yes</td>\n      <td>4</td>\n      <td>3</td>\n      <td>6</td>\n    </tr>\n    <tr>\n      <th>1229</th>\n      <td>40</td>\n      <td>No</td>\n      <td>Travel_Rarely</td>\n      <td>369</td>\n      <td>Research &amp; Development</td>\n      <td>8</td>\n      <td>2</td>\n      <td>Life Sciences</td>\n      <td>2</td>\n      <td>Female</td>\n      <td>2</td>\n      <td>Married</td>\n      <td>NaN</td>\n      <td>2</td>\n      <td>Yes</td>\n      <td>3</td>\n      <td>3</td>\n      <td>1</td>\n    </tr>\n    <tr>\n      <th>1247</th>\n      <td>31</td>\n      <td>No</td>\n      <td>Travel_Rarely</td>\n      <td>1003</td>\n      <td>Sales</td>\n      <td>5</td>\n      <td>3</td>\n      <td>Technical Degree</td>\n      <td>1</td>\n      <td>Male</td>\n      <td>2</td>\n      <td>Married</td>\n      <td>NaN</td>\n      <td>1</td>\n      <td>No</td>\n      <td>3</td>\n      <td>3</td>\n      <td>5</td>\n    </tr>\n    <tr>\n      <th>1364</th>\n      <td>28</td>\n      <td>No</td>\n      <td>Travel_Frequently</td>\n      <td>783</td>\n      <td>Sales</td>\n      <td>1</td>\n      <td>2</td>\n      <td>Life Sciences</td>\n      <td>3</td>\n      <td>Male</td>\n      <td>2</td>\n      <td>Married</td>\n      <td>NaN</td>\n      <td>1</td>\n      <td>Yes</td>\n      <td>3</td>\n      <td>3</td>\n      <td>7</td>\n    </tr>\n    <tr>\n      <th>1371</th>\n      <td>56</td>\n      <td>No</td>\n      <td>Travel_Rarely</td>\n      <td>1443</td>\n      <td>Sales</td>\n      <td>11</td>\n      <td>5</td>\n      <td>Marketing</td>\n      <td>4</td>\n      <td>Female</td>\n      <td>2</td>\n      <td>Married</td>\n      <td>NaN</td>\n      <td>4</td>\n      <td>No</td>\n      <td>3</td>\n      <td>3</td>\n      <td>0</td>\n    </tr>\n    <tr>\n      <th>1424</th>\n      <td>35</td>\n      <td>No</td>\n      <td>Travel_Rarely</td>\n      <td>1395</td>\n      <td>Research &amp; Development</td>\n      <td>9</td>\n      <td>4</td>\n      <td>Medical</td>\n      <td>2</td>\n      <td>Male</td>\n      <td>2</td>\n      <td>Single</td>\n      <td>NaN</td>\n      <td>1</td>\n      <td>No</td>\n      <td>3</td>\n      <td>3</td>\n      <td>10</td>\n    </tr>\n    <tr>\n      <th>1458</th>\n      <td>35</td>\n      <td>No</td>\n      <td>Travel_Rarely</td>\n      <td>287</td>\n      <td>Research &amp; Development</td>\n      <td>1</td>\n      <td>4</td>\n      <td>Life Sciences</td>\n      <td>3</td>\n      <td>Female</td>\n      <td>1</td>\n      <td>Married</td>\n      <td>NaN</td>\n      <td>1</td>\n      <td>No</td>\n      <td>3</td>\n      <td>3</td>\n      <td>4</td>\n    </tr>\n  </tbody>\n</table>\n</div>"
     },
     "execution_count": 74,
     "metadata": {},
     "output_type": "execute_result"
    }
   ],
   "source": [
    "employee_data.loc[employee_data['MonthlyRate'].isnull()]"
   ],
   "metadata": {
    "collapsed": false,
    "ExecuteTime": {
     "start_time": "2023-10-20T15:28:36.666045Z",
     "end_time": "2023-10-20T15:28:36.823787Z"
    }
   }
  },
  {
   "cell_type": "code",
   "execution_count": 75,
   "outputs": [
    {
     "data": {
      "text/plain": "Empty DataFrame\nColumns: [Age, Attrition, BusinessTravel, DailyRate, Department, DistanceFromHome, Education, EducationField, EnvironmentSatisfaction, Gender, JobLevel, MaritalStatus, MonthlyRate, NumCompaniesWorked, OverTime, PerformanceRating, WorkLifeBalance, YearsAtCompany]\nIndex: []",
      "text/html": "<div>\n<style scoped>\n    .dataframe tbody tr th:only-of-type {\n        vertical-align: middle;\n    }\n\n    .dataframe tbody tr th {\n        vertical-align: top;\n    }\n\n    .dataframe thead th {\n        text-align: right;\n    }\n</style>\n<table border=\"1\" class=\"dataframe\">\n  <thead>\n    <tr style=\"text-align: right;\">\n      <th></th>\n      <th>Age</th>\n      <th>Attrition</th>\n      <th>BusinessTravel</th>\n      <th>DailyRate</th>\n      <th>Department</th>\n      <th>DistanceFromHome</th>\n      <th>Education</th>\n      <th>EducationField</th>\n      <th>EnvironmentSatisfaction</th>\n      <th>Gender</th>\n      <th>JobLevel</th>\n      <th>MaritalStatus</th>\n      <th>MonthlyRate</th>\n      <th>NumCompaniesWorked</th>\n      <th>OverTime</th>\n      <th>PerformanceRating</th>\n      <th>WorkLifeBalance</th>\n      <th>YearsAtCompany</th>\n    </tr>\n  </thead>\n  <tbody>\n  </tbody>\n</table>\n</div>"
     },
     "execution_count": 75,
     "metadata": {},
     "output_type": "execute_result"
    }
   ],
   "source": [
    "employee_data.loc[employee_data[\"MonthlyRate\"].isnull(), \"MonthlyRate\"] = employee_data['MonthlyRate'].mean()\n",
    "employee_data.loc[employee_data['MonthlyRate'].isnull()]"
   ],
   "metadata": {
    "collapsed": false,
    "ExecuteTime": {
     "start_time": "2023-10-20T15:28:36.685776Z",
     "end_time": "2023-10-20T15:28:36.829770Z"
    }
   }
  },
  {
   "cell_type": "markdown",
   "source": [
    "### OneRule Algorithm Implementation"
   ],
   "metadata": {
    "collapsed": false
   }
  },
  {
   "cell_type": "code",
   "execution_count": 86,
   "outputs": [],
   "source": [
    "class OneRule:\n",
    "\n",
    "    def __init__(self):\n",
    "        self.max_accuracy = 0\n",
    "        self.ideal_feature = None\n",
    "        self.ideal_value = None\n",
    "        self.being_feature = True\n",
    "        self.grater_than = None\n",
    "        self.label_name = None\n",
    "\n",
    "    def __repr__(self):\n",
    "        if self.ideal_feature is not None:\n",
    "            if self.grater_than is None:\n",
    "                if self.being_feature:\n",
    "                    return f'Best feature found is {self.ideal_feature} where value is {self.ideal_value}'\n",
    "                else:\n",
    "                    return f'Best feature found is {self.ideal_feature} where value is not {self.ideal_value}'\n",
    "            else:\n",
    "                if self.being_feature:\n",
    "                    if self.grater_than:\n",
    "                        return f'Best feature found is {self.ideal_feature} where value is grater than {self.ideal_value}'\n",
    "                    else:\n",
    "                        return f'Best feature found is {self.ideal_feature} where value is less than {self.ideal_value}'\n",
    "                else:\n",
    "                    if self.grater_than:\n",
    "                        return f'Best feature found is {self.ideal_feature} where value is less than {self.ideal_value}'\n",
    "                    else:\n",
    "                        return f'Best feature found is {self.ideal_feature} where value is grater than {self.ideal_value}'\n",
    "        else:\n",
    "            return 'No best feature found'\n",
    "\n",
    "    def fit(self, data: pandas.DataFrame, label_name: str, print_log: bool):\n",
    "        self.label_name = label_name\n",
    "        total_length = len(data)\n",
    "        for attribute in data.columns:\n",
    "            if attribute == label_name:\n",
    "                continue\n",
    "            for value in set(data[attribute]):\n",
    "\n",
    "                if data[attribute].dtype.name == 'object':\n",
    "\n",
    "                    class_frequency = data.loc[data[attribute] == value][label_name].value_counts().sort_values()\n",
    "                    yes = class_frequency['Yes']\n",
    "                    no = class_frequency['No']\n",
    "                    most_frequent_class = yes\n",
    "                    being_feature = True\n",
    "                    if no > yes:\n",
    "                        most_frequent_class = no\n",
    "                        being_feature = False\n",
    "\n",
    "                    count = most_frequent_class\n",
    "                    for row in data.iterrows():\n",
    "                        if being_feature:\n",
    "                            if (row[1][attribute] != value) and (row[1][label_name] == 'No'):\n",
    "                                count += 1\n",
    "                        else:\n",
    "                            if (row[1][attribute] != value) and (row[1][label_name] == 'Yes'):\n",
    "                                count += 1\n",
    "\n",
    "                    accuracy = (count / total_length)\n",
    "\n",
    "                    if print_log:\n",
    "                        if being_feature:\n",
    "                            print(f'If {attribute} is {value} then accuracy is {accuracy}')\n",
    "\n",
    "                        else:\n",
    "                            print(f'If {attribute} is not {value} then accuracy is {accuracy}')\n",
    "\n",
    "                    if accuracy > self.max_accuracy:\n",
    "                        self.max_accuracy = accuracy\n",
    "                        self.ideal_feature = attribute\n",
    "                        self.ideal_value = value\n",
    "                        self.being_feature = being_feature\n",
    "\n",
    "                else:\n",
    "                    class_frequency_gt = data.loc[data[attribute] >= value][label_name].value_counts().sort_values()\n",
    "                    class_frequency_lt = data.loc[data[attribute] < value][label_name].value_counts().sort_values()\n",
    "\n",
    "                    yes_gt = 0\n",
    "                    no_gt = 0\n",
    "                    most_frequent_class_gt = 0\n",
    "\n",
    "                    yes_lt = 0\n",
    "                    no_lt = 0\n",
    "                    most_frequent_class_lt = 0\n",
    "\n",
    "                    if len(class_frequency_gt) != 0:\n",
    "                        if 'Yes' in class_frequency_gt:\n",
    "                            yes_gt = class_frequency_gt['Yes']\n",
    "                        if 'No' in class_frequency_gt:\n",
    "                            no_gt = class_frequency_gt['No']\n",
    "                        most_frequent_class_gt = yes_gt\n",
    "                        if no_gt > yes_gt:\n",
    "                            most_frequent_class_gt = no_gt\n",
    "\n",
    "                    if len(class_frequency_lt) != 0:\n",
    "                        if 'Yes' in class_frequency_lt:\n",
    "                            yes_lt = class_frequency_lt['Yes']\n",
    "                        if 'No' in class_frequency_lt:\n",
    "                            no_lt = class_frequency_lt['No']\n",
    "                        most_frequent_class_lt = yes_lt\n",
    "                        if no_lt > yes_lt:\n",
    "                            most_frequent_class_lt = no_lt\n",
    "\n",
    "                    grater_than = True\n",
    "                    being_feature = True\n",
    "                    most_frequent_class = yes_gt\n",
    "                    if most_frequent_class_gt < most_frequent_class_lt:\n",
    "                        grater_than = False\n",
    "                        most_frequent_class = yes_lt\n",
    "                        if no_lt > yes_lt:\n",
    "                            being_feature = False\n",
    "                            most_frequent_class = no_lt\n",
    "                    else:\n",
    "                        if no_gt > yes_gt:\n",
    "                            being_feature = False\n",
    "                            most_frequent_class = no_gt\n",
    "\n",
    "                    count = most_frequent_class\n",
    "                    for row in data.iterrows():\n",
    "                        if being_feature:\n",
    "                            if grater_than:\n",
    "                                if (row[1][attribute] < value) and (row[1][label_name] == 'No'):\n",
    "                                    count += 1\n",
    "                            else:\n",
    "                                if (row[1][attribute] >= value) and (row[1][label_name] == 'No'):\n",
    "                                    count += 1\n",
    "                        else:\n",
    "                            if grater_than:\n",
    "                                if (row[1][attribute] < value) and (row[1][label_name] == 'Yes'):\n",
    "                                    count += 1\n",
    "                            else:\n",
    "                                if (row[1][attribute] >= value) and (row[1][label_name] == 'Yes'):\n",
    "                                    count += 1\n",
    "\n",
    "                    accuracy = (count / total_length)\n",
    "\n",
    "                    if print_log:\n",
    "                        if being_feature:\n",
    "                            if grater_than:\n",
    "                                print(f'If {attribute} grater than {value} then accuracy is {accuracy}')\n",
    "                            else:\n",
    "                                print(f'If {attribute} less than {value} then accuracy is {accuracy}')\n",
    "                        else:\n",
    "                            if grater_than:\n",
    "                                print(f'If {attribute} grater than {value} then accuracy is {accuracy}')\n",
    "                            else:\n",
    "                                print(f'If {attribute} less than {value} then accuracy is {accuracy}')\n",
    "\n",
    "                    if accuracy > self.max_accuracy:\n",
    "                        self.max_accuracy = accuracy\n",
    "                        self.ideal_feature = attribute\n",
    "                        self.ideal_value = value\n",
    "                        self.being_feature = being_feature\n",
    "                        self.grater_than = grater_than\n",
    "\n",
    "    def predict(self, data: pandas.DataFrame):\n",
    "        prediction = []\n",
    "\n",
    "        for row in data.iterrows():\n",
    "            feature_value = row[1][self.ideal_feature]\n",
    "            if self.grater_than is None:\n",
    "                if self.being_feature:\n",
    "                    if feature_value == self.ideal_value:\n",
    "                        prediction.append('Yes')\n",
    "                    else:\n",
    "                        prediction.append('No')\n",
    "                else:\n",
    "                    if feature_value == self.ideal_value:\n",
    "                        prediction.append('No')\n",
    "                    else:\n",
    "                        prediction.append('Yes')\n",
    "            else:\n",
    "                if self.being_feature:\n",
    "                    if self.grater_than:\n",
    "                        if feature_value >= self.ideal_value:\n",
    "                            prediction.append('Yes')\n",
    "                        else:\n",
    "                            prediction.append('No')\n",
    "                    else:\n",
    "                        if feature_value >= self.ideal_value:\n",
    "                            prediction.append('No')\n",
    "                        else:\n",
    "                            prediction.append('Yes')\n",
    "                else:\n",
    "                    if self.grater_than:\n",
    "                        if feature_value >= self.ideal_value:\n",
    "                            prediction.append('No')\n",
    "                        else:\n",
    "                            prediction.append('Yes')\n",
    "                    else:\n",
    "                        if feature_value >= self.ideal_value:\n",
    "                            prediction.append('Yes')\n",
    "                        else:\n",
    "                            prediction.append('No')\n",
    "\n",
    "        return prediction\n",
    "\n",
    "    def evalutae(self, actual, prediction):\n",
    "        total_length = len(actual)\n",
    "\n",
    "        tp = 0\n",
    "        fp = 0\n",
    "        tn = 0\n",
    "        fn = 0\n",
    "\n",
    "        for ac, pred in zip(actual, prediction):\n",
    "            if ac == pred:\n",
    "                if ac == 'No':\n",
    "                    tn += 1\n",
    "                else:\n",
    "                    tp += 1\n",
    "            else:\n",
    "                if pred == 'No':\n",
    "                    fn += 1\n",
    "                else:\n",
    "                    fp += 1\n",
    "\n",
    "        print('                                Prediction Class')\n",
    "        print('                         Positive       Negative')\n",
    "        print(f'Actual       Positive      {tp}           {fn}')\n",
    "        print(f'Class        Negative      {fp}           {tn}')\n",
    "\n",
    "        accuracy = (tp + tn) / total_length\n",
    "        precision = tp / (tp + fp)\n",
    "        recall = tp / (tp + fn)\n",
    "        f1 = 2 * ((precision * recall) / (precision + recall))\n",
    "        fpr = fp / (fp + tn)\n",
    "        tpr = tp / (tp + fn)\n",
    "\n",
    "        print()\n",
    "        print(f'Accuracy = {accuracy}')\n",
    "        print(f'Precision = {precision}')\n",
    "        print(f'Recall = {recall}')\n",
    "        print(f'F1 score = {f1}')\n",
    "        print(f'FPR = {fpr}')\n",
    "        print(f'TPR = {tpr}')"
   ],
   "metadata": {
    "collapsed": false,
    "ExecuteTime": {
     "start_time": "2023-10-20T15:52:52.131998Z",
     "end_time": "2023-10-20T15:52:52.141198Z"
    }
   }
  },
  {
   "cell_type": "code",
   "execution_count": 81,
   "outputs": [
    {
     "name": "stdout",
     "output_type": "stream",
     "text": [
      "Best feature found is Age where value is less than 21\n"
     ]
    }
   ],
   "source": [
    "one_rule = OneRule()\n",
    "one_rule.fit(employee_data, 'Attrition', False)\n",
    "print(one_rule)"
   ],
   "metadata": {
    "collapsed": false,
    "ExecuteTime": {
     "start_time": "2023-10-20T15:47:39.229109Z",
     "end_time": "2023-10-20T15:49:15.887472Z"
    }
   }
  },
  {
   "cell_type": "code",
   "execution_count": 82,
   "outputs": [
    {
     "name": "stdout",
     "output_type": "stream",
     "text": [
      "['No', 'No', 'No', 'No', 'No', 'No', 'No', 'No', 'No', 'No', 'No', 'No', 'No', 'No', 'No', 'No', 'No', 'No', 'No', 'No', 'No', 'No', 'No', 'No', 'No', 'No', 'No', 'No', 'No', 'No', 'No', 'No', 'No', 'No', 'No', 'No', 'No', 'No', 'No', 'No', 'No', 'No', 'No', 'No', 'No', 'No', 'No', 'No', 'No', 'No', 'No', 'No', 'No', 'No', 'No', 'No', 'No', 'No', 'No', 'No', 'No', 'No', 'No', 'No', 'No', 'No', 'No', 'No', 'No', 'No', 'No', 'No', 'No', 'No', 'No', 'No', 'No', 'No', 'No', 'No', 'No', 'No', 'No', 'No', 'No', 'No', 'No', 'No', 'No', 'No', 'No', 'No', 'No', 'No', 'No', 'No', 'No', 'No', 'No', 'No', 'No', 'No', 'Yes', 'No', 'No', 'No', 'No', 'No', 'No', 'No', 'No', 'No', 'No', 'No', 'No', 'No', 'No', 'No', 'No', 'No', 'No', 'No', 'No', 'No', 'No', 'No', 'No', 'Yes', 'No', 'No', 'No', 'No', 'No', 'No', 'No', 'No', 'No', 'No', 'No', 'No', 'No', 'No', 'No', 'No', 'No', 'No', 'No', 'No', 'No', 'Yes', 'No', 'No', 'No', 'No', 'No', 'No', 'No', 'No', 'No', 'No', 'No', 'No', 'No', 'No', 'No', 'No', 'No', 'No', 'No', 'No', 'No', 'Yes', 'No', 'No', 'No', 'No', 'No', 'Yes', 'No', 'No', 'No', 'No', 'No', 'No', 'No', 'No', 'No', 'No', 'No', 'No', 'No', 'No', 'No', 'No', 'No', 'No', 'No', 'No', 'No', 'No', 'No', 'No', 'No', 'No', 'No', 'No', 'No', 'No', 'No', 'No', 'No', 'No', 'No', 'No', 'No', 'No', 'No', 'No', 'No', 'No', 'No', 'No', 'No', 'No', 'No', 'No', 'No', 'No', 'No', 'No', 'No', 'No', 'No', 'No', 'No', 'No', 'No', 'No', 'No', 'No', 'No', 'No', 'No', 'No', 'No', 'No', 'No', 'No', 'No', 'No', 'No', 'No', 'No', 'No', 'No', 'No', 'No', 'No', 'No', 'No', 'No', 'No', 'No', 'No', 'No', 'No', 'No', 'No', 'No', 'No', 'No', 'No', 'No', 'No', 'No', 'No', 'No', 'No', 'No', 'No', 'No', 'No', 'No', 'No', 'No', 'No', 'No', 'No', 'No', 'No', 'No', 'No', 'No', 'No', 'No', 'No', 'Yes', 'No', 'No', 'No', 'No', 'Yes', 'No', 'No', 'No', 'No', 'No', 'No', 'No', 'No', 'No', 'No', 'No', 'No', 'No', 'No', 'No', 'No', 'No', 'No', 'No', 'No', 'No', 'No', 'No', 'No', 'No', 'No', 'No', 'No', 'No', 'No', 'No', 'No', 'No', 'No', 'No', 'No', 'No', 'No', 'No', 'No', 'No', 'No', 'No', 'No', 'No', 'No', 'No', 'No', 'No', 'No', 'No', 'No', 'No', 'No', 'No', 'No', 'No', 'No', 'No', 'No', 'No', 'No', 'No', 'No', 'No', 'No', 'No', 'No', 'No', 'No', 'No', 'No', 'No', 'No', 'No', 'No', 'No', 'No', 'No', 'No', 'No', 'No', 'No', 'No', 'No', 'No', 'No', 'No', 'No', 'No', 'No', 'No', 'No', 'No', 'No', 'No', 'No', 'No', 'No', 'No', 'No', 'No', 'No', 'No', 'No', 'No', 'No', 'No', 'No', 'No', 'No', 'No', 'No', 'No', 'No', 'No', 'No', 'No', 'No', 'No', 'Yes', 'No', 'No', 'No', 'No', 'No', 'No', 'No', 'No', 'No', 'No', 'No', 'No', 'No', 'No', 'No', 'No', 'No', 'No', 'No', 'No', 'No', 'No', 'No', 'No', 'No', 'No', 'No', 'No', 'No', 'No', 'No', 'No', 'No', 'No', 'Yes', 'No', 'No', 'No', 'No', 'No', 'No', 'No', 'No', 'No', 'No', 'No', 'No', 'No', 'No', 'No', 'No', 'No', 'No', 'No', 'No', 'No', 'No', 'No', 'No', 'No', 'No', 'No', 'No', 'No', 'Yes', 'No', 'No', 'No', 'No', 'No', 'No', 'No', 'No', 'No', 'No', 'No', 'No', 'No', 'No', 'No', 'No', 'No', 'No', 'No', 'No', 'No', 'No', 'No', 'No', 'No', 'Yes', 'No', 'No', 'No', 'No', 'No', 'No', 'No', 'No', 'No', 'No', 'No', 'No', 'No', 'No', 'No', 'No', 'No', 'No', 'No', 'No', 'No', 'No', 'No', 'No', 'No', 'No', 'No', 'No', 'No', 'No', 'No', 'No', 'No', 'No', 'No', 'No', 'No', 'No', 'No', 'No', 'No', 'No', 'No', 'No', 'No', 'No', 'No', 'No', 'No', 'No', 'No', 'No', 'No', 'No', 'No', 'No', 'No', 'No', 'No', 'No', 'No', 'No', 'No', 'No', 'No', 'No', 'No', 'No', 'No', 'No', 'No', 'No', 'No', 'No', 'No', 'No', 'No', 'No', 'No', 'No', 'No', 'No', 'No', 'No', 'No', 'No', 'No', 'No', 'No', 'No', 'No', 'No', 'No', 'No', 'No', 'No', 'No', 'No', 'No', 'No', 'No', 'No', 'No', 'No', 'No', 'No', 'No', 'No', 'No', 'No', 'No', 'No', 'No', 'No', 'No', 'No', 'No', 'No', 'No', 'No', 'No', 'No', 'No', 'No', 'No', 'No', 'No', 'No', 'No', 'No', 'No', 'No', 'No', 'No', 'No', 'No', 'No', 'No', 'No', 'No', 'No', 'No', 'No', 'No', 'No', 'No', 'No', 'No', 'Yes', 'No', 'No', 'No', 'No', 'No', 'No', 'No', 'No', 'No', 'No', 'No', 'No', 'No', 'No', 'No', 'No', 'No', 'No', 'No', 'No', 'No', 'No', 'No', 'No', 'No', 'Yes', 'Yes', 'No', 'No', 'No', 'No', 'No', 'No', 'No', 'No', 'No', 'No', 'No', 'No', 'No', 'No', 'No', 'No', 'No', 'No', 'No', 'No', 'No', 'No', 'No', 'No', 'No', 'No', 'No', 'No', 'No', 'No', 'No', 'No', 'No', 'No', 'No', 'No', 'No', 'Yes', 'No', 'No', 'No', 'Yes', 'No', 'No', 'No', 'No', 'No', 'No', 'No', 'No', 'No', 'No', 'No', 'No', 'No', 'No', 'No', 'No', 'No', 'No', 'No', 'No', 'No', 'No', 'No', 'No', 'No', 'No', 'No', 'No', 'No', 'No', 'No', 'No', 'No', 'No', 'No', 'No', 'No', 'No', 'No', 'No', 'No', 'No', 'No', 'No', 'Yes', 'No', 'No', 'No', 'No', 'No', 'No', 'No', 'No', 'No', 'No', 'No', 'No', 'No', 'No', 'No', 'No', 'No', 'No', 'No', 'No', 'No', 'No', 'No', 'No', 'No', 'No', 'No', 'No', 'No', 'No', 'No', 'No', 'No', 'No', 'No', 'No', 'No', 'No', 'No', 'No', 'No', 'No', 'No', 'No', 'No', 'No', 'No', 'No', 'No', 'No', 'No', 'Yes', 'No', 'No', 'No', 'No', 'No', 'No', 'No', 'No', 'No', 'No', 'No', 'No', 'No', 'No', 'No', 'No', 'No', 'No', 'No', 'No', 'No', 'No', 'No', 'No', 'Yes', 'No', 'No', 'Yes', 'No', 'No', 'No', 'No', 'No', 'No', 'No', 'No', 'No', 'No', 'No', 'No', 'No', 'No', 'No', 'No', 'No', 'No', 'No', 'Yes', 'No', 'No', 'No', 'No', 'No', 'No', 'No', 'No', 'No', 'No', 'No', 'No', 'No', 'No', 'No', 'Yes', 'No', 'No', 'No', 'No', 'No', 'No', 'No', 'No', 'No', 'No', 'No', 'No', 'No', 'No', 'No', 'No', 'Yes', 'No', 'No', 'No', 'No', 'No', 'No', 'No', 'No', 'No', 'No', 'No', 'No', 'No', 'No', 'No', 'No', 'No', 'No', 'No', 'No', 'No', 'No', 'No', 'No', 'No', 'No', 'No', 'No', 'No', 'No', 'No', 'No', 'No', 'No', 'No', 'No', 'No', 'No', 'No', 'No', 'No', 'No', 'No', 'No', 'No', 'No', 'No', 'No', 'No', 'No', 'No', 'No', 'No', 'No', 'No', 'No', 'No', 'No', 'No', 'No', 'No', 'No', 'Yes', 'No', 'No', 'No', 'No', 'No', 'No', 'No', 'No', 'No', 'No', 'No', 'No', 'No', 'No', 'No', 'No', 'No', 'No', 'No', 'No', 'No', 'No', 'No', 'No', 'No', 'No', 'No', 'No', 'No', 'No', 'No', 'No', 'No', 'No', 'No', 'No', 'No', 'No', 'No', 'No', 'No', 'No', 'No', 'No', 'No', 'No', 'No', 'No', 'No', 'No', 'No', 'No', 'No', 'No', 'No', 'No', 'No', 'No', 'No', 'No', 'No', 'No', 'No', 'No', 'No', 'No', 'No', 'No', 'No', 'No', 'No', 'No', 'No', 'No', 'No', 'No', 'No', 'No', 'No', 'No', 'No', 'No', 'No', 'No', 'No', 'No', 'No', 'No', 'No', 'No', 'No', 'No', 'No', 'No', 'No', 'No', 'No', 'No', 'No', 'No', 'No', 'No', 'No', 'No', 'No', 'No', 'No', 'No', 'No', 'No', 'No', 'No', 'No', 'No', 'No', 'No', 'No', 'No', 'No', 'No', 'No', 'No', 'No', 'No', 'No', 'No', 'No', 'No', 'No', 'No', 'No', 'No', 'No', 'No', 'No', 'No', 'No', 'No', 'No', 'No', 'No', 'No', 'No', 'No', 'No', 'No', 'No', 'No', 'No', 'No', 'No', 'No', 'No', 'No', 'No', 'No', 'No', 'No', 'No', 'No', 'No', 'No', 'No', 'No', 'No', 'No', 'No', 'No', 'No', 'No', 'No', 'No', 'No', 'No', 'No', 'No', 'No', 'No', 'No', 'No', 'Yes', 'No', 'No', 'No', 'No', 'No', 'No', 'No', 'No', 'No', 'No', 'No', 'No', 'No', 'No', 'No', 'No', 'No', 'No', 'No', 'No', 'No', 'No', 'No', 'No', 'Yes', 'No', 'No', 'No', 'No', 'No', 'No', 'No', 'No', 'No', 'No', 'No', 'No', 'No', 'No', 'No', 'No', 'No', 'No', 'Yes', 'No', 'No', 'No', 'No', 'No', 'No', 'No', 'No', 'No', 'No', 'No', 'No', 'No', 'No', 'No', 'No', 'No', 'No', 'No', 'No', 'No', 'No', 'No', 'No', 'No', 'No', 'No', 'No', 'No', 'No', 'No', 'No', 'No', 'No', 'No', 'No', 'No', 'No', 'No', 'No', 'No', 'No', 'No', 'No', 'No', 'No', 'No', 'No', 'No', 'No', 'No', 'No', 'No', 'No', 'No', 'No', 'No', 'No', 'No', 'No', 'No', 'No', 'No', 'No', 'No', 'No', 'No', 'No', 'No', 'No', 'No', 'No', 'No', 'No', 'No', 'No', 'No', 'No', 'No', 'No', 'No', 'No', 'No', 'No', 'No', 'No', 'No', 'No', 'No', 'No', 'No', 'No', 'No', 'No', 'No', 'No', 'No', 'No', 'No', 'No', 'No', 'No', 'No', 'No', 'No', 'No', 'No', 'No', 'No', 'No', 'No', 'No', 'No', 'Yes', 'No', 'No', 'No', 'No', 'No', 'No', 'No', 'No', 'No', 'No', 'No', 'No', 'No', 'No', 'No', 'No', 'No', 'No', 'No', 'No', 'No', 'No', 'No', 'No', 'No', 'No', 'No', 'No', 'No', 'No', 'No', 'No', 'No', 'No', 'No', 'No', 'No', 'No', 'No', 'No', 'No', 'No', 'No', 'No', 'No', 'No', 'No', 'No', 'No', 'No', 'No', 'No', 'No', 'No', 'No', 'No', 'No', 'No', 'No', 'No', 'No', 'No', 'No', 'No', 'No', 'No', 'No', 'No', 'No', 'No', 'No', 'No', 'No', 'No', 'No', 'No', 'No', 'No', 'No', 'No', 'No', 'No', 'No', 'No', 'No', 'No', 'No', 'No', 'No', 'No', 'No', 'No', 'No', 'No', 'No', 'No', 'No', 'No', 'No', 'No', 'No', 'No', 'No', 'No', 'No', 'No', 'No', 'No', 'No', 'No', 'No', 'No', 'No', 'No', 'No', 'No', 'No', 'No', 'No', 'No', 'No', 'No', 'No', 'No', 'No', 'No', 'No', 'No', 'No', 'No', 'No', 'No', 'No', 'No', 'No', 'No', 'No', 'No', 'No', 'No', 'No', 'No', 'No', 'No', 'No', 'No', 'No', 'No', 'No', 'No', 'No', 'No', 'No', 'No', 'No', 'No', 'No', 'No']\n"
     ]
    }
   ],
   "source": [
    "employee_data_pred = one_rule.predict(employee_data)\n",
    "print(employee_data_pred)"
   ],
   "metadata": {
    "collapsed": false,
    "ExecuteTime": {
     "start_time": "2023-10-20T15:49:15.885474Z",
     "end_time": "2023-10-20T15:49:15.954878Z"
    }
   }
  },
  {
   "cell_type": "code",
   "execution_count": 90,
   "outputs": [
    {
     "name": "stdout",
     "output_type": "stream",
     "text": [
      "                                Prediction Class\n",
      "                          Positive        Negative\n",
      "Actual       Positive      16           221\n",
      "Class        Negative      12           1221\n",
      "\n",
      "Accuracy = 0.8414965986394558\n",
      "Precision = 0.5714285714285714\n",
      "Recall = 0.06751054852320675\n",
      "F1 score = 0.12075471698113206\n",
      "FPR = 0.009732360097323601\n",
      "TPR = 0.06751054852320675\n"
     ]
    }
   ],
   "source": [
    "one_rule.evalutae(list(employee_data['Attrition']), employee_data_pred)"
   ],
   "metadata": {
    "collapsed": false,
    "ExecuteTime": {
     "start_time": "2023-10-20T15:54:51.922838Z",
     "end_time": "2023-10-20T15:54:51.946633Z"
    }
   }
  },
  {
   "cell_type": "markdown",
   "source": [
    "### Dataset Overview"
   ],
   "metadata": {
    "collapsed": false
   }
  },
  {
   "cell_type": "markdown",
   "source": [
    "### Evaluation"
   ],
   "metadata": {
    "collapsed": false
   }
  },
  {
   "cell_type": "markdown",
   "source": [],
   "metadata": {
    "collapsed": false
   }
  },
  {
   "cell_type": "markdown",
   "source": [],
   "metadata": {
    "collapsed": false
   }
  }
 ],
 "metadata": {
  "kernelspec": {
   "display_name": "Python 3",
   "language": "python",
   "name": "python3"
  },
  "language_info": {
   "codemirror_mode": {
    "name": "ipython",
    "version": 2
   },
   "file_extension": ".py",
   "mimetype": "text/x-python",
   "name": "python",
   "nbconvert_exporter": "python",
   "pygments_lexer": "ipython2",
   "version": "2.7.6"
  }
 },
 "nbformat": 4,
 "nbformat_minor": 0
}
