{
 "cells": [
  {
   "cell_type": "code",
   "execution_count": 19,
   "metadata": {
    "collapsed": true,
    "ExecuteTime": {
     "start_time": "2023-10-16T23:30:05.063795Z",
     "end_time": "2023-10-16T23:30:05.104305Z"
    }
   },
   "outputs": [],
   "source": [
    "# Seyed Mohammad Amin Atyabi - 830402014"
   ]
  },
  {
   "cell_type": "markdown",
   "source": [
    "## 1"
   ],
   "metadata": {
    "collapsed": false
   }
  },
  {
   "cell_type": "markdown",
   "source": [
    "### Pre Process"
   ],
   "metadata": {
    "collapsed": false
   }
  },
  {
   "cell_type": "code",
   "execution_count": 20,
   "outputs": [
    {
     "data": {
      "text/plain": "      Age Attrition     BusinessTravel  DailyRate              Department   \n0      41       Yes      Travel_Rarely       1102                   Sales  \\\n1      49        No  Travel_Frequently        279  Research & Development   \n2      37       Yes      Travel_Rarely       1373  Research & Development   \n3      33        No  Travel_Frequently       1392  Research & Development   \n4      27        No      Travel_Rarely        591  Research & Development   \n...   ...       ...                ...        ...                     ...   \n1465   36        No  Travel_Frequently        884  Research & Development   \n1466   39        No      Travel_Rarely        613  Research & Development   \n1467   27        No      Travel_Rarely        155  Research & Development   \n1468   49        No  Travel_Frequently       1023                   Sales   \n1469   34        No      Travel_Rarely        628  Research & Development   \n\n      DistanceFromHome  Education EducationField  EnvironmentSatisfaction   \n0                    1          2  Life Sciences                        2  \\\n1                    8          1  Life Sciences                        3   \n2                    2          2          Other                        4   \n3                    3          4  Life Sciences                        4   \n4                    2          1        Medical                        1   \n...                ...        ...            ...                      ...   \n1465                23          2        Medical                        3   \n1466                 6          1        Medical                        4   \n1467                 4          3  Life Sciences                        2   \n1468                 2          3        Medical                        4   \n1469                 8          3        Medical                        2   \n\n      Gender  JobLevel MaritalStatus  MonthlyRate  NumCompaniesWorked   \n0     Female         2        Single      19479.0                   8  \\\n1       Male         2       Married      24907.0                   1   \n2       Male         1        Single       2396.0                   6   \n3     Female         1       Married      23159.0                   1   \n4       Male         1       Married      16632.0                   9   \n...      ...       ...           ...          ...                 ...   \n1465    Male         2       Married      12290.0                   4   \n1466    Male         3       Married      21457.0                   4   \n1467    Male         2       Married       5174.0                   1   \n1468    Male         2       Married      13243.0                   2   \n1469    Male         2       Married      10228.0                   2   \n\n     OverTime  PerformanceRating  WorkLifeBalance  YearsAtCompany  \n0         Yes                  3                1               6  \n1          No                  4                3              10  \n2         Yes                  3                3               0  \n3         Yes                  3                3               8  \n4          No                  3                3               2  \n...       ...                ...              ...             ...  \n1465       No                  3                3               5  \n1466       No                  3                3               7  \n1467      Yes                  4                3               6  \n1468       No                  3                2               9  \n1469       No                  3                4               4  \n\n[1470 rows x 18 columns]",
      "text/html": "<div>\n<style scoped>\n    .dataframe tbody tr th:only-of-type {\n        vertical-align: middle;\n    }\n\n    .dataframe tbody tr th {\n        vertical-align: top;\n    }\n\n    .dataframe thead th {\n        text-align: right;\n    }\n</style>\n<table border=\"1\" class=\"dataframe\">\n  <thead>\n    <tr style=\"text-align: right;\">\n      <th></th>\n      <th>Age</th>\n      <th>Attrition</th>\n      <th>BusinessTravel</th>\n      <th>DailyRate</th>\n      <th>Department</th>\n      <th>DistanceFromHome</th>\n      <th>Education</th>\n      <th>EducationField</th>\n      <th>EnvironmentSatisfaction</th>\n      <th>Gender</th>\n      <th>JobLevel</th>\n      <th>MaritalStatus</th>\n      <th>MonthlyRate</th>\n      <th>NumCompaniesWorked</th>\n      <th>OverTime</th>\n      <th>PerformanceRating</th>\n      <th>WorkLifeBalance</th>\n      <th>YearsAtCompany</th>\n    </tr>\n  </thead>\n  <tbody>\n    <tr>\n      <th>0</th>\n      <td>41</td>\n      <td>Yes</td>\n      <td>Travel_Rarely</td>\n      <td>1102</td>\n      <td>Sales</td>\n      <td>1</td>\n      <td>2</td>\n      <td>Life Sciences</td>\n      <td>2</td>\n      <td>Female</td>\n      <td>2</td>\n      <td>Single</td>\n      <td>19479.0</td>\n      <td>8</td>\n      <td>Yes</td>\n      <td>3</td>\n      <td>1</td>\n      <td>6</td>\n    </tr>\n    <tr>\n      <th>1</th>\n      <td>49</td>\n      <td>No</td>\n      <td>Travel_Frequently</td>\n      <td>279</td>\n      <td>Research &amp; Development</td>\n      <td>8</td>\n      <td>1</td>\n      <td>Life Sciences</td>\n      <td>3</td>\n      <td>Male</td>\n      <td>2</td>\n      <td>Married</td>\n      <td>24907.0</td>\n      <td>1</td>\n      <td>No</td>\n      <td>4</td>\n      <td>3</td>\n      <td>10</td>\n    </tr>\n    <tr>\n      <th>2</th>\n      <td>37</td>\n      <td>Yes</td>\n      <td>Travel_Rarely</td>\n      <td>1373</td>\n      <td>Research &amp; Development</td>\n      <td>2</td>\n      <td>2</td>\n      <td>Other</td>\n      <td>4</td>\n      <td>Male</td>\n      <td>1</td>\n      <td>Single</td>\n      <td>2396.0</td>\n      <td>6</td>\n      <td>Yes</td>\n      <td>3</td>\n      <td>3</td>\n      <td>0</td>\n    </tr>\n    <tr>\n      <th>3</th>\n      <td>33</td>\n      <td>No</td>\n      <td>Travel_Frequently</td>\n      <td>1392</td>\n      <td>Research &amp; Development</td>\n      <td>3</td>\n      <td>4</td>\n      <td>Life Sciences</td>\n      <td>4</td>\n      <td>Female</td>\n      <td>1</td>\n      <td>Married</td>\n      <td>23159.0</td>\n      <td>1</td>\n      <td>Yes</td>\n      <td>3</td>\n      <td>3</td>\n      <td>8</td>\n    </tr>\n    <tr>\n      <th>4</th>\n      <td>27</td>\n      <td>No</td>\n      <td>Travel_Rarely</td>\n      <td>591</td>\n      <td>Research &amp; Development</td>\n      <td>2</td>\n      <td>1</td>\n      <td>Medical</td>\n      <td>1</td>\n      <td>Male</td>\n      <td>1</td>\n      <td>Married</td>\n      <td>16632.0</td>\n      <td>9</td>\n      <td>No</td>\n      <td>3</td>\n      <td>3</td>\n      <td>2</td>\n    </tr>\n    <tr>\n      <th>...</th>\n      <td>...</td>\n      <td>...</td>\n      <td>...</td>\n      <td>...</td>\n      <td>...</td>\n      <td>...</td>\n      <td>...</td>\n      <td>...</td>\n      <td>...</td>\n      <td>...</td>\n      <td>...</td>\n      <td>...</td>\n      <td>...</td>\n      <td>...</td>\n      <td>...</td>\n      <td>...</td>\n      <td>...</td>\n      <td>...</td>\n    </tr>\n    <tr>\n      <th>1465</th>\n      <td>36</td>\n      <td>No</td>\n      <td>Travel_Frequently</td>\n      <td>884</td>\n      <td>Research &amp; Development</td>\n      <td>23</td>\n      <td>2</td>\n      <td>Medical</td>\n      <td>3</td>\n      <td>Male</td>\n      <td>2</td>\n      <td>Married</td>\n      <td>12290.0</td>\n      <td>4</td>\n      <td>No</td>\n      <td>3</td>\n      <td>3</td>\n      <td>5</td>\n    </tr>\n    <tr>\n      <th>1466</th>\n      <td>39</td>\n      <td>No</td>\n      <td>Travel_Rarely</td>\n      <td>613</td>\n      <td>Research &amp; Development</td>\n      <td>6</td>\n      <td>1</td>\n      <td>Medical</td>\n      <td>4</td>\n      <td>Male</td>\n      <td>3</td>\n      <td>Married</td>\n      <td>21457.0</td>\n      <td>4</td>\n      <td>No</td>\n      <td>3</td>\n      <td>3</td>\n      <td>7</td>\n    </tr>\n    <tr>\n      <th>1467</th>\n      <td>27</td>\n      <td>No</td>\n      <td>Travel_Rarely</td>\n      <td>155</td>\n      <td>Research &amp; Development</td>\n      <td>4</td>\n      <td>3</td>\n      <td>Life Sciences</td>\n      <td>2</td>\n      <td>Male</td>\n      <td>2</td>\n      <td>Married</td>\n      <td>5174.0</td>\n      <td>1</td>\n      <td>Yes</td>\n      <td>4</td>\n      <td>3</td>\n      <td>6</td>\n    </tr>\n    <tr>\n      <th>1468</th>\n      <td>49</td>\n      <td>No</td>\n      <td>Travel_Frequently</td>\n      <td>1023</td>\n      <td>Sales</td>\n      <td>2</td>\n      <td>3</td>\n      <td>Medical</td>\n      <td>4</td>\n      <td>Male</td>\n      <td>2</td>\n      <td>Married</td>\n      <td>13243.0</td>\n      <td>2</td>\n      <td>No</td>\n      <td>3</td>\n      <td>2</td>\n      <td>9</td>\n    </tr>\n    <tr>\n      <th>1469</th>\n      <td>34</td>\n      <td>No</td>\n      <td>Travel_Rarely</td>\n      <td>628</td>\n      <td>Research &amp; Development</td>\n      <td>8</td>\n      <td>3</td>\n      <td>Medical</td>\n      <td>2</td>\n      <td>Male</td>\n      <td>2</td>\n      <td>Married</td>\n      <td>10228.0</td>\n      <td>2</td>\n      <td>No</td>\n      <td>3</td>\n      <td>4</td>\n      <td>4</td>\n    </tr>\n  </tbody>\n</table>\n<p>1470 rows × 18 columns</p>\n</div>"
     },
     "execution_count": 20,
     "metadata": {},
     "output_type": "execute_result"
    }
   ],
   "source": [
    "import pandas\n",
    "\n",
    "employee_data = pandas.read_csv('data/HR-Employee-Attrition.csv')\n",
    "\n",
    "employee_data"
   ],
   "metadata": {
    "collapsed": false,
    "ExecuteTime": {
     "start_time": "2023-10-16T23:30:05.072377Z",
     "end_time": "2023-10-16T23:30:05.119118Z"
    }
   }
  },
  {
   "cell_type": "code",
   "execution_count": 21,
   "outputs": [
    {
     "data": {
      "text/plain": "<bound method DataFrame.info of       Age Attrition     BusinessTravel  DailyRate              Department   \n0      41       Yes      Travel_Rarely       1102                   Sales  \\\n1      49        No  Travel_Frequently        279  Research & Development   \n2      37       Yes      Travel_Rarely       1373  Research & Development   \n3      33        No  Travel_Frequently       1392  Research & Development   \n4      27        No      Travel_Rarely        591  Research & Development   \n...   ...       ...                ...        ...                     ...   \n1465   36        No  Travel_Frequently        884  Research & Development   \n1466   39        No      Travel_Rarely        613  Research & Development   \n1467   27        No      Travel_Rarely        155  Research & Development   \n1468   49        No  Travel_Frequently       1023                   Sales   \n1469   34        No      Travel_Rarely        628  Research & Development   \n\n      DistanceFromHome  Education EducationField  EnvironmentSatisfaction   \n0                    1          2  Life Sciences                        2  \\\n1                    8          1  Life Sciences                        3   \n2                    2          2          Other                        4   \n3                    3          4  Life Sciences                        4   \n4                    2          1        Medical                        1   \n...                ...        ...            ...                      ...   \n1465                23          2        Medical                        3   \n1466                 6          1        Medical                        4   \n1467                 4          3  Life Sciences                        2   \n1468                 2          3        Medical                        4   \n1469                 8          3        Medical                        2   \n\n      Gender  JobLevel MaritalStatus  MonthlyRate  NumCompaniesWorked   \n0     Female         2        Single      19479.0                   8  \\\n1       Male         2       Married      24907.0                   1   \n2       Male         1        Single       2396.0                   6   \n3     Female         1       Married      23159.0                   1   \n4       Male         1       Married      16632.0                   9   \n...      ...       ...           ...          ...                 ...   \n1465    Male         2       Married      12290.0                   4   \n1466    Male         3       Married      21457.0                   4   \n1467    Male         2       Married       5174.0                   1   \n1468    Male         2       Married      13243.0                   2   \n1469    Male         2       Married      10228.0                   2   \n\n     OverTime  PerformanceRating  WorkLifeBalance  YearsAtCompany  \n0         Yes                  3                1               6  \n1          No                  4                3              10  \n2         Yes                  3                3               0  \n3         Yes                  3                3               8  \n4          No                  3                3               2  \n...       ...                ...              ...             ...  \n1465       No                  3                3               5  \n1466       No                  3                3               7  \n1467      Yes                  4                3               6  \n1468       No                  3                2               9  \n1469       No                  3                4               4  \n\n[1470 rows x 18 columns]>"
     },
     "execution_count": 21,
     "metadata": {},
     "output_type": "execute_result"
    }
   ],
   "source": [
    "# print(employee_data.info)\n",
    "employee_data.info"
   ],
   "metadata": {
    "collapsed": false,
    "ExecuteTime": {
     "start_time": "2023-10-16T23:30:05.103305Z",
     "end_time": "2023-10-16T23:30:05.120117Z"
    }
   }
  },
  {
   "cell_type": "code",
   "execution_count": 22,
   "outputs": [
    {
     "data": {
      "text/plain": "               Age    DailyRate  DistanceFromHome    Education   \ncount  1470.000000  1470.000000       1470.000000  1470.000000  \\\nmean     36.923810   802.485714          9.192517     2.912925   \nstd       9.135373   403.509100          8.106864     1.024165   \nmin      18.000000   102.000000          1.000000     1.000000   \n25%      30.000000   465.000000          2.000000     2.000000   \n50%      36.000000   802.000000          7.000000     3.000000   \n75%      43.000000  1157.000000         14.000000     4.000000   \nmax      60.000000  1499.000000         29.000000     5.000000   \n\n       EnvironmentSatisfaction     JobLevel   MonthlyRate  NumCompaniesWorked   \ncount              1470.000000  1470.000000   1436.000000         1470.000000  \\\nmean                  2.721769     2.063946  14301.253482            2.693197   \nstd                   1.093082     1.106940   7141.338347            2.498009   \nmin                   1.000000     1.000000   2094.000000            0.000000   \n25%                   2.000000     1.000000   8015.250000            1.000000   \n50%                   3.000000     2.000000  14220.000000            2.000000   \n75%                   4.000000     3.000000  20475.500000            4.000000   \nmax                   4.000000     5.000000  26999.000000            9.000000   \n\n       PerformanceRating  WorkLifeBalance  YearsAtCompany  \ncount        1470.000000      1470.000000     1470.000000  \nmean            3.153741         2.761224        7.008163  \nstd             0.360824         0.706476        6.126525  \nmin             3.000000         1.000000        0.000000  \n25%             3.000000         2.000000        3.000000  \n50%             3.000000         3.000000        5.000000  \n75%             3.000000         3.000000        9.000000  \nmax             4.000000         4.000000       40.000000  ",
      "text/html": "<div>\n<style scoped>\n    .dataframe tbody tr th:only-of-type {\n        vertical-align: middle;\n    }\n\n    .dataframe tbody tr th {\n        vertical-align: top;\n    }\n\n    .dataframe thead th {\n        text-align: right;\n    }\n</style>\n<table border=\"1\" class=\"dataframe\">\n  <thead>\n    <tr style=\"text-align: right;\">\n      <th></th>\n      <th>Age</th>\n      <th>DailyRate</th>\n      <th>DistanceFromHome</th>\n      <th>Education</th>\n      <th>EnvironmentSatisfaction</th>\n      <th>JobLevel</th>\n      <th>MonthlyRate</th>\n      <th>NumCompaniesWorked</th>\n      <th>PerformanceRating</th>\n      <th>WorkLifeBalance</th>\n      <th>YearsAtCompany</th>\n    </tr>\n  </thead>\n  <tbody>\n    <tr>\n      <th>count</th>\n      <td>1470.000000</td>\n      <td>1470.000000</td>\n      <td>1470.000000</td>\n      <td>1470.000000</td>\n      <td>1470.000000</td>\n      <td>1470.000000</td>\n      <td>1436.000000</td>\n      <td>1470.000000</td>\n      <td>1470.000000</td>\n      <td>1470.000000</td>\n      <td>1470.000000</td>\n    </tr>\n    <tr>\n      <th>mean</th>\n      <td>36.923810</td>\n      <td>802.485714</td>\n      <td>9.192517</td>\n      <td>2.912925</td>\n      <td>2.721769</td>\n      <td>2.063946</td>\n      <td>14301.253482</td>\n      <td>2.693197</td>\n      <td>3.153741</td>\n      <td>2.761224</td>\n      <td>7.008163</td>\n    </tr>\n    <tr>\n      <th>std</th>\n      <td>9.135373</td>\n      <td>403.509100</td>\n      <td>8.106864</td>\n      <td>1.024165</td>\n      <td>1.093082</td>\n      <td>1.106940</td>\n      <td>7141.338347</td>\n      <td>2.498009</td>\n      <td>0.360824</td>\n      <td>0.706476</td>\n      <td>6.126525</td>\n    </tr>\n    <tr>\n      <th>min</th>\n      <td>18.000000</td>\n      <td>102.000000</td>\n      <td>1.000000</td>\n      <td>1.000000</td>\n      <td>1.000000</td>\n      <td>1.000000</td>\n      <td>2094.000000</td>\n      <td>0.000000</td>\n      <td>3.000000</td>\n      <td>1.000000</td>\n      <td>0.000000</td>\n    </tr>\n    <tr>\n      <th>25%</th>\n      <td>30.000000</td>\n      <td>465.000000</td>\n      <td>2.000000</td>\n      <td>2.000000</td>\n      <td>2.000000</td>\n      <td>1.000000</td>\n      <td>8015.250000</td>\n      <td>1.000000</td>\n      <td>3.000000</td>\n      <td>2.000000</td>\n      <td>3.000000</td>\n    </tr>\n    <tr>\n      <th>50%</th>\n      <td>36.000000</td>\n      <td>802.000000</td>\n      <td>7.000000</td>\n      <td>3.000000</td>\n      <td>3.000000</td>\n      <td>2.000000</td>\n      <td>14220.000000</td>\n      <td>2.000000</td>\n      <td>3.000000</td>\n      <td>3.000000</td>\n      <td>5.000000</td>\n    </tr>\n    <tr>\n      <th>75%</th>\n      <td>43.000000</td>\n      <td>1157.000000</td>\n      <td>14.000000</td>\n      <td>4.000000</td>\n      <td>4.000000</td>\n      <td>3.000000</td>\n      <td>20475.500000</td>\n      <td>4.000000</td>\n      <td>3.000000</td>\n      <td>3.000000</td>\n      <td>9.000000</td>\n    </tr>\n    <tr>\n      <th>max</th>\n      <td>60.000000</td>\n      <td>1499.000000</td>\n      <td>29.000000</td>\n      <td>5.000000</td>\n      <td>4.000000</td>\n      <td>5.000000</td>\n      <td>26999.000000</td>\n      <td>9.000000</td>\n      <td>4.000000</td>\n      <td>4.000000</td>\n      <td>40.000000</td>\n    </tr>\n  </tbody>\n</table>\n</div>"
     },
     "execution_count": 22,
     "metadata": {},
     "output_type": "execute_result"
    }
   ],
   "source": [
    "# print(employee_data.describe())\n",
    "employee_data.describe()"
   ],
   "metadata": {
    "collapsed": false,
    "ExecuteTime": {
     "start_time": "2023-10-16T23:30:05.107100Z",
     "end_time": "2023-10-16T23:30:05.127136Z"
    }
   }
  },
  {
   "cell_type": "code",
   "execution_count": 27,
   "outputs": [
    {
     "name": "stdout",
     "output_type": "stream",
     "text": [
      "Age                         0\n",
      "Attrition                   0\n",
      "BusinessTravel              0\n",
      "DailyRate                   0\n",
      "Department                  0\n",
      "DistanceFromHome            0\n",
      "Education                   0\n",
      "EducationField              0\n",
      "EnvironmentSatisfaction     0\n",
      "Gender                     31\n",
      "JobLevel                    0\n",
      "MaritalStatus               0\n",
      "MonthlyRate                34\n",
      "NumCompaniesWorked          0\n",
      "OverTime                    0\n",
      "PerformanceRating           0\n",
      "WorkLifeBalance             0\n",
      "YearsAtCompany              0\n",
      "dtype: int64\n"
     ]
    }
   ],
   "source": [
    "# print(employee_data.count())\n",
    "print(abs(employee_data.count() - employee_data['Attrition'].count()))"
   ],
   "metadata": {
    "collapsed": false,
    "ExecuteTime": {
     "start_time": "2023-10-16T23:30:55.882131Z",
     "end_time": "2023-10-16T23:30:55.890536Z"
    }
   }
  },
  {
   "cell_type": "markdown",
   "source": [
    "### OneRule Algorithm Implementation"
   ],
   "metadata": {
    "collapsed": false
   }
  },
  {
   "cell_type": "markdown",
   "source": [
    "### Dataset Overview"
   ],
   "metadata": {
    "collapsed": false
   }
  },
  {
   "cell_type": "markdown",
   "source": [
    "### Evaluation"
   ],
   "metadata": {
    "collapsed": false
   }
  },
  {
   "cell_type": "markdown",
   "source": [],
   "metadata": {
    "collapsed": false
   }
  },
  {
   "cell_type": "markdown",
   "source": [],
   "metadata": {
    "collapsed": false
   }
  }
 ],
 "metadata": {
  "kernelspec": {
   "display_name": "Python 3",
   "language": "python",
   "name": "python3"
  },
  "language_info": {
   "codemirror_mode": {
    "name": "ipython",
    "version": 2
   },
   "file_extension": ".py",
   "mimetype": "text/x-python",
   "name": "python",
   "nbconvert_exporter": "python",
   "pygments_lexer": "ipython2",
   "version": "2.7.6"
  }
 },
 "nbformat": 4,
 "nbformat_minor": 0
}
