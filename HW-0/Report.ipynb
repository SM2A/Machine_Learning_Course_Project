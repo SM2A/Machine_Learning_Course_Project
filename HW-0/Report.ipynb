{
 "cells": [
  {
   "cell_type": "markdown",
   "source": [
    "# Seyed Mohammad Amin Atyabi - 830402014"
   ],
   "metadata": {
    "collapsed": false
   }
  },
  {
   "cell_type": "markdown",
   "source": [
    "## NumPy"
   ],
   "metadata": {
    "collapsed": false
   }
  },
  {
   "cell_type": "markdown",
   "source": [
    "### 1"
   ],
   "metadata": {
    "collapsed": false
   }
  },
  {
   "cell_type": "markdown",
   "source": [
    "**1**"
   ],
   "metadata": {
    "collapsed": false
   }
  },
  {
   "cell_type": "code",
   "execution_count": 1,
   "outputs": [
    {
     "name": "stdout",
     "output_type": "stream",
     "text": [
      "Length = 1000\n",
      "Vector = [996, 379, 799, 313, 852, 871, 724, 652, 611, 32, 945, 607, 21, 708, 688, 714, 403, 343, 94, 752, 961, 53, 991, 563, 157, 395, 908, 460, 821, 570, 951, 51, 587, 22, 616, 163, 553, 406, 116, 998, 56, 268, 259, 105, 194, 684, 402, 149, 902, 586, 830, 28, 201, 985, 150, 659, 377, 623, 441, 245, 398, 909, 14, 515, 472, 92, 661, 396, 608, 609, 982, 750, 226, 595, 629, 769, 258, 283, 532, 678, 581, 579, 126, 791, 650, 17, 217, 451, 1000, 441, 514, 394, 101, 381, 168, 370, 145, 752, 949, 848, 379, 951, 398, 604, 416, 466, 583, 773, 214, 240, 156, 21, 342, 277, 705, 999, 856, 248, 703, 820, 334, 180, 895, 727, 792, 12, 422, 218, 218, 831, 724, 620, 320, 972, 382, 204, 436, 916, 928, 923, 882, 907, 868, 733, 205, 744, 953, 329, 103, 342, 707, 475, 667, 433, 11, 986, 999, 721, 770, 505, 127, 406, 820, 949, 147, 818, 653, 700, 389, 561, 385, 851, 306, 564, 293, 105, 272, 729, 118, 566, 951, 45, 630, 198, 517, 42, 761, 889, 977, 265, 547, 254, 371, 376, 591, 808, 814, 243, 89, 307, 18, 203, 646, 553, 149, 151, 187, 184, 634, 404, 457, 876, 830, 200, 604, 928, 20, 594, 425, 195, 985, 95, 473, 408, 555, 560, 80, 855, 446, 370, 587, 30, 947, 540, 902, 296, 835, 167, 676, 588, 847, 929, 748, 217, 222, 391, 156, 228, 136, 773, 241, 897, 154, 690, 667, 647, 551, 927, 652, 242, 639, 910, 317, 672, 100, 344, 230, 708, 251, 434, 468, 731, 577, 384, 360, 566, 569, 699, 840, 148, 393, 859, 109, 544, 343, 51, 888, 674, 112, 559, 575, 859, 772, 448, 473, 403, 212, 200, 70, 668, 667, 281, 385, 163, 949, 263, 587, 176, 464, 396, 168, 517, 726, 867, 650, 780, 199, 293, 73, 575, 10, 244, 619, 420, 541, 683, 805, 150, 516, 565, 982, 808, 458, 973, 629, 356, 433, 801, 332, 520, 920, 46, 712, 625, 509, 595, 386, 816, 215, 354, 21, 115, 963, 705, 704, 115, 68, 251, 44, 829, 924, 900, 173, 642, 811, 275, 530, 58, 138, 851, 270, 535, 84, 947, 458, 292, 391, 829, 799, 685, 309, 924, 864, 851, 651, 627, 64, 653, 619, 749, 437, 991, 893, 834, 946, 74, 232, 796, 304, 762, 875, 106, 447, 767, 758, 813, 500, 382, 340, 983, 967, 143, 296, 923, 637, 187, 143, 576, 724, 872, 155, 835, 769, 110, 936, 206, 739, 454, 736, 86, 517, 323, 188, 876, 90, 216, 154, 107, 737, 211, 417, 320, 133, 639, 179, 99, 70, 434, 212, 756, 368, 127, 57, 108, 386, 335, 603, 321, 132, 273, 150, 27, 575, 32, 626, 842, 258, 165, 203, 23, 266, 443, 974, 322, 33, 529, 233, 906, 81, 683, 557, 551, 387, 642, 669, 492, 17, 552, 180, 46, 722, 960, 521, 913, 361, 495, 630, 458, 173, 900, 306, 255, 567, 14, 729, 670, 718, 105, 621, 722, 875, 54, 849, 50, 891, 466, 144, 708, 793, 889, 576, 946, 934, 764, 697, 363, 130, 321, 419, 373, 253, 315, 437, 901, 347, 600, 50, 170, 768, 516, 699, 181, 202, 154, 28, 949, 907, 932, 694, 210, 352, 418, 442, 706, 117, 891, 841, 135, 295, 253, 627, 188, 759, 388, 172, 590, 284, 750, 866, 159, 906, 898, 923, 15, 119, 620, 568, 710, 943, 825, 860, 436, 604, 777, 839, 923, 46, 570, 740, 824, 635, 125, 977, 279, 803, 823, 139, 55, 575, 373, 515, 807, 106, 564, 119, 440, 892, 573, 86, 803, 848, 594, 694, 536, 908, 801, 975, 926, 320, 965, 293, 340, 202, 497, 963, 769, 805, 562, 809, 959, 497, 119, 679, 758, 336, 263, 356, 188, 79, 619, 609, 341, 140, 602, 76, 51, 340, 206, 472, 451, 783, 973, 322, 606, 736, 243, 303, 620, 632, 273, 753, 936, 139, 500, 195, 343, 697, 247, 993, 370, 296, 873, 590, 20, 47, 624, 59, 967, 271, 233, 49, 450, 661, 694, 125, 460, 701, 986, 518, 284, 501, 223, 221, 888, 714, 167, 953, 23, 28, 458, 642, 482, 104, 586, 54, 916, 846, 289, 474, 388, 195, 839, 604, 16, 530, 488, 133, 915, 588, 702, 431, 563, 395, 720, 765, 965, 458, 467, 488, 676, 316, 807, 512, 986, 127, 22, 655, 910, 457, 310, 123, 190, 285, 927, 798, 459, 384, 273, 94, 753, 728, 275, 142, 951, 923, 310, 553, 384, 381, 16, 778, 696, 586, 67, 399, 782, 556, 595, 702, 721, 97, 173, 13, 164, 278, 324, 338, 356, 54, 729, 964, 327, 171, 662, 514, 113, 436, 558, 138, 978, 685, 895, 226, 676, 297, 417, 162, 452, 586, 207, 963, 805, 156, 449, 883, 968, 539, 192, 823, 690, 448, 750, 655, 425, 733, 206, 51, 910, 594, 958, 607, 830, 742, 23, 442, 720, 520, 112, 622, 758, 387, 921, 852, 781, 398, 339, 487, 238, 811, 16, 273, 208, 80, 601, 192, 374, 965, 50, 645, 857, 938, 462, 88, 411, 190, 77, 251, 69, 375, 152, 882, 426, 365, 45, 612, 368, 407, 571, 41, 672, 863, 785, 486, 835, 201, 164, 149, 658, 493, 531, 173, 236, 261, 52, 744, 228, 679, 305, 442, 22, 548, 487, 603, 913, 445, 988, 203, 712, 156, 483, 251, 584, 538, 277, 415, 504, 447, 517, 614, 949, 522, 135, 32, 828, 20, 917, 819, 866, 923, 148, 683, 508, 469, 385, 795, 477, 853, 324, 523, 948, 918, 218, 254, 581, 318, 467, 870, 695, 515, 59, 596, 164, 42, 968, 52, 417, 434, 503, 788, 876, 399, 359, 765, 668, 765, 493, 935, 590, 193, 911, 322, 43, 168, 593, 667, 914, 738, 229, 70, 820, 730, 825, 890, 269, 686, 612, 567, 133, 253, 403, 755, 777, 482, 709, 334, 293, 906, 433, 806, 819, 442, 59, 65, 116, 819, 68, 165, 814, 553, 506]\n"
     ]
    }
   ],
   "source": [
    "import random\n",
    "\n",
    "vector = [random.randint(10, 1000) for x in range(0, 1000)]\n",
    "print(f'Length = {len(vector)}')\n",
    "print(f'Vector = {vector}')"
   ],
   "metadata": {
    "collapsed": false,
    "ExecuteTime": {
     "end_time": "2023-11-04T19:26:49.087993100Z",
     "start_time": "2023-11-04T19:26:48.792017400Z"
    }
   }
  },
  {
   "cell_type": "markdown",
   "source": [
    "**2**"
   ],
   "metadata": {
    "collapsed": false
   }
  },
  {
   "cell_type": "code",
   "execution_count": 2,
   "outputs": [
    {
     "name": "stdout",
     "output_type": "stream",
     "text": [
      "Average = 496.487\n",
      "Variance = 83427.42325425426\n"
     ]
    }
   ],
   "source": [
    "_sum_ = sum(vector)\n",
    "count = len(vector)\n",
    "mean = _sum_ / count\n",
    "variance = (sum(map(lambda x: (x - mean) ** 2, vector))) / (count - 1)\n",
    "print(f'Average = {mean}')\n",
    "print(f'Variance = {variance}')"
   ],
   "metadata": {
    "collapsed": false,
    "ExecuteTime": {
     "end_time": "2023-11-04T19:26:49.087993100Z",
     "start_time": "2023-11-04T19:26:48.816631300Z"
    }
   }
  },
  {
   "cell_type": "markdown",
   "source": [
    "### 2"
   ],
   "metadata": {
    "collapsed": false
   }
  },
  {
   "cell_type": "markdown",
   "source": [
    "**1**"
   ],
   "metadata": {
    "collapsed": false
   }
  },
  {
   "cell_type": "code",
   "execution_count": 3,
   "outputs": [
    {
     "name": "stdout",
     "output_type": "stream",
     "text": [
      "[[0.33152267033437754, 0.1390528148772554, 0.7085864301585415, 0.9056408453969962, 0.719492363012177, 0.651041953868322, 0.90973216133145, 0.28728097102492967, 0.9457507167352656, 0.8357687805600398], [0.8808467713671538, 0.4527327531261579, 0.8452259781425657, 0.1931811393892886, 0.21055362095638008, 0.42305351156988014, 0.6023179835184217, 0.9736062512704081, 0.06119927379890855, 0.8148760684337467], [0.5827819732922503, 0.9466755862503443, 0.10805741616835385, 0.04202618581087325, 0.4358901389405143, 0.9364389479929083, 0.9524246454393916, 0.5440574192637458, 0.3747301705369903, 0.7895124934234402], [0.7662537997575957, 0.5438912938168055, 0.14249678448757763, 0.3793249663488636, 0.4096629146749936, 0.07368083335856868, 0.8116161997761162, 0.8030294434646983, 0.6999405257859528, 0.36986547961315797], [0.7773581598013918, 0.3252198773741598, 0.3698414445541721, 0.8888603648729643, 0.45599134816827214, 0.24758297025788023, 0.8915874726154205, 0.24401873908520233, 0.22961145722119713, 0.5066698959508257], [0.8388183730260966, 0.6118728236305572, 0.22459538162962933, 0.35065305232718336, 0.36246491531902203, 0.39239763224499014, 0.8494985252356793, 0.7187918642663, 0.2863340395115551, 0.6446829841919666], [0.9201164035586957, 0.8367932501222786, 0.7201312976285777, 0.15361142807646588, 0.6432993476088391, 0.12292569138556808, 0.03981180804633655, 0.736228093682119, 0.7120269279230127, 0.19881423571448997], [0.8876346965414977, 0.6620612266369674, 0.005122948103100544, 0.5066296014365578, 0.8236495566259475, 0.34458979578191473, 0.4783709208094171, 0.6636738286674903, 0.199627264885056, 0.6638747778790629], [0.4000753985794302, 0.053877854894972876, 0.6325555509370197, 0.09138445373518322, 0.3265184868770651, 0.5532228184998755, 0.4094801791512661, 0.15608814462788623, 0.7896479850296299, 0.8276362503238226], [0.6758267710634058, 0.21010356608385972, 0.4634624877420136, 0.041260400375175754, 0.6915677019260724, 0.3010324475236873, 0.6534240337253925, 0.6714001829084969, 0.32053569569695173, 0.7024099934117]]\n"
     ]
    }
   ],
   "source": [
    "matrix = [[random.random() for j in range(0, 10)] for i in range(0, 10)]\n",
    "print(matrix)"
   ],
   "metadata": {
    "collapsed": false,
    "ExecuteTime": {
     "end_time": "2023-11-04T19:26:49.088878400Z",
     "start_time": "2023-11-04T19:26:48.820140900Z"
    }
   }
  },
  {
   "cell_type": "markdown",
   "source": [
    "**2**"
   ],
   "metadata": {
    "collapsed": false
   }
  },
  {
   "cell_type": "code",
   "execution_count": 4,
   "outputs": [
    {
     "name": "stdout",
     "output_type": "stream",
     "text": [
      "Row sum = [6.433869707299355, 5.457593351572911, 5.712594977118813, 4.99976224108433, 4.936741729901486, 5.280109591382979, 5.083758483746383, 5.235234617367012, 4.240487122656152, 4.731023280456756]\n",
      "Column sum = [7.061235017321895, 4.782281046813359, 4.220075719551552, 3.552572437769552, 5.079090394109283, 4.045966602483595, 6.598263929648891, 5.798174938261276, 4.61940405712452, 6.354110959502252]\n"
     ]
    }
   ],
   "source": [
    "rowSum = [sum(x) for x in matrix]\n",
    "columnSum = [sum(x) for x in zip(*matrix)]\n",
    "print(f'Row sum = {rowSum}')\n",
    "print(f'Column sum = {columnSum}')"
   ],
   "metadata": {
    "collapsed": false,
    "ExecuteTime": {
     "end_time": "2023-11-04T19:26:49.088878400Z",
     "start_time": "2023-11-04T19:26:48.827171700Z"
    }
   }
  },
  {
   "cell_type": "markdown",
   "source": [
    "### 3"
   ],
   "metadata": {
    "collapsed": false
   }
  },
  {
   "cell_type": "markdown",
   "source": [
    "**1**"
   ],
   "metadata": {
    "collapsed": false
   }
  },
  {
   "cell_type": "code",
   "execution_count": 5,
   "outputs": [
    {
     "name": "stdout",
     "output_type": "stream",
     "text": [
      "Heights = [140. 200. 175. 120. 150.]\n",
      "Type = float64\n"
     ]
    }
   ],
   "source": [
    "import numpy\n",
    "\n",
    "heights = numpy.array([140, 200, 175, 120, 150], numpy.float64)\n",
    "print(f'Heights = {heights}')\n",
    "print(f'Type = {heights.dtype}')"
   ],
   "metadata": {
    "collapsed": false,
    "ExecuteTime": {
     "end_time": "2023-11-04T19:26:49.450637700Z",
     "start_time": "2023-11-04T19:26:48.831118500Z"
    }
   }
  },
  {
   "cell_type": "markdown",
   "source": [
    "**2**"
   ],
   "metadata": {
    "collapsed": false
   }
  },
  {
   "cell_type": "code",
   "execution_count": 6,
   "outputs": [
    {
     "name": "stdout",
     "output_type": "stream",
     "text": [
      "Widths = [ 7. 10. 15.  8. 12.]\n",
      "Type = float64\n"
     ]
    }
   ],
   "source": [
    "widths = numpy.array([7, 10, 15, 8, 12], numpy.float64)\n",
    "print(f'Widths = {widths}')\n",
    "print(f'Type = {widths.dtype}')"
   ],
   "metadata": {
    "collapsed": false,
    "ExecuteTime": {
     "end_time": "2023-11-04T19:26:49.457443200Z",
     "start_time": "2023-11-04T19:26:49.451638200Z"
    }
   }
  },
  {
   "cell_type": "markdown",
   "source": [
    "**3**"
   ],
   "metadata": {
    "collapsed": false
   }
  },
  {
   "cell_type": "code",
   "execution_count": 7,
   "outputs": [
    {
     "name": "stdout",
     "output_type": "stream",
     "text": [
      "Areas = [ 980. 2000. 2625.  960. 1800.]\n"
     ]
    }
   ],
   "source": [
    "areas = heights * widths\n",
    "print(f'Areas = {areas}')"
   ],
   "metadata": {
    "collapsed": false,
    "ExecuteTime": {
     "end_time": "2023-11-04T19:26:49.460005800Z",
     "start_time": "2023-11-04T19:26:49.454726600Z"
    }
   }
  },
  {
   "cell_type": "markdown",
   "source": [
    "**4**"
   ],
   "metadata": {
    "collapsed": false
   }
  },
  {
   "cell_type": "code",
   "execution_count": 8,
   "outputs": [
    {
     "name": "stdout",
     "output_type": "stream",
     "text": [
      "Indices = [0 1 2 3 4]\n"
     ]
    }
   ],
   "source": [
    "indices = numpy.arange(0, len(heights), dtype=numpy.int64)\n",
    "print(f'Indices = {indices}')"
   ],
   "metadata": {
    "collapsed": false,
    "ExecuteTime": {
     "end_time": "2023-11-04T19:26:49.464368900Z",
     "start_time": "2023-11-04T19:26:49.461007Z"
    }
   }
  },
  {
   "cell_type": "markdown",
   "source": [
    "**5**"
   ],
   "metadata": {
    "collapsed": false
   }
  },
  {
   "cell_type": "code",
   "execution_count": 9,
   "outputs": [
    {
     "name": "stdout",
     "output_type": "stream",
     "text": [
      "[[  0. 140.   7.]\n",
      " [  1. 200.  10.]\n",
      " [  2. 175.  15.]\n",
      " [  3. 120.   8.]\n",
      " [  4. 150.  12.]]\n"
     ]
    }
   ],
   "source": [
    "plant_info = numpy.transpose(numpy.array([indices, heights, widths]))\n",
    "print(plant_info)"
   ],
   "metadata": {
    "collapsed": false,
    "ExecuteTime": {
     "end_time": "2023-11-04T19:26:49.470254300Z",
     "start_time": "2023-11-04T19:26:49.464368900Z"
    }
   }
  },
  {
   "cell_type": "markdown",
   "source": [
    "**6**"
   ],
   "metadata": {
    "collapsed": false
   }
  },
  {
   "cell_type": "code",
   "execution_count": 10,
   "outputs": [
    {
     "name": "stdout",
     "output_type": "stream",
     "text": [
      "[[1. 0. 0.]\n",
      " [0. 1. 0.]\n",
      " [0. 0. 1.]]\n"
     ]
    }
   ],
   "source": [
    "identity_matrix = numpy.eye(3)\n",
    "print(identity_matrix)"
   ],
   "metadata": {
    "collapsed": false,
    "ExecuteTime": {
     "end_time": "2023-11-04T19:26:49.473258900Z",
     "start_time": "2023-11-04T19:26:49.468268900Z"
    }
   }
  },
  {
   "cell_type": "markdown",
   "source": [
    "**7**"
   ],
   "metadata": {
    "collapsed": false
   }
  },
  {
   "cell_type": "code",
   "execution_count": 11,
   "outputs": [
    {
     "name": "stdout",
     "output_type": "stream",
     "text": [
      "[[ 980.    0.    0.    0.    0.]\n",
      " [   0. 2000.    0.    0.    0.]\n",
      " [   0.    0. 2625.    0.    0.]\n",
      " [   0.    0.    0.  960.    0.]\n",
      " [   0.    0.    0.    0. 1800.]]\n"
     ]
    }
   ],
   "source": [
    "diagonal_matrix = numpy.diag(areas)\n",
    "print(diagonal_matrix)"
   ],
   "metadata": {
    "collapsed": false,
    "ExecuteTime": {
     "end_time": "2023-11-04T19:26:49.583411600Z",
     "start_time": "2023-11-04T19:26:49.472258900Z"
    }
   }
  },
  {
   "cell_type": "markdown",
   "source": [
    "**8**"
   ],
   "metadata": {
    "collapsed": false
   }
  },
  {
   "cell_type": "code",
   "execution_count": 12,
   "outputs": [
    {
     "name": "stdout",
     "output_type": "stream",
     "text": [
      "[    30 127125    582]\n"
     ]
    }
   ],
   "source": [
    "squared_sums = numpy.fromfunction(lambda i, j: sum(plant_info ** 2), (1, 4), dtype=int).astype(int)\n",
    "print(squared_sums)"
   ],
   "metadata": {
    "collapsed": false,
    "ExecuteTime": {
     "end_time": "2023-11-04T19:26:49.584411400Z",
     "start_time": "2023-11-04T19:26:49.478382600Z"
    }
   }
  },
  {
   "cell_type": "markdown",
   "source": [
    "### 4"
   ],
   "metadata": {
    "collapsed": false
   }
  },
  {
   "cell_type": "markdown",
   "source": [
    "**1**"
   ],
   "metadata": {
    "collapsed": false
   }
  },
  {
   "cell_type": "code",
   "execution_count": 13,
   "outputs": [
    {
     "name": "stdout",
     "output_type": "stream",
     "text": [
      "[[1 5 3 5 6]\n",
      " [3 4 1 5 3]\n",
      " [6 1 1 1 6]\n",
      " [1 3 1 4 2]]\n",
      "Type = int32\n",
      "Shape = (4, 5)\n",
      "Size = 20\n",
      "length = 4\n"
     ]
    }
   ],
   "source": [
    "treasure_map = numpy.random.randint(1, 7, size=(4, 5))\n",
    "print(treasure_map)\n",
    "print(f'Type = {treasure_map.dtype}')\n",
    "print(f'Shape = {treasure_map.shape}')\n",
    "print(f'Size = {treasure_map.size}')\n",
    "print(f'length = {len(treasure_map)}')"
   ],
   "metadata": {
    "collapsed": false,
    "ExecuteTime": {
     "end_time": "2023-11-04T19:26:49.585413100Z",
     "start_time": "2023-11-04T19:26:49.482137400Z"
    }
   }
  },
  {
   "cell_type": "markdown",
   "source": [
    "**2**"
   ],
   "metadata": {
    "collapsed": false
   }
  },
  {
   "cell_type": "code",
   "execution_count": 14,
   "outputs": [
    {
     "name": "stdout",
     "output_type": "stream",
     "text": [
      "[[1 5 3 5 6 3 4 1 5 3]\n",
      " [6 1 1 1 6 1 3 1 4 2]]\n"
     ]
    }
   ],
   "source": [
    "reshaped_treasure_map = numpy.reshape(treasure_map, (2, -1))\n",
    "print(reshaped_treasure_map)"
   ],
   "metadata": {
    "collapsed": false,
    "ExecuteTime": {
     "end_time": "2023-11-04T19:26:49.586411500Z",
     "start_time": "2023-11-04T19:26:49.490001400Z"
    }
   }
  },
  {
   "cell_type": "markdown",
   "source": [
    "**3**"
   ],
   "metadata": {
    "collapsed": false
   }
  },
  {
   "cell_type": "code",
   "execution_count": 15,
   "outputs": [
    {
     "name": "stdout",
     "output_type": "stream",
     "text": [
      "Original = [1 5 3 5 6]\n",
      "Reshaped = [1 5 3 5 6 3 4 1 5 3]\n"
     ]
    }
   ],
   "source": [
    "print(f'Original = {treasure_map[0]}')\n",
    "print(f'Reshaped = {reshaped_treasure_map[0]}')"
   ],
   "metadata": {
    "collapsed": false,
    "ExecuteTime": {
     "end_time": "2023-11-04T19:26:49.586411500Z",
     "start_time": "2023-11-04T19:26:49.493711100Z"
    }
   }
  },
  {
   "cell_type": "markdown",
   "source": [
    "**4**"
   ],
   "metadata": {
    "collapsed": false
   }
  },
  {
   "cell_type": "code",
   "execution_count": 16,
   "outputs": [
    {
     "name": "stdout",
     "output_type": "stream",
     "text": [
      "Original = [1 3 6 1]\n",
      "Reshaped = [1 6]\n"
     ]
    }
   ],
   "source": [
    "print(f'Original = {treasure_map[:, 0]}')\n",
    "print(f'Reshaped = {reshaped_treasure_map[:, 0]}')"
   ],
   "metadata": {
    "collapsed": false,
    "ExecuteTime": {
     "end_time": "2023-11-04T19:26:49.586411500Z",
     "start_time": "2023-11-04T19:26:49.498328600Z"
    }
   }
  },
  {
   "cell_type": "markdown",
   "source": [
    "**5**"
   ],
   "metadata": {
    "collapsed": false
   }
  },
  {
   "cell_type": "code",
   "execution_count": 17,
   "outputs": [
    {
     "name": "stdout",
     "output_type": "stream",
     "text": [
      "Original = [1 3 1 4 2]\n",
      "Reshaped = [6 1 1 1 6 1 3 1 4 2]\n"
     ]
    }
   ],
   "source": [
    "print(f'Original = {treasure_map[-1]}')\n",
    "print(f'Reshaped = {reshaped_treasure_map[-1]}')"
   ],
   "metadata": {
    "collapsed": false,
    "ExecuteTime": {
     "end_time": "2023-11-04T19:26:49.587412500Z",
     "start_time": "2023-11-04T19:26:49.501388800Z"
    }
   }
  },
  {
   "cell_type": "markdown",
   "source": [
    "**6**"
   ],
   "metadata": {
    "collapsed": false
   }
  },
  {
   "cell_type": "code",
   "execution_count": 18,
   "outputs": [
    {
     "name": "stdout",
     "output_type": "stream",
     "text": [
      "Original = 4\n",
      "Reshaped = 1\n"
     ]
    }
   ],
   "source": [
    "print(f'Original = {treasure_map[1][1]}')\n",
    "print(f'Reshaped = {reshaped_treasure_map[1][1]}')"
   ],
   "metadata": {
    "collapsed": false,
    "ExecuteTime": {
     "end_time": "2023-11-04T19:26:49.588411700Z",
     "start_time": "2023-11-04T19:26:49.506204Z"
    }
   }
  },
  {
   "cell_type": "markdown",
   "source": [
    "**7**"
   ],
   "metadata": {
    "collapsed": false
   }
  },
  {
   "cell_type": "code",
   "execution_count": 19,
   "outputs": [
    {
     "name": "stdout",
     "output_type": "stream",
     "text": [
      "[[5 3 5]\n",
      " [4 1 5]\n",
      " [1 1 1]\n",
      " [3 1 4]]\n"
     ]
    }
   ],
   "source": [
    "print(treasure_map[:, 1:4])"
   ],
   "metadata": {
    "collapsed": false,
    "ExecuteTime": {
     "end_time": "2023-11-04T19:26:49.588411700Z",
     "start_time": "2023-11-04T19:26:49.509955400Z"
    }
   }
  },
  {
   "cell_type": "markdown",
   "source": [
    "**8**"
   ],
   "metadata": {
    "collapsed": false
   }
  },
  {
   "cell_type": "code",
   "execution_count": 20,
   "outputs": [
    {
     "name": "stdout",
     "output_type": "stream",
     "text": [
      "[[ True False False False False]\n",
      " [False False  True False False]\n",
      " [False  True  True  True False]\n",
      " [ True False  True False  True]]\n"
     ]
    }
   ],
   "source": [
    "map_mask = treasure_map <= 2\n",
    "print(map_mask)"
   ],
   "metadata": {
    "collapsed": false,
    "ExecuteTime": {
     "end_time": "2023-11-04T19:26:49.588411700Z",
     "start_time": "2023-11-04T19:26:49.514374900Z"
    }
   }
  },
  {
   "cell_type": "markdown",
   "source": [
    "**9**"
   ],
   "metadata": {
    "collapsed": false
   }
  },
  {
   "cell_type": "code",
   "execution_count": 21,
   "outputs": [
    {
     "name": "stdout",
     "output_type": "stream",
     "text": [
      "[[0 1]\n",
      " [2 2]\n",
      " [2 3]\n",
      " [3 3]\n",
      " [0 2]\n",
      " [1 2]\n",
      " [3 0]\n",
      " [2 4]]\n"
     ]
    }
   ],
   "source": [
    "def print_2d_mak_result(mask):\n",
    "    print(numpy.reshape(numpy.where(map_mask == True), (-1, 2)))\n",
    "\n",
    "\n",
    "print_2d_mak_result(map_mask)"
   ],
   "metadata": {
    "collapsed": false,
    "ExecuteTime": {
     "end_time": "2023-11-04T19:26:49.597411900Z",
     "start_time": "2023-11-04T19:26:49.519392900Z"
    }
   }
  },
  {
   "cell_type": "markdown",
   "source": [
    "**10**"
   ],
   "metadata": {
    "collapsed": false
   }
  },
  {
   "cell_type": "code",
   "execution_count": 22,
   "outputs": [
    {
     "name": "stdout",
     "output_type": "stream",
     "text": [
      "(0, 1) = 5\n",
      "(0, 2) = 3\n"
     ]
    }
   ],
   "source": [
    "print(f'(0, 1) = {treasure_map[0][1]}')\n",
    "print(f'(0, 2) = {treasure_map[0][2]}')"
   ],
   "metadata": {
    "collapsed": false,
    "ExecuteTime": {
     "end_time": "2023-11-04T19:26:49.598412400Z",
     "start_time": "2023-11-04T19:26:49.523562900Z"
    }
   }
  },
  {
   "cell_type": "markdown",
   "source": [
    "### 5"
   ],
   "metadata": {
    "collapsed": false
   }
  },
  {
   "cell_type": "markdown",
   "source": [
    "**1**"
   ],
   "metadata": {
    "collapsed": false
   }
  },
  {
   "cell_type": "code",
   "execution_count": 23,
   "outputs": [
    {
     "name": "stdout",
     "output_type": "stream",
     "text": [
      "[0.43793364 0.75370615 0.0663433  0.51516987 0.77208947 0.44057678\n",
      " 0.8518987  0.9233707  0.00232235 0.16567994 0.81806631 0.76810871\n",
      " 0.44122748 0.07541862 0.85093545 0.41171899 0.56452967 0.98000721\n",
      " 0.58841441 0.53593509 0.60867663 0.48741263 0.15130094 0.26738544\n",
      " 0.46987126 0.991459   0.24070515 0.94337362 0.11985228 0.92817393\n",
      " 0.59857642 0.07581924 0.95809247 0.88668686 0.14879686 0.32406286\n",
      " 0.76746616 0.84280809 0.38019756 0.24245028 0.91426614 0.82442739\n",
      " 0.1610413  0.88943788 0.90579735 0.90105339 0.81721323 0.53211992\n",
      " 0.15896315 0.00420574 0.72678142 0.86405127 0.94609703 0.33051054\n",
      " 0.79733215 0.44203379 0.52513904 0.1930515  0.18317145 0.56200424\n",
      " 0.3917152  0.61170968 0.00905897 0.52801058 0.94789839 0.16317579\n",
      " 0.21330751 0.71414023 0.34074326 0.97184378 0.60954775 0.4447064\n",
      " 0.03813431 0.12530855 0.84922771 0.00653049 0.01641743 0.94396008\n",
      " 0.2864137  0.8429683  0.54972455 0.98080215 0.4984959  0.65346068\n",
      " 0.85595473 0.68549432 0.86414663 0.64814571 0.03713776 0.86931945\n",
      " 0.93575888 0.45326194 0.82143214 0.01335892 0.41769402 0.73285746\n",
      " 0.1697468  0.44926346 0.71872256 0.54155038]\n"
     ]
    }
   ],
   "source": [
    "uniform_array = numpy.random.uniform(0, 1, 100)\n",
    "print(uniform_array)"
   ],
   "metadata": {
    "collapsed": false,
    "ExecuteTime": {
     "end_time": "2023-11-04T19:26:49.598412400Z",
     "start_time": "2023-11-04T19:26:49.527938500Z"
    }
   }
  },
  {
   "cell_type": "markdown",
   "source": [
    "**2**\n",
    "\n",
    "<div dir=\"rtl\">\n",
    "بعد از vectorize کردن سندها ، مقایسه این دو کار آسانی است . تنها کافی است کسینوس زاویه بین این دو بردار را محاسبه کنیم . اگر زاویه بین این دو بردار کوچک است ، زاویه میان آن ها زیاد است و این بدین معناست که دو سند با هم مشابهت دارند .\n",
    "</div>"
   ],
   "metadata": {
    "collapsed": false
   }
  },
  {
   "cell_type": "code",
   "execution_count": 24,
   "outputs": [],
   "source": [
    "def cosine_similarity(array1, array2):\n",
    "    return numpy.dot(array1, array2) / (numpy.linalg.norm(array1) * numpy.linalg.norm(array2))"
   ],
   "metadata": {
    "collapsed": false,
    "ExecuteTime": {
     "end_time": "2023-11-04T19:26:49.599413Z",
     "start_time": "2023-11-04T19:26:49.532690800Z"
    }
   }
  },
  {
   "cell_type": "markdown",
   "source": [
    "**3**"
   ],
   "metadata": {
    "collapsed": false
   }
  },
  {
   "cell_type": "code",
   "execution_count": 25,
   "outputs": [
    {
     "name": "stdout",
     "output_type": "stream",
     "text": [
      "[62 34 18 31 68 57 23 31 48 38 66 31 41 11 25 10  2 16 19 47]\n",
      "[False False  True False False False  True False False False False False\n",
      " False False  True False False False  True False]\n"
     ]
    }
   ],
   "source": [
    "people_age = numpy.random.randint(1, 70, 20)\n",
    "people_age_logical_index = (18 <= people_age) & (people_age <= 30)\n",
    "print(people_age)\n",
    "print(people_age_logical_index)"
   ],
   "metadata": {
    "collapsed": false,
    "ExecuteTime": {
     "end_time": "2023-11-04T19:26:49.599413Z",
     "start_time": "2023-11-04T19:26:49.536185400Z"
    }
   }
  },
  {
   "cell_type": "markdown",
   "source": [
    "**4**"
   ],
   "metadata": {
    "collapsed": false
   }
  },
  {
   "cell_type": "code",
   "execution_count": 26,
   "outputs": [
    {
     "name": "stdout",
     "output_type": "stream",
     "text": [
      "23.3 µs ± 589 ns per loop (mean ± std. dev. of 7 runs, 1,000 loops each)\n"
     ]
    }
   ],
   "source": [
    "number_array = numpy.random.random(10000)\n",
    "\n",
    "%timeit -n 1000 numpy.cumsum(number_array)"
   ],
   "metadata": {
    "collapsed": false,
    "ExecuteTime": {
     "end_time": "2023-11-04T19:26:49.857586900Z",
     "start_time": "2023-11-04T19:26:49.540413600Z"
    }
   }
  },
  {
   "cell_type": "code",
   "execution_count": 27,
   "outputs": [
    {
     "name": "stdout",
     "output_type": "stream",
     "text": [
      "517 µs ± 13.3 µs per loop (mean ± std. dev. of 7 runs, 1,000 loops each)\n"
     ]
    }
   ],
   "source": [
    "def cumulative_sum(array):\n",
    "    acc = 0\n",
    "    for a in array:\n",
    "        acc += a\n",
    "    return acc\n",
    "\n",
    "%timeit -n 1000 cumulative_sum(number_array)"
   ],
   "metadata": {
    "collapsed": false,
    "ExecuteTime": {
     "end_time": "2023-11-04T19:26:53.336604600Z",
     "start_time": "2023-11-04T19:26:49.708054800Z"
    }
   }
  },
  {
   "cell_type": "markdown",
   "source": [
    "**5**"
   ],
   "metadata": {
    "collapsed": false
   }
  },
  {
   "cell_type": "code",
   "execution_count": 28,
   "outputs": [
    {
     "name": "stdout",
     "output_type": "stream",
     "text": [
      "[[0 8 4 3 3 1 5 0 0 6]\n",
      " [3 8 8 4 7 8 5 8 3 8]\n",
      " [9 1 9 3 8 7 9 1 0 4]\n",
      " [9 9 4 8 4 6 1 0 0 0]\n",
      " [9 9 7 7 0 2 4 0 1 9]\n",
      " [7 2 0 4 9 9 2 6 5 2]\n",
      " [6 0 9 1 9 8 8 3 9 2]\n",
      " [5 5 1 6 1 9 2 1 6 2]\n",
      " [2 6 9 3 0 0 8 0 6 8]\n",
      " [7 0 2 5 0 3 5 2 7 2]]\n",
      "[[0 1]\n",
      " [2 2]\n",
      " [2 3]\n",
      " [3 3]\n",
      " [0 2]\n",
      " [1 2]\n",
      " [3 0]\n",
      " [2 4]]\n"
     ]
    }
   ],
   "source": [
    "def intensity_mask(array, lower_bound):\n",
    "    return array > lower_bound\n",
    "\n",
    "\n",
    "picture_pixel = numpy.random.randint(0, 10, size=(10, 10))\n",
    "print(picture_pixel)\n",
    "print_2d_mak_result(intensity_mask(picture_pixel, 5))"
   ],
   "metadata": {
    "collapsed": false,
    "ExecuteTime": {
     "end_time": "2023-11-04T19:26:53.339612100Z",
     "start_time": "2023-11-04T19:26:53.333167400Z"
    }
   }
  },
  {
   "cell_type": "markdown",
   "source": [
    "**6**"
   ],
   "metadata": {
    "collapsed": false
   }
  },
  {
   "cell_type": "code",
   "execution_count": 29,
   "outputs": [
    {
     "name": "stdout",
     "output_type": "stream",
     "text": [
      "SVDResult(U=array([[-0.10567044, -0.14664915, -0.12399081, ...,  0.0780715 ,\n",
      "         0.09803738,  0.06879969],\n",
      "       [-0.09048422,  0.17066137,  0.09396956, ..., -0.06642067,\n",
      "         0.00984007,  0.08492345],\n",
      "       [-0.09183866, -0.01550815,  0.08014283, ..., -0.02140311,\n",
      "         0.0431825 , -0.07813292],\n",
      "       ...,\n",
      "       [-0.10511515,  0.13983058,  0.06229777, ...,  0.00894543,\n",
      "        -0.03627921,  0.12110915],\n",
      "       [-0.09383462, -0.03120574, -0.11231913, ..., -0.03605469,\n",
      "        -0.00214694,  0.02546219],\n",
      "       [-0.10627272, -0.04625159, -0.06886416, ..., -0.12038672,\n",
      "         0.04009185,  0.02850495]]), S=array([4.96666097e+03, 5.70838896e+02, 5.42263256e+02, 5.41399836e+02,\n",
      "       5.29994118e+02, 5.16596529e+02, 5.04671306e+02, 4.84811681e+02,\n",
      "       4.79995316e+02, 4.70873553e+02, 4.60588178e+02, 4.55914918e+02,\n",
      "       4.48058245e+02, 4.37538886e+02, 4.34947215e+02, 4.32488590e+02,\n",
      "       4.24322493e+02, 4.21856119e+02, 4.12168590e+02, 4.07473163e+02,\n",
      "       4.00883356e+02, 3.99007156e+02, 3.90769228e+02, 3.84288211e+02,\n",
      "       3.75947196e+02, 3.70107400e+02, 3.65243290e+02, 3.52398273e+02,\n",
      "       3.51128832e+02, 3.43419374e+02, 3.36603460e+02, 3.33723950e+02,\n",
      "       3.23248068e+02, 3.19732332e+02, 3.16640675e+02, 3.12766676e+02,\n",
      "       3.04555031e+02, 2.95899157e+02, 2.94647587e+02, 2.92039045e+02,\n",
      "       2.84191383e+02, 2.81074189e+02, 2.72999320e+02, 2.65680580e+02,\n",
      "       2.61786607e+02, 2.57054679e+02, 2.53794872e+02, 2.47779767e+02,\n",
      "       2.44438501e+02, 2.40358120e+02, 2.32446152e+02, 2.29871016e+02,\n",
      "       2.25328403e+02, 2.19966828e+02, 2.11778917e+02, 2.05519236e+02,\n",
      "       1.98463321e+02, 1.95607071e+02, 1.93084233e+02, 1.89316378e+02,\n",
      "       1.83221206e+02, 1.80759569e+02, 1.79607431e+02, 1.72715777e+02,\n",
      "       1.64107517e+02, 1.61383592e+02, 1.57922061e+02, 1.49729050e+02,\n",
      "       1.44015324e+02, 1.42206521e+02, 1.35668317e+02, 1.31234252e+02,\n",
      "       1.24819351e+02, 1.21496852e+02, 1.15542395e+02, 1.12601947e+02,\n",
      "       1.08908899e+02, 1.00727559e+02, 9.92478979e+01, 9.56714896e+01,\n",
      "       9.20758970e+01, 8.77781920e+01, 8.62609177e+01, 7.92099815e+01,\n",
      "       7.37224425e+01, 6.63887687e+01, 6.46573370e+01, 5.98274898e+01,\n",
      "       5.52632314e+01, 5.33413527e+01, 4.41220786e+01, 3.98364867e+01,\n",
      "       3.72775004e+01, 3.11024161e+01, 2.63975599e+01, 2.22915035e+01,\n",
      "       1.74368699e+01, 1.12889729e+01, 5.14357192e+00, 1.28929744e+00]), Vh=array([[-0.0962158 , -0.11125343, -0.10137112, ..., -0.10030706,\n",
      "        -0.095604  , -0.09932296],\n",
      "       [ 0.04839979,  0.10180429,  0.12227265, ...,  0.04320746,\n",
      "        -0.03285407, -0.22871429],\n",
      "       [-0.09148886,  0.06335813, -0.14559519, ...,  0.09992282,\n",
      "         0.17688491,  0.19392107],\n",
      "       ...,\n",
      "       [ 0.04738031, -0.08225449, -0.10849795, ..., -0.09541815,\n",
      "         0.06415133, -0.0252122 ],\n",
      "       [ 0.08280792,  0.02680843, -0.10370124, ...,  0.15841262,\n",
      "        -0.00118029,  0.02193857],\n",
      "       [ 0.15233027, -0.07963255, -0.07720503, ...,  0.00659571,\n",
      "         0.02911047,  0.15169779]]))\n"
     ]
    }
   ],
   "source": [
    "number_array_2d = numpy.random.randint(0, 100, size=(100, 100))  #TODO\n",
    "\n",
    "reduced_array = numpy.linalg.svd(number_array_2d)\n",
    "\n",
    "print(reduced_array)"
   ],
   "metadata": {
    "collapsed": false,
    "ExecuteTime": {
     "end_time": "2023-11-04T19:26:53.408539600Z",
     "start_time": "2023-11-04T19:26:53.339612100Z"
    }
   }
  },
  {
   "cell_type": "markdown",
   "source": [
    "**7**"
   ],
   "metadata": {
    "collapsed": false
   }
  },
  {
   "cell_type": "code",
   "execution_count": 30,
   "outputs": [
    {
     "name": "stdout",
     "output_type": "stream",
     "text": [
      "[[ 1.         -0.01811152]\n",
      " [-0.01811152  1.        ]]\n"
     ]
    }
   ],
   "source": [
    "def correlation_coefficient(array1, array2):\n",
    "    return numpy.corrcoef(array1, array2)\n",
    "\n",
    "\n",
    "print(correlation_coefficient(numpy.random.random(100), numpy.random.random(100)))"
   ],
   "metadata": {
    "collapsed": false,
    "ExecuteTime": {
     "end_time": "2023-11-04T19:26:53.409540700Z",
     "start_time": "2023-11-04T19:26:53.367024500Z"
    }
   }
  },
  {
   "cell_type": "markdown",
   "source": [
    "**8**"
   ],
   "metadata": {
    "collapsed": false
   }
  },
  {
   "cell_type": "code",
   "execution_count": 31,
   "outputs": [
    {
     "name": "stdout",
     "output_type": "stream",
     "text": [
      "Data = [   1    5   76    2    3   67    2    4 6534   24    5  756    9   67\n",
      "    0    2]\n",
      "Type = <class 'numpy.ndarray'>\n"
     ]
    }
   ],
   "source": [
    "csv_file_array = numpy.genfromtxt('data/number.csv', delimiter=',', skip_header=True, dtype=int)\n",
    "print(f'Data = {csv_file_array}')\n",
    "print(f'Type = {type(csv_file_array)}')\n",
    "numpy.save('data/number', csv_file_array)"
   ],
   "metadata": {
    "collapsed": false,
    "ExecuteTime": {
     "end_time": "2023-11-04T19:26:53.410842700Z",
     "start_time": "2023-11-04T19:26:53.372516300Z"
    }
   }
  },
  {
   "cell_type": "markdown",
   "source": [
    "**9**"
   ],
   "metadata": {
    "collapsed": false
   }
  },
  {
   "cell_type": "code",
   "execution_count": 32,
   "outputs": [
    {
     "data": {
      "text/plain": "<Figure size 1500x500 with 2 Axes>",
      "image/png": "[encoded data removed]"
     },
     "metadata": {},
     "output_type": "display_data"
    }
   ],
   "source": [
    "from matplotlib import pyplot as plt\n",
    "\n",
    "import warnings\n",
    "\n",
    "warnings.filterwarnings('ignore')\n",
    "\n",
    "x = numpy.arange(0, 2, 1. / 500)\n",
    "sound_wave = 3 * numpy.sin(numpy.pi * x * 4)\n",
    "wave_fourier_transform = numpy.fft.fft(sound_wave)\n",
    "\n",
    "plt.figure(figsize=(15, 5))\n",
    "\n",
    "plt.subplot(1, 2, 1)\n",
    "plt.plot(x, sound_wave, color='c')\n",
    "plt.title('Sound Wave')\n",
    "plt.ylabel('Amplitude')\n",
    "plt.xlabel('Time')\n",
    "plt.grid()\n",
    "\n",
    "plt.subplot(1, 2, 2)\n",
    "plt.plot(wave_fourier_transform, color='m')\n",
    "plt.title('Fourier Transform')\n",
    "plt.ylabel('Amplitude')\n",
    "plt.xlabel('Frequency (Hz)')\n",
    "plt.grid()\n",
    "\n",
    "plt.show()"
   ],
   "metadata": {
    "collapsed": false,
    "ExecuteTime": {
     "end_time": "2023-11-04T19:26:54.258799600Z",
     "start_time": "2023-11-04T19:26:53.396324700Z"
    }
   }
  },
  {
   "cell_type": "code",
   "execution_count": 33,
   "outputs": [
    {
     "data": {
      "text/plain": "<Figure size 1500x500 with 2 Axes>",
      "image/png": "[encoded data removed]"
     },
     "metadata": {},
     "output_type": "display_data"
    }
   ],
   "source": [
    "from scipy.io import wavfile\n",
    "from scipy.fft import fft\n",
    "\n",
    "rate, data = wavfile.read('data/sound.wav')\n",
    "\n",
    "wave_fourier_transform = fft([(ele / 2 ** 8.) * 2 - 1 for ele in data.T[0]])\n",
    "wave_fourier_transform_length = int(len(wave_fourier_transform))\n",
    "\n",
    "plt.figure(figsize=(15, 5))\n",
    "\n",
    "plt.subplot(1, 2, 1)\n",
    "plt.plot(data, color='c')\n",
    "plt.title('Sound Wave')\n",
    "plt.ylabel('Amplitude')\n",
    "plt.xlabel('Time')\n",
    "plt.grid()\n",
    "\n",
    "plt.subplot(1, 2, 2)\n",
    "plt.plot(abs(wave_fourier_transform[:(wave_fourier_transform_length - 1)]), color='m')\n",
    "plt.title('Fourier Transform')\n",
    "plt.ylabel('Amplitude')\n",
    "plt.xlabel('Frequency (Hz)')\n",
    "plt.grid()\n",
    "\n",
    "plt.show()"
   ],
   "metadata": {
    "collapsed": false,
    "ExecuteTime": {
     "end_time": "2023-11-04T19:26:55.647285Z",
     "start_time": "2023-11-04T19:26:54.260799400Z"
    }
   }
  },
  {
   "cell_type": "markdown",
   "source": [
    "### 6"
   ],
   "metadata": {
    "collapsed": false
   }
  },
  {
   "cell_type": "code",
   "execution_count": 34,
   "outputs": [
    {
     "data": {
      "text/plain": "array([[1.2, 3.5, 2.4, 1.8],\n       [4.1, 2.2, 3.9, 4.8],\n       [2.8, 1.9, 4.5, 3.2]])"
     },
     "execution_count": 34,
     "metadata": {},
     "output_type": "execute_result"
    }
   ],
   "source": [
    "sensor_data = numpy.array([[1.2, 3.5, 2.4, 1.8], [4.1, 2.2, 3.9, 4.8], [2.8, 1.9, 4.5, 3.2]])\n",
    "sensor_data"
   ],
   "metadata": {
    "collapsed": false,
    "ExecuteTime": {
     "end_time": "2023-11-04T19:26:55.657566800Z",
     "start_time": "2023-11-04T19:26:55.649286700Z"
    }
   }
  },
  {
   "cell_type": "markdown",
   "source": [
    "**1**"
   ],
   "metadata": {
    "collapsed": false
   }
  },
  {
   "cell_type": "code",
   "execution_count": 35,
   "outputs": [
    {
     "data": {
      "text/plain": "array([[-1.26472371,  1.39204455, -1.35873244, -1.19664225],\n       [ 1.1804088 , -0.48001536,  0.33968311,  1.25103507],\n       [ 0.08431491, -0.91202919,  1.01904933, -0.05439283]])"
     },
     "execution_count": 35,
     "metadata": {},
     "output_type": "execute_result"
    }
   ],
   "source": [
    "sensor_data_transpose = sensor_data.transpose()\n",
    "indices = numpy.indices(sensor_data.shape)[-1][0]\n",
    "standardized_data = sensor_data.copy()\n",
    "for i, c in zip(indices, sensor_data_transpose):\n",
    "    standardized_data[:, i] = (sensor_data[:, i] - c.mean()) / c.std()\n",
    "standardized_data"
   ],
   "metadata": {
    "collapsed": false,
    "ExecuteTime": {
     "end_time": "2023-11-04T19:26:55.660623Z",
     "start_time": "2023-11-04T19:26:55.652979100Z"
    }
   }
  },
  {
   "cell_type": "markdown",
   "source": [
    "**2**"
   ],
   "metadata": {
    "collapsed": false
   }
  },
  {
   "cell_type": "code",
   "execution_count": 36,
   "outputs": [
    {
     "data": {
      "text/plain": "array([[-1.20640427,  1.50064921,  0.20597146, -0.5002164 ],\n       [ 0.36639675, -1.62261416,  0.15702718,  1.09919024],\n       [-0.32071349, -1.28285396,  1.49666295,  0.1069045 ]])"
     },
     "execution_count": 36,
     "metadata": {},
     "output_type": "execute_result"
    }
   ],
   "source": [
    "row_standardized_data = sensor_data.copy()\n",
    "indices = numpy.indices(sensor_data.shape)[0][:, 0]\n",
    "for i, r in zip(indices, sensor_data):\n",
    "    row_standardized_data[i] = (sensor_data[i] - r.mean()) / r.std()\n",
    "row_standardized_data"
   ],
   "metadata": {
    "collapsed": false,
    "ExecuteTime": {
     "end_time": "2023-11-04T19:26:55.667486800Z",
     "start_time": "2023-11-04T19:26:55.659581100Z"
    }
   }
  },
  {
   "cell_type": "markdown",
   "source": [
    "**3**"
   ],
   "metadata": {
    "collapsed": false
   }
  },
  {
   "cell_type": "code",
   "execution_count": 37,
   "outputs": [
    {
     "data": {
      "text/plain": "36.3"
     },
     "execution_count": 37,
     "metadata": {},
     "output_type": "execute_result"
    }
   ],
   "source": [
    "sensor_data.sum()"
   ],
   "metadata": {
    "collapsed": false,
    "ExecuteTime": {
     "end_time": "2023-11-04T19:26:55.675588500Z",
     "start_time": "2023-11-04T19:26:55.667486800Z"
    }
   }
  },
  {
   "cell_type": "markdown",
   "source": [
    "**4**"
   ],
   "metadata": {
    "collapsed": false
   }
  },
  {
   "cell_type": "code",
   "execution_count": 38,
   "outputs": [
    {
     "data": {
      "text/plain": "array([ 8.1,  7.6, 10.8,  9.8])"
     },
     "execution_count": 38,
     "metadata": {},
     "output_type": "execute_result"
    }
   ],
   "source": [
    "sensor_data.sum(axis=0)"
   ],
   "metadata": {
    "collapsed": false,
    "ExecuteTime": {
     "end_time": "2023-11-04T19:26:55.684506800Z",
     "start_time": "2023-11-04T19:26:55.673565100Z"
    }
   }
  },
  {
   "cell_type": "markdown",
   "source": [
    "**5**"
   ],
   "metadata": {
    "collapsed": false
   }
  },
  {
   "cell_type": "code",
   "execution_count": 39,
   "outputs": [
    {
     "data": {
      "text/plain": "array([ 8.9, 15. , 12.4])"
     },
     "execution_count": 39,
     "metadata": {},
     "output_type": "execute_result"
    }
   ],
   "source": [
    "sensor_data.sum(axis=1)"
   ],
   "metadata": {
    "collapsed": false,
    "ExecuteTime": {
     "end_time": "2023-11-04T19:26:55.794441300Z",
     "start_time": "2023-11-04T19:26:55.680482800Z"
    }
   }
  },
  {
   "cell_type": "markdown",
   "source": [
    "**6**"
   ],
   "metadata": {
    "collapsed": false
   }
  },
  {
   "cell_type": "code",
   "execution_count": 40,
   "outputs": [
    {
     "data": {
      "text/plain": "array([[ 1.2       ,  3.5       ,  2.4       ,  1.8       ,  4.1       ,\n         2.2       ,  3.9       ,  4.8       ,  2.8       ,  1.9       ,\n         4.5       ,  3.2       ],\n       [-1.26472371,  1.39204455, -1.35873244, -1.19664225,  1.1804088 ,\n        -0.48001536,  0.33968311,  1.25103507,  0.08431491, -0.91202919,\n         1.01904933, -0.05439283]])"
     },
     "execution_count": 40,
     "metadata": {},
     "output_type": "execute_result"
    }
   ],
   "source": [
    "combined_array = numpy.array([sensor_data.flatten(), standardized_data.flatten()])\n",
    "combined_array"
   ],
   "metadata": {
    "collapsed": false,
    "ExecuteTime": {
     "end_time": "2023-11-04T19:26:55.795441400Z",
     "start_time": "2023-11-04T19:26:55.686518600Z"
    }
   }
  },
  {
   "cell_type": "markdown",
   "source": [
    "**7**"
   ],
   "metadata": {
    "collapsed": false
   }
  },
  {
   "cell_type": "code",
   "execution_count": 41,
   "outputs": [
    {
     "name": "stdout",
     "output_type": "stream",
     "text": [
      "[[ 1.2         3.5         2.4         1.8       ]\n",
      " [-1.26472371  1.39204455 -1.35873244 -1.19664225]]\n",
      "[[ 4.1         2.2         3.9         4.8       ]\n",
      " [ 1.1804088  -0.48001536  0.33968311  1.25103507]]\n",
      "[[ 2.8         1.9         4.5         3.2       ]\n",
      " [ 0.08431491 -0.91202919  1.01904933 -0.05439283]]\n"
     ]
    }
   ],
   "source": [
    "A, B, C = numpy.array_split(combined_array, 3, axis=1)\n",
    "print(A)\n",
    "print(B)\n",
    "print(C)"
   ],
   "metadata": {
    "collapsed": false,
    "ExecuteTime": {
     "end_time": "2023-11-04T19:26:55.795441400Z",
     "start_time": "2023-11-04T19:26:55.694590900Z"
    }
   }
  },
  {
   "cell_type": "markdown",
   "source": [
    "## Matplotlib"
   ],
   "metadata": {
    "collapsed": false
   }
  },
  {
   "cell_type": "markdown",
   "source": [
    "### 2"
   ],
   "metadata": {
    "collapsed": false
   }
  },
  {
   "cell_type": "markdown",
   "source": [
    "**1**"
   ],
   "metadata": {
    "collapsed": false
   }
  },
  {
   "cell_type": "code",
   "execution_count": 64,
   "outputs": [
    {
     "data": {
      "text/plain": "<Figure size 640x480 with 1 Axes>",
      "image/png": "[encoded data removed]"
     },
     "metadata": {},
     "output_type": "display_data"
    }
   ],
   "source": [
    "import pandas\n",
    "\n",
    "N = 10\n",
    "rng = pandas.date_range('2019-01-01', freq='MS', periods=N)\n",
    "df = pandas.DataFrame(numpy.random.rand(N, 3), columns=['temp', 'depth', 'acceleration'], index=rng)\n",
    "\n",
    "\n",
    "def improve_legend(ax=None):\n",
    "    if ax is None:\n",
    "        ax = plt.gca()\n",
    "\n",
    "    for spine in ax.spines:\n",
    "        ax.spines[spine].set_visible(False)\n",
    "\n",
    "    for line in ax.lines:\n",
    "        data_x, data_y = line.get_data()\n",
    "        right_most_x = data_x[-1]\n",
    "        right_most_y = data_y[-1]\n",
    "        ax.annotate(\n",
    "            line.get_label(),\n",
    "            xy=(right_most_x, right_most_y),\n",
    "            xytext=(5, 0),\n",
    "            textcoords=\"offset points\",\n",
    "            va=\"center\",\n",
    "            color=line.get_color(),\n",
    "        )\n",
    "    ax.legend().set_visible(False)\n",
    "\n",
    "\n",
    "ax = df.plot()\n",
    "improve_legend(ax)"
   ],
   "metadata": {
    "collapsed": false,
    "ExecuteTime": {
     "end_time": "2023-11-04T19:40:14.224750600Z",
     "start_time": "2023-11-04T19:40:14.135415700Z"
    }
   }
  },
  {
   "cell_type": "markdown",
   "source": [
    "### 4"
   ],
   "metadata": {
    "collapsed": false
   }
  },
  {
   "cell_type": "code",
   "execution_count": 96,
   "outputs": [
    {
     "data": {
      "text/plain": "<Figure size 640x480 with 1 Axes>",
      "image/png": "[encoded data removed]"
     },
     "metadata": {},
     "output_type": "display_data"
    }
   ],
   "source": [
    "plt.style.use('ggplot')\n",
    "\n",
    "dic = {\n",
    "    'Slice 1': 4.8,\n",
    "    'Slice 2': 4.8,\n",
    "    'Slice 3': 4.8,\n",
    "    'Slice 4': 4.8,\n",
    "    'Slice 5': 4.8,\n",
    "    'Slice 6': 4.8,\n",
    "    'Slice 7': 4.8,\n",
    "    'Slice 8': 4.8,\n",
    "    'Slice 9': 4.8,\n",
    "    'Slice 10': 4.8,\n",
    "    'Slice 11': 4.8,\n",
    "    'Slice 12': 4.8,\n",
    "    'Slice 13': 4.8,\n",
    "    'Slice 14': 4.8,\n",
    "    'Slice 15': 4.8,\n",
    "    'Slice 16': 4.8,\n",
    "    'Slice 17': 4.8,\n",
    "    'Slice 18': 4.8,\n",
    "    'Slice 19': 4.8,\n",
    "    'Slice 20': 9.5\n",
    "}\n",
    "\n",
    "labels = dic.keys()\n",
    "sizes = dic.values()\n",
    "\n",
    "fig, ax = plt.subplots()\n",
    "\n",
    "ax.pie(sizes, labels=labels, autopct='%1.1f%%', explode=(0, 0, 0, 0, 0, 0, 0, 0, 0, 0, 0, 0, 0, 0, 0, 0, 0, 0, 0, .1), startangle=90)\n",
    "ax.axis('equal')\n",
    "plt.tight_layout()\n",
    "\n",
    "plt.show()"
   ],
   "metadata": {
    "collapsed": false,
    "ExecuteTime": {
     "end_time": "2023-11-04T19:56:56.120042800Z",
     "start_time": "2023-11-04T19:56:55.974465200Z"
    }
   }
  },
  {
   "cell_type": "code",
   "execution_count": null,
   "outputs": [],
   "source": [],
   "metadata": {
    "collapsed": false
   }
  }
 ],
 "metadata": {
  "kernelspec": {
   "display_name": "Python 3",
   "language": "python",
   "name": "python3"
  },
  "language_info": {
   "codemirror_mode": {
    "name": "ipython",
    "version": 2
   },
   "file_extension": ".py",
   "mimetype": "text/x-python",
   "name": "python",
   "nbconvert_exporter": "python",
   "pygments_lexer": "ipython2",
   "version": "2.7.6"
  }
 },
 "nbformat": 4,
 "nbformat_minor": 0
}
