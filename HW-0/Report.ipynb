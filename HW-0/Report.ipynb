{
 "cells": [
  {
   "cell_type": "markdown",
   "source": [
    "# Seyed Mohammad Amin Atyabi - 830402014"
   ],
   "metadata": {
    "collapsed": false
   }
  },
  {
   "cell_type": "markdown",
   "source": [
    "## NumPy"
   ],
   "metadata": {
    "collapsed": false
   }
  },
  {
   "cell_type": "markdown",
   "source": [
    "### 1"
   ],
   "metadata": {
    "collapsed": false
   }
  },
  {
   "cell_type": "markdown",
   "source": [
    "**1**"
   ],
   "metadata": {
    "collapsed": false
   }
  },
  {
   "cell_type": "code",
   "execution_count": 51,
   "outputs": [
    {
     "name": "stdout",
     "output_type": "stream",
     "text": [
      "Length = 1000\n",
      "Vector = [713, 875, 622, 435, 714, 489, 921, 725, 448, 160, 764, 981, 111, 344, 849, 554, 508, 340, 766, 515, 528, 542, 985, 580, 411, 974, 787, 894, 462, 310, 606, 768, 311, 847, 160, 269, 596, 903, 661, 709, 996, 674, 321, 305, 183, 626, 85, 871, 259, 574, 266, 139, 588, 143, 532, 766, 259, 492, 655, 114, 217, 843, 645, 827, 963, 33, 471, 768, 270, 531, 760, 768, 178, 340, 409, 590, 208, 999, 582, 181, 236, 814, 818, 741, 124, 808, 362, 514, 363, 48, 872, 589, 45, 452, 490, 370, 168, 828, 297, 858, 174, 568, 350, 529, 23, 825, 347, 796, 395, 421, 798, 897, 344, 997, 550, 505, 894, 143, 50, 905, 447, 974, 130, 766, 979, 848, 795, 828, 487, 866, 443, 197, 286, 736, 230, 370, 359, 889, 580, 544, 698, 426, 183, 123, 262, 128, 46, 610, 279, 995, 167, 81, 690, 586, 898, 618, 715, 301, 592, 238, 978, 587, 68, 838, 583, 892, 941, 512, 730, 899, 218, 645, 283, 129, 670, 475, 727, 280, 804, 425, 901, 971, 452, 91, 980, 78, 599, 248, 140, 999, 562, 706, 757, 738, 751, 459, 94, 589, 929, 613, 625, 822, 853, 639, 388, 808, 424, 375, 70, 160, 958, 158, 495, 33, 194, 528, 274, 160, 381, 710, 416, 981, 685, 79, 844, 350, 363, 596, 714, 644, 344, 106, 644, 316, 578, 981, 426, 443, 196, 436, 226, 624, 111, 119, 377, 615, 694, 65, 694, 44, 97, 454, 19, 553, 939, 749, 991, 523, 573, 603, 891, 121, 797, 659, 719, 145, 390, 282, 562, 73, 682, 197, 590, 453, 991, 724, 878, 124, 354, 166, 843, 995, 866, 648, 474, 310, 687, 758, 959, 988, 320, 586, 310, 201, 295, 326, 592, 36, 348, 378, 245, 851, 200, 613, 910, 320, 430, 258, 459, 169, 229, 240, 418, 440, 434, 301, 577, 173, 214, 721, 955, 958, 817, 665, 747, 837, 638, 310, 894, 519, 963, 94, 657, 970, 620, 409, 302, 200, 959, 510, 796, 42, 328, 754, 293, 284, 165, 446, 726, 740, 541, 255, 796, 828, 939, 734, 655, 210, 375, 809, 307, 33, 275, 989, 27, 159, 214, 456, 830, 447, 738, 406, 61, 717, 752, 915, 416, 435, 546, 933, 675, 924, 540, 532, 845, 29, 80, 139, 513, 450, 685, 13, 700, 235, 61, 86, 269, 504, 700, 592, 692, 31, 925, 691, 517, 206, 976, 950, 594, 558, 27, 384, 115, 592, 196, 232, 255, 513, 273, 793, 99, 141, 111, 785, 462, 694, 363, 51, 649, 847, 992, 821, 392, 620, 213, 926, 981, 630, 237, 695, 887, 797, 848, 527, 767, 848, 998, 371, 631, 121, 288, 820, 368, 699, 196, 917, 45, 527, 428, 281, 180, 230, 709, 271, 673, 604, 265, 88, 995, 11, 744, 79, 790, 83, 65, 419, 211, 216, 391, 89, 198, 214, 900, 90, 319, 665, 604, 808, 397, 923, 69, 750, 605, 69, 837, 967, 500, 840, 368, 306, 311, 630, 236, 855, 982, 264, 21, 393, 200, 192, 262, 289, 157, 301, 595, 260, 448, 787, 283, 647, 336, 863, 119, 430, 513, 631, 411, 441, 996, 202, 241, 124, 321, 85, 660, 888, 140, 631, 716, 161, 784, 634, 468, 110, 897, 482, 12, 993, 369, 904, 739, 918, 156, 262, 932, 623, 990, 169, 218, 565, 645, 681, 12, 620, 482, 272, 885, 258, 482, 736, 272, 241, 108, 635, 261, 859, 85, 333, 177, 608, 485, 118, 391, 536, 287, 626, 518, 175, 781, 371, 564, 248, 379, 773, 268, 381, 153, 304, 864, 463, 551, 275, 18, 478, 64, 179, 554, 359, 634, 79, 508, 364, 140, 326, 767, 344, 794, 448, 771, 570, 716, 307, 144, 60, 946, 416, 627, 715, 449, 31, 629, 135, 832, 235, 884, 809, 69, 999, 527, 968, 919, 672, 476, 727, 558, 862, 768, 145, 208, 250, 878, 929, 968, 467, 354, 682, 287, 512, 645, 467, 626, 639, 387, 529, 182, 15, 391, 488, 726, 109, 912, 730, 747, 974, 751, 59, 289, 205, 85, 852, 760, 376, 731, 153, 128, 516, 875, 764, 732, 240, 338, 156, 596, 758, 876, 196, 102, 555, 173, 120, 781, 673, 843, 239, 12, 843, 809, 463, 228, 47, 170, 190, 637, 625, 541, 793, 623, 758, 235, 171, 732, 345, 863, 231, 689, 358, 722, 904, 980, 68, 138, 296, 144, 449, 492, 148, 729, 451, 687, 244, 329, 773, 196, 353, 213, 787, 665, 749, 982, 953, 942, 726, 872, 22, 989, 470, 780, 679, 540, 615, 881, 582, 949, 228, 53, 271, 784, 896, 970, 769, 820, 75, 297, 878, 219, 845, 784, 97, 491, 945, 406, 956, 884, 228, 386, 34, 966, 372, 793, 56, 650, 302, 56, 625, 771, 795, 682, 93, 474, 277, 23, 454, 934, 938, 222, 643, 48, 98, 366, 172, 88, 862, 185, 218, 764, 713, 154, 451, 217, 67, 605, 551, 205, 428, 902, 890, 992, 649, 182, 981, 195, 199, 546, 783, 853, 864, 884, 894, 591, 670, 69, 321, 368, 848, 910, 466, 712, 947, 293, 172, 921, 653, 349, 838, 684, 704, 141, 85, 265, 718, 746, 537, 15, 793, 748, 29, 481, 157, 813, 870, 934, 329, 295, 943, 79, 505, 440, 617, 890, 559, 273, 674, 683, 178, 906, 670, 105, 884, 594, 879, 921, 581, 601, 308, 344, 396, 506, 743, 711, 647, 399, 375, 225, 183, 168, 643, 531, 716, 921, 542, 694, 757, 384, 812, 76, 709, 910, 750, 967, 60, 602, 925, 700, 709, 914, 120, 29, 761, 58, 320, 274, 625, 662, 333, 50, 849, 786, 657, 72, 917, 901, 115, 591, 852, 973, 470, 870, 735, 135, 77, 456, 985, 102, 767, 557, 485, 171, 414, 607, 438, 986, 573, 451, 464, 130, 341, 158, 150, 532, 567, 588, 12, 437, 218, 625, 29, 265, 477, 830, 871, 269, 753, 154, 479, 340, 772, 380, 422, 962, 289, 829, 160, 929, 519, 804, 240, 238, 754, 765, 61]\n"
     ]
    }
   ],
   "source": [
    "import random\n",
    "\n",
    "vector = [random.randint(10, 1000) for x in range(0, 1000)]\n",
    "print(f'Length = {len(vector)}')\n",
    "print(f'Vector = {vector}')"
   ],
   "metadata": {
    "collapsed": false,
    "ExecuteTime": {
     "start_time": "2023-10-06T12:01:22.622130Z",
     "end_time": "2023-10-06T12:01:22.856282Z"
    }
   }
  },
  {
   "cell_type": "markdown",
   "source": [
    "**2**"
   ],
   "metadata": {
    "collapsed": false
   }
  },
  {
   "cell_type": "code",
   "execution_count": 52,
   "outputs": [
    {
     "name": "stdout",
     "output_type": "stream",
     "text": [
      "Average = 508.481\n",
      "Variance = 83390.43006906901\n"
     ]
    }
   ],
   "source": [
    "_sum_ = sum(vector)\n",
    "count = len(vector)\n",
    "mean = _sum_ / count\n",
    "variance = (sum(map(lambda x: (x - mean) ** 2, vector))) / (count - 1)\n",
    "print(f'Average = {mean}')\n",
    "print(f'Variance = {variance}')"
   ],
   "metadata": {
    "collapsed": false,
    "ExecuteTime": {
     "start_time": "2023-10-06T12:01:22.630088Z",
     "end_time": "2023-10-06T12:01:22.856282Z"
    }
   }
  },
  {
   "cell_type": "markdown",
   "source": [
    "### 2"
   ],
   "metadata": {
    "collapsed": false
   }
  },
  {
   "cell_type": "markdown",
   "source": [
    "**1**"
   ],
   "metadata": {
    "collapsed": false
   }
  },
  {
   "cell_type": "code",
   "execution_count": 53,
   "outputs": [
    {
     "name": "stdout",
     "output_type": "stream",
     "text": [
      "[[0.7185843957182134, 0.6211447354118991, 0.3518500154787654, 0.21628321748596768, 0.9011818020516452, 0.11929566135401526, 0.17800094946235112, 0.47442684556803605, 0.9821502477068735, 0.5145313182757357], [0.6358797665879684, 0.37800977802092184, 0.7059652736511501, 0.44625054611229087, 0.3254907376455646, 0.13928250639486983, 0.05798144025314411, 0.5557556742942343, 0.20392866734091775, 0.18731009564500667], [0.7112306105575263, 0.7222000364309338, 0.7200418516911162, 0.5474397925692841, 0.9737667182083322, 0.4591458894390609, 0.19125028294639912, 0.946915693661029, 0.453315556688183, 0.36536597259028436], [0.7410331339271998, 0.19846485677155357, 0.6024017052350379, 0.6137170306472799, 0.22566094876610354, 0.30228632602384564, 0.8666945162976792, 0.37193914212947765, 0.8680374478723141, 0.5374261306965412], [0.9576663387273732, 0.39341720354167564, 0.12315469809337753, 0.029630094685068498, 0.33932272954590503, 0.9747441419700166, 0.7927690168521025, 0.9575812162116657, 0.01644604624466106, 0.03305434372818428], [0.059454070724431984, 0.8933931212971409, 0.4521990801498683, 0.7296553875677202, 0.7733382127906375, 0.8257481925549368, 0.411402035251355, 0.9577098188247329, 0.4418908579630716, 0.8843190039831574], [0.3112135696454632, 0.9550708652793571, 0.1414871908512495, 0.5126572854682535, 0.17301904423458225, 0.5842993712999268, 0.47956823584206143, 0.5481408009831417, 0.5578961231150321, 0.5745092903795394], [0.5130333444834823, 0.5751203004876424, 0.3028848599424656, 0.5536257682362584, 0.35985868593596915, 0.033536492127454576, 0.7925995792289388, 0.7998614198460897, 0.29503645718952165, 0.6126807318504903], [0.8872756225671025, 0.35802373364557283, 0.6004940930050681, 0.9307914464641958, 0.8031680563544742, 0.05713935273193582, 0.06375885140337367, 0.33672728450244904, 0.40078368757044325, 0.3974171498900564], [0.4361088809332637, 0.5473412508508928, 0.8382316135476686, 0.7989003352748223, 0.22268296548325872, 0.5087714132763129, 0.06271730733683722, 0.026859884575268, 0.2025058028953195, 0.46513124452203025]]\n"
     ]
    }
   ],
   "source": [
    "matrix = [[random.random() for j in range(0, 10)] for i in range(0, 10)]\n",
    "print(matrix)"
   ],
   "metadata": {
    "collapsed": false,
    "ExecuteTime": {
     "start_time": "2023-10-06T12:01:22.643869Z",
     "end_time": "2023-10-06T12:01:22.925289Z"
    }
   }
  },
  {
   "cell_type": "markdown",
   "source": [
    "**2**"
   ],
   "metadata": {
    "collapsed": false
   }
  },
  {
   "cell_type": "code",
   "execution_count": 54,
   "outputs": [
    {
     "name": "stdout",
     "output_type": "stream",
     "text": [
      "Row sum = [5.077449188513502, 3.6358544859460684, 6.090672404782149, 5.327661238367033, 4.61778582960003, 6.429109781107052, 4.837861777098607, 4.838237639328313, 4.835579278134672, 4.109250698695674]\n",
      "Column sum = [5.971479733872026, 5.642185881737589, 4.838710381645768, 5.378950904511141, 5.0974899010164725, 4.004249347172375, 3.8967422148742417, 5.975917780596124, 4.4219908945863375, 4.571745281561027]\n"
     ]
    }
   ],
   "source": [
    "rowSum = [sum(x) for x in matrix]\n",
    "columnSum = [sum(x) for x in zip(*matrix)]\n",
    "print(f'Row sum = {rowSum}')\n",
    "print(f'Column sum = {columnSum}')"
   ],
   "metadata": {
    "collapsed": false,
    "ExecuteTime": {
     "start_time": "2023-10-06T12:01:22.649384Z",
     "end_time": "2023-10-06T12:01:22.925289Z"
    }
   }
  },
  {
   "cell_type": "markdown",
   "source": [
    "### 3"
   ],
   "metadata": {
    "collapsed": false
   }
  },
  {
   "cell_type": "markdown",
   "source": [
    "**1**"
   ],
   "metadata": {
    "collapsed": false
   }
  },
  {
   "cell_type": "code",
   "execution_count": 55,
   "outputs": [
    {
     "name": "stdout",
     "output_type": "stream",
     "text": [
      "Heights = [140. 200. 175. 120. 150.]\n",
      "Type = float64\n"
     ]
    }
   ],
   "source": [
    "import numpy\n",
    "\n",
    "heights = numpy.array([140, 200, 175, 120, 150], numpy.float64)\n",
    "print(f'Heights = {heights}')\n",
    "print(f'Type = {heights.dtype}')"
   ],
   "metadata": {
    "collapsed": false,
    "ExecuteTime": {
     "start_time": "2023-10-06T12:01:22.655841Z",
     "end_time": "2023-10-06T12:01:22.925289Z"
    }
   }
  },
  {
   "cell_type": "markdown",
   "source": [
    "**2**"
   ],
   "metadata": {
    "collapsed": false
   }
  },
  {
   "cell_type": "code",
   "execution_count": 56,
   "outputs": [
    {
     "name": "stdout",
     "output_type": "stream",
     "text": [
      "Widths = [ 7. 10. 15.  8. 12.]\n",
      "Type = float64\n"
     ]
    }
   ],
   "source": [
    "widths = numpy.array([7, 10, 15, 8, 12], numpy.float64)\n",
    "print(f'Widths = {widths}')\n",
    "print(f'Type = {widths.dtype}')"
   ],
   "metadata": {
    "collapsed": false,
    "ExecuteTime": {
     "start_time": "2023-10-06T12:01:22.661721Z",
     "end_time": "2023-10-06T12:01:22.926292Z"
    }
   }
  },
  {
   "cell_type": "markdown",
   "source": [
    "**3**"
   ],
   "metadata": {
    "collapsed": false
   }
  },
  {
   "cell_type": "code",
   "execution_count": 57,
   "outputs": [
    {
     "name": "stdout",
     "output_type": "stream",
     "text": [
      "Areas = [ 980. 2000. 2625.  960. 1800.]\n"
     ]
    }
   ],
   "source": [
    "areas = heights * widths\n",
    "print(f'Areas = {areas}')"
   ],
   "metadata": {
    "collapsed": false,
    "ExecuteTime": {
     "start_time": "2023-10-06T12:01:22.665505Z",
     "end_time": "2023-10-06T12:01:22.927190Z"
    }
   }
  },
  {
   "cell_type": "markdown",
   "source": [
    "**4**"
   ],
   "metadata": {
    "collapsed": false
   }
  },
  {
   "cell_type": "code",
   "execution_count": 58,
   "outputs": [
    {
     "name": "stdout",
     "output_type": "stream",
     "text": [
      "Indices = [0 1 2 3 4]\n"
     ]
    }
   ],
   "source": [
    "indices = numpy.arange(0, len(heights), dtype=numpy.int64)\n",
    "print(f'Indices = {indices}')"
   ],
   "metadata": {
    "collapsed": false,
    "ExecuteTime": {
     "start_time": "2023-10-06T12:01:22.671362Z",
     "end_time": "2023-10-06T12:01:22.927190Z"
    }
   }
  },
  {
   "cell_type": "markdown",
   "source": [
    "**5**"
   ],
   "metadata": {
    "collapsed": false
   }
  },
  {
   "cell_type": "code",
   "execution_count": 59,
   "outputs": [
    {
     "name": "stdout",
     "output_type": "stream",
     "text": [
      "[[  0. 140.   7.]\n",
      " [  1. 200.  10.]\n",
      " [  2. 175.  15.]\n",
      " [  3. 120.   8.]\n",
      " [  4. 150.  12.]]\n"
     ]
    }
   ],
   "source": [
    "plant_info = numpy.transpose(numpy.array([indices, heights, widths]))\n",
    "print(plant_info)"
   ],
   "metadata": {
    "collapsed": false,
    "ExecuteTime": {
     "start_time": "2023-10-06T12:01:22.677753Z",
     "end_time": "2023-10-06T12:01:22.927190Z"
    }
   }
  },
  {
   "cell_type": "markdown",
   "source": [
    "**6**"
   ],
   "metadata": {
    "collapsed": false
   }
  },
  {
   "cell_type": "code",
   "execution_count": 60,
   "outputs": [
    {
     "name": "stdout",
     "output_type": "stream",
     "text": [
      "[[1. 0. 0.]\n",
      " [0. 1. 0.]\n",
      " [0. 0. 1.]]\n"
     ]
    }
   ],
   "source": [
    "identity_matrix = numpy.eye(3)\n",
    "print(identity_matrix)"
   ],
   "metadata": {
    "collapsed": false,
    "ExecuteTime": {
     "start_time": "2023-10-06T12:01:22.683551Z",
     "end_time": "2023-10-06T12:01:22.928281Z"
    }
   }
  },
  {
   "cell_type": "markdown",
   "source": [
    "**7**"
   ],
   "metadata": {
    "collapsed": false
   }
  },
  {
   "cell_type": "code",
   "execution_count": 61,
   "outputs": [
    {
     "name": "stdout",
     "output_type": "stream",
     "text": [
      "[[ 980.    0.    0.    0.    0.]\n",
      " [   0. 2000.    0.    0.    0.]\n",
      " [   0.    0. 2625.    0.    0.]\n",
      " [   0.    0.    0.  960.    0.]\n",
      " [   0.    0.    0.    0. 1800.]]\n"
     ]
    }
   ],
   "source": [
    "diagonal_matrix = numpy.diag(areas)\n",
    "print(diagonal_matrix)"
   ],
   "metadata": {
    "collapsed": false,
    "ExecuteTime": {
     "start_time": "2023-10-06T12:01:22.728890Z",
     "end_time": "2023-10-06T12:01:22.937259Z"
    }
   }
  },
  {
   "cell_type": "markdown",
   "source": [
    "**8**"
   ],
   "metadata": {
    "collapsed": false
   }
  },
  {
   "cell_type": "code",
   "execution_count": 62,
   "outputs": [
    {
     "name": "stdout",
     "output_type": "stream",
     "text": [
      "[    30 127125    582]\n"
     ]
    }
   ],
   "source": [
    "squared_sums = numpy.fromfunction(lambda i, j: sum(plant_info ** 2), (1, 4), dtype=int).astype(int)\n",
    "print(squared_sums)"
   ],
   "metadata": {
    "collapsed": false,
    "ExecuteTime": {
     "start_time": "2023-10-06T12:01:22.739021Z",
     "end_time": "2023-10-06T12:01:22.938273Z"
    }
   }
  },
  {
   "cell_type": "markdown",
   "source": [
    "### 4"
   ],
   "metadata": {
    "collapsed": false
   }
  },
  {
   "cell_type": "markdown",
   "source": [
    "**1**"
   ],
   "metadata": {
    "collapsed": false
   }
  },
  {
   "cell_type": "code",
   "execution_count": 63,
   "outputs": [
    {
     "name": "stdout",
     "output_type": "stream",
     "text": [
      "[[4 5 1 2 2]\n",
      " [1 2 3 6 2]\n",
      " [2 2 6 4 1]\n",
      " [1 5 1 2 1]]\n",
      "Type = int32\n",
      "Shape = (4, 5)\n",
      "Size = 20\n",
      "length = 4\n"
     ]
    }
   ],
   "source": [
    "treasure_map = numpy.random.randint(1, 7, size=(4, 5))\n",
    "print(treasure_map)\n",
    "print(f'Type = {treasure_map.dtype}')\n",
    "print(f'Shape = {treasure_map.shape}')\n",
    "print(f'Size = {treasure_map.size}')\n",
    "print(f'length = {len(treasure_map)}')"
   ],
   "metadata": {
    "collapsed": false,
    "ExecuteTime": {
     "start_time": "2023-10-06T12:01:22.752087Z",
     "end_time": "2023-10-06T12:01:22.938273Z"
    }
   }
  },
  {
   "cell_type": "markdown",
   "source": [
    "**2**"
   ],
   "metadata": {
    "collapsed": false
   }
  },
  {
   "cell_type": "code",
   "execution_count": 64,
   "outputs": [
    {
     "name": "stdout",
     "output_type": "stream",
     "text": [
      "[[4 5 1 2 2 1 2 3 6 2]\n",
      " [2 2 6 4 1 1 5 1 2 1]]\n"
     ]
    }
   ],
   "source": [
    "reshaped_treasure_map = numpy.reshape(treasure_map, (2, -1))\n",
    "print(reshaped_treasure_map)"
   ],
   "metadata": {
    "collapsed": false,
    "ExecuteTime": {
     "start_time": "2023-10-06T12:01:22.757755Z",
     "end_time": "2023-10-06T12:01:22.939275Z"
    }
   }
  },
  {
   "cell_type": "markdown",
   "source": [
    "**3**"
   ],
   "metadata": {
    "collapsed": false
   }
  },
  {
   "cell_type": "code",
   "execution_count": 65,
   "outputs": [
    {
     "name": "stdout",
     "output_type": "stream",
     "text": [
      "Original = [4 5 1 2 2]\n",
      "Reshaped = [4 5 1 2 2 1 2 3 6 2]\n"
     ]
    }
   ],
   "source": [
    "print(f'Original = {treasure_map[0]}')\n",
    "print(f'Reshaped = {reshaped_treasure_map[0]}')"
   ],
   "metadata": {
    "collapsed": false,
    "ExecuteTime": {
     "start_time": "2023-10-06T12:01:22.763006Z",
     "end_time": "2023-10-06T12:01:22.939275Z"
    }
   }
  },
  {
   "cell_type": "markdown",
   "source": [
    "**4**"
   ],
   "metadata": {
    "collapsed": false
   }
  },
  {
   "cell_type": "code",
   "execution_count": 66,
   "outputs": [
    {
     "name": "stdout",
     "output_type": "stream",
     "text": [
      "Original = [4 1 2 1]\n",
      "Reshaped = [4 2]\n"
     ]
    }
   ],
   "source": [
    "print(f'Original = {treasure_map[:, 0]}')\n",
    "print(f'Reshaped = {reshaped_treasure_map[:, 0]}')"
   ],
   "metadata": {
    "collapsed": false,
    "ExecuteTime": {
     "start_time": "2023-10-06T12:01:22.773368Z",
     "end_time": "2023-10-06T12:01:22.939275Z"
    }
   }
  },
  {
   "cell_type": "markdown",
   "source": [
    "**5**"
   ],
   "metadata": {
    "collapsed": false
   }
  },
  {
   "cell_type": "code",
   "execution_count": 67,
   "outputs": [
    {
     "name": "stdout",
     "output_type": "stream",
     "text": [
      "Original = [1 5 1 2 1]\n",
      "Reshaped = [2 2 6 4 1 1 5 1 2 1]\n"
     ]
    }
   ],
   "source": [
    "print(f'Original = {treasure_map[-1]}')\n",
    "print(f'Reshaped = {reshaped_treasure_map[-1]}')"
   ],
   "metadata": {
    "collapsed": false,
    "ExecuteTime": {
     "start_time": "2023-10-06T12:01:22.782009Z",
     "end_time": "2023-10-06T12:01:22.940218Z"
    }
   }
  },
  {
   "cell_type": "markdown",
   "source": [
    "**6**"
   ],
   "metadata": {
    "collapsed": false
   }
  },
  {
   "cell_type": "code",
   "execution_count": 68,
   "outputs": [
    {
     "name": "stdout",
     "output_type": "stream",
     "text": [
      "Original = 2\n",
      "Reshaped = 2\n"
     ]
    }
   ],
   "source": [
    "print(f'Original = {treasure_map[1][1]}')\n",
    "print(f'Reshaped = {reshaped_treasure_map[1][1]}')"
   ],
   "metadata": {
    "collapsed": false,
    "ExecuteTime": {
     "start_time": "2023-10-06T12:01:22.790697Z",
     "end_time": "2023-10-06T12:01:22.969203Z"
    }
   }
  },
  {
   "cell_type": "markdown",
   "source": [
    "**7**"
   ],
   "metadata": {
    "collapsed": false
   }
  },
  {
   "cell_type": "code",
   "execution_count": 69,
   "outputs": [
    {
     "name": "stdout",
     "output_type": "stream",
     "text": [
      "[[5 1 2]\n",
      " [2 3 6]\n",
      " [2 6 4]\n",
      " [5 1 2]]\n"
     ]
    }
   ],
   "source": [
    "print(treasure_map[:, 1:4])"
   ],
   "metadata": {
    "collapsed": false,
    "ExecuteTime": {
     "start_time": "2023-10-06T12:01:22.794967Z",
     "end_time": "2023-10-06T12:01:22.969203Z"
    }
   }
  },
  {
   "cell_type": "markdown",
   "source": [
    "**8**"
   ],
   "metadata": {
    "collapsed": false
   }
  },
  {
   "cell_type": "code",
   "execution_count": 88,
   "outputs": [
    {
     "name": "stdout",
     "output_type": "stream",
     "text": [
      "[[False False  True  True  True]\n",
      " [ True  True False False  True]\n",
      " [ True  True False False  True]\n",
      " [ True False  True  True  True]]\n"
     ]
    }
   ],
   "source": [
    "map_mask = treasure_map <= 2\n",
    "print(map_mask)"
   ],
   "metadata": {
    "collapsed": false,
    "ExecuteTime": {
     "start_time": "2023-10-06T12:11:26.876032Z",
     "end_time": "2023-10-06T12:11:26.882053Z"
    }
   }
  },
  {
   "cell_type": "markdown",
   "source": [
    "**9**"
   ],
   "metadata": {
    "collapsed": false
   }
  },
  {
   "cell_type": "code",
   "execution_count": 96,
   "outputs": [
    {
     "name": "stdout",
     "output_type": "stream",
     "text": [
      "[[0 0]\n",
      " [0 1]\n",
      " [1 1]\n",
      " [2 2]\n",
      " [2 3]\n",
      " [3 3]\n",
      " [3 2]\n",
      " [3 4]\n",
      " [0 1]\n",
      " [4 0]\n",
      " [1 4]\n",
      " [0 2]\n",
      " [3 4]]\n"
     ]
    }
   ],
   "source": [
    "print(numpy.reshape(numpy.where(map_mask==True), (-1, 2)))"
   ],
   "metadata": {
    "collapsed": false,
    "ExecuteTime": {
     "start_time": "2023-10-06T12:16:17.525463Z",
     "end_time": "2023-10-06T12:16:17.532999Z"
    }
   }
  },
  {
   "cell_type": "markdown",
   "source": [
    "**10**"
   ],
   "metadata": {
    "collapsed": false
   }
  },
  {
   "cell_type": "code",
   "execution_count": 97,
   "outputs": [
    {
     "name": "stdout",
     "output_type": "stream",
     "text": [
      "(0, 1) = 5\n",
      "(0, 2) = 1\n"
     ]
    }
   ],
   "source": [
    "print(f'(0, 1) = {treasure_map[0][1]}')\n",
    "print(f'(0, 2) = {treasure_map[0][2]}')"
   ],
   "metadata": {
    "collapsed": false,
    "ExecuteTime": {
     "start_time": "2023-10-06T12:18:21.805911Z",
     "end_time": "2023-10-06T12:18:21.810547Z"
    }
   }
  }
 ],
 "metadata": {
  "kernelspec": {
   "display_name": "Python 3",
   "language": "python",
   "name": "python3"
  },
  "language_info": {
   "codemirror_mode": {
    "name": "ipython",
    "version": 2
   },
   "file_extension": ".py",
   "mimetype": "text/x-python",
   "name": "python",
   "nbconvert_exporter": "python",
   "pygments_lexer": "ipython2",
   "version": "2.7.6"
  }
 },
 "nbformat": 4,
 "nbformat_minor": 0
}
