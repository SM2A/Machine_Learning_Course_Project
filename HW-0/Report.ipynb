{
 "cells": [
  {
   "cell_type": "markdown",
   "source": [
    "# Seyed Mohammad Amin Atyabi - 830402014"
   ],
   "metadata": {
    "collapsed": false
   }
  },
  {
   "cell_type": "markdown",
   "source": [
    "## NumPy"
   ],
   "metadata": {
    "collapsed": false
   }
  },
  {
   "cell_type": "markdown",
   "source": [
    "### 1"
   ],
   "metadata": {
    "collapsed": false
   }
  },
  {
   "cell_type": "markdown",
   "source": [
    "**1**"
   ],
   "metadata": {
    "collapsed": false
   }
  },
  {
   "cell_type": "code",
   "execution_count": 23,
   "outputs": [
    {
     "data": {
      "text/plain": "[809,\n 513,\n 791,\n 405,\n 13,\n 371,\n 50,\n 51,\n 617,\n 982,\n 149,\n 648,\n 554,\n 813,\n 972,\n 928,\n 904,\n 567,\n 668,\n 285,\n 642,\n 697,\n 377,\n 22,\n 982,\n 980,\n 929,\n 613,\n 491,\n 57,\n 979,\n 163,\n 997,\n 942,\n 737,\n 80,\n 389,\n 528,\n 746,\n 98,\n 537,\n 86,\n 28,\n 737,\n 180,\n 760,\n 254,\n 246,\n 104,\n 12,\n 552,\n 244,\n 205,\n 449,\n 724,\n 452,\n 678,\n 597,\n 276,\n 232,\n 578,\n 275,\n 938,\n 860,\n 921,\n 273,\n 575,\n 663,\n 897,\n 683,\n 366,\n 259,\n 298,\n 936,\n 200,\n 753,\n 402,\n 430,\n 896,\n 536,\n 417,\n 839,\n 729,\n 81,\n 405,\n 957,\n 763,\n 37,\n 215,\n 581,\n 784,\n 158,\n 693,\n 89,\n 134,\n 118,\n 767,\n 306,\n 19,\n 753,\n 236,\n 370,\n 578,\n 681,\n 485,\n 783,\n 168,\n 63,\n 688,\n 733,\n 631,\n 544,\n 481,\n 660,\n 706,\n 591,\n 189,\n 624,\n 91,\n 69,\n 67,\n 919,\n 757,\n 827,\n 834,\n 425,\n 862,\n 258,\n 597,\n 628,\n 830,\n 197,\n 961,\n 441,\n 375,\n 979,\n 763,\n 400,\n 34,\n 710,\n 76,\n 602,\n 539,\n 423,\n 556,\n 545,\n 873,\n 667,\n 599,\n 972,\n 437,\n 420,\n 251,\n 121,\n 779,\n 778,\n 453,\n 952,\n 286,\n 23,\n 565,\n 807,\n 94,\n 82,\n 934,\n 994,\n 504,\n 650,\n 595,\n 900,\n 226,\n 791,\n 143,\n 220,\n 748,\n 465,\n 248,\n 863,\n 442,\n 723,\n 475,\n 573,\n 494,\n 585,\n 54,\n 633,\n 284,\n 945,\n 232,\n 415,\n 575,\n 342,\n 659,\n 893,\n 900,\n 590,\n 151,\n 147,\n 288,\n 667,\n 344,\n 997,\n 539,\n 138,\n 562,\n 792,\n 115,\n 378,\n 830,\n 567,\n 94,\n 645,\n 415,\n 36,\n 911,\n 541,\n 507,\n 896,\n 399,\n 806,\n 68,\n 392,\n 922,\n 786,\n 797,\n 36,\n 464,\n 412,\n 437,\n 82,\n 299,\n 444,\n 820,\n 920,\n 494,\n 180,\n 89,\n 569,\n 766,\n 789,\n 631,\n 831,\n 888,\n 508,\n 92,\n 403,\n 543,\n 677,\n 382,\n 394,\n 620,\n 628,\n 646,\n 682,\n 220,\n 931,\n 396,\n 830,\n 841,\n 516,\n 125,\n 892,\n 842,\n 824,\n 625,\n 267,\n 28,\n 316,\n 14,\n 640,\n 271,\n 559,\n 177,\n 625,\n 633,\n 89,\n 416,\n 69,\n 183,\n 263,\n 462,\n 963,\n 158,\n 29,\n 85,\n 229,\n 131,\n 293,\n 374,\n 887,\n 366,\n 775,\n 531,\n 10,\n 347,\n 374,\n 910,\n 904,\n 875,\n 734,\n 764,\n 272,\n 571,\n 322,\n 280,\n 726,\n 343,\n 462,\n 137,\n 23,\n 975,\n 963,\n 146,\n 335,\n 73,\n 790,\n 295,\n 236,\n 854,\n 400,\n 154,\n 381,\n 854,\n 711,\n 114,\n 671,\n 944,\n 395,\n 927,\n 829,\n 415,\n 641,\n 321,\n 280,\n 820,\n 887,\n 527,\n 636,\n 155,\n 268,\n 452,\n 846,\n 590,\n 131,\n 676,\n 782,\n 183,\n 921,\n 964,\n 700,\n 82,\n 448,\n 787,\n 781,\n 493,\n 43,\n 816,\n 13,\n 754,\n 989,\n 421,\n 747,\n 932,\n 531,\n 376,\n 936,\n 652,\n 815,\n 730,\n 254,\n 294,\n 550,\n 751,\n 122,\n 176,\n 156,\n 489,\n 875,\n 963,\n 744,\n 926,\n 102,\n 462,\n 194,\n 245,\n 293,\n 241,\n 902,\n 55,\n 452,\n 909,\n 159,\n 387,\n 86,\n 965,\n 383,\n 678,\n 289,\n 193,\n 101,\n 109,\n 953,\n 872,\n 408,\n 38,\n 115,\n 629,\n 714,\n 304,\n 798,\n 13,\n 844,\n 302,\n 992,\n 850,\n 607,\n 933,\n 136,\n 194,\n 373,\n 869,\n 618,\n 319,\n 142,\n 396,\n 649,\n 175,\n 608,\n 705,\n 746,\n 724,\n 335,\n 152,\n 768,\n 989,\n 800,\n 290,\n 972,\n 55,\n 706,\n 57,\n 729,\n 294,\n 893,\n 640,\n 140,\n 91,\n 329,\n 965,\n 366,\n 732,\n 651,\n 210,\n 526,\n 426,\n 917,\n 791,\n 745,\n 602,\n 444,\n 206,\n 332,\n 424,\n 103,\n 928,\n 263,\n 111,\n 739,\n 266,\n 935,\n 518,\n 589,\n 583,\n 618,\n 649,\n 421,\n 142,\n 512,\n 650,\n 912,\n 280,\n 454,\n 355,\n 606,\n 950,\n 661,\n 307,\n 856,\n 806,\n 113,\n 512,\n 936,\n 181,\n 689,\n 669,\n 755,\n 855,\n 922,\n 857,\n 197,\n 280,\n 152,\n 290,\n 375,\n 251,\n 744,\n 938,\n 877,\n 14,\n 172,\n 47,\n 362,\n 715,\n 926,\n 446,\n 615,\n 858,\n 948,\n 109,\n 786,\n 15,\n 693,\n 943,\n 905,\n 812,\n 628,\n 86,\n 94,\n 530,\n 17,\n 893,\n 903,\n 380,\n 404,\n 667,\n 476,\n 367,\n 564,\n 977,\n 944,\n 927,\n 672,\n 642,\n 292,\n 747,\n 215,\n 781,\n 818,\n 189,\n 539,\n 326,\n 145,\n 494,\n 831,\n 39,\n 135,\n 148,\n 867,\n 750,\n 364,\n 764,\n 653,\n 238,\n 198,\n 601,\n 27,\n 297,\n 688,\n 565,\n 220,\n 820,\n 478,\n 938,\n 226,\n 612,\n 960,\n 819,\n 423,\n 412,\n 574,\n 587,\n 651,\n 149,\n 627,\n 667,\n 351,\n 312,\n 524,\n 867,\n 999,\n 535,\n 494,\n 917,\n 411,\n 785,\n 508,\n 544,\n 770,\n 59,\n 812,\n 245,\n 866,\n 233,\n 634,\n 561,\n 191,\n 248,\n 911,\n 371,\n 261,\n 409,\n 860,\n 1000,\n 419,\n 633,\n 631,\n 430,\n 216,\n 890,\n 163,\n 429,\n 57,\n 969,\n 728,\n 618,\n 600,\n 744,\n 192,\n 936,\n 441,\n 582,\n 158,\n 163,\n 903,\n 457,\n 390,\n 107,\n 829,\n 648,\n 129,\n 317,\n 53,\n 608,\n 712,\n 666,\n 788,\n 134,\n 381,\n 595,\n 404,\n 272,\n 868,\n 619,\n 594,\n 168,\n 626,\n 573,\n 794,\n 795,\n 512,\n 92,\n 664,\n 950,\n 277,\n 733,\n 251,\n 31,\n 862,\n 284,\n 813,\n 633,\n 985,\n 303,\n 727,\n 966,\n 227,\n 620,\n 662,\n 653,\n 191,\n 237,\n 650,\n 344,\n 176,\n 948,\n 317,\n 62,\n 628,\n 558,\n 774,\n 388,\n 163,\n 464,\n 746,\n 273,\n 615,\n 786,\n 236,\n 329,\n 525,\n 404,\n 130,\n 767,\n 138,\n 444,\n 360,\n 518,\n 13,\n 762,\n 843,\n 41,\n 440,\n 612,\n 390,\n 909,\n 696,\n 218,\n 996,\n 659,\n 89,\n 915,\n 77,\n 916,\n 677,\n 755,\n 640,\n 977,\n 826,\n 165,\n 897,\n 197,\n 177,\n 103,\n 674,\n 928,\n 397,\n 625,\n 845,\n 582,\n 259,\n 345,\n 316,\n 714,\n 411,\n 339,\n 881,\n 150,\n 352,\n 195,\n 362,\n 583,\n 294,\n 417,\n 624,\n 946,\n 990,\n 497,\n 689,\n 763,\n 753,\n 692,\n 462,\n 342,\n 539,\n 270,\n 30,\n 881,\n 667,\n 233,\n 77,\n 325,\n 761,\n 590,\n 96,\n 688,\n 139,\n 998,\n 555,\n 242,\n 387,\n 643,\n 753,\n 579,\n 150,\n 161,\n 472,\n 286,\n 884,\n 952,\n 652,\n 950,\n 891,\n 212,\n 526,\n 113,\n 979,\n 195,\n 579,\n 857,\n 870,\n 875,\n 330,\n 831,\n 904,\n 108,\n 128,\n 24,\n 472,\n 524,\n 571,\n 479,\n 276,\n 774,\n 153,\n 389,\n 977,\n 83,\n 987,\n 77,\n 724,\n 965,\n 927,\n 362,\n 247,\n 185,\n 827,\n 11,\n 285,\n 415,\n 243,\n 383,\n 76,\n 323,\n 26,\n 126,\n 116,\n 354,\n 162,\n 57,\n 533,\n 407,\n 701,\n 491,\n 660,\n 848,\n 178,\n 237,\n 78,\n 892,\n 919,\n 608,\n 572,\n 137,\n 606,\n 679,\n 235,\n 11,\n 964,\n 476,\n 853,\n 369,\n 759,\n 525,\n 918,\n 739,\n 577,\n 133,\n 214,\n 666,\n 589,\n 742,\n 619,\n 930,\n 719,\n 837,\n 137,\n 809,\n 681,\n 885,\n 166,\n 863,\n 498,\n 306,\n 262,\n 583,\n 574,\n 885,\n 926,\n 179,\n 197,\n 149,\n 29,\n 169,\n 976,\n 659,\n 398,\n 386,\n 992,\n 425,\n 99,\n 871,\n 50,\n 648,\n 257,\n 681,\n 327,\n 814,\n 914,\n 751,\n 654,\n 165,\n 974,\n 549,\n 125,\n 521,\n 716,\n 650,\n 695,\n 848,\n 101,\n 108,\n 605,\n 860,\n 743,\n 185,\n 43,\n 239,\n 561,\n 548,\n 747,\n 569,\n 647,\n 743,\n 143,\n 846,\n 350,\n 309,\n 362,\n 41,\n 108,\n 958,\n 603,\n 652,\n 283,\n 341,\n 177,\n 557,\n 811,\n 431,\n 703,\n 507,\n 917,\n 707,\n 470,\n 520,\n 222,\n 496,\n 565,\n 567,\n 934,\n 699,\n 631,\n 813,\n 25,\n 663,\n 399,\n 27,\n 567,\n 396,\n 627,\n 850,\n 123,\n 171,\n 342,\n 753,\n 631,\n 16,\n 616,\n 697,\n 217,\n 954,\n 372,\n 845,\n 228,\n 964,\n 928,\n 562,\n 293,\n 684,\n 95,\n 377,\n 422,\n 871,\n 771,\n 903,\n 348,\n 698,\n 723,\n 413,\n 151]"
     },
     "execution_count": 23,
     "metadata": {},
     "output_type": "execute_result"
    }
   ],
   "source": [
    "import random\n",
    "\n",
    "vector = [ random.randint(10, 1000) for x in range(0, 1000) ]\n",
    "vector"
   ],
   "metadata": {
    "collapsed": false,
    "ExecuteTime": {
     "start_time": "2023-10-06T10:49:21.752462Z",
     "end_time": "2023-10-06T10:49:21.823431Z"
    }
   }
  },
  {
   "cell_type": "markdown",
   "source": [
    "**2**"
   ],
   "metadata": {
    "collapsed": false
   }
  },
  {
   "cell_type": "code",
   "execution_count": 24,
   "outputs": [
    {
     "name": "stdout",
     "output_type": "stream",
     "text": [
      "Average = 513.911\n",
      "Variance = 83545.63471371365\n"
     ]
    }
   ],
   "source": [
    "_sum_ = sum(vector)\n",
    "count = len(vector)\n",
    "mean = _sum_ / count\n",
    "variance = (sum(map(lambda x: (x - mean) ** 2, vector))) / (count - 1)\n",
    "print(f'Average = {mean}')\n",
    "print(f'Variance = {variance}')"
   ],
   "metadata": {
    "collapsed": false,
    "ExecuteTime": {
     "start_time": "2023-10-06T10:49:21.762073Z",
     "end_time": "2023-10-06T10:49:21.908431Z"
    }
   }
  },
  {
   "cell_type": "markdown",
   "source": [
    "### 2"
   ],
   "metadata": {
    "collapsed": false
   }
  },
  {
   "cell_type": "markdown",
   "source": [
    "**1**"
   ],
   "metadata": {
    "collapsed": false
   }
  },
  {
   "cell_type": "code",
   "execution_count": 25,
   "outputs": [
    {
     "data": {
      "text/plain": "[[0.47471542768100694,\n  0.6197166963584445,\n  0.5723218464572929,\n  0.3769329248881155,\n  0.11727562061267338,\n  0.6845893839028628,\n  0.14543806720106423,\n  0.2829613684090616,\n  0.22795040112700438,\n  0.4929098611717091],\n [0.23136955715547303,\n  0.6208659073165431,\n  0.8003359876435977,\n  0.1332134867339293,\n  0.30963758799794294,\n  0.8693962654758759,\n  0.5399922004919874,\n  0.8636412726063717,\n  0.4716530543783608,\n  0.16417402252396052],\n [0.6192822791420106,\n  0.6946326774250582,\n  0.5384241037002085,\n  0.4942272937924128,\n  0.8476111382609233,\n  0.23843614600496976,\n  0.26715238090335325,\n  0.9637887191423444,\n  0.35068888425448785,\n  0.7691205747060654],\n [0.9570291764210689,\n  0.161709101266598,\n  0.1733344075417188,\n  0.05135078281836747,\n  0.177744670651379,\n  0.06614188426969647,\n  0.4979706388752364,\n  0.17808996305717795,\n  0.32123566339024767,\n  0.08104290335121433],\n [0.08876106728473176,\n  0.891590904341702,\n  0.06140141835125579,\n  0.7829936953146214,\n  0.5608423069465109,\n  0.5453489491019996,\n  0.38968377564601175,\n  0.1354469853169341,\n  0.11778230137600199,\n  0.5660366668663183],\n [0.865889147153385,\n  0.9848827024891724,\n  0.10159929366167586,\n  0.755235172215162,\n  0.6658291904979925,\n  0.9990093211272351,\n  0.8184147252575462,\n  0.18317807710128287,\n  0.004075163491217171,\n  0.5292964995884576],\n [0.5368984295617631,\n  0.6707955881894982,\n  0.7696543210977331,\n  0.4306241171923071,\n  0.20361562012688095,\n  0.7631122226532023,\n  0.2947371540154198,\n  0.1304211483545793,\n  0.9749904654614121,\n  0.7716928543884674],\n [0.15522364515875686,\n  0.103149829208948,\n  0.6143382941444007,\n  0.045974987821918,\n  0.8019138260328137,\n  0.6565664359493956,\n  0.624578196599662,\n  0.13844120239877233,\n  0.3779120213814434,\n  0.6810762148240236],\n [0.3573452402583217,\n  0.554273983571945,\n  0.7438430415083399,\n  0.53994684777515,\n  0.4966687714001493,\n  0.37754022181224856,\n  0.511621158774785,\n  0.17955476008718363,\n  0.5334102634186233,\n  0.5260789700425054],\n [0.8888653677795019,\n  0.8641128225092645,\n  0.7834093619487595,\n  0.17613740203174255,\n  0.36455025712116296,\n  0.8794769365237194,\n  0.5407632336960368,\n  0.38094904666970864,\n  0.8452972874041607,\n  0.0023398283759323846]]"
     },
     "execution_count": 25,
     "metadata": {},
     "output_type": "execute_result"
    }
   ],
   "source": [
    "matrix = [ [random.random() for j in range(0, 10)] for i in range(0, 10) ]\n",
    "matrix"
   ],
   "metadata": {
    "collapsed": false,
    "ExecuteTime": {
     "start_time": "2023-10-06T10:49:21.766115Z",
     "end_time": "2023-10-06T10:49:21.909432Z"
    }
   }
  },
  {
   "cell_type": "markdown",
   "source": [
    "**2**"
   ],
   "metadata": {
    "collapsed": false
   }
  },
  {
   "cell_type": "code",
   "execution_count": 26,
   "outputs": [
    {
     "name": "stdout",
     "output_type": "stream",
     "text": [
      "Row sum = [3.9948115978092353, 5.0042793423240415, 5.783364197331835, 2.665649191642705, 4.139888070546088, 5.907409292583126, 5.546541921041264, 4.199174653520134, 4.820283258649251, 5.7259015440599885]\n",
      "Column sum = [5.17537933759602, 6.165730212677174, 5.158662076054983, 3.7866367105837266, 4.545688989648429, 6.079617766821205, 4.630351531461103, 3.436472543143417, 4.224995505682959, 4.5837683958386535]\n"
     ]
    }
   ],
   "source": [
    "rowSum = [sum(x) for x in matrix]\n",
    "columnSum = [sum(x) for x in zip(*matrix)]\n",
    "print(f'Row sum = {rowSum}')\n",
    "print(f'Column sum = {columnSum}')"
   ],
   "metadata": {
    "collapsed": false,
    "ExecuteTime": {
     "start_time": "2023-10-06T10:49:21.774179Z",
     "end_time": "2023-10-06T10:49:21.909432Z"
    }
   }
  },
  {
   "cell_type": "markdown",
   "source": [
    "### 3"
   ],
   "metadata": {
    "collapsed": false
   }
  },
  {
   "cell_type": "markdown",
   "source": [
    "**1**"
   ],
   "metadata": {
    "collapsed": false
   }
  },
  {
   "cell_type": "code",
   "execution_count": 27,
   "outputs": [
    {
     "data": {
      "text/plain": "array([140., 200., 175., 120., 150.])"
     },
     "execution_count": 27,
     "metadata": {},
     "output_type": "execute_result"
    }
   ],
   "source": [
    "import numpy\n",
    "\n",
    "heights = numpy.array([140, 200, 175, 120, 150], numpy.float64)\n",
    "heights"
   ],
   "metadata": {
    "collapsed": false,
    "ExecuteTime": {
     "start_time": "2023-10-06T10:49:21.779356Z",
     "end_time": "2023-10-06T10:49:21.910432Z"
    }
   }
  },
  {
   "cell_type": "markdown",
   "source": [
    "**2**"
   ],
   "metadata": {
    "collapsed": false
   }
  },
  {
   "cell_type": "code",
   "execution_count": 28,
   "outputs": [
    {
     "data": {
      "text/plain": "array([ 7., 10., 15.,  8., 12.])"
     },
     "execution_count": 28,
     "metadata": {},
     "output_type": "execute_result"
    }
   ],
   "source": [
    "widths = numpy.array([7, 10, 15, 8, 12], numpy.float64)\n",
    "widths"
   ],
   "metadata": {
    "collapsed": false,
    "ExecuteTime": {
     "start_time": "2023-10-06T10:49:21.785299Z",
     "end_time": "2023-10-06T10:49:21.911431Z"
    }
   }
  },
  {
   "cell_type": "markdown",
   "source": [
    "**3**"
   ],
   "metadata": {
    "collapsed": false
   }
  },
  {
   "cell_type": "code",
   "execution_count": 29,
   "outputs": [
    {
     "data": {
      "text/plain": "array([ 980., 2000., 2625.,  960., 1800.])"
     },
     "execution_count": 29,
     "metadata": {},
     "output_type": "execute_result"
    }
   ],
   "source": [
    "areas = heights * widths\n",
    "areas"
   ],
   "metadata": {
    "collapsed": false,
    "ExecuteTime": {
     "start_time": "2023-10-06T10:49:21.792278Z",
     "end_time": "2023-10-06T10:49:21.911431Z"
    }
   }
  },
  {
   "cell_type": "markdown",
   "source": [
    "**4**"
   ],
   "metadata": {
    "collapsed": false
   }
  },
  {
   "cell_type": "code",
   "execution_count": 30,
   "outputs": [
    {
     "data": {
      "text/plain": "array([0, 1, 2, 3, 4], dtype=int64)"
     },
     "execution_count": 30,
     "metadata": {},
     "output_type": "execute_result"
    }
   ],
   "source": [
    "indices = numpy.arange(0, len(heights), dtype=numpy.int64)\n",
    "indices"
   ],
   "metadata": {
    "collapsed": false,
    "ExecuteTime": {
     "start_time": "2023-10-06T10:49:21.799568Z",
     "end_time": "2023-10-06T10:49:21.912432Z"
    }
   }
  },
  {
   "cell_type": "markdown",
   "source": [
    "**5**"
   ],
   "metadata": {
    "collapsed": false
   }
  },
  {
   "cell_type": "code",
   "execution_count": 31,
   "outputs": [
    {
     "data": {
      "text/plain": "array([[  0., 140.,   7.],\n       [  1., 200.,  10.],\n       [  2., 175.,  15.],\n       [  3., 120.,   8.],\n       [  4., 150.,  12.]])"
     },
     "execution_count": 31,
     "metadata": {},
     "output_type": "execute_result"
    }
   ],
   "source": [
    "plant_info = numpy.transpose(numpy.array([indices, heights, widths]))\n",
    "plant_info"
   ],
   "metadata": {
    "collapsed": false,
    "ExecuteTime": {
     "start_time": "2023-10-06T10:49:21.805211Z",
     "end_time": "2023-10-06T10:49:21.912432Z"
    }
   }
  },
  {
   "cell_type": "markdown",
   "source": [
    "**6**"
   ],
   "metadata": {
    "collapsed": false
   }
  },
  {
   "cell_type": "code",
   "execution_count": 32,
   "outputs": [
    {
     "data": {
      "text/plain": "array([[1., 0., 0.],\n       [0., 1., 0.],\n       [0., 0., 1.]])"
     },
     "execution_count": 32,
     "metadata": {},
     "output_type": "execute_result"
    }
   ],
   "source": [
    "identity_matrix = numpy.eye(3)\n",
    "identity_matrix"
   ],
   "metadata": {
    "collapsed": false,
    "ExecuteTime": {
     "start_time": "2023-10-06T10:49:21.809943Z",
     "end_time": "2023-10-06T10:49:21.912432Z"
    }
   }
  },
  {
   "cell_type": "markdown",
   "source": [
    "**7**"
   ],
   "metadata": {
    "collapsed": false
   }
  },
  {
   "cell_type": "code",
   "execution_count": 32,
   "outputs": [],
   "source": [],
   "metadata": {
    "collapsed": false,
    "ExecuteTime": {
     "start_time": "2023-10-06T10:49:21.817572Z",
     "end_time": "2023-10-06T10:49:21.912432Z"
    }
   }
  },
  {
   "cell_type": "markdown",
   "source": [
    "**8**"
   ],
   "metadata": {
    "collapsed": false
   }
  },
  {
   "cell_type": "code",
   "execution_count": 32,
   "outputs": [],
   "source": [],
   "metadata": {
    "collapsed": false,
    "ExecuteTime": {
     "start_time": "2023-10-06T10:49:21.820914Z",
     "end_time": "2023-10-06T10:49:21.912432Z"
    }
   }
  }
 ],
 "metadata": {
  "kernelspec": {
   "display_name": "Python 3",
   "language": "python",
   "name": "python3"
  },
  "language_info": {
   "codemirror_mode": {
    "name": "ipython",
    "version": 2
   },
   "file_extension": ".py",
   "mimetype": "text/x-python",
   "name": "python",
   "nbconvert_exporter": "python",
   "pygments_lexer": "ipython2",
   "version": "2.7.6"
  }
 },
 "nbformat": 4,
 "nbformat_minor": 0
}
