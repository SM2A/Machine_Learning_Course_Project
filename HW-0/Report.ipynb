{
 "cells": [
  {
   "cell_type": "markdown",
   "source": [
    "# Seyed Mohammad Amin Atyabi - 830402014"
   ],
   "metadata": {
    "collapsed": false
   }
  },
  {
   "cell_type": "markdown",
   "source": [
    "## NumPy"
   ],
   "metadata": {
    "collapsed": false
   }
  },
  {
   "cell_type": "markdown",
   "source": [
    "### 1"
   ],
   "metadata": {
    "collapsed": false
   }
  },
  {
   "cell_type": "markdown",
   "source": [
    "**1**"
   ],
   "metadata": {
    "collapsed": false
   }
  },
  {
   "cell_type": "code",
   "execution_count": 1,
   "outputs": [
    {
     "name": "stdout",
     "output_type": "stream",
     "text": [
      "Length = 1000\n",
      "Vector = [84, 460, 893, 200, 902, 548, 500, 493, 627, 602, 670, 444, 992, 649, 528, 159, 866, 336, 840, 113, 452, 126, 130, 281, 261, 270, 949, 46, 683, 268, 271, 588, 158, 819, 740, 745, 480, 263, 158, 819, 861, 626, 892, 145, 680, 858, 283, 459, 264, 786, 94, 22, 539, 160, 340, 405, 806, 706, 125, 738, 941, 319, 767, 102, 622, 890, 801, 669, 330, 15, 108, 535, 428, 295, 189, 447, 716, 745, 589, 375, 832, 62, 496, 388, 375, 981, 817, 369, 727, 575, 396, 377, 348, 67, 169, 648, 203, 895, 581, 379, 74, 169, 609, 806, 90, 658, 874, 826, 901, 808, 423, 319, 687, 58, 951, 67, 686, 344, 634, 147, 530, 177, 547, 94, 645, 997, 111, 700, 567, 505, 868, 747, 648, 720, 935, 749, 732, 655, 318, 727, 886, 415, 658, 289, 281, 154, 594, 72, 377, 222, 144, 426, 673, 288, 84, 35, 805, 790, 967, 714, 199, 506, 614, 528, 826, 592, 915, 324, 286, 154, 74, 16, 953, 300, 909, 583, 224, 641, 187, 535, 734, 121, 290, 842, 676, 438, 702, 530, 577, 587, 671, 987, 736, 608, 840, 463, 618, 681, 610, 535, 756, 160, 629, 357, 426, 784, 788, 560, 668, 992, 473, 53, 838, 353, 368, 398, 736, 600, 483, 257, 248, 987, 132, 457, 246, 365, 205, 625, 711, 241, 709, 142, 315, 915, 473, 822, 11, 82, 800, 993, 343, 517, 33, 523, 972, 204, 387, 951, 14, 363, 266, 497, 947, 805, 936, 835, 229, 441, 795, 734, 186, 722, 201, 679, 20, 632, 529, 176, 174, 247, 41, 66, 242, 617, 707, 394, 808, 145, 273, 550, 730, 617, 117, 515, 409, 866, 53, 169, 650, 34, 904, 865, 365, 638, 673, 180, 738, 330, 529, 635, 382, 661, 873, 648, 176, 831, 761, 636, 848, 284, 36, 555, 114, 158, 536, 589, 581, 792, 731, 204, 29, 759, 728, 43, 712, 641, 723, 348, 640, 746, 20, 377, 495, 978, 30, 573, 680, 375, 473, 932, 938, 96, 582, 911, 557, 227, 808, 813, 651, 629, 724, 67, 960, 11, 221, 753, 673, 295, 192, 790, 277, 208, 231, 729, 160, 808, 515, 275, 246, 568, 844, 53, 639, 844, 558, 353, 102, 738, 270, 301, 956, 56, 43, 399, 143, 623, 515, 617, 129, 713, 100, 745, 853, 733, 181, 304, 769, 667, 124, 755, 617, 700, 863, 623, 590, 529, 845, 240, 730, 402, 923, 975, 485, 123, 503, 228, 29, 855, 183, 627, 949, 834, 48, 332, 26, 262, 402, 246, 438, 827, 574, 979, 785, 942, 844, 819, 894, 96, 187, 618, 626, 941, 840, 833, 468, 480, 749, 163, 244, 295, 167, 782, 26, 605, 643, 181, 441, 138, 481, 66, 622, 326, 334, 821, 113, 209, 360, 74, 936, 274, 975, 831, 475, 880, 373, 437, 905, 256, 979, 687, 266, 234, 969, 154, 950, 594, 206, 557, 455, 238, 906, 99, 569, 435, 240, 237, 689, 435, 955, 427, 412, 544, 13, 812, 172, 686, 325, 126, 333, 389, 459, 787, 543, 306, 182, 205, 604, 57, 228, 29, 509, 270, 279, 811, 126, 416, 681, 801, 537, 793, 638, 657, 592, 759, 404, 997, 130, 898, 528, 990, 251, 843, 178, 294, 265, 720, 148, 530, 200, 220, 162, 383, 710, 192, 605, 212, 241, 334, 324, 879, 238, 513, 789, 264, 471, 314, 737, 641, 985, 71, 633, 151, 175, 190, 55, 98, 901, 312, 46, 401, 230, 712, 12, 737, 797, 357, 221, 452, 809, 347, 734, 253, 189, 252, 612, 424, 460, 137, 648, 276, 326, 722, 231, 15, 501, 922, 135, 18, 449, 346, 210, 871, 88, 563, 89, 629, 78, 281, 103, 363, 446, 193, 657, 184, 340, 147, 798, 44, 827, 339, 705, 658, 155, 379, 545, 538, 526, 544, 582, 151, 217, 383, 726, 241, 286, 225, 911, 408, 209, 965, 922, 650, 360, 830, 631, 283, 183, 906, 457, 751, 946, 92, 668, 297, 414, 201, 380, 741, 722, 415, 962, 947, 879, 567, 357, 954, 777, 480, 329, 905, 126, 350, 801, 670, 246, 465, 20, 702, 364, 729, 437, 345, 234, 646, 312, 591, 981, 969, 304, 610, 595, 363, 205, 237, 897, 244, 277, 53, 924, 381, 359, 488, 531, 95, 522, 675, 622, 171, 63, 327, 868, 219, 323, 835, 848, 626, 23, 968, 661, 280, 162, 797, 37, 431, 75, 801, 428, 626, 935, 414, 362, 310, 423, 977, 580, 960, 208, 311, 627, 876, 351, 831, 242, 715, 133, 223, 790, 104, 525, 515, 686, 929, 448, 362, 581, 815, 873, 501, 349, 162, 583, 615, 277, 533, 655, 660, 31, 149, 749, 103, 390, 725, 24, 372, 446, 607, 877, 827, 913, 11, 335, 45, 771, 397, 614, 393, 146, 979, 101, 739, 151, 952, 370, 894, 314, 155, 215, 889, 501, 46, 273, 171, 137, 199, 126, 391, 824, 986, 517, 486, 298, 534, 754, 482, 835, 241, 770, 445, 449, 887, 798, 369, 105, 222, 651, 434, 884, 456, 727, 702, 160, 967, 595, 43, 857, 124, 176, 901, 964, 714, 43, 253, 624, 699, 951, 311, 955, 521, 170, 121, 238, 111, 284, 234, 636, 457, 170, 761, 829, 841, 830, 127, 85, 75, 291, 790, 436, 153, 721, 741, 130, 769, 634, 880, 493, 598, 877, 774, 673, 510, 321, 145, 161, 63, 577, 803, 947, 244, 396, 390, 750, 254, 17, 179, 999, 44, 530, 770, 29, 788, 997, 938, 812, 658, 519, 636, 916, 78, 476, 927, 739, 473, 415, 146, 314, 818, 637, 765, 66, 127, 596, 563, 789, 848, 107, 967, 915, 282, 93, 128, 767, 153, 744, 728, 32, 682, 526, 279, 978, 789, 921, 72, 880, 883, 386, 38, 860, 641, 949, 436, 363, 871, 100, 650, 475, 868, 879, 918, 698, 420, 257, 658, 396, 418, 111, 954, 338, 571, 986, 542, 214, 308, 454, 225, 262, 144, 256, 426, 343, 96, 613, 91, 399, 624, 909, 500, 372, 644, 726, 770]\n"
     ]
    }
   ],
   "source": [
    "import random\n",
    "\n",
    "vector = [random.randint(10, 1000) for x in range(0, 1000)]\n",
    "print(f'Length = {len(vector)}')\n",
    "print(f'Vector = {vector}')"
   ],
   "metadata": {
    "collapsed": false,
    "ExecuteTime": {
     "start_time": "2023-10-06T21:44:11.932052Z",
     "end_time": "2023-10-06T21:44:12.271905Z"
    }
   }
  },
  {
   "cell_type": "markdown",
   "source": [
    "**2**"
   ],
   "metadata": {
    "collapsed": false
   }
  },
  {
   "cell_type": "code",
   "execution_count": 2,
   "outputs": [
    {
     "name": "stdout",
     "output_type": "stream",
     "text": [
      "Average = 492.742\n",
      "Variance = 81124.99242842835\n"
     ]
    }
   ],
   "source": [
    "_sum_ = sum(vector)\n",
    "count = len(vector)\n",
    "mean = _sum_ / count\n",
    "variance = (sum(map(lambda x: (x - mean) ** 2, vector))) / (count - 1)\n",
    "print(f'Average = {mean}')\n",
    "print(f'Variance = {variance}')"
   ],
   "metadata": {
    "collapsed": false,
    "ExecuteTime": {
     "start_time": "2023-10-06T21:44:11.940245Z",
     "end_time": "2023-10-06T21:44:12.271905Z"
    }
   }
  },
  {
   "cell_type": "markdown",
   "source": [
    "### 2"
   ],
   "metadata": {
    "collapsed": false
   }
  },
  {
   "cell_type": "markdown",
   "source": [
    "**1**"
   ],
   "metadata": {
    "collapsed": false
   }
  },
  {
   "cell_type": "code",
   "execution_count": 3,
   "outputs": [
    {
     "name": "stdout",
     "output_type": "stream",
     "text": [
      "[[0.3601496198071453, 0.4915085186198107, 0.042228401701663976, 0.4243981781017213, 0.9192555344186718, 0.2990639740236415, 0.46561629745087585, 0.34121335321857416, 0.8566601943730617, 0.7850502106084464], [0.3617558909166343, 0.8150445546842909, 0.2950264948214266, 0.6480245497808611, 0.10639901997723988, 0.5097436954147205, 0.24544227286373244, 0.6852324874897965, 0.3157317630966058, 0.9184497345741038], [0.5074813724109798, 0.9982656323880349, 0.4370180925504914, 0.6609315052369907, 0.28064287168987945, 0.6422095534476017, 0.20498887485928308, 0.6355297403891204, 0.0016576742211059647, 0.6454639471631044], [0.8692251175300365, 0.6035477600003715, 0.9723253770059951, 0.7909061177005181, 0.8710691012765921, 0.39280176620011764, 0.8259451672526902, 0.2753080356647364, 0.08241589603294208, 0.18405386658783884], [0.7183148397415963, 0.5451819214996683, 0.7545166310550567, 0.2719856583835314, 0.5164760395790081, 0.09417363758299047, 0.8198328608098036, 0.9836903144763322, 0.5712852185132423, 0.9157335553694116], [0.07025423826114208, 0.06646500724144333, 0.9651680768455181, 0.9616319478017987, 0.2778626322506551, 0.3585458416780781, 0.3228566486772094, 0.2992646047032166, 0.2780395774776877, 0.6372379626776481], [0.2323010262533588, 0.8686363679823631, 0.13704694621510016, 0.4603600767803342, 0.8098104056706441, 0.5337109046417584, 0.01643704070551355, 0.15328862232894902, 0.4878561371537976, 0.814456060456779], [0.2323610812639345, 0.6681883024194306, 0.4736888521640058, 0.6357849672787161, 0.573879178970637, 0.06371625051506469, 0.34457196454482186, 0.09323252150251027, 0.8775076353023985, 0.5457524715733577], [0.7956408926548578, 0.7198557669454771, 0.4255253793942734, 0.22885589347346857, 0.9977648560086706, 0.7945685004507999, 0.23408172599629018, 0.09980621431039949, 0.6050755791245523, 0.12533632789329474], [0.14734561554103787, 0.17300282600400407, 0.5757728524396025, 0.7175311460336821, 0.04354128136409541, 0.8435815324195681, 0.7091287152760298, 0.2829946669868808, 0.2658470747663221, 0.7784863066696455]]\n"
     ]
    }
   ],
   "source": [
    "matrix = [[random.random() for j in range(0, 10)] for i in range(0, 10)]\n",
    "print(matrix)"
   ],
   "metadata": {
    "collapsed": false,
    "ExecuteTime": {
     "start_time": "2023-10-06T21:44:11.946549Z",
     "end_time": "2023-10-06T21:44:12.272901Z"
    }
   }
  },
  {
   "cell_type": "markdown",
   "source": [
    "**2**"
   ],
   "metadata": {
    "collapsed": false
   }
  },
  {
   "cell_type": "code",
   "execution_count": 4,
   "outputs": [
    {
     "name": "stdout",
     "output_type": "stream",
     "text": [
      "Row sum = [4.9851442823236125, 4.900850463619412, 5.014189264356593, 5.867598205251838, 6.191190677010641, 4.237326537614397, 4.513903588188597, 4.508683225534877, 5.026511136252084, 4.537232017500868]\n",
      "Column sum = [4.294829694380724, 5.9496966577848935, 5.078317104193134, 5.800410040571623, 5.396700921206094, 4.532115656374341, 4.1889015684362505, 3.849560561070516, 4.3420767500617155, 6.35002044357363]\n"
     ]
    }
   ],
   "source": [
    "rowSum = [sum(x) for x in matrix]\n",
    "columnSum = [sum(x) for x in zip(*matrix)]\n",
    "print(f'Row sum = {rowSum}')\n",
    "print(f'Column sum = {columnSum}')"
   ],
   "metadata": {
    "collapsed": false,
    "ExecuteTime": {
     "start_time": "2023-10-06T21:44:11.950634Z",
     "end_time": "2023-10-06T21:44:12.273937Z"
    }
   }
  },
  {
   "cell_type": "markdown",
   "source": [
    "### 3"
   ],
   "metadata": {
    "collapsed": false
   }
  },
  {
   "cell_type": "markdown",
   "source": [
    "**1**"
   ],
   "metadata": {
    "collapsed": false
   }
  },
  {
   "cell_type": "code",
   "execution_count": 5,
   "outputs": [
    {
     "name": "stdout",
     "output_type": "stream",
     "text": [
      "Heights = [140. 200. 175. 120. 150.]\n",
      "Type = float64\n"
     ]
    }
   ],
   "source": [
    "import numpy\n",
    "\n",
    "heights = numpy.array([140, 200, 175, 120, 150], numpy.float64)\n",
    "print(f'Heights = {heights}')\n",
    "print(f'Type = {heights.dtype}')"
   ],
   "metadata": {
    "collapsed": false,
    "ExecuteTime": {
     "start_time": "2023-10-06T21:44:11.957408Z",
     "end_time": "2023-10-06T21:44:12.288920Z"
    }
   }
  },
  {
   "cell_type": "markdown",
   "source": [
    "**2**"
   ],
   "metadata": {
    "collapsed": false
   }
  },
  {
   "cell_type": "code",
   "execution_count": 6,
   "outputs": [
    {
     "name": "stdout",
     "output_type": "stream",
     "text": [
      "Widths = [ 7. 10. 15.  8. 12.]\n",
      "Type = float64\n"
     ]
    }
   ],
   "source": [
    "widths = numpy.array([7, 10, 15, 8, 12], numpy.float64)\n",
    "print(f'Widths = {widths}')\n",
    "print(f'Type = {widths.dtype}')"
   ],
   "metadata": {
    "collapsed": false,
    "ExecuteTime": {
     "start_time": "2023-10-06T21:44:12.023212Z",
     "end_time": "2023-10-06T21:44:12.289903Z"
    }
   }
  },
  {
   "cell_type": "markdown",
   "source": [
    "**3**"
   ],
   "metadata": {
    "collapsed": false
   }
  },
  {
   "cell_type": "code",
   "execution_count": 7,
   "outputs": [
    {
     "name": "stdout",
     "output_type": "stream",
     "text": [
      "Areas = [ 980. 2000. 2625.  960. 1800.]\n"
     ]
    }
   ],
   "source": [
    "areas = heights * widths\n",
    "print(f'Areas = {areas}')"
   ],
   "metadata": {
    "collapsed": false,
    "ExecuteTime": {
     "start_time": "2023-10-06T21:44:12.026852Z",
     "end_time": "2023-10-06T21:44:12.289903Z"
    }
   }
  },
  {
   "cell_type": "markdown",
   "source": [
    "**4**"
   ],
   "metadata": {
    "collapsed": false
   }
  },
  {
   "cell_type": "code",
   "execution_count": 8,
   "outputs": [
    {
     "name": "stdout",
     "output_type": "stream",
     "text": [
      "Indices = [0 1 2 3 4]\n"
     ]
    }
   ],
   "source": [
    "indices = numpy.arange(0, len(heights), dtype=numpy.int64)\n",
    "print(f'Indices = {indices}')"
   ],
   "metadata": {
    "collapsed": false,
    "ExecuteTime": {
     "start_time": "2023-10-06T21:44:12.031973Z",
     "end_time": "2023-10-06T21:44:12.291216Z"
    }
   }
  },
  {
   "cell_type": "markdown",
   "source": [
    "**5**"
   ],
   "metadata": {
    "collapsed": false
   }
  },
  {
   "cell_type": "code",
   "execution_count": 9,
   "outputs": [
    {
     "name": "stdout",
     "output_type": "stream",
     "text": [
      "[[  0. 140.   7.]\n",
      " [  1. 200.  10.]\n",
      " [  2. 175.  15.]\n",
      " [  3. 120.   8.]\n",
      " [  4. 150.  12.]]\n"
     ]
    }
   ],
   "source": [
    "plant_info = numpy.transpose(numpy.array([indices, heights, widths]))\n",
    "print(plant_info)"
   ],
   "metadata": {
    "collapsed": false,
    "ExecuteTime": {
     "start_time": "2023-10-06T21:44:12.038512Z",
     "end_time": "2023-10-06T21:44:12.291216Z"
    }
   }
  },
  {
   "cell_type": "markdown",
   "source": [
    "**6**"
   ],
   "metadata": {
    "collapsed": false
   }
  },
  {
   "cell_type": "code",
   "execution_count": 10,
   "outputs": [
    {
     "name": "stdout",
     "output_type": "stream",
     "text": [
      "[[1. 0. 0.]\n",
      " [0. 1. 0.]\n",
      " [0. 0. 1.]]\n"
     ]
    }
   ],
   "source": [
    "identity_matrix = numpy.eye(3)\n",
    "print(identity_matrix)"
   ],
   "metadata": {
    "collapsed": false,
    "ExecuteTime": {
     "start_time": "2023-10-06T21:44:12.044272Z",
     "end_time": "2023-10-06T21:44:12.291216Z"
    }
   }
  },
  {
   "cell_type": "markdown",
   "source": [
    "**7**"
   ],
   "metadata": {
    "collapsed": false
   }
  },
  {
   "cell_type": "code",
   "execution_count": 11,
   "outputs": [
    {
     "name": "stdout",
     "output_type": "stream",
     "text": [
      "[[ 980.    0.    0.    0.    0.]\n",
      " [   0. 2000.    0.    0.    0.]\n",
      " [   0.    0. 2625.    0.    0.]\n",
      " [   0.    0.    0.  960.    0.]\n",
      " [   0.    0.    0.    0. 1800.]]\n"
     ]
    }
   ],
   "source": [
    "diagonal_matrix = numpy.diag(areas)\n",
    "print(diagonal_matrix)"
   ],
   "metadata": {
    "collapsed": false,
    "ExecuteTime": {
     "start_time": "2023-10-06T21:44:12.048303Z",
     "end_time": "2023-10-06T21:44:12.292224Z"
    }
   }
  },
  {
   "cell_type": "markdown",
   "source": [
    "**8**"
   ],
   "metadata": {
    "collapsed": false
   }
  },
  {
   "cell_type": "code",
   "execution_count": 12,
   "outputs": [
    {
     "name": "stdout",
     "output_type": "stream",
     "text": [
      "[    30 127125    582]\n"
     ]
    }
   ],
   "source": [
    "squared_sums = numpy.fromfunction(lambda i, j: sum(plant_info ** 2), (1, 4), dtype=int).astype(int)\n",
    "print(squared_sums)"
   ],
   "metadata": {
    "collapsed": false,
    "ExecuteTime": {
     "start_time": "2023-10-06T21:44:12.053580Z",
     "end_time": "2023-10-06T21:44:12.293224Z"
    }
   }
  },
  {
   "cell_type": "markdown",
   "source": [
    "### 4"
   ],
   "metadata": {
    "collapsed": false
   }
  },
  {
   "cell_type": "markdown",
   "source": [
    "**1**"
   ],
   "metadata": {
    "collapsed": false
   }
  },
  {
   "cell_type": "code",
   "execution_count": 13,
   "outputs": [
    {
     "name": "stdout",
     "output_type": "stream",
     "text": [
      "[[3 2 5 2 5]\n",
      " [1 5 6 4 3]\n",
      " [2 5 5 3 2]\n",
      " [5 3 2 3 4]]\n",
      "Type = int32\n",
      "Shape = (4, 5)\n",
      "Size = 20\n",
      "length = 4\n"
     ]
    }
   ],
   "source": [
    "treasure_map = numpy.random.randint(1, 7, size=(4, 5))\n",
    "print(treasure_map)\n",
    "print(f'Type = {treasure_map.dtype}')\n",
    "print(f'Shape = {treasure_map.shape}')\n",
    "print(f'Size = {treasure_map.size}')\n",
    "print(f'length = {len(treasure_map)}')"
   ],
   "metadata": {
    "collapsed": false,
    "ExecuteTime": {
     "start_time": "2023-10-06T21:44:12.061758Z",
     "end_time": "2023-10-06T21:44:12.293224Z"
    }
   }
  },
  {
   "cell_type": "markdown",
   "source": [
    "**2**"
   ],
   "metadata": {
    "collapsed": false
   }
  },
  {
   "cell_type": "code",
   "execution_count": 14,
   "outputs": [
    {
     "name": "stdout",
     "output_type": "stream",
     "text": [
      "[[3 2 5 2 5 1 5 6 4 3]\n",
      " [2 5 5 3 2 5 3 2 3 4]]\n"
     ]
    }
   ],
   "source": [
    "reshaped_treasure_map = numpy.reshape(treasure_map, (2, -1))\n",
    "print(reshaped_treasure_map)"
   ],
   "metadata": {
    "collapsed": false,
    "ExecuteTime": {
     "start_time": "2023-10-06T21:44:12.065366Z",
     "end_time": "2023-10-06T21:44:12.294223Z"
    }
   }
  },
  {
   "cell_type": "markdown",
   "source": [
    "**3**"
   ],
   "metadata": {
    "collapsed": false
   }
  },
  {
   "cell_type": "code",
   "execution_count": 15,
   "outputs": [
    {
     "name": "stdout",
     "output_type": "stream",
     "text": [
      "Original = [3 2 5 2 5]\n",
      "Reshaped = [3 2 5 2 5 1 5 6 4 3]\n"
     ]
    }
   ],
   "source": [
    "print(f'Original = {treasure_map[0]}')\n",
    "print(f'Reshaped = {reshaped_treasure_map[0]}')"
   ],
   "metadata": {
    "collapsed": false,
    "ExecuteTime": {
     "start_time": "2023-10-06T21:44:12.070296Z",
     "end_time": "2023-10-06T21:44:12.294223Z"
    }
   }
  },
  {
   "cell_type": "markdown",
   "source": [
    "**4**"
   ],
   "metadata": {
    "collapsed": false
   }
  },
  {
   "cell_type": "code",
   "execution_count": 16,
   "outputs": [
    {
     "name": "stdout",
     "output_type": "stream",
     "text": [
      "Original = [3 1 2 5]\n",
      "Reshaped = [3 2]\n"
     ]
    }
   ],
   "source": [
    "print(f'Original = {treasure_map[:, 0]}')\n",
    "print(f'Reshaped = {reshaped_treasure_map[:, 0]}')"
   ],
   "metadata": {
    "collapsed": false,
    "ExecuteTime": {
     "start_time": "2023-10-06T21:44:12.075413Z",
     "end_time": "2023-10-06T21:44:12.295223Z"
    }
   }
  },
  {
   "cell_type": "markdown",
   "source": [
    "**5**"
   ],
   "metadata": {
    "collapsed": false
   }
  },
  {
   "cell_type": "code",
   "execution_count": 17,
   "outputs": [
    {
     "name": "stdout",
     "output_type": "stream",
     "text": [
      "Original = [5 3 2 3 4]\n",
      "Reshaped = [2 5 5 3 2 5 3 2 3 4]\n"
     ]
    }
   ],
   "source": [
    "print(f'Original = {treasure_map[-1]}')\n",
    "print(f'Reshaped = {reshaped_treasure_map[-1]}')"
   ],
   "metadata": {
    "collapsed": false,
    "ExecuteTime": {
     "start_time": "2023-10-06T21:44:12.080595Z",
     "end_time": "2023-10-06T21:44:12.296224Z"
    }
   }
  },
  {
   "cell_type": "markdown",
   "source": [
    "**6**"
   ],
   "metadata": {
    "collapsed": false
   }
  },
  {
   "cell_type": "code",
   "execution_count": 18,
   "outputs": [
    {
     "name": "stdout",
     "output_type": "stream",
     "text": [
      "Original = 5\n",
      "Reshaped = 5\n"
     ]
    }
   ],
   "source": [
    "print(f'Original = {treasure_map[1][1]}')\n",
    "print(f'Reshaped = {reshaped_treasure_map[1][1]}')"
   ],
   "metadata": {
    "collapsed": false,
    "ExecuteTime": {
     "start_time": "2023-10-06T21:44:12.084945Z",
     "end_time": "2023-10-06T21:44:12.296224Z"
    }
   }
  },
  {
   "cell_type": "markdown",
   "source": [
    "**7**"
   ],
   "metadata": {
    "collapsed": false
   }
  },
  {
   "cell_type": "code",
   "execution_count": 19,
   "outputs": [
    {
     "name": "stdout",
     "output_type": "stream",
     "text": [
      "[[2 5 2]\n",
      " [5 6 4]\n",
      " [5 5 3]\n",
      " [3 2 3]]\n"
     ]
    }
   ],
   "source": [
    "print(treasure_map[:, 1:4])"
   ],
   "metadata": {
    "collapsed": false,
    "ExecuteTime": {
     "start_time": "2023-10-06T21:44:12.090224Z",
     "end_time": "2023-10-06T21:44:12.296224Z"
    }
   }
  },
  {
   "cell_type": "markdown",
   "source": [
    "**8**"
   ],
   "metadata": {
    "collapsed": false
   }
  },
  {
   "cell_type": "code",
   "execution_count": 20,
   "outputs": [
    {
     "name": "stdout",
     "output_type": "stream",
     "text": [
      "[[False  True False  True False]\n",
      " [ True False False False False]\n",
      " [ True False False False  True]\n",
      " [False False  True False False]]\n"
     ]
    }
   ],
   "source": [
    "map_mask = treasure_map <= 2\n",
    "print(map_mask)"
   ],
   "metadata": {
    "collapsed": false,
    "ExecuteTime": {
     "start_time": "2023-10-06T21:44:12.095776Z",
     "end_time": "2023-10-06T21:44:12.297223Z"
    }
   }
  },
  {
   "cell_type": "markdown",
   "source": [
    "**9**"
   ],
   "metadata": {
    "collapsed": false
   }
  },
  {
   "cell_type": "code",
   "execution_count": 21,
   "outputs": [
    {
     "name": "stdout",
     "output_type": "stream",
     "text": [
      "[[0 0]\n",
      " [1 2]\n",
      " [2 3]\n",
      " [1 3]\n",
      " [0 0]\n",
      " [4 2]]\n"
     ]
    }
   ],
   "source": [
    "def print_2d_mak_result(mask):\n",
    "    print(numpy.reshape(numpy.where(map_mask == True), (-1, 2)))\n",
    "\n",
    "\n",
    "print_2d_mak_result(map_mask)"
   ],
   "metadata": {
    "collapsed": false,
    "ExecuteTime": {
     "start_time": "2023-10-06T21:44:12.099644Z",
     "end_time": "2023-10-06T21:44:12.297223Z"
    }
   }
  },
  {
   "cell_type": "markdown",
   "source": [
    "**10**"
   ],
   "metadata": {
    "collapsed": false
   }
  },
  {
   "cell_type": "code",
   "execution_count": 22,
   "outputs": [
    {
     "name": "stdout",
     "output_type": "stream",
     "text": [
      "(0, 1) = 2\n",
      "(0, 2) = 5\n"
     ]
    }
   ],
   "source": [
    "print(f'(0, 1) = {treasure_map[0][1]}')\n",
    "print(f'(0, 2) = {treasure_map[0][2]}')"
   ],
   "metadata": {
    "collapsed": false,
    "ExecuteTime": {
     "start_time": "2023-10-06T21:44:12.104827Z",
     "end_time": "2023-10-06T21:44:12.297223Z"
    }
   }
  },
  {
   "cell_type": "markdown",
   "source": [
    "### 5"
   ],
   "metadata": {
    "collapsed": false
   }
  },
  {
   "cell_type": "markdown",
   "source": [
    "**1**"
   ],
   "metadata": {
    "collapsed": false
   }
  },
  {
   "cell_type": "code",
   "execution_count": 23,
   "outputs": [
    {
     "name": "stdout",
     "output_type": "stream",
     "text": [
      "[0.93595814 0.43736534 0.687438   0.49050993 0.48064449 0.09178707\n",
      " 0.38716804 0.22935578 0.56332646 0.69877204 0.21917687 0.85812195\n",
      " 0.25440135 0.57993328 0.54290473 0.65693468 0.58673239 0.64962072\n",
      " 0.2426536  0.62802426 0.19262811 0.85565498 0.10646388 0.03684367\n",
      " 0.99838829 0.92582413 0.66214112 0.48779711 0.97163828 0.89875285\n",
      " 0.60128696 0.71062998 0.52406757 0.1337494  0.89789366 0.32431453\n",
      " 0.29750524 0.5743913  0.82049064 0.44232584 0.96883458 0.21098699\n",
      " 0.63465028 0.01465182 0.57045309 0.44362495 0.81446914 0.52911449\n",
      " 0.11825407 0.73315968 0.39830835 0.92752995 0.77453511 0.51779314\n",
      " 0.6079758  0.72532034 0.70404273 0.51256808 0.42108939 0.08636561\n",
      " 0.83591463 0.61932434 0.80971552 0.67033269 0.31238227 0.96629624\n",
      " 0.53453725 0.34836676 0.22147206 0.51231292 0.1727255  0.16690171\n",
      " 0.68836588 0.57420083 0.68053193 0.69666187 0.75506671 0.27685511\n",
      " 0.28083043 0.63246876 0.49770216 0.41712872 0.19678854 0.4843397\n",
      " 0.9460572  0.37616026 0.97660973 0.20320692 0.81885557 0.74502558\n",
      " 0.02619622 0.99186308 0.15450461 0.22343867 0.57010306 0.54703397\n",
      " 0.82597349 0.9459583  0.69552984 0.98764772]\n"
     ]
    }
   ],
   "source": [
    "uniform_array = numpy.random.uniform(0, 1, 100)\n",
    "print(uniform_array)"
   ],
   "metadata": {
    "collapsed": false,
    "ExecuteTime": {
     "start_time": "2023-10-06T21:44:12.110789Z",
     "end_time": "2023-10-06T21:44:12.297223Z"
    }
   }
  },
  {
   "cell_type": "markdown",
   "source": [
    "**2**\n",
    "\n",
    "<div dir=\"rtl\">\n",
    "بعد از vectorize کردن سندها ، مقایسه این دو کار آسانی است . تنها کافی است کسینوس زاویه بین این دو بردار را محاسبه کنیم . اگر زاویه بین این دو بردار کوچک است ، زاویه میان آن ها زیاد است و این بدین معناست که دو سند با هم مشابهت دارند .\n",
    "</div>"
   ],
   "metadata": {
    "collapsed": false
   }
  },
  {
   "cell_type": "code",
   "execution_count": 24,
   "outputs": [],
   "source": [
    "def cosine_similarity(array1, array2):\n",
    "    return numpy.dot(array1, array2) / (numpy.linalg.norm(array1) * numpy.linalg.norm(array2))"
   ],
   "metadata": {
    "collapsed": false,
    "ExecuteTime": {
     "start_time": "2023-10-06T21:44:12.116255Z",
     "end_time": "2023-10-06T21:44:12.297223Z"
    }
   }
  },
  {
   "cell_type": "markdown",
   "source": [
    "**3**"
   ],
   "metadata": {
    "collapsed": false
   }
  },
  {
   "cell_type": "code",
   "execution_count": 25,
   "outputs": [
    {
     "name": "stdout",
     "output_type": "stream",
     "text": [
      "[47  1 13  8 26 15 29 13  8 69 21 62 15 15 64 46 63 55 59 39]\n",
      "[False False False False  True False  True False False False  True False\n",
      " False False False False False False False False]\n"
     ]
    }
   ],
   "source": [
    "people_age = numpy.random.randint(1, 70, 20)\n",
    "people_age_logical_index = (18 <= people_age) & (people_age <= 30)\n",
    "print(people_age)\n",
    "print(people_age_logical_index)"
   ],
   "metadata": {
    "collapsed": false,
    "ExecuteTime": {
     "start_time": "2023-10-06T21:44:12.120635Z",
     "end_time": "2023-10-06T21:44:12.297223Z"
    }
   }
  },
  {
   "cell_type": "markdown",
   "source": [
    "**4**"
   ],
   "metadata": {
    "collapsed": false
   }
  },
  {
   "cell_type": "code",
   "execution_count": 26,
   "outputs": [
    {
     "name": "stdout",
     "output_type": "stream",
     "text": [
      "23.1 µs ± 2.13 µs per loop (mean ± std. dev. of 7 runs, 1,000 loops each)\n"
     ]
    }
   ],
   "source": [
    "number_array = numpy.random.random(10000)\n",
    "\n",
    "%timeit -n 1000 numpy.cumsum(number_array)"
   ],
   "metadata": {
    "collapsed": false,
    "ExecuteTime": {
     "start_time": "2023-10-06T21:44:12.125906Z",
     "end_time": "2023-10-06T21:44:12.297223Z"
    }
   }
  },
  {
   "cell_type": "code",
   "execution_count": 27,
   "outputs": [
    {
     "name": "stdout",
     "output_type": "stream",
     "text": [
      "569 µs ± 113 µs per loop (mean ± std. dev. of 7 runs, 1,000 loops each)\n"
     ]
    }
   ],
   "source": [
    "def cumulative_sum(array):\n",
    "    acc = 0\n",
    "    for a in array:\n",
    "        acc += a\n",
    "    return acc\n",
    "\n",
    "%timeit -n 1000 cumulative_sum(number_array)"
   ],
   "metadata": {
    "collapsed": false,
    "ExecuteTime": {
     "start_time": "2023-10-06T21:44:12.293224Z",
     "end_time": "2023-10-06T21:44:16.282621Z"
    }
   }
  },
  {
   "cell_type": "markdown",
   "source": [
    "**5**"
   ],
   "metadata": {
    "collapsed": false
   }
  },
  {
   "cell_type": "code",
   "execution_count": 28,
   "outputs": [
    {
     "name": "stdout",
     "output_type": "stream",
     "text": [
      "[[0 0 4 6 5 8 5 6 0 9]\n",
      " [4 2 0 6 9 4 6 0 5 8]\n",
      " [1 6 3 7 8 3 1 6 0 4]\n",
      " [8 7 1 2 6 9 6 6 5 3]\n",
      " [6 2 7 9 0 9 7 7 4 4]\n",
      " [1 1 0 1 6 7 6 5 3 8]\n",
      " [0 3 1 6 9 7 1 1 2 7]\n",
      " [5 2 7 2 5 4 9 4 7 5]\n",
      " [6 9 4 2 4 7 3 1 3 8]\n",
      " [7 2 6 7 7 2 3 1 4 5]]\n",
      "[[0 0]\n",
      " [1 2]\n",
      " [2 3]\n",
      " [1 3]\n",
      " [0 0]\n",
      " [4 2]]\n"
     ]
    }
   ],
   "source": [
    "def intensity_mask(array, lower_bound):\n",
    "    return array > lower_bound\n",
    "\n",
    "\n",
    "picture_pixel = numpy.random.randint(0, 10, size=(10, 10))\n",
    "print(picture_pixel)\n",
    "print_2d_mak_result(intensity_mask(picture_pixel, 5))"
   ],
   "metadata": {
    "collapsed": false,
    "ExecuteTime": {
     "start_time": "2023-10-06T21:44:16.283491Z",
     "end_time": "2023-10-06T21:44:16.287158Z"
    }
   }
  },
  {
   "cell_type": "markdown",
   "source": [
    "**6**"
   ],
   "metadata": {
    "collapsed": false
   }
  },
  {
   "cell_type": "code",
   "execution_count": 29,
   "outputs": [
    {
     "name": "stdout",
     "output_type": "stream",
     "text": [
      "(array([[-0.0955006 , -0.22069521,  0.0693813 , ..., -0.15550916,\n",
      "         0.02715541,  0.06770921],\n",
      "       [-0.10274968, -0.01223784,  0.07953965, ..., -0.0555836 ,\n",
      "         0.10825596, -0.11484829],\n",
      "       [-0.09622973, -0.09416434, -0.02444436, ...,  0.14878501,\n",
      "         0.14972184,  0.10457705],\n",
      "       ...,\n",
      "       [-0.10366629,  0.12438718,  0.05360308, ..., -0.02935067,\n",
      "        -0.12450409,  0.06994646],\n",
      "       [-0.10324327,  0.17714335,  0.02658964, ..., -0.08959909,\n",
      "         0.04647774, -0.13529278],\n",
      "       [-0.09526165,  0.12348043,  0.04630166, ..., -0.02116163,\n",
      "        -0.00319294,  0.05668736]]), array([4.93019184e+03, 5.43961766e+02, 5.36494531e+02, 5.30964929e+02,\n",
      "       5.18748799e+02, 5.00965223e+02, 4.99498408e+02, 4.91665107e+02,\n",
      "       4.86458324e+02, 4.73425438e+02, 4.67924446e+02, 4.62055904e+02,\n",
      "       4.47808478e+02, 4.39568867e+02, 4.38264722e+02, 4.27357854e+02,\n",
      "       4.22997322e+02, 4.13377735e+02, 4.09268162e+02, 4.04416693e+02,\n",
      "       3.95443561e+02, 3.93181607e+02, 3.88574206e+02, 3.85079433e+02,\n",
      "       3.74956863e+02, 3.69460321e+02, 3.59196976e+02, 3.55257518e+02,\n",
      "       3.51049766e+02, 3.43530753e+02, 3.39637525e+02, 3.33314163e+02,\n",
      "       3.24258554e+02, 3.22754388e+02, 3.10762999e+02, 3.09883791e+02,\n",
      "       3.05986555e+02, 3.01140623e+02, 2.92132745e+02, 2.80680512e+02,\n",
      "       2.80245833e+02, 2.76190607e+02, 2.69244139e+02, 2.65237779e+02,\n",
      "       2.59499136e+02, 2.58771706e+02, 2.50222810e+02, 2.48636652e+02,\n",
      "       2.41671727e+02, 2.40683783e+02, 2.32595697e+02, 2.25765046e+02,\n",
      "       2.14982249e+02, 2.13061318e+02, 2.12534086e+02, 2.06291611e+02,\n",
      "       2.02483286e+02, 1.98141339e+02, 1.92955559e+02, 1.89918319e+02,\n",
      "       1.86862187e+02, 1.82145607e+02, 1.78041495e+02, 1.74740772e+02,\n",
      "       1.68870101e+02, 1.64058543e+02, 1.57156401e+02, 1.52508788e+02,\n",
      "       1.47556836e+02, 1.44882181e+02, 1.36798507e+02, 1.30205466e+02,\n",
      "       1.24968487e+02, 1.24761531e+02, 1.22063354e+02, 1.13861089e+02,\n",
      "       1.12956724e+02, 1.03669839e+02, 9.93645479e+01, 9.81499794e+01,\n",
      "       9.13118145e+01, 8.58514262e+01, 8.22307385e+01, 7.85535148e+01,\n",
      "       7.64885844e+01, 6.53228487e+01, 5.67179691e+01, 5.25733367e+01,\n",
      "       4.56875487e+01, 4.29813049e+01, 3.69850631e+01, 3.42436006e+01,\n",
      "       3.16930322e+01, 2.62960865e+01, 2.56425908e+01, 2.25394727e+01,\n",
      "       1.78118480e+01, 9.74377119e+00, 5.35466608e+00, 2.10452870e-01]), array([[-0.10017344, -0.09921506, -0.09128358, ..., -0.08919116,\n",
      "        -0.09544393, -0.09897158],\n",
      "       [ 0.02547442,  0.20132046,  0.02557939, ..., -0.00260679,\n",
      "         0.17276464,  0.09644527],\n",
      "       [-0.11138361, -0.15259283, -0.03061274, ...,  0.05574207,\n",
      "         0.01509152,  0.18947585],\n",
      "       ...,\n",
      "       [-0.044398  ,  0.0347352 ,  0.08857093, ..., -0.20344726,\n",
      "         0.09782061,  0.03228461],\n",
      "       [-0.13300225,  0.00967369,  0.01823923, ..., -0.01253158,\n",
      "         0.18293362,  0.21522111],\n",
      "       [-0.00148536, -0.1450608 , -0.03379469, ...,  0.05028772,\n",
      "         0.04509378, -0.21227957]]))\n"
     ]
    }
   ],
   "source": [
    "number_array_2d = numpy.random.randint(0, 100, size=(100, 100))  #TODO\n",
    "\n",
    "reduced_array = numpy.linalg.svd(number_array_2d)\n",
    "\n",
    "print(reduced_array)"
   ],
   "metadata": {
    "collapsed": false,
    "ExecuteTime": {
     "start_time": "2023-10-06T21:44:16.288180Z",
     "end_time": "2023-10-06T21:44:16.301082Z"
    }
   }
  },
  {
   "cell_type": "markdown",
   "source": [
    "**7**"
   ],
   "metadata": {
    "collapsed": false
   }
  },
  {
   "cell_type": "code",
   "execution_count": 30,
   "outputs": [
    {
     "name": "stdout",
     "output_type": "stream",
     "text": [
      "[[ 1.         -0.04809496]\n",
      " [-0.04809496  1.        ]]\n"
     ]
    }
   ],
   "source": [
    "def correlation_coefficient(array1, array2):\n",
    "    return numpy.corrcoef(array1, array2)\n",
    "\n",
    "\n",
    "print(correlation_coefficient(numpy.random.random(100), numpy.random.random(100)))"
   ],
   "metadata": {
    "collapsed": false,
    "ExecuteTime": {
     "start_time": "2023-10-06T21:44:16.302100Z",
     "end_time": "2023-10-06T21:44:16.352063Z"
    }
   }
  },
  {
   "cell_type": "markdown",
   "source": [
    "**8**"
   ],
   "metadata": {
    "collapsed": false
   }
  },
  {
   "cell_type": "code",
   "execution_count": 31,
   "outputs": [
    {
     "name": "stdout",
     "output_type": "stream",
     "text": [
      "Data = [   1    5   76    2    3   67    2    4 6534   24    5  756    9   67\n",
      "    0    2]\n",
      "Type = <class 'numpy.ndarray'>\n"
     ]
    }
   ],
   "source": [
    "csv_file_array = numpy.genfromtxt('data/number.csv', delimiter=',', skip_header=True, dtype=int)\n",
    "print(f'Data = {csv_file_array}')\n",
    "print(f'Type = {type(csv_file_array)}')\n",
    "numpy.save('data/number', csv_file_array)"
   ],
   "metadata": {
    "collapsed": false,
    "ExecuteTime": {
     "start_time": "2023-10-06T21:44:16.306315Z",
     "end_time": "2023-10-06T21:44:16.370044Z"
    }
   }
  },
  {
   "cell_type": "markdown",
   "source": [
    "**9**"
   ],
   "metadata": {
    "collapsed": false
   }
  },
  {
   "cell_type": "code",
   "execution_count": 33,
   "outputs": [
    {
     "data": {
      "text/plain": "<Figure size 2000x500 with 2 Axes>",
      "image/png": "[encoded data removed]"
     },
     "metadata": {},
     "output_type": "display_data"
    }
   ],
   "source": [
    "from matplotlib import pyplot as plt\n",
    "\n",
    "import warnings\n",
    "\n",
    "warnings.filterwarnings('ignore')\n",
    "\n",
    "x = numpy.arange(0, 2, 1. / 500)\n",
    "sound_wave = 3 * numpy.sin(numpy.pi * x * 4)\n",
    "wave_fourier_transform = numpy.fft.fft(sound_wave)\n",
    "\n",
    "plt.figure(figsize=(20, 5))\n",
    "\n",
    "plt.subplot(1, 2, 1)\n",
    "plt.plot(x, sound_wave, color='c')\n",
    "plt.title('Sound Wave')\n",
    "plt.ylabel('Amplitude')\n",
    "plt.xlabel('Time')\n",
    "plt.grid()\n",
    "\n",
    "plt.subplot(1, 2, 2)\n",
    "plt.plot(wave_fourier_transform, color='m')\n",
    "plt.title('Fourier Transform')\n",
    "plt.ylabel('Amplitude')\n",
    "plt.xlabel('Frequency (Hz)')\n",
    "plt.grid()\n",
    "\n",
    "plt.show()"
   ],
   "metadata": {
    "collapsed": false,
    "ExecuteTime": {
     "start_time": "2023-10-06T21:44:42.240997Z",
     "end_time": "2023-10-06T21:44:42.404686Z"
    }
   }
  }
 ],
 "metadata": {
  "kernelspec": {
   "display_name": "Python 3",
   "language": "python",
   "name": "python3"
  },
  "language_info": {
   "codemirror_mode": {
    "name": "ipython",
    "version": 2
   },
   "file_extension": ".py",
   "mimetype": "text/x-python",
   "name": "python",
   "nbconvert_exporter": "python",
   "pygments_lexer": "ipython2",
   "version": "2.7.6"
  }
 },
 "nbformat": 4,
 "nbformat_minor": 0
}
