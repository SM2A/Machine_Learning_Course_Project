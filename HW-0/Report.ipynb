{
 "cells": [
  {
   "cell_type": "markdown",
   "source": [
    "# Seyed Mohammad Amin Atyabi - 830402014"
   ],
   "metadata": {
    "collapsed": false
   }
  },
  {
   "cell_type": "markdown",
   "source": [
    "## NumPy"
   ],
   "metadata": {
    "collapsed": false
   }
  },
  {
   "cell_type": "markdown",
   "source": [
    "### 1"
   ],
   "metadata": {
    "collapsed": false
   }
  },
  {
   "cell_type": "markdown",
   "source": [
    "**1**"
   ],
   "metadata": {
    "collapsed": false
   }
  },
  {
   "cell_type": "code",
   "execution_count": 1,
   "outputs": [
    {
     "name": "stdout",
     "output_type": "stream",
     "text": [
      "Length = 1000\n",
      "Vector = [243, 768, 142, 354, 849, 83, 691, 956, 461, 796, 173, 467, 661, 595, 970, 725, 800, 594, 746, 434, 701, 383, 320, 201, 238, 926, 782, 942, 357, 228, 666, 110, 143, 683, 490, 666, 113, 913, 979, 53, 481, 401, 459, 562, 228, 33, 990, 814, 79, 851, 963, 411, 175, 993, 968, 147, 740, 818, 638, 309, 538, 173, 928, 444, 720, 330, 360, 897, 531, 873, 359, 255, 866, 228, 385, 319, 548, 306, 573, 470, 66, 920, 246, 821, 597, 290, 890, 175, 633, 324, 646, 380, 582, 889, 238, 386, 770, 99, 558, 654, 50, 463, 990, 548, 50, 757, 674, 324, 124, 947, 510, 927, 808, 26, 49, 754, 109, 649, 357, 664, 573, 182, 207, 879, 527, 532, 627, 646, 322, 516, 185, 314, 806, 497, 871, 936, 832, 249, 214, 97, 600, 18, 582, 75, 89, 843, 69, 767, 12, 465, 683, 717, 339, 485, 464, 375, 944, 823, 934, 453, 625, 318, 359, 665, 453, 392, 470, 765, 507, 332, 385, 183, 201, 76, 307, 332, 865, 818, 799, 858, 615, 769, 987, 113, 706, 745, 390, 49, 990, 485, 272, 287, 649, 843, 332, 150, 395, 612, 571, 853, 1000, 795, 902, 196, 690, 26, 704, 487, 377, 651, 97, 242, 30, 631, 722, 738, 748, 797, 401, 15, 701, 223, 101, 114, 559, 899, 182, 695, 956, 413, 277, 126, 849, 53, 659, 287, 458, 121, 315, 123, 442, 268, 462, 853, 482, 962, 260, 809, 763, 589, 652, 794, 527, 235, 871, 714, 276, 795, 988, 869, 320, 942, 822, 363, 773, 972, 265, 722, 991, 185, 187, 296, 336, 477, 809, 910, 550, 407, 937, 715, 415, 749, 451, 29, 405, 933, 129, 375, 492, 426, 103, 706, 948, 215, 513, 958, 716, 211, 781, 972, 681, 290, 200, 437, 737, 644, 826, 651, 70, 933, 774, 845, 141, 462, 990, 418, 465, 222, 447, 469, 774, 564, 274, 159, 966, 513, 127, 241, 416, 881, 246, 104, 309, 173, 393, 283, 779, 827, 351, 165, 685, 217, 757, 411, 902, 295, 109, 929, 161, 134, 573, 53, 459, 940, 53, 374, 86, 178, 970, 114, 734, 529, 119, 782, 955, 28, 123, 719, 589, 749, 395, 427, 155, 789, 114, 737, 953, 745, 98, 101, 375, 517, 205, 843, 292, 961, 543, 58, 138, 554, 97, 247, 836, 844, 785, 364, 555, 607, 627, 746, 280, 331, 598, 846, 126, 311, 914, 33, 207, 377, 828, 309, 197, 357, 220, 730, 919, 813, 126, 379, 36, 267, 898, 778, 272, 235, 439, 769, 550, 285, 149, 892, 107, 81, 66, 684, 445, 802, 816, 607, 424, 905, 339, 311, 711, 226, 238, 873, 549, 511, 117, 623, 540, 821, 989, 105, 495, 673, 358, 887, 168, 389, 146, 464, 665, 196, 519, 542, 264, 54, 229, 408, 223, 270, 632, 313, 772, 768, 903, 364, 130, 245, 771, 335, 220, 484, 752, 968, 505, 27, 823, 886, 172, 133, 684, 521, 360, 255, 786, 416, 662, 408, 604, 616, 285, 991, 461, 967, 471, 254, 882, 218, 575, 326, 158, 570, 238, 434, 960, 464, 239, 88, 73, 919, 378, 79, 873, 345, 412, 673, 22, 919, 998, 788, 198, 702, 888, 66, 652, 711, 876, 670, 105, 483, 443, 495, 187, 618, 123, 703, 924, 133, 403, 305, 870, 949, 708, 397, 360, 52, 751, 648, 305, 214, 984, 157, 890, 506, 122, 15, 41, 186, 186, 122, 248, 871, 717, 849, 781, 764, 572, 113, 651, 200, 686, 888, 453, 27, 410, 451, 973, 426, 122, 403, 865, 292, 646, 72, 248, 41, 785, 617, 915, 410, 63, 595, 851, 554, 338, 613, 953, 786, 295, 258, 58, 715, 639, 643, 746, 64, 460, 488, 172, 270, 540, 401, 448, 186, 477, 802, 565, 527, 229, 997, 969, 955, 820, 648, 347, 67, 752, 916, 705, 19, 872, 942, 309, 231, 605, 401, 495, 10, 585, 389, 492, 184, 518, 854, 431, 536, 127, 794, 464, 442, 600, 896, 875, 535, 685, 276, 133, 652, 367, 827, 381, 242, 282, 489, 157, 323, 508, 588, 246, 292, 376, 125, 426, 966, 379, 72, 569, 117, 375, 138, 578, 318, 54, 131, 991, 285, 28, 289, 385, 472, 965, 510, 260, 888, 396, 629, 762, 393, 81, 617, 125, 173, 547, 663, 790, 259, 708, 970, 842, 601, 813, 156, 192, 135, 852, 86, 339, 875, 266, 684, 261, 89, 681, 531, 509, 151, 461, 900, 732, 934, 133, 334, 222, 171, 297, 311, 351, 646, 752, 670, 364, 148, 892, 300, 489, 762, 296, 69, 163, 499, 936, 642, 578, 630, 62, 178, 578, 545, 851, 881, 880, 930, 915, 117, 220, 88, 930, 573, 843, 899, 363, 509, 567, 396, 783, 123, 836, 689, 609, 652, 726, 863, 349, 695, 866, 546, 509, 489, 753, 57, 150, 461, 255, 987, 594, 211, 20, 599, 111, 960, 500, 545, 371, 862, 824, 147, 216, 381, 142, 89, 107, 928, 622, 717, 205, 357, 94, 174, 551, 799, 710, 628, 370, 605, 400, 162, 521, 946, 444, 542, 899, 672, 918, 137, 751, 529, 610, 893, 202, 75, 253, 462, 174, 161, 606, 201, 494, 716, 687, 115, 586, 139, 565, 803, 775, 824, 542, 141, 659, 521, 616, 444, 815, 245, 821, 616, 191, 965, 964, 65, 379, 62, 878, 998, 378, 828, 51, 691, 560, 357, 502, 934, 287, 881, 571, 400, 722, 77, 752, 150, 722, 32, 488, 563, 629, 576, 580, 886, 250, 359, 527, 798, 284, 194, 877, 614, 516, 275, 410, 31, 768, 815, 934, 709, 856, 770, 237, 804, 502, 100, 968, 345, 632, 962, 507, 125, 640, 27, 747, 517, 515, 193, 978, 506, 318, 552, 529, 795, 753, 582, 523, 428, 626, 814, 305, 981, 494, 327, 232, 498, 896, 481, 800, 453, 861, 860, 50, 595, 693, 623, 734, 243, 354, 632, 387, 658, 521, 426, 860, 260, 182, 410, 700, 249, 312, 179, 936, 559, 723, 937, 924, 744, 200, 483, 754, 227]\n"
     ]
    }
   ],
   "source": [
    "import random\n",
    "\n",
    "vector = [random.randint(10, 1000) for x in range(0, 1000)]\n",
    "print(f'Length = {len(vector)}')\n",
    "print(f'Vector = {vector}')"
   ],
   "metadata": {
    "collapsed": false,
    "ExecuteTime": {
     "end_time": "2023-11-02T09:46:26.393987800Z",
     "start_time": "2023-11-02T09:46:26.086295300Z"
    }
   }
  },
  {
   "cell_type": "markdown",
   "source": [
    "**2**"
   ],
   "metadata": {
    "collapsed": false
   }
  },
  {
   "cell_type": "code",
   "execution_count": 2,
   "outputs": [
    {
     "name": "stdout",
     "output_type": "stream",
     "text": [
      "Average = 502.909\n",
      "Variance = 80313.35607507508\n"
     ]
    }
   ],
   "source": [
    "_sum_ = sum(vector)\n",
    "count = len(vector)\n",
    "mean = _sum_ / count\n",
    "variance = (sum(map(lambda x: (x - mean) ** 2, vector))) / (count - 1)\n",
    "print(f'Average = {mean}')\n",
    "print(f'Variance = {variance}')"
   ],
   "metadata": {
    "collapsed": false,
    "ExecuteTime": {
     "end_time": "2023-11-02T09:46:26.396001300Z",
     "start_time": "2023-11-02T09:46:26.092536Z"
    }
   }
  },
  {
   "cell_type": "markdown",
   "source": [
    "### 2"
   ],
   "metadata": {
    "collapsed": false
   }
  },
  {
   "cell_type": "markdown",
   "source": [
    "**1**"
   ],
   "metadata": {
    "collapsed": false
   }
  },
  {
   "cell_type": "code",
   "execution_count": 3,
   "outputs": [
    {
     "name": "stdout",
     "output_type": "stream",
     "text": [
      "[[0.5972498864748502, 0.5136312170968635, 0.04850112783636895, 0.43361540330912507, 0.13143714600758416, 0.7480271449077289, 0.7244108251832962, 0.94844839160181, 0.8406509896978415, 0.07894690595400133], [0.41952628163489625, 0.0942599581959166, 0.8462970614209081, 0.7382417670497542, 0.4804317545526038, 0.9894223911166261, 0.21144797330537102, 0.8610383482897372, 0.8042433623692391, 0.9750486875832243], [0.15548798231141792, 0.8536841414414927, 0.9154762318445484, 0.03377097774794291, 0.9887466195743346, 0.5982158261749054, 0.7016950503199786, 0.4266979125558942, 0.7407232602899133, 0.7396491809344486], [0.23921846940776093, 0.2779512885393115, 0.1479909159424403, 0.47746641792227185, 0.6052704892067838, 0.5089094506533374, 0.4577978029148735, 0.4569801734990324, 0.6232796248056243, 0.16706051788446374], [0.6051743457997423, 0.5753860932674046, 0.18863576780000602, 0.568762522695712, 0.8845307034963473, 0.9540523260875908, 0.22673297023029848, 0.8845831788346612, 0.9497501949026192, 0.479606647203041], [0.5769393972511898, 0.048480568429000837, 0.723936512054107, 0.34220544646724205, 0.08509951320734221, 0.993031400549338, 0.03398725875776121, 0.5628547124139118, 0.17299326158075112, 0.8981854811566592], [0.5513634084905055, 0.6585401143376217, 0.20595477265520945, 0.9014129617744582, 0.08440015621612384, 0.4435662142762007, 0.8557598226254628, 0.7049309663680599, 0.24160124076938516, 0.8034879359368307], [0.05179963336686122, 0.746044640710795, 0.5130491605798893, 0.9462214577983666, 0.37326719455354884, 0.37519643008824155, 0.3853214660946289, 0.6150096828151888, 0.6484001035176598, 0.45488772770619434], [0.5915104502357657, 0.9280683368280253, 0.9017582864101372, 0.9781683790393535, 0.5093250882942517, 0.5819182802189975, 0.6725690533865374, 0.6523401094576735, 0.05220038467156185, 0.6994712655649108], [0.3491308339395741, 0.24933489315331692, 0.8587917123407779, 0.0013445572427052133, 0.02977148113959882, 0.45270654108576003, 0.29750614936029074, 0.8839274211639996, 0.735177186240094, 0.6090642296144129]]\n"
     ]
    }
   ],
   "source": [
    "matrix = [[random.random() for j in range(0, 10)] for i in range(0, 10)]\n",
    "print(matrix)"
   ],
   "metadata": {
    "collapsed": false,
    "ExecuteTime": {
     "end_time": "2023-11-02T09:46:26.397984600Z",
     "start_time": "2023-11-02T09:46:26.094045300Z"
    }
   }
  },
  {
   "cell_type": "markdown",
   "source": [
    "**2**"
   ],
   "metadata": {
    "collapsed": false
   }
  },
  {
   "cell_type": "code",
   "execution_count": 4,
   "outputs": [
    {
     "name": "stdout",
     "output_type": "stream",
     "text": [
      "Row sum = [5.06491903806947, 6.419957585518277, 6.154147183194877, 3.9619251507758997, 6.317214750317423, 4.437713551867303, 5.4510175934498575, 5.109197497231374, 6.567329634107215, 4.46675500528053]\n",
      "Column sum = [4.137400688912564, 4.945381251999748, 5.350391548884392, 5.4212098910469315, 4.172280146248519, 6.645046005158727, 4.567228372178499, 6.9968108969999685, 5.8090196088446895, 5.905408579538187]\n"
     ]
    }
   ],
   "source": [
    "rowSum = [sum(x) for x in matrix]\n",
    "columnSum = [sum(x) for x in zip(*matrix)]\n",
    "print(f'Row sum = {rowSum}')\n",
    "print(f'Column sum = {columnSum}')"
   ],
   "metadata": {
    "collapsed": false,
    "ExecuteTime": {
     "end_time": "2023-11-02T09:46:26.400002200Z",
     "start_time": "2023-11-02T09:46:26.100730700Z"
    }
   }
  },
  {
   "cell_type": "markdown",
   "source": [
    "### 3"
   ],
   "metadata": {
    "collapsed": false
   }
  },
  {
   "cell_type": "markdown",
   "source": [
    "**1**"
   ],
   "metadata": {
    "collapsed": false
   }
  },
  {
   "cell_type": "code",
   "execution_count": 5,
   "outputs": [
    {
     "name": "stdout",
     "output_type": "stream",
     "text": [
      "Heights = [140. 200. 175. 120. 150.]\n",
      "Type = float64\n"
     ]
    }
   ],
   "source": [
    "import numpy\n",
    "\n",
    "heights = numpy.array([140, 200, 175, 120, 150], numpy.float64)\n",
    "print(f'Heights = {heights}')\n",
    "print(f'Type = {heights.dtype}')"
   ],
   "metadata": {
    "collapsed": false,
    "ExecuteTime": {
     "end_time": "2023-11-02T09:46:26.433088400Z",
     "start_time": "2023-11-02T09:46:26.104777100Z"
    }
   }
  },
  {
   "cell_type": "markdown",
   "source": [
    "**2**"
   ],
   "metadata": {
    "collapsed": false
   }
  },
  {
   "cell_type": "code",
   "execution_count": 6,
   "outputs": [
    {
     "name": "stdout",
     "output_type": "stream",
     "text": [
      "Widths = [ 7. 10. 15.  8. 12.]\n",
      "Type = float64\n"
     ]
    }
   ],
   "source": [
    "widths = numpy.array([7, 10, 15, 8, 12], numpy.float64)\n",
    "print(f'Widths = {widths}')\n",
    "print(f'Type = {widths.dtype}')"
   ],
   "metadata": {
    "collapsed": false,
    "ExecuteTime": {
     "end_time": "2023-11-02T09:46:26.433088400Z",
     "start_time": "2023-11-02T09:46:26.180150500Z"
    }
   }
  },
  {
   "cell_type": "markdown",
   "source": [
    "**3**"
   ],
   "metadata": {
    "collapsed": false
   }
  },
  {
   "cell_type": "code",
   "execution_count": 7,
   "outputs": [
    {
     "name": "stdout",
     "output_type": "stream",
     "text": [
      "Areas = [ 980. 2000. 2625.  960. 1800.]\n"
     ]
    }
   ],
   "source": [
    "areas = heights * widths\n",
    "print(f'Areas = {areas}')"
   ],
   "metadata": {
    "collapsed": false,
    "ExecuteTime": {
     "end_time": "2023-11-02T09:46:26.433088400Z",
     "start_time": "2023-11-02T09:46:26.184336Z"
    }
   }
  },
  {
   "cell_type": "markdown",
   "source": [
    "**4**"
   ],
   "metadata": {
    "collapsed": false
   }
  },
  {
   "cell_type": "code",
   "execution_count": 8,
   "outputs": [
    {
     "name": "stdout",
     "output_type": "stream",
     "text": [
      "Indices = [0 1 2 3 4]\n"
     ]
    }
   ],
   "source": [
    "indices = numpy.arange(0, len(heights), dtype=numpy.int64)\n",
    "print(f'Indices = {indices}')"
   ],
   "metadata": {
    "collapsed": false,
    "ExecuteTime": {
     "end_time": "2023-11-02T09:46:26.437106900Z",
     "start_time": "2023-11-02T09:46:26.187404300Z"
    }
   }
  },
  {
   "cell_type": "markdown",
   "source": [
    "**5**"
   ],
   "metadata": {
    "collapsed": false
   }
  },
  {
   "cell_type": "code",
   "execution_count": 9,
   "outputs": [
    {
     "name": "stdout",
     "output_type": "stream",
     "text": [
      "[[  0. 140.   7.]\n",
      " [  1. 200.  10.]\n",
      " [  2. 175.  15.]\n",
      " [  3. 120.   8.]\n",
      " [  4. 150.  12.]]\n"
     ]
    }
   ],
   "source": [
    "plant_info = numpy.transpose(numpy.array([indices, heights, widths]))\n",
    "print(plant_info)"
   ],
   "metadata": {
    "collapsed": false,
    "ExecuteTime": {
     "end_time": "2023-11-02T09:46:26.438107900Z",
     "start_time": "2023-11-02T09:46:26.192520200Z"
    }
   }
  },
  {
   "cell_type": "markdown",
   "source": [
    "**6**"
   ],
   "metadata": {
    "collapsed": false
   }
  },
  {
   "cell_type": "code",
   "execution_count": 10,
   "outputs": [
    {
     "name": "stdout",
     "output_type": "stream",
     "text": [
      "[[1. 0. 0.]\n",
      " [0. 1. 0.]\n",
      " [0. 0. 1.]]\n"
     ]
    }
   ],
   "source": [
    "identity_matrix = numpy.eye(3)\n",
    "print(identity_matrix)"
   ],
   "metadata": {
    "collapsed": false,
    "ExecuteTime": {
     "end_time": "2023-11-02T09:46:26.438107900Z",
     "start_time": "2023-11-02T09:46:26.196444900Z"
    }
   }
  },
  {
   "cell_type": "markdown",
   "source": [
    "**7**"
   ],
   "metadata": {
    "collapsed": false
   }
  },
  {
   "cell_type": "code",
   "execution_count": 11,
   "outputs": [
    {
     "name": "stdout",
     "output_type": "stream",
     "text": [
      "[[ 980.    0.    0.    0.    0.]\n",
      " [   0. 2000.    0.    0.    0.]\n",
      " [   0.    0. 2625.    0.    0.]\n",
      " [   0.    0.    0.  960.    0.]\n",
      " [   0.    0.    0.    0. 1800.]]\n"
     ]
    }
   ],
   "source": [
    "diagonal_matrix = numpy.diag(areas)\n",
    "print(diagonal_matrix)"
   ],
   "metadata": {
    "collapsed": false,
    "ExecuteTime": {
     "end_time": "2023-11-02T09:46:26.438107900Z",
     "start_time": "2023-11-02T09:46:26.202300500Z"
    }
   }
  },
  {
   "cell_type": "markdown",
   "source": [
    "**8**"
   ],
   "metadata": {
    "collapsed": false
   }
  },
  {
   "cell_type": "code",
   "execution_count": 12,
   "outputs": [
    {
     "name": "stdout",
     "output_type": "stream",
     "text": [
      "[    30 127125    582]\n"
     ]
    }
   ],
   "source": [
    "squared_sums = numpy.fromfunction(lambda i, j: sum(plant_info ** 2), (1, 4), dtype=int).astype(int)\n",
    "print(squared_sums)"
   ],
   "metadata": {
    "collapsed": false,
    "ExecuteTime": {
     "end_time": "2023-11-02T09:46:26.438107900Z",
     "start_time": "2023-11-02T09:46:26.205039200Z"
    }
   }
  },
  {
   "cell_type": "markdown",
   "source": [
    "### 4"
   ],
   "metadata": {
    "collapsed": false
   }
  },
  {
   "cell_type": "markdown",
   "source": [
    "**1**"
   ],
   "metadata": {
    "collapsed": false
   }
  },
  {
   "cell_type": "code",
   "execution_count": 13,
   "outputs": [
    {
     "name": "stdout",
     "output_type": "stream",
     "text": [
      "[[5 4 5 6 5]\n",
      " [1 4 6 3 1]\n",
      " [6 1 3 2 4]\n",
      " [1 2 1 4 6]]\n",
      "Type = int32\n",
      "Shape = (4, 5)\n",
      "Size = 20\n",
      "length = 4\n"
     ]
    }
   ],
   "source": [
    "treasure_map = numpy.random.randint(1, 7, size=(4, 5))\n",
    "print(treasure_map)\n",
    "print(f'Type = {treasure_map.dtype}')\n",
    "print(f'Shape = {treasure_map.shape}')\n",
    "print(f'Size = {treasure_map.size}')\n",
    "print(f'length = {len(treasure_map)}')"
   ],
   "metadata": {
    "collapsed": false,
    "ExecuteTime": {
     "end_time": "2023-11-02T09:46:26.439087900Z",
     "start_time": "2023-11-02T09:46:26.209788500Z"
    }
   }
  },
  {
   "cell_type": "markdown",
   "source": [
    "**2**"
   ],
   "metadata": {
    "collapsed": false
   }
  },
  {
   "cell_type": "code",
   "execution_count": 14,
   "outputs": [
    {
     "name": "stdout",
     "output_type": "stream",
     "text": [
      "[[5 4 5 6 5 1 4 6 3 1]\n",
      " [6 1 3 2 4 1 2 1 4 6]]\n"
     ]
    }
   ],
   "source": [
    "reshaped_treasure_map = numpy.reshape(treasure_map, (2, -1))\n",
    "print(reshaped_treasure_map)"
   ],
   "metadata": {
    "collapsed": false,
    "ExecuteTime": {
     "end_time": "2023-11-02T09:46:26.439087900Z",
     "start_time": "2023-11-02T09:46:26.214110900Z"
    }
   }
  },
  {
   "cell_type": "markdown",
   "source": [
    "**3**"
   ],
   "metadata": {
    "collapsed": false
   }
  },
  {
   "cell_type": "code",
   "execution_count": 15,
   "outputs": [
    {
     "name": "stdout",
     "output_type": "stream",
     "text": [
      "Original = [5 4 5 6 5]\n",
      "Reshaped = [5 4 5 6 5 1 4 6 3 1]\n"
     ]
    }
   ],
   "source": [
    "print(f'Original = {treasure_map[0]}')\n",
    "print(f'Reshaped = {reshaped_treasure_map[0]}')"
   ],
   "metadata": {
    "collapsed": false,
    "ExecuteTime": {
     "end_time": "2023-11-02T09:46:26.439087900Z",
     "start_time": "2023-11-02T09:46:26.218273700Z"
    }
   }
  },
  {
   "cell_type": "markdown",
   "source": [
    "**4**"
   ],
   "metadata": {
    "collapsed": false
   }
  },
  {
   "cell_type": "code",
   "execution_count": 16,
   "outputs": [
    {
     "name": "stdout",
     "output_type": "stream",
     "text": [
      "Original = [5 1 6 1]\n",
      "Reshaped = [5 6]\n"
     ]
    }
   ],
   "source": [
    "print(f'Original = {treasure_map[:, 0]}')\n",
    "print(f'Reshaped = {reshaped_treasure_map[:, 0]}')"
   ],
   "metadata": {
    "collapsed": false,
    "ExecuteTime": {
     "end_time": "2023-11-02T09:46:26.439087900Z",
     "start_time": "2023-11-02T09:46:26.221399900Z"
    }
   }
  },
  {
   "cell_type": "markdown",
   "source": [
    "**5**"
   ],
   "metadata": {
    "collapsed": false
   }
  },
  {
   "cell_type": "code",
   "execution_count": 17,
   "outputs": [
    {
     "name": "stdout",
     "output_type": "stream",
     "text": [
      "Original = [1 2 1 4 6]\n",
      "Reshaped = [6 1 3 2 4 1 2 1 4 6]\n"
     ]
    }
   ],
   "source": [
    "print(f'Original = {treasure_map[-1]}')\n",
    "print(f'Reshaped = {reshaped_treasure_map[-1]}')"
   ],
   "metadata": {
    "collapsed": false,
    "ExecuteTime": {
     "end_time": "2023-11-02T09:46:26.440106300Z",
     "start_time": "2023-11-02T09:46:26.227292900Z"
    }
   }
  },
  {
   "cell_type": "markdown",
   "source": [
    "**6**"
   ],
   "metadata": {
    "collapsed": false
   }
  },
  {
   "cell_type": "code",
   "execution_count": 18,
   "outputs": [
    {
     "name": "stdout",
     "output_type": "stream",
     "text": [
      "Original = 4\n",
      "Reshaped = 1\n"
     ]
    }
   ],
   "source": [
    "print(f'Original = {treasure_map[1][1]}')\n",
    "print(f'Reshaped = {reshaped_treasure_map[1][1]}')"
   ],
   "metadata": {
    "collapsed": false,
    "ExecuteTime": {
     "end_time": "2023-11-02T09:46:26.440106300Z",
     "start_time": "2023-11-02T09:46:26.230265Z"
    }
   }
  },
  {
   "cell_type": "markdown",
   "source": [
    "**7**"
   ],
   "metadata": {
    "collapsed": false
   }
  },
  {
   "cell_type": "code",
   "execution_count": 19,
   "outputs": [
    {
     "name": "stdout",
     "output_type": "stream",
     "text": [
      "[[4 5 6]\n",
      " [4 6 3]\n",
      " [1 3 2]\n",
      " [2 1 4]]\n"
     ]
    }
   ],
   "source": [
    "print(treasure_map[:, 1:4])"
   ],
   "metadata": {
    "collapsed": false,
    "ExecuteTime": {
     "end_time": "2023-11-02T09:46:26.440106300Z",
     "start_time": "2023-11-02T09:46:26.234163200Z"
    }
   }
  },
  {
   "cell_type": "markdown",
   "source": [
    "**8**"
   ],
   "metadata": {
    "collapsed": false
   }
  },
  {
   "cell_type": "code",
   "execution_count": 20,
   "outputs": [
    {
     "name": "stdout",
     "output_type": "stream",
     "text": [
      "[[False False False False False]\n",
      " [ True False False False  True]\n",
      " [False  True False  True False]\n",
      " [ True  True  True False False]]\n"
     ]
    }
   ],
   "source": [
    "map_mask = treasure_map <= 2\n",
    "print(map_mask)"
   ],
   "metadata": {
    "collapsed": false,
    "ExecuteTime": {
     "end_time": "2023-11-02T09:46:26.440106300Z",
     "start_time": "2023-11-02T09:46:26.237735800Z"
    }
   }
  },
  {
   "cell_type": "markdown",
   "source": [
    "**9**"
   ],
   "metadata": {
    "collapsed": false
   }
  },
  {
   "cell_type": "code",
   "execution_count": 21,
   "outputs": [
    {
     "name": "stdout",
     "output_type": "stream",
     "text": [
      "[[1 1]\n",
      " [2 2]\n",
      " [3 3]\n",
      " [3 0]\n",
      " [4 1]\n",
      " [3 0]\n",
      " [1 2]]\n"
     ]
    }
   ],
   "source": [
    "def print_2d_mak_result(mask):\n",
    "    print(numpy.reshape(numpy.where(map_mask == True), (-1, 2)))\n",
    "\n",
    "\n",
    "print_2d_mak_result(map_mask)"
   ],
   "metadata": {
    "collapsed": false,
    "ExecuteTime": {
     "end_time": "2023-11-02T09:46:26.440106300Z",
     "start_time": "2023-11-02T09:46:26.242946Z"
    }
   }
  },
  {
   "cell_type": "markdown",
   "source": [
    "**10**"
   ],
   "metadata": {
    "collapsed": false
   }
  },
  {
   "cell_type": "code",
   "execution_count": 22,
   "outputs": [
    {
     "name": "stdout",
     "output_type": "stream",
     "text": [
      "(0, 1) = 4\n",
      "(0, 2) = 5\n"
     ]
    }
   ],
   "source": [
    "print(f'(0, 1) = {treasure_map[0][1]}')\n",
    "print(f'(0, 2) = {treasure_map[0][2]}')"
   ],
   "metadata": {
    "collapsed": false,
    "ExecuteTime": {
     "end_time": "2023-11-02T09:46:26.440106300Z",
     "start_time": "2023-11-02T09:46:26.247349300Z"
    }
   }
  },
  {
   "cell_type": "markdown",
   "source": [
    "### 5"
   ],
   "metadata": {
    "collapsed": false
   }
  },
  {
   "cell_type": "markdown",
   "source": [
    "**1**"
   ],
   "metadata": {
    "collapsed": false
   }
  },
  {
   "cell_type": "code",
   "execution_count": 23,
   "outputs": [
    {
     "name": "stdout",
     "output_type": "stream",
     "text": [
      "[0.46016408 0.14496063 0.07494916 0.16297072 0.16540861 0.0203789\n",
      " 0.89217421 0.01979163 0.14234721 0.67712988 0.38629152 0.69512298\n",
      " 0.83366506 0.13252259 0.46108253 0.28390048 0.63815144 0.34136613\n",
      " 0.52652843 0.69576658 0.04629636 0.31035953 0.57102581 0.08412007\n",
      " 0.41089213 0.46300967 0.56021779 0.63723208 0.05600471 0.74066517\n",
      " 0.39035221 0.06743816 0.80552076 0.08169916 0.54525852 0.09973321\n",
      " 0.73170509 0.21422355 0.95231291 0.54534406 0.44267304 0.60058605\n",
      " 0.39351339 0.56785224 0.49448305 0.63085244 0.81257375 0.51339569\n",
      " 0.56002195 0.72957653 0.70489161 0.49338859 0.51491002 0.66396181\n",
      " 0.63662357 0.92350176 0.52579346 0.12728897 0.84676275 0.80859823\n",
      " 0.82563463 0.47013241 0.88658326 0.30775285 0.35217281 0.29288317\n",
      " 0.90545447 0.09929747 0.19090665 0.06909919 0.11333414 0.82945092\n",
      " 0.94713089 0.93627551 0.6516527  0.16893951 0.49577654 0.10196019\n",
      " 0.70009989 0.93371014 0.28182012 0.7222672  0.47283304 0.24685894\n",
      " 0.16082813 0.06086039 0.76238747 0.07455298 0.0349716  0.11573592\n",
      " 0.21366483 0.96368991 0.99846889 0.43173244 0.30778282 0.06926843\n",
      " 0.56006511 0.62155239 0.00321439 0.09768314]\n"
     ]
    }
   ],
   "source": [
    "uniform_array = numpy.random.uniform(0, 1, 100)\n",
    "print(uniform_array)"
   ],
   "metadata": {
    "collapsed": false,
    "ExecuteTime": {
     "end_time": "2023-11-02T09:46:26.440106300Z",
     "start_time": "2023-11-02T09:46:26.249888700Z"
    }
   }
  },
  {
   "cell_type": "markdown",
   "source": [
    "**2**\n",
    "\n",
    "<div dir=\"rtl\">\n",
    "بعد از vectorize کردن سندها ، مقایسه این دو کار آسانی است . تنها کافی است کسینوس زاویه بین این دو بردار را محاسبه کنیم . اگر زاویه بین این دو بردار کوچک است ، زاویه میان آن ها زیاد است و این بدین معناست که دو سند با هم مشابهت دارند .\n",
    "</div>"
   ],
   "metadata": {
    "collapsed": false
   }
  },
  {
   "cell_type": "code",
   "execution_count": 24,
   "outputs": [],
   "source": [
    "def cosine_similarity(array1, array2):\n",
    "    return numpy.dot(array1, array2) / (numpy.linalg.norm(array1) * numpy.linalg.norm(array2))"
   ],
   "metadata": {
    "collapsed": false,
    "ExecuteTime": {
     "end_time": "2023-11-02T09:46:26.440106300Z",
     "start_time": "2023-11-02T09:46:26.255144900Z"
    }
   }
  },
  {
   "cell_type": "markdown",
   "source": [
    "**3**"
   ],
   "metadata": {
    "collapsed": false
   }
  },
  {
   "cell_type": "code",
   "execution_count": 25,
   "outputs": [
    {
     "name": "stdout",
     "output_type": "stream",
     "text": [
      "[50  2 58 25 30 42  5 66 21 34 15 65 20  8 20 26  3 31 18 41]\n",
      "[False False False  True  True False False False  True False False False\n",
      "  True False  True  True False False  True False]\n"
     ]
    }
   ],
   "source": [
    "people_age = numpy.random.randint(1, 70, 20)\n",
    "people_age_logical_index = (18 <= people_age) & (people_age <= 30)\n",
    "print(people_age)\n",
    "print(people_age_logical_index)"
   ],
   "metadata": {
    "collapsed": false,
    "ExecuteTime": {
     "end_time": "2023-11-02T09:46:26.441087300Z",
     "start_time": "2023-11-02T09:46:26.259889Z"
    }
   }
  },
  {
   "cell_type": "markdown",
   "source": [
    "**4**"
   ],
   "metadata": {
    "collapsed": false
   }
  },
  {
   "cell_type": "code",
   "execution_count": 26,
   "outputs": [
    {
     "name": "stdout",
     "output_type": "stream",
     "text": [
      "23.6 µs ± 382 ns per loop (mean ± std. dev. of 7 runs, 1,000 loops each)\n"
     ]
    }
   ],
   "source": [
    "number_array = numpy.random.random(10000)\n",
    "\n",
    "%timeit -n 1000 numpy.cumsum(number_array)"
   ],
   "metadata": {
    "collapsed": false,
    "ExecuteTime": {
     "end_time": "2023-11-02T09:46:26.717207900Z",
     "start_time": "2023-11-02T09:46:26.262848600Z"
    }
   }
  },
  {
   "cell_type": "code",
   "execution_count": 27,
   "outputs": [
    {
     "name": "stdout",
     "output_type": "stream",
     "text": [
      "546 µs ± 68.4 µs per loop (mean ± std. dev. of 7 runs, 1,000 loops each)\n"
     ]
    }
   ],
   "source": [
    "def cumulative_sum(array):\n",
    "    acc = 0\n",
    "    for a in array:\n",
    "        acc += a\n",
    "    return acc\n",
    "\n",
    "%timeit -n 1000 cumulative_sum(number_array)"
   ],
   "metadata": {
    "collapsed": false,
    "ExecuteTime": {
     "end_time": "2023-11-02T09:46:30.263664500Z",
     "start_time": "2023-11-02T09:46:26.435088800Z"
    }
   }
  },
  {
   "cell_type": "markdown",
   "source": [
    "**5**"
   ],
   "metadata": {
    "collapsed": false
   }
  },
  {
   "cell_type": "code",
   "execution_count": 28,
   "outputs": [
    {
     "name": "stdout",
     "output_type": "stream",
     "text": [
      "[[2 3 6 9 7 2 2 4 5 2]\n",
      " [5 1 0 6 3 8 5 0 5 3]\n",
      " [1 1 2 6 1 3 4 1 8 7]\n",
      " [5 6 1 1 5 3 6 0 2 5]\n",
      " [8 6 3 1 6 2 7 6 7 6]\n",
      " [9 4 4 1 0 9 6 7 9 9]\n",
      " [5 7 3 1 9 9 6 8 1 8]\n",
      " [6 0 2 0 3 4 4 3 4 1]\n",
      " [6 1 7 9 7 7 2 6 9 8]\n",
      " [7 2 8 9 0 7 7 8 1 6]]\n",
      "[[1 1]\n",
      " [2 2]\n",
      " [3 3]\n",
      " [3 0]\n",
      " [4 1]\n",
      " [3 0]\n",
      " [1 2]]\n"
     ]
    }
   ],
   "source": [
    "def intensity_mask(array, lower_bound):\n",
    "    return array > lower_bound\n",
    "\n",
    "\n",
    "picture_pixel = numpy.random.randint(0, 10, size=(10, 10))\n",
    "print(picture_pixel)\n",
    "print_2d_mak_result(intensity_mask(picture_pixel, 5))"
   ],
   "metadata": {
    "collapsed": false,
    "ExecuteTime": {
     "end_time": "2023-11-02T09:46:30.268622500Z",
     "start_time": "2023-11-02T09:46:30.266000300Z"
    }
   }
  },
  {
   "cell_type": "markdown",
   "source": [
    "**6**"
   ],
   "metadata": {
    "collapsed": false
   }
  },
  {
   "cell_type": "code",
   "execution_count": 29,
   "outputs": [
    {
     "name": "stdout",
     "output_type": "stream",
     "text": [
      "SVDResult(U=array([[-0.09565328, -0.01381178, -0.14632124, ...,  0.02724928,\n",
      "         0.0504819 , -0.14129042],\n",
      "       [-0.10534671, -0.08323035,  0.20614617, ...,  0.03387185,\n",
      "         0.01243579,  0.03743809],\n",
      "       [-0.10492885,  0.057312  ,  0.18578898, ..., -0.02310509,\n",
      "         0.15703077, -0.18404293],\n",
      "       ...,\n",
      "       [-0.09278292,  0.13093131,  0.1393992 , ...,  0.07298661,\n",
      "         0.05724489, -0.03038318],\n",
      "       [-0.10473815, -0.07459106,  0.00405831, ..., -0.07963443,\n",
      "        -0.006192  ,  0.04341763],\n",
      "       [-0.097143  ,  0.13642203,  0.03771959, ...,  0.11870924,\n",
      "         0.06619591,  0.02286635]]), S=array([4.96212038e+03, 5.52363469e+02, 5.41310271e+02, 5.26018374e+02,\n",
      "       5.24742450e+02, 5.09147411e+02, 4.97197111e+02, 4.94460536e+02,\n",
      "       4.84682103e+02, 4.81530675e+02, 4.68292506e+02, 4.60177191e+02,\n",
      "       4.53588567e+02, 4.47702948e+02, 4.42848044e+02, 4.33471278e+02,\n",
      "       4.28018057e+02, 4.24604134e+02, 4.11146486e+02, 4.05485137e+02,\n",
      "       4.01998703e+02, 3.91725574e+02, 3.90408179e+02, 3.81813433e+02,\n",
      "       3.75506740e+02, 3.70419310e+02, 3.66515210e+02, 3.59187899e+02,\n",
      "       3.54522990e+02, 3.46732105e+02, 3.41675394e+02, 3.33033900e+02,\n",
      "       3.27902164e+02, 3.25456721e+02, 3.20398704e+02, 3.16584591e+02,\n",
      "       3.10349418e+02, 3.04095905e+02, 2.96112990e+02, 2.92615209e+02,\n",
      "       2.87099351e+02, 2.82050610e+02, 2.79370461e+02, 2.68751719e+02,\n",
      "       2.63607832e+02, 2.56687893e+02, 2.53907213e+02, 2.49652631e+02,\n",
      "       2.45552681e+02, 2.39718725e+02, 2.34230172e+02, 2.26442522e+02,\n",
      "       2.18897235e+02, 2.15426535e+02, 2.13445137e+02, 2.04128917e+02,\n",
      "       2.01011216e+02, 1.94322900e+02, 1.88613340e+02, 1.82854865e+02,\n",
      "       1.77466680e+02, 1.72929952e+02, 1.70106541e+02, 1.59035358e+02,\n",
      "       1.57427491e+02, 1.55679354e+02, 1.52417893e+02, 1.45453982e+02,\n",
      "       1.40372138e+02, 1.37852175e+02, 1.30441018e+02, 1.26318023e+02,\n",
      "       1.26119184e+02, 1.22253105e+02, 1.12361306e+02, 1.09205978e+02,\n",
      "       1.01048704e+02, 9.80730455e+01, 9.62432076e+01, 9.29543651e+01,\n",
      "       9.16423484e+01, 8.23531566e+01, 7.95364181e+01, 7.14388849e+01,\n",
      "       7.08546790e+01, 6.50626960e+01, 5.72550179e+01, 5.36924906e+01,\n",
      "       4.69102607e+01, 4.54736700e+01, 3.71686705e+01, 3.47332605e+01,\n",
      "       3.18667037e+01, 2.66544986e+01, 2.13343432e+01, 1.84636725e+01,\n",
      "       1.10858151e+01, 9.03989800e+00, 4.79767162e+00, 3.40994332e+00]), Vh=array([[-0.09971922, -0.09217976, -0.09280077, ..., -0.09657542,\n",
      "        -0.09383847, -0.09992213],\n",
      "       [ 0.18370922, -0.06108256, -0.03212955, ..., -0.04860126,\n",
      "         0.05348675, -0.06427461],\n",
      "       [-0.00927564, -0.01442464, -0.00541634, ...,  0.2245106 ,\n",
      "         0.11520291, -0.05932981],\n",
      "       ...,\n",
      "       [ 0.01394043, -0.09922682,  0.02661185, ..., -0.0103471 ,\n",
      "         0.15010352,  0.0396316 ],\n",
      "       [ 0.08586126,  0.02088482, -0.03622474, ...,  0.02951601,\n",
      "        -0.00942267,  0.02469399],\n",
      "       [ 0.01044582,  0.05885869,  0.26998303, ..., -0.04689651,\n",
      "         0.1149849 , -0.02328515]]))\n"
     ]
    }
   ],
   "source": [
    "number_array_2d = numpy.random.randint(0, 100, size=(100, 100))  #TODO\n",
    "\n",
    "reduced_array = numpy.linalg.svd(number_array_2d)\n",
    "\n",
    "print(reduced_array)"
   ],
   "metadata": {
    "collapsed": false,
    "ExecuteTime": {
     "end_time": "2023-11-02T09:46:30.280840300Z",
     "start_time": "2023-11-02T09:46:30.269622100Z"
    }
   }
  },
  {
   "cell_type": "markdown",
   "source": [
    "**7**"
   ],
   "metadata": {
    "collapsed": false
   }
  },
  {
   "cell_type": "code",
   "execution_count": 30,
   "outputs": [
    {
     "name": "stdout",
     "output_type": "stream",
     "text": [
      "[[1.         0.06417654]\n",
      " [0.06417654 1.        ]]\n"
     ]
    }
   ],
   "source": [
    "def correlation_coefficient(array1, array2):\n",
    "    return numpy.corrcoef(array1, array2)\n",
    "\n",
    "\n",
    "print(correlation_coefficient(numpy.random.random(100), numpy.random.random(100)))"
   ],
   "metadata": {
    "collapsed": false,
    "ExecuteTime": {
     "end_time": "2023-11-02T09:46:30.286783300Z",
     "start_time": "2023-11-02T09:46:30.281840900Z"
    }
   }
  },
  {
   "cell_type": "markdown",
   "source": [
    "**8**"
   ],
   "metadata": {
    "collapsed": false
   }
  },
  {
   "cell_type": "code",
   "execution_count": 31,
   "outputs": [
    {
     "name": "stdout",
     "output_type": "stream",
     "text": [
      "Data = [   1    5   76    2    3   67    2    4 6534   24    5  756    9   67\n",
      "    0    2]\n",
      "Type = <class 'numpy.ndarray'>\n"
     ]
    }
   ],
   "source": [
    "csv_file_array = numpy.genfromtxt('data/number.csv', delimiter=',', skip_header=True, dtype=int)\n",
    "print(f'Data = {csv_file_array}')\n",
    "print(f'Type = {type(csv_file_array)}')\n",
    "numpy.save('data/number', csv_file_array)"
   ],
   "metadata": {
    "collapsed": false,
    "ExecuteTime": {
     "end_time": "2023-11-02T09:46:30.353992100Z",
     "start_time": "2023-11-02T09:46:30.286783300Z"
    }
   }
  },
  {
   "cell_type": "markdown",
   "source": [
    "**9**"
   ],
   "metadata": {
    "collapsed": false
   }
  },
  {
   "cell_type": "code",
   "execution_count": 32,
   "outputs": [
    {
     "data": {
      "text/plain": "<Figure size 1500x500 with 2 Axes>",
      "image/png": "[encoded data removed]"
     },
     "metadata": {},
     "output_type": "display_data"
    }
   ],
   "source": [
    "from matplotlib import pyplot as plt\n",
    "\n",
    "import warnings\n",
    "\n",
    "warnings.filterwarnings('ignore')\n",
    "\n",
    "x = numpy.arange(0, 2, 1. / 500)\n",
    "sound_wave = 3 * numpy.sin(numpy.pi * x * 4)\n",
    "wave_fourier_transform = numpy.fft.fft(sound_wave)\n",
    "\n",
    "plt.figure(figsize=(15, 5))\n",
    "\n",
    "plt.subplot(1, 2, 1)\n",
    "plt.plot(x, sound_wave, color='c')\n",
    "plt.title('Sound Wave')\n",
    "plt.ylabel('Amplitude')\n",
    "plt.xlabel('Time')\n",
    "plt.grid()\n",
    "\n",
    "plt.subplot(1, 2, 2)\n",
    "plt.plot(wave_fourier_transform, color='m')\n",
    "plt.title('Fourier Transform')\n",
    "plt.ylabel('Amplitude')\n",
    "plt.xlabel('Frequency (Hz)')\n",
    "plt.grid()\n",
    "\n",
    "plt.show()"
   ],
   "metadata": {
    "collapsed": false,
    "ExecuteTime": {
     "end_time": "2023-11-02T09:46:30.712321Z",
     "start_time": "2023-11-02T09:46:30.295368700Z"
    }
   }
  },
  {
   "cell_type": "code",
   "execution_count": 34,
   "outputs": [
    {
     "data": {
      "text/plain": "<Figure size 1500x500 with 2 Axes>",
      "image/png": "[encoded data removed]"
     },
     "metadata": {},
     "output_type": "display_data"
    }
   ],
   "source": [
    "from scipy.io import wavfile\n",
    "from scipy.fft import fft\n",
    "\n",
    "rate, data = wavfile.read('data/sound.wav')\n",
    "\n",
    "wave_fourier_transform = fft([(ele / 2 ** 8.) * 2 - 1 for ele in data.T[0]])\n",
    "wave_fourier_transform_length = int(len(wave_fourier_transform))\n",
    "\n",
    "plt.figure(figsize=(15, 5))\n",
    "\n",
    "plt.subplot(1, 2, 1)\n",
    "plt.plot(data, color='c')\n",
    "plt.title('Sound Wave')\n",
    "plt.ylabel('Amplitude')\n",
    "plt.xlabel('Time')\n",
    "plt.grid()\n",
    "\n",
    "plt.subplot(1, 2, 2)\n",
    "plt.plot(abs(wave_fourier_transform[:(wave_fourier_transform_length - 1)]), color='m')\n",
    "plt.title('Fourier Transform')\n",
    "plt.ylabel('Amplitude')\n",
    "plt.xlabel('Frequency (Hz)')\n",
    "plt.grid()\n",
    "\n",
    "plt.show()"
   ],
   "metadata": {
    "collapsed": false,
    "ExecuteTime": {
     "end_time": "2023-11-02T09:49:34.761762500Z",
     "start_time": "2023-11-02T09:49:34.352274300Z"
    }
   }
  }
 ],
 "metadata": {
  "kernelspec": {
   "display_name": "Python 3",
   "language": "python",
   "name": "python3"
  },
  "language_info": {
   "codemirror_mode": {
    "name": "ipython",
    "version": 2
   },
   "file_extension": ".py",
   "mimetype": "text/x-python",
   "name": "python",
   "nbconvert_exporter": "python",
   "pygments_lexer": "ipython2",
   "version": "2.7.6"
  }
 },
 "nbformat": 4,
 "nbformat_minor": 0
}
