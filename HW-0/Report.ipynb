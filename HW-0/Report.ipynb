{
 "cells": [
  {
   "cell_type": "markdown",
   "source": [
    "# Seyed Mohammad Amin Atyabi - 830402014"
   ],
   "metadata": {
    "collapsed": false
   }
  },
  {
   "cell_type": "markdown",
   "source": [
    "## NumPy"
   ],
   "metadata": {
    "collapsed": false
   }
  },
  {
   "cell_type": "markdown",
   "source": [
    "### 1"
   ],
   "metadata": {
    "collapsed": false
   }
  },
  {
   "cell_type": "markdown",
   "source": [
    "**1**"
   ],
   "metadata": {
    "collapsed": false
   }
  },
  {
   "cell_type": "code",
   "execution_count": 27,
   "outputs": [
    {
     "name": "stdout",
     "output_type": "stream",
     "text": [
      "Length = 1000\n",
      "Vector = [735, 784, 978, 360, 877, 429, 835, 704, 774, 776, 732, 117, 759, 832, 892, 177, 908, 115, 614, 444, 453, 319, 63, 787, 477, 679, 417, 269, 295, 924, 515, 886, 747, 337, 143, 805, 599, 709, 369, 326, 822, 765, 455, 811, 580, 963, 563, 765, 832, 721, 939, 436, 714, 890, 717, 885, 174, 692, 949, 977, 277, 210, 913, 653, 509, 763, 103, 748, 635, 50, 721, 570, 823, 460, 332, 313, 334, 755, 135, 27, 278, 392, 275, 281, 233, 451, 239, 472, 556, 326, 268, 147, 290, 299, 651, 833, 53, 329, 136, 133, 107, 675, 927, 247, 508, 289, 584, 507, 908, 580, 320, 984, 571, 68, 518, 728, 783, 781, 298, 401, 45, 965, 396, 904, 827, 911, 171, 510, 240, 754, 831, 231, 422, 301, 662, 594, 446, 103, 594, 375, 858, 855, 125, 904, 662, 490, 394, 77, 979, 915, 398, 622, 214, 833, 657, 77, 675, 995, 816, 787, 134, 438, 881, 513, 89, 523, 671, 741, 426, 80, 426, 844, 355, 586, 292, 734, 456, 77, 825, 159, 211, 214, 792, 658, 948, 171, 645, 669, 151, 298, 538, 873, 730, 762, 899, 435, 270, 406, 443, 846, 906, 57, 410, 100, 626, 940, 786, 907, 886, 663, 445, 45, 299, 494, 647, 38, 907, 425, 650, 150, 875, 615, 360, 360, 445, 663, 677, 641, 313, 823, 820, 150, 164, 903, 998, 802, 153, 362, 603, 890, 409, 63, 718, 291, 737, 545, 848, 529, 146, 517, 611, 349, 59, 528, 106, 429, 68, 898, 193, 372, 222, 690, 533, 549, 917, 464, 616, 572, 663, 133, 156, 829, 978, 302, 400, 446, 881, 971, 492, 428, 40, 850, 405, 448, 973, 770, 144, 680, 617, 636, 197, 206, 128, 923, 243, 567, 762, 500, 273, 487, 179, 34, 964, 435, 206, 975, 901, 412, 67, 669, 989, 790, 854, 381, 509, 501, 960, 384, 721, 611, 619, 214, 797, 445, 756, 425, 398, 12, 114, 73, 241, 860, 724, 182, 187, 360, 217, 313, 674, 62, 476, 471, 875, 52, 846, 152, 945, 71, 843, 101, 418, 995, 370, 338, 154, 710, 327, 102, 330, 267, 260, 771, 708, 272, 761, 134, 896, 699, 612, 866, 128, 45, 441, 619, 584, 253, 340, 350, 449, 646, 554, 706, 766, 243, 959, 496, 376, 822, 561, 759, 691, 996, 143, 714, 284, 550, 906, 557, 85, 716, 78, 878, 89, 66, 921, 704, 142, 127, 409, 544, 682, 580, 54, 651, 867, 822, 983, 479, 543, 586, 292, 406, 460, 456, 927, 975, 364, 713, 512, 821, 212, 56, 580, 43, 830, 604, 566, 397, 61, 76, 795, 311, 299, 758, 56, 524, 297, 312, 163, 860, 292, 413, 851, 214, 688, 28, 333, 480, 843, 232, 70, 934, 339, 612, 27, 493, 653, 754, 621, 117, 720, 657, 79, 795, 195, 444, 365, 894, 579, 225, 919, 409, 729, 261, 206, 492, 788, 565, 777, 627, 530, 810, 982, 649, 526, 976, 592, 516, 125, 296, 22, 728, 507, 200, 698, 809, 812, 318, 146, 763, 897, 48, 538, 623, 320, 73, 11, 405, 770, 862, 726, 680, 127, 241, 339, 739, 418, 633, 638, 858, 20, 436, 715, 978, 711, 467, 786, 189, 372, 734, 528, 91, 330, 756, 697, 648, 480, 435, 542, 50, 434, 976, 434, 212, 128, 54, 49, 267, 389, 293, 651, 478, 728, 255, 505, 657, 501, 830, 933, 964, 565, 267, 810, 509, 699, 309, 350, 510, 327, 415, 657, 910, 578, 888, 435, 741, 730, 611, 836, 307, 227, 880, 833, 419, 350, 38, 428, 920, 112, 894, 611, 147, 159, 706, 937, 388, 56, 547, 158, 738, 736, 50, 964, 52, 252, 642, 71, 959, 100, 913, 239, 574, 411, 469, 660, 524, 160, 829, 427, 329, 483, 159, 404, 131, 664, 848, 289, 841, 26, 259, 821, 369, 549, 293, 18, 314, 999, 268, 273, 79, 863, 940, 313, 307, 490, 551, 319, 842, 558, 849, 140, 121, 934, 789, 470, 631, 20, 683, 130, 165, 775, 381, 323, 618, 877, 345, 255, 411, 473, 529, 350, 890, 543, 634, 721, 362, 897, 983, 178, 234, 246, 695, 477, 350, 941, 283, 58, 455, 370, 737, 665, 453, 871, 744, 851, 686, 676, 216, 204, 996, 263, 570, 708, 863, 389, 812, 887, 57, 161, 925, 863, 429, 699, 667, 436, 554, 394, 250, 869, 124, 605, 586, 213, 174, 888, 553, 282, 954, 683, 268, 486, 245, 24, 815, 803, 573, 36, 552, 927, 911, 516, 503, 693, 305, 58, 225, 941, 789, 664, 178, 53, 716, 701, 851, 683, 610, 279, 23, 848, 603, 45, 704, 169, 446, 853, 857, 608, 11, 658, 111, 395, 764, 489, 246, 636, 743, 246, 562, 44, 519, 849, 649, 671, 693, 896, 373, 714, 193, 270, 377, 545, 131, 212, 301, 980, 24, 404, 849, 884, 562, 637, 176, 407, 67, 144, 804, 509, 436, 191, 852, 143, 886, 422, 968, 174, 127, 407, 551, 724, 747, 703, 846, 578, 480, 709, 593, 13, 16, 45, 953, 567, 299, 160, 503, 635, 117, 793, 759, 849, 13, 27, 507, 481, 692, 544, 126, 290, 591, 164, 39, 251, 579, 269, 372, 933, 116, 242, 497, 157, 441, 687, 702, 964, 358, 13, 928, 386, 514, 363, 817, 157, 716, 945, 885, 117, 301, 543, 480, 606, 934, 268, 195, 362, 923, 11, 120, 608, 302, 728, 918, 752, 67, 252, 519, 286, 386, 420, 645, 255, 479, 933, 870, 774, 826, 667, 649, 451, 889, 399, 953, 876, 801, 576, 249, 888, 703, 441, 439, 462, 431, 149, 518, 239, 706, 728, 276, 697, 455, 301, 538, 968, 422, 627, 572, 235, 508, 416, 467, 797, 995, 390, 628, 486, 973, 590, 879, 259, 99, 788, 125, 432, 231, 858, 321, 344, 242, 54, 517, 909, 143, 145, 691, 108, 965, 435, 24, 867, 613, 348, 453, 236, 504, 883, 802, 429, 945, 762, 819, 434, 866, 183, 289, 362, 950, 726, 960, 463, 859, 898, 810]\n"
     ]
    }
   ],
   "source": [
    "import random\n",
    "\n",
    "vector = [random.randint(10, 1000) for x in range(0, 1000)]\n",
    "print(f'Length = {len(vector)}')\n",
    "print(f'Vector = {vector}')"
   ],
   "metadata": {
    "collapsed": false,
    "ExecuteTime": {
     "start_time": "2023-10-06T18:52:46.498693Z",
     "end_time": "2023-10-06T18:52:46.711883Z"
    }
   }
  },
  {
   "cell_type": "markdown",
   "source": [
    "**2**"
   ],
   "metadata": {
    "collapsed": false
   }
  },
  {
   "cell_type": "code",
   "execution_count": 28,
   "outputs": [
    {
     "name": "stdout",
     "output_type": "stream",
     "text": [
      "Average = 511.737\n",
      "Variance = 79014.14797897903\n"
     ]
    }
   ],
   "source": [
    "_sum_ = sum(vector)\n",
    "count = len(vector)\n",
    "mean = _sum_ / count\n",
    "variance = (sum(map(lambda x: (x - mean) ** 2, vector))) / (count - 1)\n",
    "print(f'Average = {mean}')\n",
    "print(f'Variance = {variance}')"
   ],
   "metadata": {
    "collapsed": false,
    "ExecuteTime": {
     "start_time": "2023-10-06T18:52:46.504967Z",
     "end_time": "2023-10-06T18:52:46.712903Z"
    }
   }
  },
  {
   "cell_type": "markdown",
   "source": [
    "### 2"
   ],
   "metadata": {
    "collapsed": false
   }
  },
  {
   "cell_type": "markdown",
   "source": [
    "**1**"
   ],
   "metadata": {
    "collapsed": false
   }
  },
  {
   "cell_type": "code",
   "execution_count": 29,
   "outputs": [
    {
     "name": "stdout",
     "output_type": "stream",
     "text": [
      "[[0.901248884815611, 0.36776433023832145, 0.476117499342536, 0.7473099132385113, 0.1019672019932033, 0.7662091077425993, 0.7943012403083455, 0.7522424047504732, 0.1369545598600822, 0.9868748650399319], [0.38360548844891607, 0.6121052720071851, 0.25157502889870087, 0.48535505921613764, 0.05432111248243743, 0.426157346010684, 0.7645066991469306, 0.7189990507284921, 0.1652653015592701, 0.46879144831527475], [0.6344930900261455, 0.7503295138086387, 0.16487147764081744, 0.3508376212568587, 0.7322728507362197, 0.0594604205996595, 0.2451039581634865, 0.23954117634058647, 0.780852783113762, 0.4334349056540968], [0.3399373408578952, 0.1376874133504109, 0.34048045361281754, 0.7247358065413132, 0.18779410364944515, 0.9871246444718914, 0.9917441455397471, 0.1622288258862279, 0.12856974633197704, 0.26806827655307286], [0.14953138964599488, 0.5528899923754265, 0.43768415792383986, 0.5273236822389136, 0.0007624442060286674, 0.4596872308074401, 0.92196825496886, 0.536786669204914, 0.5446693415262491, 0.8551128880453349], [0.029405013856066087, 0.9138000865947543, 0.3556955833187697, 0.007794543036916068, 0.22146068578913014, 0.03567198105963698, 0.9959991454341898, 0.525519430236351, 0.07989393917267085, 0.33235373817788916], [0.8656169147351916, 0.022054526634264437, 0.358149060242942, 0.1194393457096522, 0.13910854016526253, 0.05690465460901961, 0.32911223691819647, 0.624625844865632, 0.22525056877065297, 0.3151227174515848], [0.2932127167564218, 0.06095184558534228, 0.9286315887819409, 0.5163266626571515, 0.19622031914199545, 0.37321010833919, 0.7842754127787571, 0.7059686870343053, 0.9715153752977196, 0.6669362011288098], [0.2767704583077265, 0.797759191434206, 0.7486725905945572, 0.022848363507433578, 0.39454612780356757, 0.871170237688492, 0.0994346601892293, 0.19295118573114545, 0.2158848832694844, 0.8424189641859914], [0.638000125888093, 0.6515548549251097, 0.9306770142599563, 0.5598857403793713, 0.2292553764307632, 0.5645079940094843, 0.6265363410183107, 0.5138396380552903, 0.04539329994980246, 0.7050610959789272]]\n"
     ]
    }
   ],
   "source": [
    "matrix = [[random.random() for j in range(0, 10)] for i in range(0, 10)]\n",
    "print(matrix)"
   ],
   "metadata": {
    "collapsed": false,
    "ExecuteTime": {
     "start_time": "2023-10-06T18:52:46.515297Z",
     "end_time": "2023-10-06T18:52:46.865920Z"
    }
   }
  },
  {
   "cell_type": "markdown",
   "source": [
    "**2**"
   ],
   "metadata": {
    "collapsed": false
   }
  },
  {
   "cell_type": "code",
   "execution_count": 30,
   "outputs": [
    {
     "name": "stdout",
     "output_type": "stream",
     "text": [
      "Row sum = [6.030990007329615, 4.330681806814029, 4.391197797340272, 4.268370756794798, 4.986416050943001, 3.4975941466763745, 3.0553844101023993, 5.497248917501633, 4.462456662711833, 5.46471148089511]\n",
      "Column sum = [4.511821423338062, 4.8668970269536596, 4.992554454616878, 4.06185673778226, 2.257708762398053, 4.600103725338097, 6.552982094466053, 4.972702912833419, 3.2942497988516717, 5.874175100530913]\n"
     ]
    }
   ],
   "source": [
    "rowSum = [sum(x) for x in matrix]\n",
    "columnSum = [sum(x) for x in zip(*matrix)]\n",
    "print(f'Row sum = {rowSum}')\n",
    "print(f'Column sum = {columnSum}')"
   ],
   "metadata": {
    "collapsed": false,
    "ExecuteTime": {
     "start_time": "2023-10-06T18:52:46.520515Z",
     "end_time": "2023-10-06T18:52:46.865920Z"
    }
   }
  },
  {
   "cell_type": "markdown",
   "source": [
    "### 3"
   ],
   "metadata": {
    "collapsed": false
   }
  },
  {
   "cell_type": "markdown",
   "source": [
    "**1**"
   ],
   "metadata": {
    "collapsed": false
   }
  },
  {
   "cell_type": "code",
   "execution_count": 31,
   "outputs": [
    {
     "name": "stdout",
     "output_type": "stream",
     "text": [
      "Heights = [140. 200. 175. 120. 150.]\n",
      "Type = float64\n"
     ]
    }
   ],
   "source": [
    "import numpy\n",
    "\n",
    "heights = numpy.array([140, 200, 175, 120, 150], numpy.float64)\n",
    "print(f'Heights = {heights}')\n",
    "print(f'Type = {heights.dtype}')"
   ],
   "metadata": {
    "collapsed": false,
    "ExecuteTime": {
     "start_time": "2023-10-06T18:52:46.531882Z",
     "end_time": "2023-10-06T18:52:46.866903Z"
    }
   }
  },
  {
   "cell_type": "markdown",
   "source": [
    "**2**"
   ],
   "metadata": {
    "collapsed": false
   }
  },
  {
   "cell_type": "code",
   "execution_count": 32,
   "outputs": [
    {
     "name": "stdout",
     "output_type": "stream",
     "text": [
      "Widths = [ 7. 10. 15.  8. 12.]\n",
      "Type = float64\n"
     ]
    }
   ],
   "source": [
    "widths = numpy.array([7, 10, 15, 8, 12], numpy.float64)\n",
    "print(f'Widths = {widths}')\n",
    "print(f'Type = {widths.dtype}')"
   ],
   "metadata": {
    "collapsed": false,
    "ExecuteTime": {
     "start_time": "2023-10-06T18:52:46.537975Z",
     "end_time": "2023-10-06T18:52:46.867903Z"
    }
   }
  },
  {
   "cell_type": "markdown",
   "source": [
    "**3**"
   ],
   "metadata": {
    "collapsed": false
   }
  },
  {
   "cell_type": "code",
   "execution_count": 33,
   "outputs": [
    {
     "name": "stdout",
     "output_type": "stream",
     "text": [
      "Areas = [ 980. 2000. 2625.  960. 1800.]\n"
     ]
    }
   ],
   "source": [
    "areas = heights * widths\n",
    "print(f'Areas = {areas}')"
   ],
   "metadata": {
    "collapsed": false,
    "ExecuteTime": {
     "start_time": "2023-10-06T18:52:46.546007Z",
     "end_time": "2023-10-06T18:52:46.867903Z"
    }
   }
  },
  {
   "cell_type": "markdown",
   "source": [
    "**4**"
   ],
   "metadata": {
    "collapsed": false
   }
  },
  {
   "cell_type": "code",
   "execution_count": 34,
   "outputs": [
    {
     "name": "stdout",
     "output_type": "stream",
     "text": [
      "Indices = [0 1 2 3 4]\n"
     ]
    }
   ],
   "source": [
    "indices = numpy.arange(0, len(heights), dtype=numpy.int64)\n",
    "print(f'Indices = {indices}')"
   ],
   "metadata": {
    "collapsed": false,
    "ExecuteTime": {
     "start_time": "2023-10-06T18:52:46.551803Z",
     "end_time": "2023-10-06T18:52:46.869902Z"
    }
   }
  },
  {
   "cell_type": "markdown",
   "source": [
    "**5**"
   ],
   "metadata": {
    "collapsed": false
   }
  },
  {
   "cell_type": "code",
   "execution_count": 35,
   "outputs": [
    {
     "name": "stdout",
     "output_type": "stream",
     "text": [
      "[[  0. 140.   7.]\n",
      " [  1. 200.  10.]\n",
      " [  2. 175.  15.]\n",
      " [  3. 120.   8.]\n",
      " [  4. 150.  12.]]\n"
     ]
    }
   ],
   "source": [
    "plant_info = numpy.transpose(numpy.array([indices, heights, widths]))\n",
    "print(plant_info)"
   ],
   "metadata": {
    "collapsed": false,
    "ExecuteTime": {
     "start_time": "2023-10-06T18:52:46.558774Z",
     "end_time": "2023-10-06T18:52:46.881921Z"
    }
   }
  },
  {
   "cell_type": "markdown",
   "source": [
    "**6**"
   ],
   "metadata": {
    "collapsed": false
   }
  },
  {
   "cell_type": "code",
   "execution_count": 36,
   "outputs": [
    {
     "name": "stdout",
     "output_type": "stream",
     "text": [
      "[[1. 0. 0.]\n",
      " [0. 1. 0.]\n",
      " [0. 0. 1.]]\n"
     ]
    }
   ],
   "source": [
    "identity_matrix = numpy.eye(3)\n",
    "print(identity_matrix)"
   ],
   "metadata": {
    "collapsed": false,
    "ExecuteTime": {
     "start_time": "2023-10-06T18:52:46.564604Z",
     "end_time": "2023-10-06T18:52:46.882921Z"
    }
   }
  },
  {
   "cell_type": "markdown",
   "source": [
    "**7**"
   ],
   "metadata": {
    "collapsed": false
   }
  },
  {
   "cell_type": "code",
   "execution_count": 37,
   "outputs": [
    {
     "name": "stdout",
     "output_type": "stream",
     "text": [
      "[[ 980.    0.    0.    0.    0.]\n",
      " [   0. 2000.    0.    0.    0.]\n",
      " [   0.    0. 2625.    0.    0.]\n",
      " [   0.    0.    0.  960.    0.]\n",
      " [   0.    0.    0.    0. 1800.]]\n"
     ]
    }
   ],
   "source": [
    "diagonal_matrix = numpy.diag(areas)\n",
    "print(diagonal_matrix)"
   ],
   "metadata": {
    "collapsed": false,
    "ExecuteTime": {
     "start_time": "2023-10-06T18:52:46.569784Z",
     "end_time": "2023-10-06T18:52:46.882921Z"
    }
   }
  },
  {
   "cell_type": "markdown",
   "source": [
    "**8**"
   ],
   "metadata": {
    "collapsed": false
   }
  },
  {
   "cell_type": "code",
   "execution_count": 38,
   "outputs": [
    {
     "name": "stdout",
     "output_type": "stream",
     "text": [
      "[    30 127125    582]\n"
     ]
    }
   ],
   "source": [
    "squared_sums = numpy.fromfunction(lambda i, j: sum(plant_info ** 2), (1, 4), dtype=int).astype(int)\n",
    "print(squared_sums)"
   ],
   "metadata": {
    "collapsed": false,
    "ExecuteTime": {
     "start_time": "2023-10-06T18:52:46.575383Z",
     "end_time": "2023-10-06T18:52:46.883936Z"
    }
   }
  },
  {
   "cell_type": "markdown",
   "source": [
    "### 4"
   ],
   "metadata": {
    "collapsed": false
   }
  },
  {
   "cell_type": "markdown",
   "source": [
    "**1**"
   ],
   "metadata": {
    "collapsed": false
   }
  },
  {
   "cell_type": "code",
   "execution_count": 39,
   "outputs": [
    {
     "name": "stdout",
     "output_type": "stream",
     "text": [
      "[[4 1 2 1 1]\n",
      " [2 2 3 3 6]\n",
      " [6 3 1 1 6]\n",
      " [3 2 4 3 6]]\n",
      "Type = int32\n",
      "Shape = (4, 5)\n",
      "Size = 20\n",
      "length = 4\n"
     ]
    }
   ],
   "source": [
    "treasure_map = numpy.random.randint(1, 7, size=(4, 5))\n",
    "print(treasure_map)\n",
    "print(f'Type = {treasure_map.dtype}')\n",
    "print(f'Shape = {treasure_map.shape}')\n",
    "print(f'Size = {treasure_map.size}')\n",
    "print(f'length = {len(treasure_map)}')"
   ],
   "metadata": {
    "collapsed": false,
    "ExecuteTime": {
     "start_time": "2023-10-06T18:52:46.585366Z",
     "end_time": "2023-10-06T18:52:46.884925Z"
    }
   }
  },
  {
   "cell_type": "markdown",
   "source": [
    "**2**"
   ],
   "metadata": {
    "collapsed": false
   }
  },
  {
   "cell_type": "code",
   "execution_count": 40,
   "outputs": [
    {
     "name": "stdout",
     "output_type": "stream",
     "text": [
      "[[4 1 2 1 1 2 2 3 3 6]\n",
      " [6 3 1 1 6 3 2 4 3 6]]\n"
     ]
    }
   ],
   "source": [
    "reshaped_treasure_map = numpy.reshape(treasure_map, (2, -1))\n",
    "print(reshaped_treasure_map)"
   ],
   "metadata": {
    "collapsed": false,
    "ExecuteTime": {
     "start_time": "2023-10-06T18:52:46.590031Z",
     "end_time": "2023-10-06T18:52:46.884925Z"
    }
   }
  },
  {
   "cell_type": "markdown",
   "source": [
    "**3**"
   ],
   "metadata": {
    "collapsed": false
   }
  },
  {
   "cell_type": "code",
   "execution_count": 41,
   "outputs": [
    {
     "name": "stdout",
     "output_type": "stream",
     "text": [
      "Original = [4 1 2 1 1]\n",
      "Reshaped = [4 1 2 1 1 2 2 3 3 6]\n"
     ]
    }
   ],
   "source": [
    "print(f'Original = {treasure_map[0]}')\n",
    "print(f'Reshaped = {reshaped_treasure_map[0]}')"
   ],
   "metadata": {
    "collapsed": false,
    "ExecuteTime": {
     "start_time": "2023-10-06T18:52:46.597235Z",
     "end_time": "2023-10-06T18:52:46.885921Z"
    }
   }
  },
  {
   "cell_type": "markdown",
   "source": [
    "**4**"
   ],
   "metadata": {
    "collapsed": false
   }
  },
  {
   "cell_type": "code",
   "execution_count": 42,
   "outputs": [
    {
     "name": "stdout",
     "output_type": "stream",
     "text": [
      "Original = [4 2 6 3]\n",
      "Reshaped = [4 6]\n"
     ]
    }
   ],
   "source": [
    "print(f'Original = {treasure_map[:, 0]}')\n",
    "print(f'Reshaped = {reshaped_treasure_map[:, 0]}')"
   ],
   "metadata": {
    "collapsed": false,
    "ExecuteTime": {
     "start_time": "2023-10-06T18:52:46.602888Z",
     "end_time": "2023-10-06T18:52:46.886922Z"
    }
   }
  },
  {
   "cell_type": "markdown",
   "source": [
    "**5**"
   ],
   "metadata": {
    "collapsed": false
   }
  },
  {
   "cell_type": "code",
   "execution_count": 43,
   "outputs": [
    {
     "name": "stdout",
     "output_type": "stream",
     "text": [
      "Original = [3 2 4 3 6]\n",
      "Reshaped = [6 3 1 1 6 3 2 4 3 6]\n"
     ]
    }
   ],
   "source": [
    "print(f'Original = {treasure_map[-1]}')\n",
    "print(f'Reshaped = {reshaped_treasure_map[-1]}')"
   ],
   "metadata": {
    "collapsed": false,
    "ExecuteTime": {
     "start_time": "2023-10-06T18:52:46.609939Z",
     "end_time": "2023-10-06T18:52:46.886922Z"
    }
   }
  },
  {
   "cell_type": "markdown",
   "source": [
    "**6**"
   ],
   "metadata": {
    "collapsed": false
   }
  },
  {
   "cell_type": "code",
   "execution_count": 44,
   "outputs": [
    {
     "name": "stdout",
     "output_type": "stream",
     "text": [
      "Original = 2\n",
      "Reshaped = 3\n"
     ]
    }
   ],
   "source": [
    "print(f'Original = {treasure_map[1][1]}')\n",
    "print(f'Reshaped = {reshaped_treasure_map[1][1]}')"
   ],
   "metadata": {
    "collapsed": false,
    "ExecuteTime": {
     "start_time": "2023-10-06T18:52:46.616871Z",
     "end_time": "2023-10-06T18:52:46.934068Z"
    }
   }
  },
  {
   "cell_type": "markdown",
   "source": [
    "**7**"
   ],
   "metadata": {
    "collapsed": false
   }
  },
  {
   "cell_type": "code",
   "execution_count": 45,
   "outputs": [
    {
     "name": "stdout",
     "output_type": "stream",
     "text": [
      "[[1 2 1]\n",
      " [2 3 3]\n",
      " [3 1 1]\n",
      " [2 4 3]]\n"
     ]
    }
   ],
   "source": [
    "print(treasure_map[:, 1:4])"
   ],
   "metadata": {
    "collapsed": false,
    "ExecuteTime": {
     "start_time": "2023-10-06T18:52:46.622689Z",
     "end_time": "2023-10-06T18:52:46.935047Z"
    }
   }
  },
  {
   "cell_type": "markdown",
   "source": [
    "**8**"
   ],
   "metadata": {
    "collapsed": false
   }
  },
  {
   "cell_type": "code",
   "execution_count": 46,
   "outputs": [
    {
     "name": "stdout",
     "output_type": "stream",
     "text": [
      "[[False  True  True  True  True]\n",
      " [ True  True False False False]\n",
      " [False False  True  True False]\n",
      " [False  True False False False]]\n"
     ]
    }
   ],
   "source": [
    "map_mask = treasure_map <= 2\n",
    "print(map_mask)"
   ],
   "metadata": {
    "collapsed": false,
    "ExecuteTime": {
     "start_time": "2023-10-06T18:52:46.629169Z",
     "end_time": "2023-10-06T18:52:46.936060Z"
    }
   }
  },
  {
   "cell_type": "markdown",
   "source": [
    "**9**"
   ],
   "metadata": {
    "collapsed": false
   }
  },
  {
   "cell_type": "code",
   "execution_count": 81,
   "outputs": [
    {
     "name": "stdout",
     "output_type": "stream",
     "text": [
      "[[0 0]\n",
      " [0 0]\n",
      " [1 1]\n",
      " [2 2]\n",
      " [3 1]\n",
      " [2 3]\n",
      " [4 0]\n",
      " [1 2]\n",
      " [3 1]]\n"
     ]
    }
   ],
   "source": [
    "def print_2d_mak_result(mask):\n",
    "    print(numpy.reshape(numpy.where(map_mask == True), (-1, 2)))\n",
    "\n",
    "\n",
    "print_2d_mak_result(map_mask)"
   ],
   "metadata": {
    "collapsed": false,
    "ExecuteTime": {
     "start_time": "2023-10-06T19:22:21.459563Z",
     "end_time": "2023-10-06T19:22:21.462072Z"
    }
   }
  },
  {
   "cell_type": "markdown",
   "source": [
    "**10**"
   ],
   "metadata": {
    "collapsed": false
   }
  },
  {
   "cell_type": "code",
   "execution_count": 48,
   "outputs": [
    {
     "name": "stdout",
     "output_type": "stream",
     "text": [
      "(0, 1) = 1\n",
      "(0, 2) = 2\n"
     ]
    }
   ],
   "source": [
    "print(f'(0, 1) = {treasure_map[0][1]}')\n",
    "print(f'(0, 2) = {treasure_map[0][2]}')"
   ],
   "metadata": {
    "collapsed": false,
    "ExecuteTime": {
     "start_time": "2023-10-06T18:52:46.644097Z",
     "end_time": "2023-10-06T18:52:46.939051Z"
    }
   }
  },
  {
   "cell_type": "markdown",
   "source": [
    "### 5"
   ],
   "metadata": {
    "collapsed": false
   }
  },
  {
   "cell_type": "markdown",
   "source": [
    "**1**"
   ],
   "metadata": {
    "collapsed": false
   }
  },
  {
   "cell_type": "code",
   "execution_count": 49,
   "outputs": [
    {
     "name": "stdout",
     "output_type": "stream",
     "text": [
      "[0.91617417 0.85197649 0.63015883 0.68090011 0.81552298 0.11897479\n",
      " 0.96039743 0.0951288  0.37365976 0.08853357 0.88313908 0.59007131\n",
      " 0.43386812 0.77228682 0.72355011 0.23045015 0.71629224 0.78369128\n",
      " 0.4782613  0.44411941 0.13064241 0.32845721 0.59751439 0.78627743\n",
      " 0.6441473  0.40988363 0.8429872  0.38624231 0.49172557 0.77581076\n",
      " 0.81097594 0.32196342 0.00839001 0.76029807 0.8056078  0.74851717\n",
      " 0.19909359 0.44539758 0.3351789  0.31030087 0.22099576 0.85862622\n",
      " 0.9729594  0.38441683 0.89103244 0.80260502 0.25278517 0.99081764\n",
      " 0.72435251 0.09447121 0.34850418 0.83771382 0.08351955 0.35106936\n",
      " 0.96329399 0.96545693 0.53865629 0.69130411 0.67211729 0.34799195\n",
      " 0.62651302 0.51631308 0.65074303 0.57855274 0.04320338 0.78009264\n",
      " 0.50991242 0.29031334 0.81868627 0.91820299 0.92149195 0.31650639\n",
      " 0.43534618 0.66822123 0.89333963 0.63185039 0.33090212 0.9483814\n",
      " 0.45087177 0.96481351 0.24465281 0.87870795 0.24079226 0.55278018\n",
      " 0.98401232 0.08773845 0.18465813 0.64438104 0.80892748 0.86244377\n",
      " 0.39472902 0.54912883 0.87616958 0.02111606 0.65202319 0.15738681\n",
      " 0.91521523 0.48295693 0.70897535 0.65713492]\n"
     ]
    }
   ],
   "source": [
    "uniform_array = numpy.random.uniform(0, 1, 100)\n",
    "print(uniform_array)"
   ],
   "metadata": {
    "collapsed": false,
    "ExecuteTime": {
     "start_time": "2023-10-06T18:52:46.656357Z",
     "end_time": "2023-10-06T18:52:46.984000Z"
    }
   }
  },
  {
   "cell_type": "markdown",
   "source": [
    "**2**\n",
    "\n",
    "<div dir=\"rtl\">\n",
    "بعد از vectorize کردن سندها ، مقایسه این دو کار آسانی است . تنها کافی است کسینوس زاویه بین این دو بردار را محاسبه کنیم . اگر زاویه بین این دو بردار کوچک است ، زاویه میان آن ها زیاد است و این بدین معناست که دو سند با هم مشابهت دارند .\n",
    "</div>"
   ],
   "metadata": {
    "collapsed": false
   }
  },
  {
   "cell_type": "code",
   "execution_count": 50,
   "outputs": [],
   "source": [
    "def cosine_similarity(array1, array2):\n",
    "    return numpy.dot(array1, array2) / (numpy.linalg.norm(array1) * numpy.linalg.norm(array2))"
   ],
   "metadata": {
    "collapsed": false,
    "ExecuteTime": {
     "start_time": "2023-10-06T18:52:46.673940Z",
     "end_time": "2023-10-06T18:52:46.985005Z"
    }
   }
  },
  {
   "cell_type": "markdown",
   "source": [
    "**3**"
   ],
   "metadata": {
    "collapsed": false
   }
  },
  {
   "cell_type": "code",
   "execution_count": 71,
   "outputs": [
    {
     "name": "stdout",
     "output_type": "stream",
     "text": [
      "[16 45 38 14 39 55 65 47 26  6  4 33 29  2 67 13 20 17 53 63]\n",
      "[False False False False False False False False  True False False False\n",
      "  True False False False  True False False False]\n"
     ]
    }
   ],
   "source": [
    "people_age = numpy.random.randint(1, 70, 20)\n",
    "people_age_logical_index = (18 <= people_age) & (people_age <= 30)\n",
    "print(people_age)\n",
    "print(people_age_logical_index)"
   ],
   "metadata": {
    "collapsed": false,
    "ExecuteTime": {
     "start_time": "2023-10-06T19:03:33.095376Z",
     "end_time": "2023-10-06T19:03:33.105925Z"
    }
   }
  },
  {
   "cell_type": "markdown",
   "source": [
    "**4**"
   ],
   "metadata": {
    "collapsed": false
   }
  },
  {
   "cell_type": "code",
   "execution_count": 79,
   "outputs": [
    {
     "name": "stdout",
     "output_type": "stream",
     "text": [
      "21.5 µs ± 2.55 µs per loop (mean ± std. dev. of 7 runs, 1,000 loops each)\n"
     ]
    }
   ],
   "source": [
    "number_array = numpy.random.random(10000)\n",
    "\n",
    "%timeit -n 1000 numpy.cumsum(number_array)"
   ],
   "metadata": {
    "collapsed": false,
    "ExecuteTime": {
     "start_time": "2023-10-06T19:16:40.125559Z",
     "end_time": "2023-10-06T19:16:40.279123Z"
    }
   }
  },
  {
   "cell_type": "code",
   "execution_count": 80,
   "outputs": [
    {
     "name": "stdout",
     "output_type": "stream",
     "text": [
      "533 µs ± 33.8 µs per loop (mean ± std. dev. of 7 runs, 1,000 loops each)\n"
     ]
    }
   ],
   "source": [
    "def cumulative_sum(array):\n",
    "    acc = 0\n",
    "    for a in array:\n",
    "        acc += a\n",
    "    return acc\n",
    "\n",
    "%timeit -n 1000 cumulative_sum(number_array)"
   ],
   "metadata": {
    "collapsed": false,
    "ExecuteTime": {
     "start_time": "2023-10-06T19:16:42.035086Z",
     "end_time": "2023-10-06T19:16:45.773780Z"
    }
   }
  },
  {
   "cell_type": "markdown",
   "source": [
    "**5**"
   ],
   "metadata": {
    "collapsed": false
   }
  },
  {
   "cell_type": "code",
   "execution_count": 83,
   "outputs": [
    {
     "name": "stdout",
     "output_type": "stream",
     "text": [
      "[[8 0 3 5 9 8 0 5 6 5]\n",
      " [0 0 8 0 5 7 8 3 5 8]\n",
      " [9 9 9 9 2 2 7 6 8 2]\n",
      " [5 2 7 6 1 2 4 6 3 2]\n",
      " [5 0 2 7 0 6 3 0 8 8]\n",
      " [1 5 2 3 2 7 7 6 4 4]\n",
      " [0 2 1 1 6 8 3 4 2 8]\n",
      " [3 7 2 3 3 1 3 4 6 1]\n",
      " [8 2 1 2 7 6 2 5 5 0]\n",
      " [8 7 0 3 3 2 5 5 2 2]]\n",
      "[[0 0]\n",
      " [0 0]\n",
      " [1 1]\n",
      " [2 2]\n",
      " [3 1]\n",
      " [2 3]\n",
      " [4 0]\n",
      " [1 2]\n",
      " [3 1]]\n"
     ]
    }
   ],
   "source": [
    "def intensity_mask(array, lower_bound):\n",
    "    return array > lower_bound\n",
    "\n",
    "\n",
    "picture_pixel = numpy.random.randint(0, 10, size=(10, 10))\n",
    "print(picture_pixel)\n",
    "print_2d_mak_result(intensity_mask(picture_pixel, 5))"
   ],
   "metadata": {
    "collapsed": false,
    "ExecuteTime": {
     "start_time": "2023-10-06T19:23:27.771659Z",
     "end_time": "2023-10-06T19:23:27.777223Z"
    }
   }
  },
  {
   "cell_type": "markdown",
   "source": [
    "**6**"
   ],
   "metadata": {
    "collapsed": false
   }
  },
  {
   "cell_type": "code",
   "execution_count": 93,
   "outputs": [
    {
     "name": "stdout",
     "output_type": "stream",
     "text": [
      "(array([[-0.10980449, -0.09653682,  0.01806581, ..., -0.02042882,\n",
      "        -0.1043574 , -0.00931717],\n",
      "       [-0.09348844,  0.15829068, -0.0108738 , ..., -0.10445526,\n",
      "        -0.14509702,  0.08388464],\n",
      "       [-0.10002543, -0.07282082, -0.08038962, ..., -0.15856859,\n",
      "         0.09675979,  0.05626972],\n",
      "       ...,\n",
      "       [-0.09792789, -0.05746982,  0.04333809, ...,  0.1046146 ,\n",
      "         0.05506475,  0.0986639 ],\n",
      "       [-0.09376546, -0.0221651 ,  0.11588088, ..., -0.05543598,\n",
      "        -0.01089285, -0.16216637],\n",
      "       [-0.10217064,  0.0926662 , -0.03339711, ...,  0.078574  ,\n",
      "        -0.20721143,  0.10515418]]), array([4.93901487e+03, 5.69170177e+02, 5.54857214e+02, 5.37769794e+02,\n",
      "       5.26534498e+02, 5.13949510e+02, 4.92918277e+02, 4.84460556e+02,\n",
      "       4.80414823e+02, 4.76686408e+02, 4.70342275e+02, 4.62277863e+02,\n",
      "       4.48362409e+02, 4.43681792e+02, 4.40054728e+02, 4.31293638e+02,\n",
      "       4.28304389e+02, 4.22550608e+02, 4.11364134e+02, 4.08129994e+02,\n",
      "       4.06939320e+02, 3.95784193e+02, 3.85436483e+02, 3.80319854e+02,\n",
      "       3.73309898e+02, 3.63038503e+02, 3.61431679e+02, 3.51075022e+02,\n",
      "       3.44736446e+02, 3.40651824e+02, 3.36432306e+02, 3.32465071e+02,\n",
      "       3.25518608e+02, 3.21769715e+02, 3.13385469e+02, 3.08791509e+02,\n",
      "       3.02483400e+02, 2.98861870e+02, 2.96259012e+02, 2.89280226e+02,\n",
      "       2.84633247e+02, 2.81343641e+02, 2.68420121e+02, 2.64686274e+02,\n",
      "       2.62636892e+02, 2.54898801e+02, 2.47518864e+02, 2.40765547e+02,\n",
      "       2.37710408e+02, 2.32934205e+02, 2.31137479e+02, 2.23502357e+02,\n",
      "       2.19141928e+02, 2.13419484e+02, 2.10398466e+02, 2.07428751e+02,\n",
      "       2.03050832e+02, 1.99752273e+02, 1.95022508e+02, 1.87256899e+02,\n",
      "       1.82016448e+02, 1.79694420e+02, 1.71227236e+02, 1.65803635e+02,\n",
      "       1.64830240e+02, 1.57739518e+02, 1.54227885e+02, 1.48748114e+02,\n",
      "       1.45153025e+02, 1.40671431e+02, 1.30824007e+02, 1.29232706e+02,\n",
      "       1.25255876e+02, 1.24400160e+02, 1.17734737e+02, 1.07957207e+02,\n",
      "       1.03132123e+02, 1.02446526e+02, 9.95514966e+01, 9.27161575e+01,\n",
      "       8.79480454e+01, 8.48249492e+01, 7.78420404e+01, 7.42861020e+01,\n",
      "       6.63946202e+01, 6.10815105e+01, 5.88197242e+01, 5.49239898e+01,\n",
      "       5.03080827e+01, 4.60811364e+01, 4.16327167e+01, 3.66689154e+01,\n",
      "       3.21017391e+01, 2.64923517e+01, 2.44812078e+01, 2.14116573e+01,\n",
      "       1.40152382e+01, 1.10115871e+01, 8.95472624e+00, 2.17792246e+00]), array([[-0.09899705, -0.10332586, -0.10217671, ..., -0.09935852,\n",
      "        -0.10565761, -0.10053511],\n",
      "       [-0.08868559,  0.10557712, -0.1257543 , ...,  0.07917324,\n",
      "         0.12710663,  0.03774619],\n",
      "       [ 0.01347753, -0.08463812,  0.02945762, ..., -0.06756425,\n",
      "         0.06960328, -0.00233497],\n",
      "       ...,\n",
      "       [-0.02954127,  0.0862371 ,  0.11881419, ..., -0.12484328,\n",
      "         0.2136189 ,  0.109755  ],\n",
      "       [-0.04147156, -0.0347019 ,  0.10292531, ..., -0.10153737,\n",
      "        -0.00503789, -0.0255909 ],\n",
      "       [-0.16431307,  0.08779905, -0.01142823, ...,  0.01894399,\n",
      "         0.10482428, -0.07045489]]))\n"
     ]
    }
   ],
   "source": [
    "number_array_2d = numpy.random.randint(0, 100, size=(100, 100))  #TODO\n",
    "\n",
    "reduced_array = numpy.linalg.svd(number_array_2d)\n",
    "\n",
    "print(reduced_array)"
   ],
   "metadata": {
    "collapsed": false,
    "ExecuteTime": {
     "start_time": "2023-10-06T19:46:48.523232Z",
     "end_time": "2023-10-06T19:46:48.540391Z"
    }
   }
  },
  {
   "cell_type": "markdown",
   "source": [
    "**7**"
   ],
   "metadata": {
    "collapsed": false
   }
  },
  {
   "cell_type": "code",
   "execution_count": 94,
   "outputs": [
    {
     "name": "stdout",
     "output_type": "stream",
     "text": [
      "[[ 1.         -0.04701384]\n",
      " [-0.04701384  1.        ]]\n"
     ]
    }
   ],
   "source": [
    "def correlation_coefficient(array1, array2):\n",
    "    return numpy.corrcoef(array1, array2)\n",
    "\n",
    "\n",
    "print(correlation_coefficient(numpy.random.random(100), numpy.random.random(100)))"
   ],
   "metadata": {
    "collapsed": false,
    "ExecuteTime": {
     "start_time": "2023-10-06T19:54:12.201259Z",
     "end_time": "2023-10-06T19:54:12.211002Z"
    }
   }
  },
  {
   "cell_type": "markdown",
   "source": [
    "**8**"
   ],
   "metadata": {
    "collapsed": false
   }
  },
  {
   "cell_type": "code",
   "execution_count": 103,
   "outputs": [
    {
     "name": "stdout",
     "output_type": "stream",
     "text": [
      "Data = [   1    5   76    2    3   67    2    4 6534   24    5  756    9   67\n",
      "    0    2]\n",
      "Type = <class 'numpy.ndarray'>\n"
     ]
    }
   ],
   "source": [
    "csv_file_array = numpy.genfromtxt('data/number.csv', delimiter=',', skip_header=True, dtype=int)\n",
    "print(f'Data = {csv_file_array}')\n",
    "print(f'Type = {type(csv_file_array)}')\n",
    "numpy.save('data/number', csv_file_array)"
   ],
   "metadata": {
    "collapsed": false,
    "ExecuteTime": {
     "start_time": "2023-10-06T20:07:04.780433Z",
     "end_time": "2023-10-06T20:07:04.806658Z"
    }
   }
  },
  {
   "cell_type": "markdown",
   "source": [
    "**9**"
   ],
   "metadata": {
    "collapsed": false
   }
  },
  {
   "cell_type": "code",
   "execution_count": 132,
   "outputs": [
    {
     "data": {
      "text/plain": "<Figure size 2000x500 with 1 Axes>",
      "image/png": "[encoded data removed]"
     },
     "metadata": {},
     "output_type": "display_data"
    },
    {
     "data": {
      "text/plain": "<Figure size 640x480 with 1 Axes>",
      "image/png": "[encoded data removed]"
     },
     "metadata": {},
     "output_type": "display_data"
    }
   ],
   "source": [
    "from matplotlib import pyplot as plt\n",
    "\n",
    "import warnings\n",
    "warnings.filterwarnings('ignore')\n",
    "\n",
    "array_fourier_transform = numpy.fft.fft(number_array)\n",
    "\n",
    "plt.figure(figsize=(20,5))\n",
    "\n",
    "plt.subplot(1, 2, 1)\n",
    "plt.plot(number_array, color='c')\n",
    "plt.title('Sound Wave')\n",
    "plt.ylabel('Amplitude')\n",
    "plt.xlabel('Time')\n",
    "plt.grid()\n",
    "plt.show()\n",
    "\n",
    "plt.subplot(1,2,2)\n",
    "plt.plot(array_fourier_transform, color='c')\n",
    "plt.title('Fourier Transform')\n",
    "plt.ylabel('Dot Product')\n",
    "plt.xlabel('Frequency (Hz)')\n",
    "plt.grid()\n",
    "plt.show()"
   ],
   "metadata": {
    "collapsed": false,
    "ExecuteTime": {
     "start_time": "2023-10-06T20:27:07.985329Z",
     "end_time": "2023-10-06T20:27:08.188300Z"
    }
   }
  },
  {
   "cell_type": "code",
   "execution_count": null,
   "outputs": [],
   "source": [],
   "metadata": {
    "collapsed": false
   }
  }
 ],
 "metadata": {
  "kernelspec": {
   "display_name": "Python 3",
   "language": "python",
   "name": "python3"
  },
  "language_info": {
   "codemirror_mode": {
    "name": "ipython",
    "version": 2
   },
   "file_extension": ".py",
   "mimetype": "text/x-python",
   "name": "python",
   "nbconvert_exporter": "python",
   "pygments_lexer": "ipython2",
   "version": "2.7.6"
  }
 },
 "nbformat": 4,
 "nbformat_minor": 0
}
