{
 "cells": [
  {
   "cell_type": "markdown",
   "metadata": {},
   "source": [
    "<!-- <link rel=\"stylesheet\" href=\"https://cdn.rawgit.com/rastikerdar/vazir-font/v16.0.1/dist/font-face.css\" type=\"text/css\"/> -->\n",
    "\n",
    "<!-- put everthing in center for any display -->\n",
    "<div style=\"text-align:center\">\n",
    "<!-- <div style=\"display:block\" direction=rtl align=right><br><br> -->\n",
    "        <img width=130 align=center src=\"https://i.ibb.co/yXKQmtZ/logo1.png\" style=\"margin:0;\" />\n",
    "        <br><br>\n",
    "        <h1 align=center style=\"font-family: vazir; color:#00999c; font-size: 1.5em; font-weight: bold;\">دانشگاه تهران</h1>\n",
    "        <!-- <h1 align=center style=\"font-family: vazir; color:#00999c; font-size: 1.5em; font-weight: bold;\">دانشکده علوم و فنون نوین</h1><br> -->\n",
    "        <h1 align=center style=\"font-family: vazir; color:#00999c; font-size: 1.5em; font-weight: bold;\">یادگیری ماشین</h1>\n",
    "        <!-- <h2 align=center style=\"font-family: vazir; color:#00999c; font-size: 1.5em; font-weight: bold;\">پاییز ۱۴۰۱</h2> -->\n",
    "</div>\n",
    "\n",
    "---"
   ]
  },
  {
   "cell_type": "markdown",
   "metadata": {},
   "source": [
    "<div style=\"display:block\" direction=rtl align=right>\n",
    "    <h1 dir=rtl style=\"direction:rtl; text-align:right; line-height:200%; font-family:vazir; font-size:medium; color:#00999c; font-size:1.5em; font-weight: bold;\">Numpy - سوال ۱۱</h1>\n",
    "</div>"
   ]
  },
  {
   "cell_type": "markdown",
   "metadata": {},
   "source": [
    "<div style=\"display:block\" direction=rtl align=right>\n",
    "    <p dir=rtl style=\"direction: rtl;text-align: right;line-height:200%;font-family:vazir;font-size:medium\">\n",
    "    در این سوال به پیدا کردن گل‌های مشابه می‌پردازیم.\n",
    "    </p>\n",
    "    <p dir=rtl style=\"direction: rtl;text-align: right;line-height:200%;font-family:vazir;font-size:medium\">\n",
    "    جهت بارگذاری دادگان سلول زیر را اجرا کنید.\n",
    "    </p>\n",
    "</div>"
   ]
  },
  {
   "cell_type": "code",
   "execution_count": null,
   "metadata": {},
   "outputs": [],
   "source": [
    "irises = np.load('./data/iris/irises.npy') # مجموعه گل‌های موجود\n",
    "new_irises = np.load('./data/iris/new_irises.npy') # مجموعه گل‌های جدید"
   ]
  },
  {
   "cell_type": "code",
   "execution_count": null,
   "metadata": {},
   "outputs": [],
   "source": [
    "def calc_two_loops(new_points, points):\n",
    "    # TODO\n",
    "    pass"
   ]
  },
  {
   "cell_type": "code",
   "execution_count": null,
   "metadata": {},
   "outputs": [],
   "source": [
    "def calc_one_loop(new_points, points):\n",
    "    # TODO\n",
    "    pass"
   ]
  },
  {
   "cell_type": "code",
   "execution_count": null,
   "metadata": {},
   "outputs": [],
   "source": [
    "def calc_no_loop(new_points, points):\n",
    "    # TODO\n",
    "    pass"
   ]
  },
  {
   "cell_type": "markdown",
   "metadata": {},
   "source": [
    "<div style=\"display:block\" direction=rtl align=right>\n",
    "    <p dir=rtl style=\"direction: rtl;text-align: right;line-height:200%;font-family:vazir;font-size:medium\">\n",
    "    محاسبه‌ی آرایه فاصله‌ها به سه روش فوق، نباید تفاوتی در نتیجه حاصل کند.    \n",
    "از این رو کد زیر را اجرا کنید تا از برابر بودن خروجی سه تابع فوق اطمینان حاصل کنید.\n",
    "    </p>\n",
    "</div>"
   ]
  },
  {
   "cell_type": "code",
   "execution_count": null,
   "metadata": {},
   "outputs": [],
   "source": [
    "distance_2_loop = calc_two_loops(new_irises, irises)\n",
    "distance_1_loop = calc_one_loop(new_irises, irises)\n",
    "distance_no_loop = calc_no_loop(new_irises, irises)\n",
    "\n",
    "if np.allclose(distance_no_loop, distance_1_loop, 1e-5) and np.allclose(distance_no_loop, distance_2_loop, 1e-5): \n",
    "    print('Success!')\n",
    "else:\n",
    "    print('Error!')"
   ]
  },
  {
   "cell_type": "markdown",
   "metadata": {},
   "source": [
    "<div style=\"display:block\" direction=rtl align=right>\n",
    "    <h1 dir=rtl style=\"direction:rtl; text-align:right; line-height:200%; font-family:vazir; font-size:medium; color:#00999c; font-size:1.5em; font-weight: bold;\">Numpy - سوال ۱۲</h1>\n",
    "</div>"
   ]
  },
  {
   "cell_type": "markdown",
   "metadata": {},
   "source": [
    "<div style=\"display:block\" direction=rtl align=right>\n",
    "    <p dir=rtl style=\"direction: rtl;text-align: right;line-height:200%;font-family:vazir;font-size:medium\">\n",
    "    این سوال مشابه سوال قبل است. با این تفاوت که این بار قصد داریم با دادگان متفاوتی کار کنیم.\n",
    "    </p>\n",
    "</div>"
   ]
  },
  {
   "cell_type": "code",
   "execution_count": null,
   "metadata": {},
   "outputs": [],
   "source": [
    "import numpy as np\n",
    "import pandas as pd\n",
    "\n",
    "df = pd.read_csv('./data/patents.csv')\n",
    "# df.head()\n",
    "\n",
    "patent_number = df['publication_number'].to_numpy()\n",
    "patent_features = df['patent_embedding'].to_numpy()\n",
    "temp = []\n",
    "for i in range(patent_features.size):\n",
    "    s = str(patent_features[i]) \n",
    "    s1 = s.replace(r'\\n', '')\n",
    "    temp.append(\n",
    "        np.array(s.split()[1:-1], dtype='float')[:16]\n",
    "    )\n",
    "\n",
    "patent_features = np.stack(temp)\n",
    "patent_category = df['category']"
   ]
  },
  {
   "cell_type": "markdown",
   "metadata": {},
   "source": [
    "---"
   ]
  },
  {
   "cell_type": "markdown",
   "metadata": {},
   "source": [
    "<div style=\"display:block\" direction=rtl>\n",
    "    <p dir=rtl style=\"direction: rtl;text-align: right;line-height:200%;font-family:vazir;font-size:medium\">\n",
    "    <span style=\"font-family: vazir; color:#00999c; font-size:1.5em;\">در این بخش باید از کتابخانه پانداس استفاده کنید. این کتابخانه برای محاسبات و پردازش داده‌ها در پایتون استفاده می‌شود. برای اطلاعات بیشتر در مورد پاندا می‌توانید به <a href=\"https://pandas.pydata.org/\">اینجا</a> مراجعه کنید.</span>\n",
    "</div>"
   ]
  },
  {
   "cell_type": "code",
   "execution_count": null,
   "metadata": {},
   "outputs": [],
   "source": [
    "import pandas as pd"
   ]
  },
  {
   "cell_type": "markdown",
   "metadata": {},
   "source": [
    "<div style=\"display:block\" direction=rtl align=right>\n",
    "    <h1 style=\"font-family: vazir; color:#00999c; font-size:1.5em; font-weight: bold;\">Pandas - سوال ۱ </h1>\n",
    "    <p dir=rtl style=\"direction: rtl;text-align: right;line-height:200%;font-family:vazir;font-size:medium\">\n",
    "    هدف از این تمرین آشنایی با پاندا است. در زیر ستون‌های مجموعه دادگان توضیح داده شده است.\n",
    "    </p>\n",
    "</div>"
   ]
  },
  {
   "cell_type": "markdown",
   "metadata": {},
   "source": [
    "<p dir=rtl style=\"direction: rtl;text-align: right;line-height:200%;font-family:vazir;font-size:medium\">\n",
    "<table dir=rtl align = center>\n",
    "    <thead>\n",
    "        <tr>\n",
    "            <td>ستون</td>\n",
    "            <td>توضیح</td>\n",
    "        </tr>\n",
    "    </thead>\n",
    "    <tbody>\n",
    "        <tr>\n",
    "            <td>name</td>\n",
    "            <td>اسم غذاهای هندی</td>\n",
    "        </tr>\n",
    "        <tr>\n",
    "            <td>ingredients</td>\n",
    "            <td>مواد تکشیل دهنده یک غذا</td>\n",
    "        </tr>\n",
    "        <tr>\n",
    "            <td>diet</td>\n",
    "            <td>دارای دو مقدار vegetarian , non vegetarian است که نشان می‌دهد آیا غذا مناسب گیاه‌خواری هست یا نه.</td>\n",
    "        </tr>\n",
    "        <tr>\n",
    "            <td>prep_time</td>\n",
    "            <td>زمانی که طول می‌کشد تا غذا آماده شود. این زمان شامل زمان پخت نمی‌شود. مثلا زمان پوست کندن یا شستن مواد اولیه در این ستون لحاظ شده اند.</td>\n",
    "        </tr>\n",
    "        <tr>\n",
    "            <td>cook_time</td>\n",
    "            <td>زمان پخت یک غذا</td>\n",
    "        </tr>\n",
    "        <tr>\n",
    "            <td>flavor_profile</td>\n",
    "            <td>مزه غذا را نشان می‌دهد. دارای ۴ مقدار spicy برای غذاهای تند، sweet برای غذاهای شیرین، bitter برای غذاهای تلخ و sour برای غذاهای ترش است.</td>\n",
    "        </tr>\n",
    "        <tr>\n",
    "            <td>course</td>\n",
    "            <td>وعده اصلی، میان‌وعده، دسر یا پیش‌غذا بودن یک غذا را نشان می‌دهد.</td>\n",
    "        </tr>\n",
    "        <tr>\n",
    "            <td>state</td>\n",
    "            <td>ایالتی که زادگاه غذاست یا لااقل این غذا در آن‌جا خیلی معروف است.</td>\n",
    "        </tr>\n",
    "        <tr>\n",
    "            <td>region</td>\n",
    "            <td>منطقه‌ای که state (ایالت) در آن واقع شده است.</td>\n",
    "        </tr>\n",
    "    </tbody>\n",
    "</table>\n",
    "\n",
    "</div>"
   ]
  },
  {
   "cell_type": "code",
   "execution_count": null,
   "metadata": {},
   "outputs": [],
   "source": [
    "# TODO"
   ]
  },
  {
   "cell_type": "markdown",
   "metadata": {},
   "source": [
    "<div style=\"display:block\" direction=rtl align=right>\n",
    "    <h1 dir=rtl style=\"direction:rtl; text-align:right; line-height:200%; font-family:vazir; font-size:medium; color:#00999c; font-size:1.5em; font-weight: bold;\">Pandas - سوال ۲</h1>\n",
    "</div>"
   ]
  },
  {
   "cell_type": "markdown",
   "metadata": {},
   "source": [
    "<div dir=rtl id=\"start\" style=\"direction:rtl;line-height:200%;\">\n",
    "\t<font face=\"vazir\" size=4>\n",
    "        برای بارگیری دیتافریم از حافظه تنها کافیست سلول زیر را اجرا کنید!\n",
    "        <br>\n",
    "        دیتافریم شبکه‌ی اجتماعی گرام، شامل ستون‌های زیر است:\n",
    "    </font>\n",
    "</div>\n",
    "\n",
    "<p dir=rtl style=\"direction: rtl;text-align: right;line-height:200%;font-family:vazir;font-size:medium\">\n",
    "<table dir=rtl align = center>\n",
    "<tr>\n",
    "<th><font face=\"vazir\" size=3>نام ستون</font></th>\n",
    "<th><font face=\"vazir\" size=3>توضیح</font></th>\n",
    "</tr>\n",
    "<tr>\n",
    "<td><font face=\"vazir\" size=3>owner_name</font></td>\n",
    "<td><font face=\"vazir\" size=3>اسم صاحب پیج</font></td>\n",
    "</tr>\n",
    "<tr>\n",
    "<td><font face=\"vazir\" size=3>follower</font></td>\n",
    "<td><font face=\"vazir\" size=3>تعداد دنبال‌کنندگان پیج</font></td>\n",
    "</tr>\n",
    "<tr>\n",
    "<td><font face=\"vazir\" size=3>following</font></td>\n",
    "<td><font face=\"vazir\" size=3>تعداد دنبال‌شوندگان توسط پیج</font></td>\n",
    "</tr>\n",
    "<tr>\n",
    "<td><font face=\"vazir\" size=3>post_number</font></td>\n",
    "<td><font face=\"vazir\" size=3>تعداد پست‌های پیج</font></td>\n",
    "</tr>\n",
    "</table>\n",
    "</p>\n"
   ]
  },
  {
   "cell_type": "code",
   "execution_count": null,
   "metadata": {},
   "outputs": [],
   "source": [
    "df = joblib.load('./data/gram/df')"
   ]
  },
  {
   "cell_type": "code",
   "execution_count": null,
   "metadata": {},
   "outputs": [],
   "source": [
    "# TODO"
   ]
  },
  {
   "cell_type": "markdown",
   "metadata": {},
   "source": [
    "<div style=\"display:block\" direction=rtl align=right>\n",
    "    <h1 dir=rtl style=\"direction:rtl; text-align:right; line-height:200%; font-family:vazir; font-size:medium; color:#00999c; font-size:1.5em; font-weight: bold;\">Pandas سوال - ۳</h1>\n",
    "</div>"
   ]
  },
  {
   "cell_type": "markdown",
   "metadata": {},
   "source": [
    "<div style=\"display:block\" direction=rtl align=right>\n",
    "    <p dir=rtl style=\"direction: rtl;text-align: right;line-height:200%;font-family:vazir;font-size:medium\">\n",
    "    در این  مجموعه دادگان \n",
    "    <code>goodreads</code>\n",
    "    در اختیار شما قرار گرفته است.\n",
    "    <br>\n",
    "    نمونه‌ای از این دادگان در زیر آمده است:\n",
    "    </p>\n",
    "</div>"
   ]
  },
  {
   "cell_type": "markdown",
   "metadata": {},
   "source": [
    "<table style=\"display:block;overflow-x:auto;white-space:nowrap\">\n",
    "    <thead>\n",
    "        <tr>\n",
    "            <td>bookID</td>\n",
    "            <td>title</td>\n",
    "            <td>average_rating</td>\n",
    "            <td>isbn</td>\n",
    "            <td>isbn13</td>\n",
    "            <td>num_pages</td>\n",
    "            <td>ratings_count</td>\n",
    "            <td>text_reviews_count</td>\n",
    "            <td>publication_date</td>\n",
    "            <td>author_id</td>\n",
    "            <td>lang_id</td>\n",
    "            <td>publisher_id</td>\n",
    "        </tr>\n",
    "    </thead>\n",
    "    <tbody>\n",
    "        <tr>\n",
    "            <td>1</td>\n",
    "            <td>Harry Potter and the Half-Blood Prince (Harry Potter  #6)</td>\n",
    "            <td>4.57</td>\n",
    "            <td>439785960</td>\n",
    "            <td>9.78044e+12</td>\n",
    "            <td>652</td>\n",
    "            <td>2095690</td>\n",
    "            <td>27591</td>\n",
    "            <td>9/16/2006</td>\n",
    "            <td>0</td>\n",
    "            <td>0</td>\n",
    "            <td>0</td>\n",
    "        </tr>\n",
    "        <tr>\n",
    "            <td>2</td>\n",
    "            <td>Harry Potter and the Order of the Phoenix (Harry Potter  #5)</td>\n",
    "            <td>4.49</td>\n",
    "            <td>439358078</td>\n",
    "            <td>9.78044e+12</td>\n",
    "            <td>870</td>\n",
    "            <td>2153167</td>\n",
    "            <td>29221</td>\n",
    "            <td>9/1/2004</td>\n",
    "            <td>0</td>\n",
    "            <td>0</td>\n",
    "            <td>0</td>\n",
    "        </tr>\n",
    "        <tr>\n",
    "            <td>4</td>\n",
    "            <td>Harry Potter and the Chamber of Secrets (Harry Potter  #2)</td>\n",
    "            <td>4.42</td>\n",
    "            <td>439554896</td>\n",
    "            <td>9.78044e+12</td>\n",
    "            <td>352</td>\n",
    "            <td>6333</td>\n",
    "            <td>244</td>\n",
    "            <td>11/1/2003</td>\n",
    "            <td>0</td>\n",
    "            <td>0</td>\n",
    "            <td>1</td>\n",
    "        </tr>\n",
    "        <tr>\n",
    "            <td>5</td>\n",
    "            <td>Harry Potter and the Prisoner of Azkaban (Harry Potter  #3)</td>\n",
    "            <td>4.56</td>\n",
    "            <td>043965548X</td>\n",
    "            <td>9.78044e+12</td>\n",
    "            <td>435</td>\n",
    "            <td>2339585</td>\n",
    "            <td>36325</td>\n",
    "            <td>5/1/2004</td>\n",
    "            <td>0</td>\n",
    "            <td>0</td>\n",
    "            <td>0</td>\n",
    "        </tr>\n",
    "        <tr>\n",
    "            <td>8</td>\n",
    "            <td>Harry Potter Boxed Set  Books 1-5 (Harry Potter  #1-5)</td>\n",
    "            <td>4.78</td>\n",
    "            <td>439682584</td>\n",
    "            <td>9.78044e+12</td>\n",
    "            <td>2690</td>\n",
    "            <td>41428</td>\n",
    "            <td>164</td>\n",
    "            <td>9/13/2004</td>\n",
    "            <td>0</td>\n",
    "            <td>0</td>\n",
    "            <td>1</td>\n",
    "        </tr>\n",
    "    </tbody>\n",
    "</table>"
   ]
  },
  {
   "cell_type": "code",
   "execution_count": null,
   "metadata": {},
   "outputs": [],
   "source": [
    "# TODO"
   ]
  },
  {
   "cell_type": "markdown",
   "metadata": {},
   "source": [
    "<div style=\"display:block\" direction=rtl align=right>\n",
    "    <p dir=rtl style=\"direction: rtl;text-align: right;line-height:200%;font-family:vazir;font-size:medium\">\n",
    "نام ستون‌ها را طوری تغییر دهید که جدول نهایی چیزی شبیه به جدول زیر باشد:\n",
    "    </p>\n",
    "</div>"
   ]
  },
  {
   "cell_type": "markdown",
   "metadata": {},
   "source": [
    "<table style=\"display:block;overflow-x:auto;white-space:nowrap\">\n",
    "       <thead>\n",
    "         <tr style=\"text-align: right;\">\n",
    "           <th>bookID</th>\n",
    "           <th>title</th>\n",
    "           <th>average_rating</th>\n",
    "           <th>isbn</th>\n",
    "           <th>isbn13</th>\n",
    "           <th>num_pages</th>\n",
    "           <th>ratings_count</th>\n",
    "           <th>text_reviews_count</th>\n",
    "           <th>publication_date</th>\n",
    "           <th>author</th>\n",
    "           <th>lang</th>\n",
    "           <th>publisher</th>\n",
    "         </tr>\n",
    "       </thead>\n",
    "       <tbody>\n",
    "         <tr>\n",
    "           <td>1</td>\n",
    "           <td>Harry Potter and the Half-Blood Prince (Harry ...</td>\n",
    "           <td>4.57</td>\n",
    "           <td>439785960</td>\n",
    "           <td>9.780440e+12</td>\n",
    "           <td>652</td>\n",
    "           <td>2095690</td>\n",
    "           <td>27591</td>\n",
    "           <td>9/16/2006</td>\n",
    "           <td>J.K. Rowling</td>\n",
    "           <td>eng</td>\n",
    "           <td>Scholastic Inc.</td>\n",
    "           </tr>\n",
    "    </tbody>\n",
    "</table>"
   ]
  },
  {
   "cell_type": "code",
   "execution_count": null,
   "metadata": {},
   "outputs": [],
   "source": [
    "# TODO"
   ]
  },
  {
   "cell_type": "markdown",
   "metadata": {},
   "source": [
    "---"
   ]
  },
  {
   "cell_type": "markdown",
   "metadata": {},
   "source": [
    "<div style=\"display:block\" direction=rtl>\n",
    "    <!-- scipy -->\n",
    "    <p dir=rtl style=\"direction: rtl;text-align: right;line-height:200%;font-family:vazir;font-size:medium\">\n",
    "    <span style=\"font-family: vazir; color:#00999c; font-size:1.5em;\">\n",
    "    سوال اول - SciPy:\n",
    "    در این بخش به دیگر کتابخانه‌های مهم پایتون می‌پردازیم. این کتابخانه‌ها برای انجام محاسبات علمی و مهندسی در پایتون استفاده می‌شوند. به عنوان مثال کتابخانه‌های \n",
    "    <code>scipy</code> و <code>sympy</code>. برای اطلاعات بیشتر در مورد این کتابخانه‌ها می‌توانید به <a href=\"https://www.scipy.org/\">اینجا</a> و <a href=\"https://www.sympy.org/en/index.html\">اینجا</a> مراجعه کنید.\n",
    "    </span>\n",
    "</div>"
   ]
  },
  {
   "cell_type": "markdown",
   "metadata": {},
   "source": [
    "<p dir=rtl style=\"direction: rtl;text-align: right;line-height:200%;font-family:vazir;font-size:medium\">\n",
    "ديتافريم قرار داده شده، مجموعه‌ای از دادگان حقوق اساتید دانشگاه است.\n",
    "گفته می‌شود که دستمزد اساتید خانم از آقایان بیشتر است. با کمک \n",
    "<code>T-test</code>\n",
    "بررسی کنید که آیا این گفته صحیح است یا خیر؟\n",
    "</p>"
   ]
  },
  {
   "cell_type": "code",
   "execution_count": null,
   "metadata": {},
   "outputs": [],
   "source": [
    "import scipy as sp"
   ]
  },
  {
   "cell_type": "code",
   "execution_count": null,
   "metadata": {},
   "outputs": [],
   "source": [
    "salaries = joblib.load('./data/salaries_df')"
   ]
  },
  {
   "cell_type": "markdown",
   "metadata": {},
   "source": [
    "<div dir=rtl style=\"direction: rtl;text-align: right;line-height:200%;font-family:vazir;font-size:medium\">\n",
    "    <p>\n",
    "    تعدادی از دادگان را در زیر مشاهده می‌کنید:\n",
    "    </p>\n",
    "</div>\n",
    "\n",
    "<table style=\"margin-left:auto; margin-right:auto;\">\n",
    "    <thead>\n",
    "        <tr>\n",
    "            <td></td>\n",
    "            <td>rank</td>\n",
    "            <td>discipline</td>\n",
    "            <td>phd</td>\n",
    "            <td>service</td>\n",
    "            <td>sex</td>\n",
    "            <td>salary</td>\n",
    "        </tr>\n",
    "    </thead>\n",
    "    <tbody>\n",
    "        <tr>\n",
    "            <td>0</td>\n",
    "            <td>Prof</td>\n",
    "            <td>B</td>\n",
    "            <td>56</td>\n",
    "            <td>49</td>\n",
    "            <td>Male</td>\n",
    "            <td>186960</td>\n",
    "        </tr>\n",
    "        <tr>\n",
    "            <td>1</td>\n",
    "            <td>Prof</td>\n",
    "            <td>A</td>\n",
    "            <td>12</td>\n",
    "            <td>6</td>\n",
    "            <td>Male</td>\n",
    "            <td>93000</td>\n",
    "        </tr>\n",
    "        <tr>\n",
    "            <td>2</td>\n",
    "            <td>Prof</td>\n",
    "            <td>A</td>\n",
    "            <td>23</td>\n",
    "            <td>20</td>\n",
    "            <td>Male</td>\n",
    "            <td>110515</td>\n",
    "        </tr>\n",
    "        <tr>\n",
    "            <td>3</td>\n",
    "            <td>Prof</td>\n",
    "            <td>A</td>\n",
    "            <td>40</td>\n",
    "            <td>31</td>\n",
    "            <td>Male</td>\n",
    "            <td>131205</td>\n",
    "        </tr>\n",
    "        <tr>\n",
    "            <td>4</td>\n",
    "            <td>Prof</td>\n",
    "            <td>B</td>\n",
    "            <td>20</td>\n",
    "            <td>18</td>\n",
    "            <td>Male</td>\n",
    "            <td>104800</td>\n",
    "        </tr>\n",
    "    </tbody>\n",
    "</table>"
   ]
  },
  {
   "cell_type": "code",
   "execution_count": null,
   "metadata": {},
   "outputs": [],
   "source": [
    "# TODO"
   ]
  }
 ],
 "metadata": {
  "kernelspec": {
   "display_name": "Python 3 (ipykernel)",
   "language": "python",
   "name": "python3"
  },
  "language_info": {
   "codemirror_mode": {
    "name": "ipython",
    "version": 3
   },
   "file_extension": ".py",
   "mimetype": "text/x-python",
   "name": "python",
   "nbconvert_exporter": "python",
   "pygments_lexer": "ipython3",
   "version": "3.9.12"
  },
  "vscode": {
   "interpreter": {
    "hash": "b139e7cd4b5980140680fd630f423a10abfa4466007a2b37efb71a9a3e211a48"
   }
  }
 },
 "nbformat": 4,
 "nbformat_minor": 2
}
